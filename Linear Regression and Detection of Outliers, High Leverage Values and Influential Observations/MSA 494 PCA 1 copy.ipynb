{
 "cells": [
  {
   "cell_type": "markdown",
   "id": "0be76cd4",
   "metadata": {},
   "source": [
    "### A. Consider the Life Expectancy data :\n",
    "1. Do any of the values look different from the rest? Fit a regression line of Life Expectancy on GDP and see if there are any influential points.\n",
    "2. Study Standardized and Studentized Residuals and comment.\n",
    "3. Obtain the DFBETAs and DFFITs. Also Calculate Cook’s distance and comment."
   ]
  },
  {
   "cell_type": "code",
   "execution_count": 380,
   "id": "1a64e52d",
   "metadata": {
    "collapsed": true
   },
   "outputs": [
    {
     "data": {
      "text/html": [
       "<div>\n",
       "<style scoped>\n",
       "    .dataframe tbody tr th:only-of-type {\n",
       "        vertical-align: middle;\n",
       "    }\n",
       "\n",
       "    .dataframe tbody tr th {\n",
       "        vertical-align: top;\n",
       "    }\n",
       "\n",
       "    .dataframe thead th {\n",
       "        text-align: right;\n",
       "    }\n",
       "</style>\n",
       "<table border=\"1\" class=\"dataframe\">\n",
       "  <thead>\n",
       "    <tr style=\"text-align: right;\">\n",
       "      <th></th>\n",
       "      <th>Country</th>\n",
       "      <th>Year</th>\n",
       "      <th>Status</th>\n",
       "      <th>Life.expectancy</th>\n",
       "      <th>GDP</th>\n",
       "    </tr>\n",
       "  </thead>\n",
       "  <tbody>\n",
       "    <tr>\n",
       "      <th>0</th>\n",
       "      <td>Afghanistan</td>\n",
       "      <td>2015</td>\n",
       "      <td>Developing</td>\n",
       "      <td>65.0</td>\n",
       "      <td>584.259210</td>\n",
       "    </tr>\n",
       "    <tr>\n",
       "      <th>1</th>\n",
       "      <td>Albania</td>\n",
       "      <td>2015</td>\n",
       "      <td>Developing</td>\n",
       "      <td>77.8</td>\n",
       "      <td>3954.227830</td>\n",
       "    </tr>\n",
       "    <tr>\n",
       "      <th>2</th>\n",
       "      <td>Algeria</td>\n",
       "      <td>2015</td>\n",
       "      <td>Developing</td>\n",
       "      <td>75.6</td>\n",
       "      <td>4132.762920</td>\n",
       "    </tr>\n",
       "    <tr>\n",
       "      <th>3</th>\n",
       "      <td>Angola</td>\n",
       "      <td>2015</td>\n",
       "      <td>Developing</td>\n",
       "      <td>52.4</td>\n",
       "      <td>3695.793748</td>\n",
       "    </tr>\n",
       "    <tr>\n",
       "      <th>4</th>\n",
       "      <td>Antigua and Barbuda</td>\n",
       "      <td>2015</td>\n",
       "      <td>Developing</td>\n",
       "      <td>76.4</td>\n",
       "      <td>13566.954100</td>\n",
       "    </tr>\n",
       "    <tr>\n",
       "      <th>...</th>\n",
       "      <td>...</td>\n",
       "      <td>...</td>\n",
       "      <td>...</td>\n",
       "      <td>...</td>\n",
       "      <td>...</td>\n",
       "    </tr>\n",
       "    <tr>\n",
       "      <th>178</th>\n",
       "      <td>Venezuela (Bolivarian Republic of)</td>\n",
       "      <td>2015</td>\n",
       "      <td>Developing</td>\n",
       "      <td>74.1</td>\n",
       "      <td>NaN</td>\n",
       "    </tr>\n",
       "    <tr>\n",
       "      <th>179</th>\n",
       "      <td>Viet Nam</td>\n",
       "      <td>2015</td>\n",
       "      <td>Developing</td>\n",
       "      <td>76.0</td>\n",
       "      <td>NaN</td>\n",
       "    </tr>\n",
       "    <tr>\n",
       "      <th>180</th>\n",
       "      <td>Yemen</td>\n",
       "      <td>2015</td>\n",
       "      <td>Developing</td>\n",
       "      <td>65.7</td>\n",
       "      <td>NaN</td>\n",
       "    </tr>\n",
       "    <tr>\n",
       "      <th>181</th>\n",
       "      <td>Zambia</td>\n",
       "      <td>2015</td>\n",
       "      <td>Developing</td>\n",
       "      <td>61.8</td>\n",
       "      <td>1313.889646</td>\n",
       "    </tr>\n",
       "    <tr>\n",
       "      <th>182</th>\n",
       "      <td>Zimbabwe</td>\n",
       "      <td>2015</td>\n",
       "      <td>Developing</td>\n",
       "      <td>67.0</td>\n",
       "      <td>118.693830</td>\n",
       "    </tr>\n",
       "  </tbody>\n",
       "</table>\n",
       "<p>183 rows × 5 columns</p>\n",
       "</div>"
      ],
      "text/plain": [
       "                                Country  Year      Status  Life.expectancy  \\\n",
       "0                           Afghanistan  2015  Developing             65.0   \n",
       "1                               Albania  2015  Developing             77.8   \n",
       "2                               Algeria  2015  Developing             75.6   \n",
       "3                                Angola  2015  Developing             52.4   \n",
       "4                   Antigua and Barbuda  2015  Developing             76.4   \n",
       "..                                  ...   ...         ...              ...   \n",
       "178  Venezuela (Bolivarian Republic of)  2015  Developing             74.1   \n",
       "179                            Viet Nam  2015  Developing             76.0   \n",
       "180                               Yemen  2015  Developing             65.7   \n",
       "181                              Zambia  2015  Developing             61.8   \n",
       "182                            Zimbabwe  2015  Developing             67.0   \n",
       "\n",
       "              GDP  \n",
       "0      584.259210  \n",
       "1     3954.227830  \n",
       "2     4132.762920  \n",
       "3     3695.793748  \n",
       "4    13566.954100  \n",
       "..            ...  \n",
       "178           NaN  \n",
       "179           NaN  \n",
       "180           NaN  \n",
       "181   1313.889646  \n",
       "182    118.693830  \n",
       "\n",
       "[183 rows x 5 columns]"
      ]
     },
     "execution_count": 380,
     "metadata": {},
     "output_type": "execute_result"
    }
   ],
   "source": [
    "import pandas as pd\n",
    "life_data = pd.read_excel('MS-ASA Sem 2 MSA 494 Regression - 1.xlsm')\n",
    "life_data"
   ]
  },
  {
   "cell_type": "code",
   "execution_count": 381,
   "id": "1956ae7b",
   "metadata": {},
   "outputs": [
    {
     "data": {
      "text/plain": [
       "Country             0\n",
       "Year                0\n",
       "Status              0\n",
       "Life.expectancy     0\n",
       "GDP                29\n",
       "dtype: int64"
      ]
     },
     "execution_count": 381,
     "metadata": {},
     "output_type": "execute_result"
    }
   ],
   "source": [
    "life_data.isna().sum()"
   ]
  },
  {
   "cell_type": "code",
   "execution_count": 382,
   "id": "7344523c",
   "metadata": {
    "scrolled": false
   },
   "outputs": [
    {
     "data": {
      "text/plain": [
       "Country            0\n",
       "Year               0\n",
       "Status             0\n",
       "Life.expectancy    0\n",
       "GDP                0\n",
       "dtype: int64"
      ]
     },
     "execution_count": 382,
     "metadata": {},
     "output_type": "execute_result"
    }
   ],
   "source": [
    "life_data=life_data.dropna()\n",
    "life_data=life_data.reset_index(drop=True)\n",
    "life_data.isna().sum()"
   ]
  },
  {
   "cell_type": "code",
   "execution_count": 383,
   "id": "f488347a",
   "metadata": {
    "collapsed": true
   },
   "outputs": [
    {
     "data": {
      "text/html": [
       "<div>\n",
       "<style scoped>\n",
       "    .dataframe tbody tr th:only-of-type {\n",
       "        vertical-align: middle;\n",
       "    }\n",
       "\n",
       "    .dataframe tbody tr th {\n",
       "        vertical-align: top;\n",
       "    }\n",
       "\n",
       "    .dataframe thead th {\n",
       "        text-align: right;\n",
       "    }\n",
       "</style>\n",
       "<table border=\"1\" class=\"dataframe\">\n",
       "  <thead>\n",
       "    <tr style=\"text-align: right;\">\n",
       "      <th></th>\n",
       "      <th>Country</th>\n",
       "      <th>Year</th>\n",
       "      <th>Status</th>\n",
       "      <th>Life.expectancy</th>\n",
       "      <th>GDP</th>\n",
       "    </tr>\n",
       "  </thead>\n",
       "  <tbody>\n",
       "    <tr>\n",
       "      <th>149</th>\n",
       "      <td>Uruguay</td>\n",
       "      <td>2015</td>\n",
       "      <td>Developing</td>\n",
       "      <td>77.0</td>\n",
       "      <td>15524.842470</td>\n",
       "    </tr>\n",
       "    <tr>\n",
       "      <th>150</th>\n",
       "      <td>Uzbekistan</td>\n",
       "      <td>2015</td>\n",
       "      <td>Developing</td>\n",
       "      <td>69.4</td>\n",
       "      <td>2137.576852</td>\n",
       "    </tr>\n",
       "    <tr>\n",
       "      <th>151</th>\n",
       "      <td>Vanuatu</td>\n",
       "      <td>2015</td>\n",
       "      <td>Developing</td>\n",
       "      <td>72.0</td>\n",
       "      <td>285.834140</td>\n",
       "    </tr>\n",
       "    <tr>\n",
       "      <th>152</th>\n",
       "      <td>Zambia</td>\n",
       "      <td>2015</td>\n",
       "      <td>Developing</td>\n",
       "      <td>61.8</td>\n",
       "      <td>1313.889646</td>\n",
       "    </tr>\n",
       "    <tr>\n",
       "      <th>153</th>\n",
       "      <td>Zimbabwe</td>\n",
       "      <td>2015</td>\n",
       "      <td>Developing</td>\n",
       "      <td>67.0</td>\n",
       "      <td>118.693830</td>\n",
       "    </tr>\n",
       "  </tbody>\n",
       "</table>\n",
       "</div>"
      ],
      "text/plain": [
       "        Country  Year      Status  Life.expectancy           GDP\n",
       "149     Uruguay  2015  Developing             77.0  15524.842470\n",
       "150  Uzbekistan  2015  Developing             69.4   2137.576852\n",
       "151     Vanuatu  2015  Developing             72.0    285.834140\n",
       "152      Zambia  2015  Developing             61.8   1313.889646\n",
       "153    Zimbabwe  2015  Developing             67.0    118.693830"
      ]
     },
     "execution_count": 383,
     "metadata": {},
     "output_type": "execute_result"
    }
   ],
   "source": [
    "life_data.tail()"
   ]
  },
  {
   "cell_type": "code",
   "execution_count": 384,
   "id": "4d56bbfd",
   "metadata": {
    "collapsed": true
   },
   "outputs": [
    {
     "data": {
      "text/html": [
       "<div>\n",
       "<style scoped>\n",
       "    .dataframe tbody tr th:only-of-type {\n",
       "        vertical-align: middle;\n",
       "    }\n",
       "\n",
       "    .dataframe tbody tr th {\n",
       "        vertical-align: top;\n",
       "    }\n",
       "\n",
       "    .dataframe thead th {\n",
       "        text-align: right;\n",
       "    }\n",
       "</style>\n",
       "<table border=\"1\" class=\"dataframe\">\n",
       "  <thead>\n",
       "    <tr style=\"text-align: right;\">\n",
       "      <th></th>\n",
       "      <th>Year</th>\n",
       "      <th>Life.expectancy</th>\n",
       "      <th>GDP</th>\n",
       "    </tr>\n",
       "  </thead>\n",
       "  <tbody>\n",
       "    <tr>\n",
       "      <th>count</th>\n",
       "      <td>154.0</td>\n",
       "      <td>154.000000</td>\n",
       "      <td>154.000000</td>\n",
       "    </tr>\n",
       "    <tr>\n",
       "      <th>mean</th>\n",
       "      <td>2015.0</td>\n",
       "      <td>71.690260</td>\n",
       "      <td>7185.331746</td>\n",
       "    </tr>\n",
       "    <tr>\n",
       "      <th>std</th>\n",
       "      <td>0.0</td>\n",
       "      <td>8.280789</td>\n",
       "      <td>11697.508913</td>\n",
       "    </tr>\n",
       "    <tr>\n",
       "      <th>min</th>\n",
       "      <td>2015.0</td>\n",
       "      <td>51.000000</td>\n",
       "      <td>33.681223</td>\n",
       "    </tr>\n",
       "    <tr>\n",
       "      <th>25%</th>\n",
       "      <td>2015.0</td>\n",
       "      <td>66.125000</td>\n",
       "      <td>766.008101</td>\n",
       "    </tr>\n",
       "    <tr>\n",
       "      <th>50%</th>\n",
       "      <td>2015.0</td>\n",
       "      <td>73.950000</td>\n",
       "      <td>2916.228918</td>\n",
       "    </tr>\n",
       "    <tr>\n",
       "      <th>75%</th>\n",
       "      <td>2015.0</td>\n",
       "      <td>77.075000</td>\n",
       "      <td>7290.107448</td>\n",
       "    </tr>\n",
       "    <tr>\n",
       "      <th>max</th>\n",
       "      <td>2015.0</td>\n",
       "      <td>88.000000</td>\n",
       "      <td>66346.522670</td>\n",
       "    </tr>\n",
       "  </tbody>\n",
       "</table>\n",
       "</div>"
      ],
      "text/plain": [
       "         Year  Life.expectancy           GDP\n",
       "count   154.0       154.000000    154.000000\n",
       "mean   2015.0        71.690260   7185.331746\n",
       "std       0.0         8.280789  11697.508913\n",
       "min    2015.0        51.000000     33.681223\n",
       "25%    2015.0        66.125000    766.008101\n",
       "50%    2015.0        73.950000   2916.228918\n",
       "75%    2015.0        77.075000   7290.107448\n",
       "max    2015.0        88.000000  66346.522670"
      ]
     },
     "execution_count": 384,
     "metadata": {},
     "output_type": "execute_result"
    }
   ],
   "source": [
    "life_data.describe()"
   ]
  },
  {
   "cell_type": "code",
   "execution_count": 385,
   "id": "40e0a25d",
   "metadata": {
    "collapsed": true
   },
   "outputs": [
    {
     "data": {
      "application/vnd.plotly.v1+json": {
       "config": {
        "plotlyServerURL": "https://plot.ly"
       },
       "data": [
        {
         "hovertemplate": "<b>%{hovertext}</b><br><br>Country=Afghanistan<br>GDP=%{x}<br>Life.expectancy=%{y}<extra></extra>",
         "hovertext": [
          "Afghanistan"
         ],
         "legendgroup": "Afghanistan",
         "marker": {
          "color": "#636efa",
          "symbol": "circle"
         },
         "mode": "markers",
         "name": "Afghanistan",
         "orientation": "v",
         "showlegend": true,
         "type": "scatter",
         "x": [
          584.25921
         ],
         "xaxis": "x",
         "y": [
          65
         ],
         "yaxis": "y"
        },
        {
         "hovertemplate": "<b>%{hovertext}</b><br><br>Country=Albania<br>GDP=%{x}<br>Life.expectancy=%{y}<extra></extra>",
         "hovertext": [
          "Albania"
         ],
         "legendgroup": "Albania",
         "marker": {
          "color": "#EF553B",
          "symbol": "circle"
         },
         "mode": "markers",
         "name": "Albania",
         "orientation": "v",
         "showlegend": true,
         "type": "scatter",
         "x": [
          3954.22783
         ],
         "xaxis": "x",
         "y": [
          77.8
         ],
         "yaxis": "y"
        },
        {
         "hovertemplate": "<b>%{hovertext}</b><br><br>Country=Algeria<br>GDP=%{x}<br>Life.expectancy=%{y}<extra></extra>",
         "hovertext": [
          "Algeria"
         ],
         "legendgroup": "Algeria",
         "marker": {
          "color": "#00cc96",
          "symbol": "circle"
         },
         "mode": "markers",
         "name": "Algeria",
         "orientation": "v",
         "showlegend": true,
         "type": "scatter",
         "x": [
          4132.76292
         ],
         "xaxis": "x",
         "y": [
          75.6
         ],
         "yaxis": "y"
        },
        {
         "hovertemplate": "<b>%{hovertext}</b><br><br>Country=Angola<br>GDP=%{x}<br>Life.expectancy=%{y}<extra></extra>",
         "hovertext": [
          "Angola"
         ],
         "legendgroup": "Angola",
         "marker": {
          "color": "#ab63fa",
          "symbol": "circle"
         },
         "mode": "markers",
         "name": "Angola",
         "orientation": "v",
         "showlegend": true,
         "type": "scatter",
         "x": [
          3695.793748
         ],
         "xaxis": "x",
         "y": [
          52.4
         ],
         "yaxis": "y"
        },
        {
         "hovertemplate": "<b>%{hovertext}</b><br><br>Country=Antigua and Barbuda<br>GDP=%{x}<br>Life.expectancy=%{y}<extra></extra>",
         "hovertext": [
          "Antigua and Barbuda"
         ],
         "legendgroup": "Antigua and Barbuda",
         "marker": {
          "color": "#FFA15A",
          "symbol": "circle"
         },
         "mode": "markers",
         "name": "Antigua and Barbuda",
         "orientation": "v",
         "showlegend": true,
         "type": "scatter",
         "x": [
          13566.9541
         ],
         "xaxis": "x",
         "y": [
          76.4
         ],
         "yaxis": "y"
        },
        {
         "hovertemplate": "<b>%{hovertext}</b><br><br>Country=Argentina<br>GDP=%{x}<br>Life.expectancy=%{y}<extra></extra>",
         "hovertext": [
          "Argentina"
         ],
         "legendgroup": "Argentina",
         "marker": {
          "color": "#19d3f3",
          "symbol": "circle"
         },
         "mode": "markers",
         "name": "Argentina",
         "orientation": "v",
         "showlegend": true,
         "type": "scatter",
         "x": [
          13467.1236
         ],
         "xaxis": "x",
         "y": [
          76.3
         ],
         "yaxis": "y"
        },
        {
         "hovertemplate": "<b>%{hovertext}</b><br><br>Country=Armenia<br>GDP=%{x}<br>Life.expectancy=%{y}<extra></extra>",
         "hovertext": [
          "Armenia"
         ],
         "legendgroup": "Armenia",
         "marker": {
          "color": "#FF6692",
          "symbol": "circle"
         },
         "mode": "markers",
         "name": "Armenia",
         "orientation": "v",
         "showlegend": true,
         "type": "scatter",
         "x": [
          369.654776
         ],
         "xaxis": "x",
         "y": [
          74.8
         ],
         "yaxis": "y"
        },
        {
         "hovertemplate": "<b>%{hovertext}</b><br><br>Country=Australia<br>GDP=%{x}<br>Life.expectancy=%{y}<extra></extra>",
         "hovertext": [
          "Australia"
         ],
         "legendgroup": "Australia",
         "marker": {
          "color": "#B6E880",
          "symbol": "circle"
         },
         "mode": "markers",
         "name": "Australia",
         "orientation": "v",
         "showlegend": true,
         "type": "scatter",
         "x": [
          56554.3876
         ],
         "xaxis": "x",
         "y": [
          82.8
         ],
         "yaxis": "y"
        },
        {
         "hovertemplate": "<b>%{hovertext}</b><br><br>Country=Austria<br>GDP=%{x}<br>Life.expectancy=%{y}<extra></extra>",
         "hovertext": [
          "Austria"
         ],
         "legendgroup": "Austria",
         "marker": {
          "color": "#FF97FF",
          "symbol": "circle"
         },
         "mode": "markers",
         "name": "Austria",
         "orientation": "v",
         "showlegend": true,
         "type": "scatter",
         "x": [
          43665.947
         ],
         "xaxis": "x",
         "y": [
          81.5
         ],
         "yaxis": "y"
        },
        {
         "hovertemplate": "<b>%{hovertext}</b><br><br>Country=Azerbaijan<br>GDP=%{x}<br>Life.expectancy=%{y}<extra></extra>",
         "hovertext": [
          "Azerbaijan"
         ],
         "legendgroup": "Azerbaijan",
         "marker": {
          "color": "#FECB52",
          "symbol": "circle"
         },
         "mode": "markers",
         "name": "Azerbaijan",
         "orientation": "v",
         "showlegend": true,
         "type": "scatter",
         "x": [
          55.31382
         ],
         "xaxis": "x",
         "y": [
          72.7
         ],
         "yaxis": "y"
        },
        {
         "hovertemplate": "<b>%{hovertext}</b><br><br>Country=Bahrain<br>GDP=%{x}<br>Life.expectancy=%{y}<extra></extra>",
         "hovertext": [
          "Bahrain"
         ],
         "legendgroup": "Bahrain",
         "marker": {
          "color": "#636efa",
          "symbol": "circle"
         },
         "mode": "markers",
         "name": "Bahrain",
         "orientation": "v",
         "showlegend": true,
         "type": "scatter",
         "x": [
          22688.87824
         ],
         "xaxis": "x",
         "y": [
          76.9
         ],
         "yaxis": "y"
        },
        {
         "hovertemplate": "<b>%{hovertext}</b><br><br>Country=Bangladesh<br>GDP=%{x}<br>Life.expectancy=%{y}<extra></extra>",
         "hovertext": [
          "Bangladesh"
         ],
         "legendgroup": "Bangladesh",
         "marker": {
          "color": "#EF553B",
          "symbol": "circle"
         },
         "mode": "markers",
         "name": "Bangladesh",
         "orientation": "v",
         "showlegend": true,
         "type": "scatter",
         "x": [
          121.15812
         ],
         "xaxis": "x",
         "y": [
          71.8
         ],
         "yaxis": "y"
        },
        {
         "hovertemplate": "<b>%{hovertext}</b><br><br>Country=Barbados<br>GDP=%{x}<br>Life.expectancy=%{y}<extra></extra>",
         "hovertext": [
          "Barbados"
         ],
         "legendgroup": "Barbados",
         "marker": {
          "color": "#00cc96",
          "symbol": "circle"
         },
         "mode": "markers",
         "name": "Barbados",
         "orientation": "v",
         "showlegend": true,
         "type": "scatter",
         "x": [
          15557.8381
         ],
         "xaxis": "x",
         "y": [
          75.5
         ],
         "yaxis": "y"
        },
        {
         "hovertemplate": "<b>%{hovertext}</b><br><br>Country=Belarus<br>GDP=%{x}<br>Life.expectancy=%{y}<extra></extra>",
         "hovertext": [
          "Belarus"
         ],
         "legendgroup": "Belarus",
         "marker": {
          "color": "#ab63fa",
          "symbol": "circle"
         },
         "mode": "markers",
         "name": "Belarus",
         "orientation": "v",
         "showlegend": true,
         "type": "scatter",
         "x": [
          5949.11677
         ],
         "xaxis": "x",
         "y": [
          72.3
         ],
         "yaxis": "y"
        },
        {
         "hovertemplate": "<b>%{hovertext}</b><br><br>Country=Belgium<br>GDP=%{x}<br>Life.expectancy=%{y}<extra></extra>",
         "hovertext": [
          "Belgium"
         ],
         "legendgroup": "Belgium",
         "marker": {
          "color": "#FFA15A",
          "symbol": "circle"
         },
         "mode": "markers",
         "name": "Belgium",
         "orientation": "v",
         "showlegend": true,
         "type": "scatter",
         "x": [
          4356.875
         ],
         "xaxis": "x",
         "y": [
          81.1
         ],
         "yaxis": "y"
        },
        {
         "hovertemplate": "<b>%{hovertext}</b><br><br>Country=Belize<br>GDP=%{x}<br>Life.expectancy=%{y}<extra></extra>",
         "hovertext": [
          "Belize"
         ],
         "legendgroup": "Belize",
         "marker": {
          "color": "#19d3f3",
          "symbol": "circle"
         },
         "mode": "markers",
         "name": "Belize",
         "orientation": "v",
         "showlegend": true,
         "type": "scatter",
         "x": [
          4849.997495
         ],
         "xaxis": "x",
         "y": [
          71
         ],
         "yaxis": "y"
        },
        {
         "hovertemplate": "<b>%{hovertext}</b><br><br>Country=Benin<br>GDP=%{x}<br>Life.expectancy=%{y}<extra></extra>",
         "hovertext": [
          "Benin"
         ],
         "legendgroup": "Benin",
         "marker": {
          "color": "#FF6692",
          "symbol": "circle"
         },
         "mode": "markers",
         "name": "Benin",
         "orientation": "v",
         "showlegend": true,
         "type": "scatter",
         "x": [
          783.94791
         ],
         "xaxis": "x",
         "y": [
          60
         ],
         "yaxis": "y"
        },
        {
         "hovertemplate": "<b>%{hovertext}</b><br><br>Country=Bhutan<br>GDP=%{x}<br>Life.expectancy=%{y}<extra></extra>",
         "hovertext": [
          "Bhutan"
         ],
         "legendgroup": "Bhutan",
         "marker": {
          "color": "#B6E880",
          "symbol": "circle"
         },
         "mode": "markers",
         "name": "Bhutan",
         "orientation": "v",
         "showlegend": true,
         "type": "scatter",
         "x": [
          2613.645177
         ],
         "xaxis": "x",
         "y": [
          69.8
         ],
         "yaxis": "y"
        },
        {
         "hovertemplate": "<b>%{hovertext}</b><br><br>Country=Bosnia and Herzegovina<br>GDP=%{x}<br>Life.expectancy=%{y}<extra></extra>",
         "hovertext": [
          "Bosnia and Herzegovina"
         ],
         "legendgroup": "Bosnia and Herzegovina",
         "marker": {
          "color": "#FF97FF",
          "symbol": "circle"
         },
         "mode": "markers",
         "name": "Bosnia and Herzegovina",
         "orientation": "v",
         "showlegend": true,
         "type": "scatter",
         "x": [
          4574.9787
         ],
         "xaxis": "x",
         "y": [
          77.4
         ],
         "yaxis": "y"
        },
        {
         "hovertemplate": "<b>%{hovertext}</b><br><br>Country=Botswana<br>GDP=%{x}<br>Life.expectancy=%{y}<extra></extra>",
         "hovertext": [
          "Botswana"
         ],
         "legendgroup": "Botswana",
         "marker": {
          "color": "#FECB52",
          "symbol": "circle"
         },
         "mode": "markers",
         "name": "Botswana",
         "orientation": "v",
         "showlegend": true,
         "type": "scatter",
         "x": [
          6532.651
         ],
         "xaxis": "x",
         "y": [
          65.7
         ],
         "yaxis": "y"
        },
        {
         "hovertemplate": "<b>%{hovertext}</b><br><br>Country=Brazil<br>GDP=%{x}<br>Life.expectancy=%{y}<extra></extra>",
         "hovertext": [
          "Brazil"
         ],
         "legendgroup": "Brazil",
         "marker": {
          "color": "#636efa",
          "symbol": "circle"
         },
         "mode": "markers",
         "name": "Brazil",
         "orientation": "v",
         "showlegend": true,
         "type": "scatter",
         "x": [
          8757.2622
         ],
         "xaxis": "x",
         "y": [
          75
         ],
         "yaxis": "y"
        },
        {
         "hovertemplate": "<b>%{hovertext}</b><br><br>Country=Brunei Darussalam<br>GDP=%{x}<br>Life.expectancy=%{y}<extra></extra>",
         "hovertext": [
          "Brunei Darussalam"
         ],
         "legendgroup": "Brunei Darussalam",
         "marker": {
          "color": "#EF553B",
          "symbol": "circle"
         },
         "mode": "markers",
         "name": "Brunei Darussalam",
         "orientation": "v",
         "showlegend": true,
         "type": "scatter",
         "x": [
          3967.8951
         ],
         "xaxis": "x",
         "y": [
          77.7
         ],
         "yaxis": "y"
        },
        {
         "hovertemplate": "<b>%{hovertext}</b><br><br>Country=Bulgaria<br>GDP=%{x}<br>Life.expectancy=%{y}<extra></extra>",
         "hovertext": [
          "Bulgaria"
         ],
         "legendgroup": "Bulgaria",
         "marker": {
          "color": "#00cc96",
          "symbol": "circle"
         },
         "mode": "markers",
         "name": "Bulgaria",
         "orientation": "v",
         "showlegend": true,
         "type": "scatter",
         "x": [
          6993.47736
         ],
         "xaxis": "x",
         "y": [
          74.5
         ],
         "yaxis": "y"
        },
        {
         "hovertemplate": "<b>%{hovertext}</b><br><br>Country=Burkina Faso<br>GDP=%{x}<br>Life.expectancy=%{y}<extra></extra>",
         "hovertext": [
          "Burkina Faso"
         ],
         "legendgroup": "Burkina Faso",
         "marker": {
          "color": "#ab63fa",
          "symbol": "circle"
         },
         "mode": "markers",
         "name": "Burkina Faso",
         "orientation": "v",
         "showlegend": true,
         "type": "scatter",
         "x": [
          615.592225
         ],
         "xaxis": "x",
         "y": [
          59.9
         ],
         "yaxis": "y"
        },
        {
         "hovertemplate": "<b>%{hovertext}</b><br><br>Country=Burundi<br>GDP=%{x}<br>Life.expectancy=%{y}<extra></extra>",
         "hovertext": [
          "Burundi"
         ],
         "legendgroup": "Burundi",
         "marker": {
          "color": "#FFA15A",
          "symbol": "circle"
         },
         "mode": "markers",
         "name": "Burundi",
         "orientation": "v",
         "showlegend": true,
         "type": "scatter",
         "x": [
          33.681223
         ],
         "xaxis": "x",
         "y": [
          59.6
         ],
         "yaxis": "y"
        },
        {
         "hovertemplate": "<b>%{hovertext}</b><br><br>Country=Cabo Verde<br>GDP=%{x}<br>Life.expectancy=%{y}<extra></extra>",
         "hovertext": [
          "Cabo Verde"
         ],
         "legendgroup": "Cabo Verde",
         "marker": {
          "color": "#19d3f3",
          "symbol": "circle"
         },
         "mode": "markers",
         "name": "Cabo Verde",
         "orientation": "v",
         "showlegend": true,
         "type": "scatter",
         "x": [
          2954.119467
         ],
         "xaxis": "x",
         "y": [
          73.3
         ],
         "yaxis": "y"
        },
        {
         "hovertemplate": "<b>%{hovertext}</b><br><br>Country=Cambodia<br>GDP=%{x}<br>Life.expectancy=%{y}<extra></extra>",
         "hovertext": [
          "Cambodia"
         ],
         "legendgroup": "Cambodia",
         "marker": {
          "color": "#FF6692",
          "symbol": "circle"
         },
         "mode": "markers",
         "name": "Cambodia",
         "orientation": "v",
         "showlegend": true,
         "type": "scatter",
         "x": [
          1163.18977
         ],
         "xaxis": "x",
         "y": [
          68.7
         ],
         "yaxis": "y"
        },
        {
         "hovertemplate": "<b>%{hovertext}</b><br><br>Country=Cameroon<br>GDP=%{x}<br>Life.expectancy=%{y}<extra></extra>",
         "hovertext": [
          "Cameroon"
         ],
         "legendgroup": "Cameroon",
         "marker": {
          "color": "#B6E880",
          "symbol": "circle"
         },
         "mode": "markers",
         "name": "Cameroon",
         "orientation": "v",
         "showlegend": true,
         "type": "scatter",
         "x": [
          1244.429421
         ],
         "xaxis": "x",
         "y": [
          57.3
         ],
         "yaxis": "y"
        },
        {
         "hovertemplate": "<b>%{hovertext}</b><br><br>Country=Canada<br>GDP=%{x}<br>Life.expectancy=%{y}<extra></extra>",
         "hovertext": [
          "Canada"
         ],
         "legendgroup": "Canada",
         "marker": {
          "color": "#FF97FF",
          "symbol": "circle"
         },
         "mode": "markers",
         "name": "Canada",
         "orientation": "v",
         "showlegend": true,
         "type": "scatter",
         "x": [
          43315.744
         ],
         "xaxis": "x",
         "y": [
          82.2
         ],
         "yaxis": "y"
        },
        {
         "hovertemplate": "<b>%{hovertext}</b><br><br>Country=Central African Republic<br>GDP=%{x}<br>Life.expectancy=%{y}<extra></extra>",
         "hovertext": [
          "Central African Republic"
         ],
         "legendgroup": "Central African Republic",
         "marker": {
          "color": "#FECB52",
          "symbol": "circle"
         },
         "mode": "markers",
         "name": "Central African Republic",
         "orientation": "v",
         "showlegend": true,
         "type": "scatter",
         "x": [
          348.381417
         ],
         "xaxis": "x",
         "y": [
          52.5
         ],
         "yaxis": "y"
        },
        {
         "hovertemplate": "<b>%{hovertext}</b><br><br>Country=Chad<br>GDP=%{x}<br>Life.expectancy=%{y}<extra></extra>",
         "hovertext": [
          "Chad"
         ],
         "legendgroup": "Chad",
         "marker": {
          "color": "#636efa",
          "symbol": "circle"
         },
         "mode": "markers",
         "name": "Chad",
         "orientation": "v",
         "showlegend": true,
         "type": "scatter",
         "x": [
          777.248751
         ],
         "xaxis": "x",
         "y": [
          53.1
         ],
         "yaxis": "y"
        },
        {
         "hovertemplate": "<b>%{hovertext}</b><br><br>Country=Chile<br>GDP=%{x}<br>Life.expectancy=%{y}<extra></extra>",
         "hovertext": [
          "Chile"
         ],
         "legendgroup": "Chile",
         "marker": {
          "color": "#EF553B",
          "symbol": "circle"
         },
         "mode": "markers",
         "name": "Chile",
         "orientation": "v",
         "showlegend": true,
         "type": "scatter",
         "x": [
          13653.2264
         ],
         "xaxis": "x",
         "y": [
          85
         ],
         "yaxis": "y"
        },
        {
         "hovertemplate": "<b>%{hovertext}</b><br><br>Country=China<br>GDP=%{x}<br>Life.expectancy=%{y}<extra></extra>",
         "hovertext": [
          "China"
         ],
         "legendgroup": "China",
         "marker": {
          "color": "#00cc96",
          "symbol": "circle"
         },
         "mode": "markers",
         "name": "China",
         "orientation": "v",
         "showlegend": true,
         "type": "scatter",
         "x": [
          869.211938
         ],
         "xaxis": "x",
         "y": [
          76.1
         ],
         "yaxis": "y"
        },
        {
         "hovertemplate": "<b>%{hovertext}</b><br><br>Country=Colombia<br>GDP=%{x}<br>Life.expectancy=%{y}<extra></extra>",
         "hovertext": [
          "Colombia"
         ],
         "legendgroup": "Colombia",
         "marker": {
          "color": "#ab63fa",
          "symbol": "circle"
         },
         "mode": "markers",
         "name": "Colombia",
         "orientation": "v",
         "showlegend": true,
         "type": "scatter",
         "x": [
          644.525556
         ],
         "xaxis": "x",
         "y": [
          74.8
         ],
         "yaxis": "y"
        },
        {
         "hovertemplate": "<b>%{hovertext}</b><br><br>Country=Comoros<br>GDP=%{x}<br>Life.expectancy=%{y}<extra></extra>",
         "hovertext": [
          "Comoros"
         ],
         "legendgroup": "Comoros",
         "marker": {
          "color": "#FFA15A",
          "symbol": "circle"
         },
         "mode": "markers",
         "name": "Comoros",
         "orientation": "v",
         "showlegend": true,
         "type": "scatter",
         "x": [
          727.6463868
         ],
         "xaxis": "x",
         "y": [
          63.5
         ],
         "yaxis": "y"
        },
        {
         "hovertemplate": "<b>%{hovertext}</b><br><br>Country=Costa Rica<br>GDP=%{x}<br>Life.expectancy=%{y}<extra></extra>",
         "hovertext": [
          "Costa Rica"
         ],
         "legendgroup": "Costa Rica",
         "marker": {
          "color": "#19d3f3",
          "symbol": "circle"
         },
         "mode": "markers",
         "name": "Costa Rica",
         "orientation": "v",
         "showlegend": true,
         "type": "scatter",
         "x": [
          1146.36273
         ],
         "xaxis": "x",
         "y": [
          79.6
         ],
         "yaxis": "y"
        },
        {
         "hovertemplate": "<b>%{hovertext}</b><br><br>Country=Croatia<br>GDP=%{x}<br>Life.expectancy=%{y}<extra></extra>",
         "hovertext": [
          "Croatia"
         ],
         "legendgroup": "Croatia",
         "marker": {
          "color": "#FF6692",
          "symbol": "circle"
         },
         "mode": "markers",
         "name": "Croatia",
         "orientation": "v",
         "showlegend": true,
         "type": "scatter",
         "x": [
          11579.6674
         ],
         "xaxis": "x",
         "y": [
          78
         ],
         "yaxis": "y"
        },
        {
         "hovertemplate": "<b>%{hovertext}</b><br><br>Country=Cuba<br>GDP=%{x}<br>Life.expectancy=%{y}<extra></extra>",
         "hovertext": [
          "Cuba"
         ],
         "legendgroup": "Cuba",
         "marker": {
          "color": "#B6E880",
          "symbol": "circle"
         },
         "mode": "markers",
         "name": "Cuba",
         "orientation": "v",
         "showlegend": true,
         "type": "scatter",
         "x": [
          762.261218
         ],
         "xaxis": "x",
         "y": [
          79.1
         ],
         "yaxis": "y"
        },
        {
         "hovertemplate": "<b>%{hovertext}</b><br><br>Country=Cyprus<br>GDP=%{x}<br>Life.expectancy=%{y}<extra></extra>",
         "hovertext": [
          "Cyprus"
         ],
         "legendgroup": "Cyprus",
         "marker": {
          "color": "#FF97FF",
          "symbol": "circle"
         },
         "mode": "markers",
         "name": "Cyprus",
         "orientation": "v",
         "showlegend": true,
         "type": "scatter",
         "x": [
          2375.1127
         ],
         "xaxis": "x",
         "y": [
          85
         ],
         "yaxis": "y"
        },
        {
         "hovertemplate": "<b>%{hovertext}</b><br><br>Country=Denmark<br>GDP=%{x}<br>Life.expectancy=%{y}<extra></extra>",
         "hovertext": [
          "Denmark"
         ],
         "legendgroup": "Denmark",
         "marker": {
          "color": "#FECB52",
          "symbol": "circle"
         },
         "mode": "markers",
         "name": "Denmark",
         "orientation": "v",
         "showlegend": true,
         "type": "scatter",
         "x": [
          5314.64416
         ],
         "xaxis": "x",
         "y": [
          86
         ],
         "yaxis": "y"
        },
        {
         "hovertemplate": "<b>%{hovertext}</b><br><br>Country=Djibouti<br>GDP=%{x}<br>Life.expectancy=%{y}<extra></extra>",
         "hovertext": [
          "Djibouti"
         ],
         "legendgroup": "Djibouti",
         "marker": {
          "color": "#636efa",
          "symbol": "circle"
         },
         "mode": "markers",
         "name": "Djibouti",
         "orientation": "v",
         "showlegend": true,
         "type": "scatter",
         "x": [
          1862.167274
         ],
         "xaxis": "x",
         "y": [
          63.5
         ],
         "yaxis": "y"
        },
        {
         "hovertemplate": "<b>%{hovertext}</b><br><br>Country=Dominican Republic<br>GDP=%{x}<br>Life.expectancy=%{y}<extra></extra>",
         "hovertext": [
          "Dominican Republic"
         ],
         "legendgroup": "Dominican Republic",
         "marker": {
          "color": "#EF553B",
          "symbol": "circle"
         },
         "mode": "markers",
         "name": "Dominican Republic",
         "orientation": "v",
         "showlegend": true,
         "type": "scatter",
         "x": [
          6468.471648
         ],
         "xaxis": "x",
         "y": [
          73.9
         ],
         "yaxis": "y"
        },
        {
         "hovertemplate": "<b>%{hovertext}</b><br><br>Country=Ecuador<br>GDP=%{x}<br>Life.expectancy=%{y}<extra></extra>",
         "hovertext": [
          "Ecuador"
         ],
         "legendgroup": "Ecuador",
         "marker": {
          "color": "#00cc96",
          "symbol": "circle"
         },
         "mode": "markers",
         "name": "Ecuador",
         "orientation": "v",
         "showlegend": true,
         "type": "scatter",
         "x": [
          625.62224
         ],
         "xaxis": "x",
         "y": [
          76.2
         ],
         "yaxis": "y"
        },
        {
         "hovertemplate": "<b>%{hovertext}</b><br><br>Country=El Salvador<br>GDP=%{x}<br>Life.expectancy=%{y}<extra></extra>",
         "hovertext": [
          "El Salvador"
         ],
         "legendgroup": "El Salvador",
         "marker": {
          "color": "#ab63fa",
          "symbol": "circle"
         },
         "mode": "markers",
         "name": "El Salvador",
         "orientation": "v",
         "showlegend": true,
         "type": "scatter",
         "x": [
          4127.11775
         ],
         "xaxis": "x",
         "y": [
          73.5
         ],
         "yaxis": "y"
        },
        {
         "hovertemplate": "<b>%{hovertext}</b><br><br>Country=Equatorial Guinea<br>GDP=%{x}<br>Life.expectancy=%{y}<extra></extra>",
         "hovertext": [
          "Equatorial Guinea"
         ],
         "legendgroup": "Equatorial Guinea",
         "marker": {
          "color": "#FFA15A",
          "symbol": "circle"
         },
         "mode": "markers",
         "name": "Equatorial Guinea",
         "orientation": "v",
         "showlegend": true,
         "type": "scatter",
         "x": [
          1347.31257
         ],
         "xaxis": "x",
         "y": [
          58.2
         ],
         "yaxis": "y"
        },
        {
         "hovertemplate": "<b>%{hovertext}</b><br><br>Country=Estonia<br>GDP=%{x}<br>Life.expectancy=%{y}<extra></extra>",
         "hovertext": [
          "Estonia"
         ],
         "legendgroup": "Estonia",
         "marker": {
          "color": "#19d3f3",
          "symbol": "circle"
         },
         "mode": "markers",
         "name": "Estonia",
         "orientation": "v",
         "showlegend": true,
         "type": "scatter",
         "x": [
          1774.9291
         ],
         "xaxis": "x",
         "y": [
          77.6
         ],
         "yaxis": "y"
        },
        {
         "hovertemplate": "<b>%{hovertext}</b><br><br>Country=Ethiopia<br>GDP=%{x}<br>Life.expectancy=%{y}<extra></extra>",
         "hovertext": [
          "Ethiopia"
         ],
         "legendgroup": "Ethiopia",
         "marker": {
          "color": "#FF6692",
          "symbol": "circle"
         },
         "mode": "markers",
         "name": "Ethiopia",
         "orientation": "v",
         "showlegend": true,
         "type": "scatter",
         "x": [
          645.4637627
         ],
         "xaxis": "x",
         "y": [
          64.8
         ],
         "yaxis": "y"
        },
        {
         "hovertemplate": "<b>%{hovertext}</b><br><br>Country=Fiji<br>GDP=%{x}<br>Life.expectancy=%{y}<extra></extra>",
         "hovertext": [
          "Fiji"
         ],
         "legendgroup": "Fiji",
         "marker": {
          "color": "#B6E880",
          "symbol": "circle"
         },
         "mode": "markers",
         "name": "Fiji",
         "orientation": "v",
         "showlegend": true,
         "type": "scatter",
         "x": [
          4921.89629
         ],
         "xaxis": "x",
         "y": [
          69.9
         ],
         "yaxis": "y"
        },
        {
         "hovertemplate": "<b>%{hovertext}</b><br><br>Country=Finland<br>GDP=%{x}<br>Life.expectancy=%{y}<extra></extra>",
         "hovertext": [
          "Finland"
         ],
         "legendgroup": "Finland",
         "marker": {
          "color": "#FF97FF",
          "symbol": "circle"
         },
         "mode": "markers",
         "name": "Finland",
         "orientation": "v",
         "showlegend": true,
         "type": "scatter",
         "x": [
          4245.39744
         ],
         "xaxis": "x",
         "y": [
          81.1
         ],
         "yaxis": "y"
        },
        {
         "hovertemplate": "<b>%{hovertext}</b><br><br>Country=France<br>GDP=%{x}<br>Life.expectancy=%{y}<extra></extra>",
         "hovertext": [
          "France"
         ],
         "legendgroup": "France",
         "marker": {
          "color": "#FECB52",
          "symbol": "circle"
         },
         "mode": "markers",
         "name": "France",
         "orientation": "v",
         "showlegend": true,
         "type": "scatter",
         "x": [
          36526.7711
         ],
         "xaxis": "x",
         "y": [
          82.4
         ],
         "yaxis": "y"
        },
        {
         "hovertemplate": "<b>%{hovertext}</b><br><br>Country=Gabon<br>GDP=%{x}<br>Life.expectancy=%{y}<extra></extra>",
         "hovertext": [
          "Gabon"
         ],
         "legendgroup": "Gabon",
         "marker": {
          "color": "#636efa",
          "symbol": "circle"
         },
         "mode": "markers",
         "name": "Gabon",
         "orientation": "v",
         "showlegend": true,
         "type": "scatter",
         "x": [
          7388.984144
         ],
         "xaxis": "x",
         "y": [
          66
         ],
         "yaxis": "y"
        },
        {
         "hovertemplate": "<b>%{hovertext}</b><br><br>Country=Georgia<br>GDP=%{x}<br>Life.expectancy=%{y}<extra></extra>",
         "hovertext": [
          "Georgia"
         ],
         "legendgroup": "Georgia",
         "marker": {
          "color": "#EF553B",
          "symbol": "circle"
         },
         "mode": "markers",
         "name": "Georgia",
         "orientation": "v",
         "showlegend": true,
         "type": "scatter",
         "x": [
          3764.64912
         ],
         "xaxis": "x",
         "y": [
          74.4
         ],
         "yaxis": "y"
        },
        {
         "hovertemplate": "<b>%{hovertext}</b><br><br>Country=Germany<br>GDP=%{x}<br>Life.expectancy=%{y}<extra></extra>",
         "hovertext": [
          "Germany"
         ],
         "legendgroup": "Germany",
         "marker": {
          "color": "#00cc96",
          "symbol": "circle"
         },
         "mode": "markers",
         "name": "Germany",
         "orientation": "v",
         "showlegend": true,
         "type": "scatter",
         "x": [
          41176.88158
         ],
         "xaxis": "x",
         "y": [
          81
         ],
         "yaxis": "y"
        },
        {
         "hovertemplate": "<b>%{hovertext}</b><br><br>Country=Ghana<br>GDP=%{x}<br>Life.expectancy=%{y}<extra></extra>",
         "hovertext": [
          "Ghana"
         ],
         "legendgroup": "Ghana",
         "marker": {
          "color": "#ab63fa",
          "symbol": "circle"
         },
         "mode": "markers",
         "name": "Ghana",
         "orientation": "v",
         "showlegend": true,
         "type": "scatter",
         "x": [
          1361.11395
         ],
         "xaxis": "x",
         "y": [
          62.4
         ],
         "yaxis": "y"
        },
        {
         "hovertemplate": "<b>%{hovertext}</b><br><br>Country=Greece<br>GDP=%{x}<br>Life.expectancy=%{y}<extra></extra>",
         "hovertext": [
          "Greece"
         ],
         "legendgroup": "Greece",
         "marker": {
          "color": "#FFA15A",
          "symbol": "circle"
         },
         "mode": "markers",
         "name": "Greece",
         "orientation": "v",
         "showlegend": true,
         "type": "scatter",
         "x": [
          187.78991
         ],
         "xaxis": "x",
         "y": [
          81
         ],
         "yaxis": "y"
        },
        {
         "hovertemplate": "<b>%{hovertext}</b><br><br>Country=Grenada<br>GDP=%{x}<br>Life.expectancy=%{y}<extra></extra>",
         "hovertext": [
          "Grenada"
         ],
         "legendgroup": "Grenada",
         "marker": {
          "color": "#19d3f3",
          "symbol": "circle"
         },
         "mode": "markers",
         "name": "Grenada",
         "orientation": "v",
         "showlegend": true,
         "type": "scatter",
         "x": [
          9212.192824
         ],
         "xaxis": "x",
         "y": [
          73.6
         ],
         "yaxis": "y"
        },
        {
         "hovertemplate": "<b>%{hovertext}</b><br><br>Country=Guatemala<br>GDP=%{x}<br>Life.expectancy=%{y}<extra></extra>",
         "hovertext": [
          "Guatemala"
         ],
         "legendgroup": "Guatemala",
         "marker": {
          "color": "#FF6692",
          "symbol": "circle"
         },
         "mode": "markers",
         "name": "Guatemala",
         "orientation": "v",
         "showlegend": true,
         "type": "scatter",
         "x": [
          3923.573344
         ],
         "xaxis": "x",
         "y": [
          71.9
         ],
         "yaxis": "y"
        },
        {
         "hovertemplate": "<b>%{hovertext}</b><br><br>Country=Guinea<br>GDP=%{x}<br>Life.expectancy=%{y}<extra></extra>",
         "hovertext": [
          "Guinea"
         ],
         "legendgroup": "Guinea",
         "marker": {
          "color": "#B6E880",
          "symbol": "circle"
         },
         "mode": "markers",
         "name": "Guinea",
         "orientation": "v",
         "showlegend": true,
         "type": "scatter",
         "x": [
          554.48766
         ],
         "xaxis": "x",
         "y": [
          59
         ],
         "yaxis": "y"
        },
        {
         "hovertemplate": "<b>%{hovertext}</b><br><br>Country=Guinea-Bissau<br>GDP=%{x}<br>Life.expectancy=%{y}<extra></extra>",
         "hovertext": [
          "Guinea-Bissau"
         ],
         "legendgroup": "Guinea-Bissau",
         "marker": {
          "color": "#FF97FF",
          "symbol": "circle"
         },
         "mode": "markers",
         "name": "Guinea-Bissau",
         "orientation": "v",
         "showlegend": true,
         "type": "scatter",
         "x": [
          596.8717189
         ],
         "xaxis": "x",
         "y": [
          58.9
         ],
         "yaxis": "y"
        },
        {
         "hovertemplate": "<b>%{hovertext}</b><br><br>Country=Guyana<br>GDP=%{x}<br>Life.expectancy=%{y}<extra></extra>",
         "hovertext": [
          "Guyana"
         ],
         "legendgroup": "Guyana",
         "marker": {
          "color": "#FECB52",
          "symbol": "circle"
         },
         "mode": "markers",
         "name": "Guyana",
         "orientation": "v",
         "showlegend": true,
         "type": "scatter",
         "x": [
          4136.689919
         ],
         "xaxis": "x",
         "y": [
          66.2
         ],
         "yaxis": "y"
        },
        {
         "hovertemplate": "<b>%{hovertext}</b><br><br>Country=Haiti<br>GDP=%{x}<br>Life.expectancy=%{y}<extra></extra>",
         "hovertext": [
          "Haiti"
         ],
         "legendgroup": "Haiti",
         "marker": {
          "color": "#636efa",
          "symbol": "circle"
         },
         "mode": "markers",
         "name": "Haiti",
         "orientation": "v",
         "showlegend": true,
         "type": "scatter",
         "x": [
          814.5463952
         ],
         "xaxis": "x",
         "y": [
          63.5
         ],
         "yaxis": "y"
        },
        {
         "hovertemplate": "<b>%{hovertext}</b><br><br>Country=Honduras<br>GDP=%{x}<br>Life.expectancy=%{y}<extra></extra>",
         "hovertext": [
          "Honduras"
         ],
         "legendgroup": "Honduras",
         "marker": {
          "color": "#EF553B",
          "symbol": "circle"
         },
         "mode": "markers",
         "name": "Honduras",
         "orientation": "v",
         "showlegend": true,
         "type": "scatter",
         "x": [
          2326.15856
         ],
         "xaxis": "x",
         "y": [
          74.6
         ],
         "yaxis": "y"
        },
        {
         "hovertemplate": "<b>%{hovertext}</b><br><br>Country=Hungary<br>GDP=%{x}<br>Life.expectancy=%{y}<extra></extra>",
         "hovertext": [
          "Hungary"
         ],
         "legendgroup": "Hungary",
         "marker": {
          "color": "#00cc96",
          "symbol": "circle"
         },
         "mode": "markers",
         "name": "Hungary",
         "orientation": "v",
         "showlegend": true,
         "type": "scatter",
         "x": [
          12365.6263
         ],
         "xaxis": "x",
         "y": [
          75.8
         ],
         "yaxis": "y"
        },
        {
         "hovertemplate": "<b>%{hovertext}</b><br><br>Country=Iceland<br>GDP=%{x}<br>Life.expectancy=%{y}<extra></extra>",
         "hovertext": [
          "Iceland"
         ],
         "legendgroup": "Iceland",
         "marker": {
          "color": "#ab63fa",
          "symbol": "circle"
         },
         "mode": "markers",
         "name": "Iceland",
         "orientation": "v",
         "showlegend": true,
         "type": "scatter",
         "x": [
          5734.4436
         ],
         "xaxis": "x",
         "y": [
          82.7
         ],
         "yaxis": "y"
        },
        {
         "hovertemplate": "<b>%{hovertext}</b><br><br>Country=India<br>GDP=%{x}<br>Life.expectancy=%{y}<extra></extra>",
         "hovertext": [
          "India"
         ],
         "legendgroup": "India",
         "marker": {
          "color": "#FFA15A",
          "symbol": "circle"
         },
         "mode": "markers",
         "name": "India",
         "orientation": "v",
         "showlegend": true,
         "type": "scatter",
         "x": [
          1613.18878
         ],
         "xaxis": "x",
         "y": [
          68.3
         ],
         "yaxis": "y"
        },
        {
         "hovertemplate": "<b>%{hovertext}</b><br><br>Country=Indonesia<br>GDP=%{x}<br>Life.expectancy=%{y}<extra></extra>",
         "hovertext": [
          "Indonesia"
         ],
         "legendgroup": "Indonesia",
         "marker": {
          "color": "#19d3f3",
          "symbol": "circle"
         },
         "mode": "markers",
         "name": "Indonesia",
         "orientation": "v",
         "showlegend": true,
         "type": "scatter",
         "x": [
          3336.16686
         ],
         "xaxis": "x",
         "y": [
          69.1
         ],
         "yaxis": "y"
        },
        {
         "hovertemplate": "<b>%{hovertext}</b><br><br>Country=Iraq<br>GDP=%{x}<br>Life.expectancy=%{y}<extra></extra>",
         "hovertext": [
          "Iraq"
         ],
         "legendgroup": "Iraq",
         "marker": {
          "color": "#FF6692",
          "symbol": "circle"
         },
         "mode": "markers",
         "name": "Iraq",
         "orientation": "v",
         "showlegend": true,
         "type": "scatter",
         "x": [
          4974.2693
         ],
         "xaxis": "x",
         "y": [
          68.9
         ],
         "yaxis": "y"
        },
        {
         "hovertemplate": "<b>%{hovertext}</b><br><br>Country=Ireland<br>GDP=%{x}<br>Life.expectancy=%{y}<extra></extra>",
         "hovertext": [
          "Ireland"
         ],
         "legendgroup": "Ireland",
         "marker": {
          "color": "#B6E880",
          "symbol": "circle"
         },
         "mode": "markers",
         "name": "Ireland",
         "orientation": "v",
         "showlegend": true,
         "type": "scatter",
         "x": [
          6664.144
         ],
         "xaxis": "x",
         "y": [
          81.4
         ],
         "yaxis": "y"
        },
        {
         "hovertemplate": "<b>%{hovertext}</b><br><br>Country=Israel<br>GDP=%{x}<br>Life.expectancy=%{y}<extra></extra>",
         "hovertext": [
          "Israel"
         ],
         "legendgroup": "Israel",
         "marker": {
          "color": "#FF97FF",
          "symbol": "circle"
         },
         "mode": "markers",
         "name": "Israel",
         "orientation": "v",
         "showlegend": true,
         "type": "scatter",
         "x": [
          35729.37253
         ],
         "xaxis": "x",
         "y": [
          82.5
         ],
         "yaxis": "y"
        },
        {
         "hovertemplate": "<b>%{hovertext}</b><br><br>Country=Italy<br>GDP=%{x}<br>Life.expectancy=%{y}<extra></extra>",
         "hovertext": [
          "Italy"
         ],
         "legendgroup": "Italy",
         "marker": {
          "color": "#FECB52",
          "symbol": "circle"
         },
         "mode": "markers",
         "name": "Italy",
         "orientation": "v",
         "showlegend": true,
         "type": "scatter",
         "x": [
          349.14755
         ],
         "xaxis": "x",
         "y": [
          82.7
         ],
         "yaxis": "y"
        },
        {
         "hovertemplate": "<b>%{hovertext}</b><br><br>Country=Jamaica<br>GDP=%{x}<br>Life.expectancy=%{y}<extra></extra>",
         "hovertext": [
          "Jamaica"
         ],
         "legendgroup": "Jamaica",
         "marker": {
          "color": "#636efa",
          "symbol": "circle"
         },
         "mode": "markers",
         "name": "Jamaica",
         "orientation": "v",
         "showlegend": true,
         "type": "scatter",
         "x": [
          4965.989857
         ],
         "xaxis": "x",
         "y": [
          76.2
         ],
         "yaxis": "y"
        },
        {
         "hovertemplate": "<b>%{hovertext}</b><br><br>Country=Japan<br>GDP=%{x}<br>Life.expectancy=%{y}<extra></extra>",
         "hovertext": [
          "Japan"
         ],
         "legendgroup": "Japan",
         "marker": {
          "color": "#EF553B",
          "symbol": "circle"
         },
         "mode": "markers",
         "name": "Japan",
         "orientation": "v",
         "showlegend": true,
         "type": "scatter",
         "x": [
          34474.13736
         ],
         "xaxis": "x",
         "y": [
          83.7
         ],
         "yaxis": "y"
        },
        {
         "hovertemplate": "<b>%{hovertext}</b><br><br>Country=Jordan<br>GDP=%{x}<br>Life.expectancy=%{y}<extra></extra>",
         "hovertext": [
          "Jordan"
         ],
         "legendgroup": "Jordan",
         "marker": {
          "color": "#00cc96",
          "symbol": "circle"
         },
         "mode": "markers",
         "name": "Jordan",
         "orientation": "v",
         "showlegend": true,
         "type": "scatter",
         "x": [
          496.99275
         ],
         "xaxis": "x",
         "y": [
          74.1
         ],
         "yaxis": "y"
        },
        {
         "hovertemplate": "<b>%{hovertext}</b><br><br>Country=Kazakhstan<br>GDP=%{x}<br>Life.expectancy=%{y}<extra></extra>",
         "hovertext": [
          "Kazakhstan"
         ],
         "legendgroup": "Kazakhstan",
         "marker": {
          "color": "#ab63fa",
          "symbol": "circle"
         },
         "mode": "markers",
         "name": "Kazakhstan",
         "orientation": "v",
         "showlegend": true,
         "type": "scatter",
         "x": [
          159.9817
         ],
         "xaxis": "x",
         "y": [
          72
         ],
         "yaxis": "y"
        },
        {
         "hovertemplate": "<b>%{hovertext}</b><br><br>Country=Kenya<br>GDP=%{x}<br>Life.expectancy=%{y}<extra></extra>",
         "hovertext": [
          "Kenya"
         ],
         "legendgroup": "Kenya",
         "marker": {
          "color": "#FFA15A",
          "symbol": "circle"
         },
         "mode": "markers",
         "name": "Kenya",
         "orientation": "v",
         "showlegend": true,
         "type": "scatter",
         "x": [
          1349.97144
         ],
         "xaxis": "x",
         "y": [
          63.4
         ],
         "yaxis": "y"
        },
        {
         "hovertemplate": "<b>%{hovertext}</b><br><br>Country=Kiribati<br>GDP=%{x}<br>Life.expectancy=%{y}<extra></extra>",
         "hovertext": [
          "Kiribati"
         ],
         "legendgroup": "Kiribati",
         "marker": {
          "color": "#19d3f3",
          "symbol": "circle"
         },
         "mode": "markers",
         "name": "Kiribati",
         "orientation": "v",
         "showlegend": true,
         "type": "scatter",
         "x": [
          1424.483611
         ],
         "xaxis": "x",
         "y": [
          66.3
         ],
         "yaxis": "y"
        },
        {
         "hovertemplate": "<b>%{hovertext}</b><br><br>Country=Kuwait<br>GDP=%{x}<br>Life.expectancy=%{y}<extra></extra>",
         "hovertext": [
          "Kuwait"
         ],
         "legendgroup": "Kuwait",
         "marker": {
          "color": "#FF6692",
          "symbol": "circle"
         },
         "mode": "markers",
         "name": "Kuwait",
         "orientation": "v",
         "showlegend": true,
         "type": "scatter",
         "x": [
          28975.418
         ],
         "xaxis": "x",
         "y": [
          74.7
         ],
         "yaxis": "y"
        },
        {
         "hovertemplate": "<b>%{hovertext}</b><br><br>Country=Latvia<br>GDP=%{x}<br>Life.expectancy=%{y}<extra></extra>",
         "hovertext": [
          "Latvia"
         ],
         "legendgroup": "Latvia",
         "marker": {
          "color": "#B6E880",
          "symbol": "circle"
         },
         "mode": "markers",
         "name": "Latvia",
         "orientation": "v",
         "showlegend": true,
         "type": "scatter",
         "x": [
          13666.58336
         ],
         "xaxis": "x",
         "y": [
          74.6
         ],
         "yaxis": "y"
        },
        {
         "hovertemplate": "<b>%{hovertext}</b><br><br>Country=Lebanon<br>GDP=%{x}<br>Life.expectancy=%{y}<extra></extra>",
         "hovertext": [
          "Lebanon"
         ],
         "legendgroup": "Lebanon",
         "marker": {
          "color": "#FF97FF",
          "symbol": "circle"
         },
         "mode": "markers",
         "name": "Lebanon",
         "orientation": "v",
         "showlegend": true,
         "type": "scatter",
         "x": [
          846.632851
         ],
         "xaxis": "x",
         "y": [
          74.9
         ],
         "yaxis": "y"
        },
        {
         "hovertemplate": "<b>%{hovertext}</b><br><br>Country=Lesotho<br>GDP=%{x}<br>Life.expectancy=%{y}<extra></extra>",
         "hovertext": [
          "Lesotho"
         ],
         "legendgroup": "Lesotho",
         "marker": {
          "color": "#FECB52",
          "symbol": "circle"
         },
         "mode": "markers",
         "name": "Lesotho",
         "orientation": "v",
         "showlegend": true,
         "type": "scatter",
         "x": [
          173.82893
         ],
         "xaxis": "x",
         "y": [
          53.7
         ],
         "yaxis": "y"
        },
        {
         "hovertemplate": "<b>%{hovertext}</b><br><br>Country=Liberia<br>GDP=%{x}<br>Life.expectancy=%{y}<extra></extra>",
         "hovertext": [
          "Liberia"
         ],
         "legendgroup": "Liberia",
         "marker": {
          "color": "#636efa",
          "symbol": "circle"
         },
         "mode": "markers",
         "name": "Liberia",
         "orientation": "v",
         "showlegend": true,
         "type": "scatter",
         "x": [
          452.38717
         ],
         "xaxis": "x",
         "y": [
          61.4
         ],
         "yaxis": "y"
        },
        {
         "hovertemplate": "<b>%{hovertext}</b><br><br>Country=Lithuania<br>GDP=%{x}<br>Life.expectancy=%{y}<extra></extra>",
         "hovertext": [
          "Lithuania"
         ],
         "legendgroup": "Lithuania",
         "marker": {
          "color": "#EF553B",
          "symbol": "circle"
         },
         "mode": "markers",
         "name": "Lithuania",
         "orientation": "v",
         "showlegend": true,
         "type": "scatter",
         "x": [
          14252.42853
         ],
         "xaxis": "x",
         "y": [
          73.6
         ],
         "yaxis": "y"
        },
        {
         "hovertemplate": "<b>%{hovertext}</b><br><br>Country=Luxembourg<br>GDP=%{x}<br>Life.expectancy=%{y}<extra></extra>",
         "hovertext": [
          "Luxembourg"
         ],
         "legendgroup": "Luxembourg",
         "marker": {
          "color": "#00cc96",
          "symbol": "circle"
         },
         "mode": "markers",
         "name": "Luxembourg",
         "orientation": "v",
         "showlegend": true,
         "type": "scatter",
         "x": [
          1199.8223
         ],
         "xaxis": "x",
         "y": [
          82
         ],
         "yaxis": "y"
        },
        {
         "hovertemplate": "<b>%{hovertext}</b><br><br>Country=Madagascar<br>GDP=%{x}<br>Life.expectancy=%{y}<extra></extra>",
         "hovertext": [
          "Madagascar"
         ],
         "legendgroup": "Madagascar",
         "marker": {
          "color": "#ab63fa",
          "symbol": "circle"
         },
         "mode": "markers",
         "name": "Madagascar",
         "orientation": "v",
         "showlegend": true,
         "type": "scatter",
         "x": [
          41.8575951
         ],
         "xaxis": "x",
         "y": [
          65.5
         ],
         "yaxis": "y"
        },
        {
         "hovertemplate": "<b>%{hovertext}</b><br><br>Country=Malawi<br>GDP=%{x}<br>Life.expectancy=%{y}<extra></extra>",
         "hovertext": [
          "Malawi"
         ],
         "legendgroup": "Malawi",
         "marker": {
          "color": "#FFA15A",
          "symbol": "circle"
         },
         "mode": "markers",
         "name": "Malawi",
         "orientation": "v",
         "showlegend": true,
         "type": "scatter",
         "x": [
          362.6575444
         ],
         "xaxis": "x",
         "y": [
          58.3
         ],
         "yaxis": "y"
        },
        {
         "hovertemplate": "<b>%{hovertext}</b><br><br>Country=Malaysia<br>GDP=%{x}<br>Life.expectancy=%{y}<extra></extra>",
         "hovertext": [
          "Malaysia"
         ],
         "legendgroup": "Malaysia",
         "marker": {
          "color": "#19d3f3",
          "symbol": "circle"
         },
         "mode": "markers",
         "name": "Malaysia",
         "orientation": "v",
         "showlegend": true,
         "type": "scatter",
         "x": [
          9643.644683
         ],
         "xaxis": "x",
         "y": [
          75
         ],
         "yaxis": "y"
        },
        {
         "hovertemplate": "<b>%{hovertext}</b><br><br>Country=Maldives<br>GDP=%{x}<br>Life.expectancy=%{y}<extra></extra>",
         "hovertext": [
          "Maldives"
         ],
         "legendgroup": "Maldives",
         "marker": {
          "color": "#FF6692",
          "symbol": "circle"
         },
         "mode": "markers",
         "name": "Maldives",
         "orientation": "v",
         "showlegend": true,
         "type": "scatter",
         "x": [
          8395.785198
         ],
         "xaxis": "x",
         "y": [
          78.5
         ],
         "yaxis": "y"
        },
        {
         "hovertemplate": "<b>%{hovertext}</b><br><br>Country=Mali<br>GDP=%{x}<br>Life.expectancy=%{y}<extra></extra>",
         "hovertext": [
          "Mali"
         ],
         "legendgroup": "Mali",
         "marker": {
          "color": "#B6E880",
          "symbol": "circle"
         },
         "mode": "markers",
         "name": "Mali",
         "orientation": "v",
         "showlegend": true,
         "type": "scatter",
         "x": [
          729.725338
         ],
         "xaxis": "x",
         "y": [
          58.2
         ],
         "yaxis": "y"
        },
        {
         "hovertemplate": "<b>%{hovertext}</b><br><br>Country=Malta<br>GDP=%{x}<br>Life.expectancy=%{y}<extra></extra>",
         "hovertext": [
          "Malta"
         ],
         "legendgroup": "Malta",
         "marker": {
          "color": "#FF97FF",
          "symbol": "circle"
         },
         "mode": "markers",
         "name": "Malta",
         "orientation": "v",
         "showlegend": true,
         "type": "scatter",
         "x": [
          23819.4636
         ],
         "xaxis": "x",
         "y": [
          81.7
         ],
         "yaxis": "y"
        },
        {
         "hovertemplate": "<b>%{hovertext}</b><br><br>Country=Mauritania<br>GDP=%{x}<br>Life.expectancy=%{y}<extra></extra>",
         "hovertext": [
          "Mauritania"
         ],
         "legendgroup": "Mauritania",
         "marker": {
          "color": "#FECB52",
          "symbol": "circle"
         },
         "mode": "markers",
         "name": "Mauritania",
         "orientation": "v",
         "showlegend": true,
         "type": "scatter",
         "x": [
          1158.256469
         ],
         "xaxis": "x",
         "y": [
          63.1
         ],
         "yaxis": "y"
        },
        {
         "hovertemplate": "<b>%{hovertext}</b><br><br>Country=Mauritius<br>GDP=%{x}<br>Life.expectancy=%{y}<extra></extra>",
         "hovertext": [
          "Mauritius"
         ],
         "legendgroup": "Mauritius",
         "marker": {
          "color": "#636efa",
          "symbol": "circle"
         },
         "mode": "markers",
         "name": "Mauritius",
         "orientation": "v",
         "showlegend": true,
         "type": "scatter",
         "x": [
          9252.11724
         ],
         "xaxis": "x",
         "y": [
          74.6
         ],
         "yaxis": "y"
        },
        {
         "hovertemplate": "<b>%{hovertext}</b><br><br>Country=Mexico<br>GDP=%{x}<br>Life.expectancy=%{y}<extra></extra>",
         "hovertext": [
          "Mexico"
         ],
         "legendgroup": "Mexico",
         "marker": {
          "color": "#EF553B",
          "symbol": "circle"
         },
         "mode": "markers",
         "name": "Mexico",
         "orientation": "v",
         "showlegend": true,
         "type": "scatter",
         "x": [
          9143.128494
         ],
         "xaxis": "x",
         "y": [
          76.7
         ],
         "yaxis": "y"
        },
        {
         "hovertemplate": "<b>%{hovertext}</b><br><br>Country=Mongolia<br>GDP=%{x}<br>Life.expectancy=%{y}<extra></extra>",
         "hovertext": [
          "Mongolia"
         ],
         "legendgroup": "Mongolia",
         "marker": {
          "color": "#00cc96",
          "symbol": "circle"
         },
         "mode": "markers",
         "name": "Mongolia",
         "orientation": "v",
         "showlegend": true,
         "type": "scatter",
         "x": [
          3944.1839
         ],
         "xaxis": "x",
         "y": [
          68.8
         ],
         "yaxis": "y"
        },
        {
         "hovertemplate": "<b>%{hovertext}</b><br><br>Country=Montenegro<br>GDP=%{x}<br>Life.expectancy=%{y}<extra></extra>",
         "hovertext": [
          "Montenegro"
         ],
         "legendgroup": "Montenegro",
         "marker": {
          "color": "#ab63fa",
          "symbol": "circle"
         },
         "mode": "markers",
         "name": "Montenegro",
         "orientation": "v",
         "showlegend": true,
         "type": "scatter",
         "x": [
          6461.192554
         ],
         "xaxis": "x",
         "y": [
          76.1
         ],
         "yaxis": "y"
        },
        {
         "hovertemplate": "<b>%{hovertext}</b><br><br>Country=Morocco<br>GDP=%{x}<br>Life.expectancy=%{y}<extra></extra>",
         "hovertext": [
          "Morocco"
         ],
         "legendgroup": "Morocco",
         "marker": {
          "color": "#FFA15A",
          "symbol": "circle"
         },
         "mode": "markers",
         "name": "Morocco",
         "orientation": "v",
         "showlegend": true,
         "type": "scatter",
         "x": [
          2847.285569
         ],
         "xaxis": "x",
         "y": [
          74.3
         ],
         "yaxis": "y"
        },
        {
         "hovertemplate": "<b>%{hovertext}</b><br><br>Country=Mozambique<br>GDP=%{x}<br>Life.expectancy=%{y}<extra></extra>",
         "hovertext": [
          "Mozambique"
         ],
         "legendgroup": "Mozambique",
         "marker": {
          "color": "#19d3f3",
          "symbol": "circle"
         },
         "mode": "markers",
         "name": "Mozambique",
         "orientation": "v",
         "showlegend": true,
         "type": "scatter",
         "x": [
          528.3125597
         ],
         "xaxis": "x",
         "y": [
          57.6
         ],
         "yaxis": "y"
        },
        {
         "hovertemplate": "<b>%{hovertext}</b><br><br>Country=Myanmar<br>GDP=%{x}<br>Life.expectancy=%{y}<extra></extra>",
         "hovertext": [
          "Myanmar"
         ],
         "legendgroup": "Myanmar",
         "marker": {
          "color": "#FF6692",
          "symbol": "circle"
         },
         "mode": "markers",
         "name": "Myanmar",
         "orientation": "v",
         "showlegend": true,
         "type": "scatter",
         "x": [
          1194.59137
         ],
         "xaxis": "x",
         "y": [
          66.6
         ],
         "yaxis": "y"
        },
        {
         "hovertemplate": "<b>%{hovertext}</b><br><br>Country=Namibia<br>GDP=%{x}<br>Life.expectancy=%{y}<extra></extra>",
         "hovertext": [
          "Namibia"
         ],
         "legendgroup": "Namibia",
         "marker": {
          "color": "#B6E880",
          "symbol": "circle"
         },
         "mode": "markers",
         "name": "Namibia",
         "orientation": "v",
         "showlegend": true,
         "type": "scatter",
         "x": [
          4737.66996
         ],
         "xaxis": "x",
         "y": [
          65.8
         ],
         "yaxis": "y"
        },
        {
         "hovertemplate": "<b>%{hovertext}</b><br><br>Country=Nepal<br>GDP=%{x}<br>Life.expectancy=%{y}<extra></extra>",
         "hovertext": [
          "Nepal"
         ],
         "legendgroup": "Nepal",
         "marker": {
          "color": "#FF97FF",
          "symbol": "circle"
         },
         "mode": "markers",
         "name": "Nepal",
         "orientation": "v",
         "showlegend": true,
         "type": "scatter",
         "x": [
          743.7653489
         ],
         "xaxis": "x",
         "y": [
          69.2
         ],
         "yaxis": "y"
        },
        {
         "hovertemplate": "<b>%{hovertext}</b><br><br>Country=Netherlands<br>GDP=%{x}<br>Life.expectancy=%{y}<extra></extra>",
         "hovertext": [
          "Netherlands"
         ],
         "legendgroup": "Netherlands",
         "marker": {
          "color": "#FECB52",
          "symbol": "circle"
         },
         "mode": "markers",
         "name": "Netherlands",
         "orientation": "v",
         "showlegend": true,
         "type": "scatter",
         "x": [
          44292.88473
         ],
         "xaxis": "x",
         "y": [
          81.9
         ],
         "yaxis": "y"
        },
        {
         "hovertemplate": "<b>%{hovertext}</b><br><br>Country=New Zealand<br>GDP=%{x}<br>Life.expectancy=%{y}<extra></extra>",
         "hovertext": [
          "New Zealand"
         ],
         "legendgroup": "New Zealand",
         "marker": {
          "color": "#636efa",
          "symbol": "circle"
         },
         "mode": "markers",
         "name": "New Zealand",
         "orientation": "v",
         "showlegend": true,
         "type": "scatter",
         "x": [
          3821.8937
         ],
         "xaxis": "x",
         "y": [
          81.6
         ],
         "yaxis": "y"
        },
        {
         "hovertemplate": "<b>%{hovertext}</b><br><br>Country=Nicaragua<br>GDP=%{x}<br>Life.expectancy=%{y}<extra></extra>",
         "hovertext": [
          "Nicaragua"
         ],
         "legendgroup": "Nicaragua",
         "marker": {
          "color": "#EF553B",
          "symbol": "circle"
         },
         "mode": "markers",
         "name": "Nicaragua",
         "orientation": "v",
         "showlegend": true,
         "type": "scatter",
         "x": [
          295.966488
         ],
         "xaxis": "x",
         "y": [
          74.8
         ],
         "yaxis": "y"
        },
        {
         "hovertemplate": "<b>%{hovertext}</b><br><br>Country=Niger<br>GDP=%{x}<br>Life.expectancy=%{y}<extra></extra>",
         "hovertext": [
          "Niger"
         ],
         "legendgroup": "Niger",
         "marker": {
          "color": "#00cc96",
          "symbol": "circle"
         },
         "mode": "markers",
         "name": "Niger",
         "orientation": "v",
         "showlegend": true,
         "type": "scatter",
         "x": [
          358.99731
         ],
         "xaxis": "x",
         "y": [
          61.8
         ],
         "yaxis": "y"
        },
        {
         "hovertemplate": "<b>%{hovertext}</b><br><br>Country=Nigeria<br>GDP=%{x}<br>Life.expectancy=%{y}<extra></extra>",
         "hovertext": [
          "Nigeria"
         ],
         "legendgroup": "Nigeria",
         "marker": {
          "color": "#ab63fa",
          "symbol": "circle"
         },
         "mode": "markers",
         "name": "Nigeria",
         "orientation": "v",
         "showlegend": true,
         "type": "scatter",
         "x": [
          2655.157977
         ],
         "xaxis": "x",
         "y": [
          54.5
         ],
         "yaxis": "y"
        },
        {
         "hovertemplate": "<b>%{hovertext}</b><br><br>Country=Norway<br>GDP=%{x}<br>Life.expectancy=%{y}<extra></extra>",
         "hovertext": [
          "Norway"
         ],
         "legendgroup": "Norway",
         "marker": {
          "color": "#FFA15A",
          "symbol": "circle"
         },
         "mode": "markers",
         "name": "Norway",
         "orientation": "v",
         "showlegend": true,
         "type": "scatter",
         "x": [
          7455.24654
         ],
         "xaxis": "x",
         "y": [
          81.8
         ],
         "yaxis": "y"
        },
        {
         "hovertemplate": "<b>%{hovertext}</b><br><br>Country=Oman<br>GDP=%{x}<br>Life.expectancy=%{y}<extra></extra>",
         "hovertext": [
          "Oman"
         ],
         "legendgroup": "Oman",
         "marker": {
          "color": "#19d3f3",
          "symbol": "circle"
         },
         "mode": "markers",
         "name": "Oman",
         "orientation": "v",
         "showlegend": true,
         "type": "scatter",
         "x": [
          16627.36433
         ],
         "xaxis": "x",
         "y": [
          76.6
         ],
         "yaxis": "y"
        },
        {
         "hovertemplate": "<b>%{hovertext}</b><br><br>Country=Pakistan<br>GDP=%{x}<br>Life.expectancy=%{y}<extra></extra>",
         "hovertext": [
          "Pakistan"
         ],
         "legendgroup": "Pakistan",
         "marker": {
          "color": "#FF6692",
          "symbol": "circle"
         },
         "mode": "markers",
         "name": "Pakistan",
         "orientation": "v",
         "showlegend": true,
         "type": "scatter",
         "x": [
          1431.244865
         ],
         "xaxis": "x",
         "y": [
          66.4
         ],
         "yaxis": "y"
        },
        {
         "hovertemplate": "<b>%{hovertext}</b><br><br>Country=Panama<br>GDP=%{x}<br>Life.expectancy=%{y}<extra></extra>",
         "hovertext": [
          "Panama"
         ],
         "legendgroup": "Panama",
         "marker": {
          "color": "#B6E880",
          "symbol": "circle"
         },
         "mode": "markers",
         "name": "Panama",
         "orientation": "v",
         "showlegend": true,
         "type": "scatter",
         "x": [
          13134.4367
         ],
         "xaxis": "x",
         "y": [
          77.8
         ],
         "yaxis": "y"
        },
        {
         "hovertemplate": "<b>%{hovertext}</b><br><br>Country=Paraguay<br>GDP=%{x}<br>Life.expectancy=%{y}<extra></extra>",
         "hovertext": [
          "Paraguay"
         ],
         "legendgroup": "Paraguay",
         "marker": {
          "color": "#FF97FF",
          "symbol": "circle"
         },
         "mode": "markers",
         "name": "Paraguay",
         "orientation": "v",
         "showlegend": true,
         "type": "scatter",
         "x": [
          419.367724
         ],
         "xaxis": "x",
         "y": [
          74
         ],
         "yaxis": "y"
        },
        {
         "hovertemplate": "<b>%{hovertext}</b><br><br>Country=Peru<br>GDP=%{x}<br>Life.expectancy=%{y}<extra></extra>",
         "hovertext": [
          "Peru"
         ],
         "legendgroup": "Peru",
         "marker": {
          "color": "#FECB52",
          "symbol": "circle"
         },
         "mode": "markers",
         "name": "Peru",
         "orientation": "v",
         "showlegend": true,
         "type": "scatter",
         "x": [
          63.343259
         ],
         "xaxis": "x",
         "y": [
          75.5
         ],
         "yaxis": "y"
        },
        {
         "hovertemplate": "<b>%{hovertext}</b><br><br>Country=Philippines<br>GDP=%{x}<br>Life.expectancy=%{y}<extra></extra>",
         "hovertext": [
          "Philippines"
         ],
         "legendgroup": "Philippines",
         "marker": {
          "color": "#636efa",
          "symbol": "circle"
         },
         "mode": "markers",
         "name": "Philippines",
         "orientation": "v",
         "showlegend": true,
         "type": "scatter",
         "x": [
          2878.33837
         ],
         "xaxis": "x",
         "y": [
          68.5
         ],
         "yaxis": "y"
        },
        {
         "hovertemplate": "<b>%{hovertext}</b><br><br>Country=Poland<br>GDP=%{x}<br>Life.expectancy=%{y}<extra></extra>",
         "hovertext": [
          "Poland"
         ],
         "legendgroup": "Poland",
         "marker": {
          "color": "#EF553B",
          "symbol": "circle"
         },
         "mode": "markers",
         "name": "Poland",
         "orientation": "v",
         "showlegend": true,
         "type": "scatter",
         "x": [
          12565.9876
         ],
         "xaxis": "x",
         "y": [
          77.5
         ],
         "yaxis": "y"
        },
        {
         "hovertemplate": "<b>%{hovertext}</b><br><br>Country=Portugal<br>GDP=%{x}<br>Life.expectancy=%{y}<extra></extra>",
         "hovertext": [
          "Portugal"
         ],
         "legendgroup": "Portugal",
         "marker": {
          "color": "#00cc96",
          "symbol": "circle"
         },
         "mode": "markers",
         "name": "Portugal",
         "orientation": "v",
         "showlegend": true,
         "type": "scatter",
         "x": [
          1922.681
         ],
         "xaxis": "x",
         "y": [
          81.1
         ],
         "yaxis": "y"
        },
        {
         "hovertemplate": "<b>%{hovertext}</b><br><br>Country=Qatar<br>GDP=%{x}<br>Life.expectancy=%{y}<extra></extra>",
         "hovertext": [
          "Qatar"
         ],
         "legendgroup": "Qatar",
         "marker": {
          "color": "#ab63fa",
          "symbol": "circle"
         },
         "mode": "markers",
         "name": "Qatar",
         "orientation": "v",
         "showlegend": true,
         "type": "scatter",
         "x": [
          66346.52267
         ],
         "xaxis": "x",
         "y": [
          78.2
         ],
         "yaxis": "y"
        },
        {
         "hovertemplate": "<b>%{hovertext}</b><br><br>Country=Romania<br>GDP=%{x}<br>Life.expectancy=%{y}<extra></extra>",
         "hovertext": [
          "Romania"
         ],
         "legendgroup": "Romania",
         "marker": {
          "color": "#FFA15A",
          "symbol": "circle"
         },
         "mode": "markers",
         "name": "Romania",
         "orientation": "v",
         "showlegend": true,
         "type": "scatter",
         "x": [
          8958.788593
         ],
         "xaxis": "x",
         "y": [
          75
         ],
         "yaxis": "y"
        },
        {
         "hovertemplate": "<b>%{hovertext}</b><br><br>Country=Russian Federation<br>GDP=%{x}<br>Life.expectancy=%{y}<extra></extra>",
         "hovertext": [
          "Russian Federation"
         ],
         "legendgroup": "Russian Federation",
         "marker": {
          "color": "#19d3f3",
          "symbol": "circle"
         },
         "mode": "markers",
         "name": "Russian Federation",
         "orientation": "v",
         "showlegend": true,
         "type": "scatter",
         "x": [
          9329.298351
         ],
         "xaxis": "x",
         "y": [
          75
         ],
         "yaxis": "y"
        },
        {
         "hovertemplate": "<b>%{hovertext}</b><br><br>Country=Rwanda<br>GDP=%{x}<br>Life.expectancy=%{y}<extra></extra>",
         "hovertext": [
          "Rwanda"
         ],
         "legendgroup": "Rwanda",
         "marker": {
          "color": "#FF6692",
          "symbol": "circle"
         },
         "mode": "markers",
         "name": "Rwanda",
         "orientation": "v",
         "showlegend": true,
         "type": "scatter",
         "x": [
          71.348397
         ],
         "xaxis": "x",
         "y": [
          66.1
         ],
         "yaxis": "y"
        },
        {
         "hovertemplate": "<b>%{hovertext}</b><br><br>Country=Samoa<br>GDP=%{x}<br>Life.expectancy=%{y}<extra></extra>",
         "hovertext": [
          "Samoa"
         ],
         "legendgroup": "Samoa",
         "marker": {
          "color": "#B6E880",
          "symbol": "circle"
         },
         "mode": "markers",
         "name": "Samoa",
         "orientation": "v",
         "showlegend": true,
         "type": "scatter",
         "x": [
          4149.363444
         ],
         "xaxis": "x",
         "y": [
          74
         ],
         "yaxis": "y"
        },
        {
         "hovertemplate": "<b>%{hovertext}</b><br><br>Country=Sao Tome and Principe<br>GDP=%{x}<br>Life.expectancy=%{y}<extra></extra>",
         "hovertext": [
          "Sao Tome and Principe"
         ],
         "legendgroup": "Sao Tome and Principe",
         "marker": {
          "color": "#FF97FF",
          "symbol": "circle"
         },
         "mode": "markers",
         "name": "Sao Tome and Principe",
         "orientation": "v",
         "showlegend": true,
         "type": "scatter",
         "x": [
          1624.63963
         ],
         "xaxis": "x",
         "y": [
          67.5
         ],
         "yaxis": "y"
        },
        {
         "hovertemplate": "<b>%{hovertext}</b><br><br>Country=Saudi Arabia<br>GDP=%{x}<br>Life.expectancy=%{y}<extra></extra>",
         "hovertext": [
          "Saudi Arabia"
         ],
         "legendgroup": "Saudi Arabia",
         "marker": {
          "color": "#FECB52",
          "symbol": "circle"
         },
         "mode": "markers",
         "name": "Saudi Arabia",
         "orientation": "v",
         "showlegend": true,
         "type": "scatter",
         "x": [
          2732.86172
         ],
         "xaxis": "x",
         "y": [
          74.5
         ],
         "yaxis": "y"
        },
        {
         "hovertemplate": "<b>%{hovertext}</b><br><br>Country=Senegal<br>GDP=%{x}<br>Life.expectancy=%{y}<extra></extra>",
         "hovertext": [
          "Senegal"
         ],
         "legendgroup": "Senegal",
         "marker": {
          "color": "#636efa",
          "symbol": "circle"
         },
         "mode": "markers",
         "name": "Senegal",
         "orientation": "v",
         "showlegend": true,
         "type": "scatter",
         "x": [
          98.7256145
         ],
         "xaxis": "x",
         "y": [
          66.7
         ],
         "yaxis": "y"
        },
        {
         "hovertemplate": "<b>%{hovertext}</b><br><br>Country=Serbia<br>GDP=%{x}<br>Life.expectancy=%{y}<extra></extra>",
         "hovertext": [
          "Serbia"
         ],
         "legendgroup": "Serbia",
         "marker": {
          "color": "#EF553B",
          "symbol": "circle"
         },
         "mode": "markers",
         "name": "Serbia",
         "orientation": "v",
         "showlegend": true,
         "type": "scatter",
         "x": [
          5237.255334
         ],
         "xaxis": "x",
         "y": [
          75.6
         ],
         "yaxis": "y"
        },
        {
         "hovertemplate": "<b>%{hovertext}</b><br><br>Country=Seychelles<br>GDP=%{x}<br>Life.expectancy=%{y}<extra></extra>",
         "hovertext": [
          "Seychelles"
         ],
         "legendgroup": "Seychelles",
         "marker": {
          "color": "#00cc96",
          "symbol": "circle"
         },
         "mode": "markers",
         "name": "Seychelles",
         "orientation": "v",
         "showlegend": true,
         "type": "scatter",
         "x": [
          1539.464
         ],
         "xaxis": "x",
         "y": [
          73.2
         ],
         "yaxis": "y"
        },
        {
         "hovertemplate": "<b>%{hovertext}</b><br><br>Country=Sierra Leone<br>GDP=%{x}<br>Life.expectancy=%{y}<extra></extra>",
         "hovertext": [
          "Sierra Leone"
         ],
         "legendgroup": "Sierra Leone",
         "marker": {
          "color": "#ab63fa",
          "symbol": "circle"
         },
         "mode": "markers",
         "name": "Sierra Leone",
         "orientation": "v",
         "showlegend": true,
         "type": "scatter",
         "x": [
          587.538233
         ],
         "xaxis": "x",
         "y": [
          51
         ],
         "yaxis": "y"
        },
        {
         "hovertemplate": "<b>%{hovertext}</b><br><br>Country=Singapore<br>GDP=%{x}<br>Life.expectancy=%{y}<extra></extra>",
         "hovertext": [
          "Singapore"
         ],
         "legendgroup": "Singapore",
         "marker": {
          "color": "#FFA15A",
          "symbol": "circle"
         },
         "mode": "markers",
         "name": "Singapore",
         "orientation": "v",
         "showlegend": true,
         "type": "scatter",
         "x": [
          53629.73746
         ],
         "xaxis": "x",
         "y": [
          83.1
         ],
         "yaxis": "y"
        },
        {
         "hovertemplate": "<b>%{hovertext}</b><br><br>Country=Slovenia<br>GDP=%{x}<br>Life.expectancy=%{y}<extra></extra>",
         "hovertext": [
          "Slovenia"
         ],
         "legendgroup": "Slovenia",
         "marker": {
          "color": "#19d3f3",
          "symbol": "circle"
         },
         "mode": "markers",
         "name": "Slovenia",
         "orientation": "v",
         "showlegend": true,
         "type": "scatter",
         "x": [
          2729.86383
         ],
         "xaxis": "x",
         "y": [
          88
         ],
         "yaxis": "y"
        },
        {
         "hovertemplate": "<b>%{hovertext}</b><br><br>Country=Solomon Islands<br>GDP=%{x}<br>Life.expectancy=%{y}<extra></extra>",
         "hovertext": [
          "Solomon Islands"
         ],
         "legendgroup": "Solomon Islands",
         "marker": {
          "color": "#FF6692",
          "symbol": "circle"
         },
         "mode": "markers",
         "name": "Solomon Islands",
         "orientation": "v",
         "showlegend": true,
         "type": "scatter",
         "x": [
          1922.41388
         ],
         "xaxis": "x",
         "y": [
          69.2
         ],
         "yaxis": "y"
        },
        {
         "hovertemplate": "<b>%{hovertext}</b><br><br>Country=Somalia<br>GDP=%{x}<br>Life.expectancy=%{y}<extra></extra>",
         "hovertext": [
          "Somalia"
         ],
         "legendgroup": "Somalia",
         "marker": {
          "color": "#B6E880",
          "symbol": "circle"
         },
         "mode": "markers",
         "name": "Somalia",
         "orientation": "v",
         "showlegend": true,
         "type": "scatter",
         "x": [
          426.98537
         ],
         "xaxis": "x",
         "y": [
          55
         ],
         "yaxis": "y"
        },
        {
         "hovertemplate": "<b>%{hovertext}</b><br><br>Country=South Africa<br>GDP=%{x}<br>Life.expectancy=%{y}<extra></extra>",
         "hovertext": [
          "South Africa"
         ],
         "legendgroup": "South Africa",
         "marker": {
          "color": "#FF97FF",
          "symbol": "circle"
         },
         "mode": "markers",
         "name": "South Africa",
         "orientation": "v",
         "showlegend": true,
         "type": "scatter",
         "x": [
          5769.77258
         ],
         "xaxis": "x",
         "y": [
          62.9
         ],
         "yaxis": "y"
        },
        {
         "hovertemplate": "<b>%{hovertext}</b><br><br>Country=South Sudan<br>GDP=%{x}<br>Life.expectancy=%{y}<extra></extra>",
         "hovertext": [
          "South Sudan"
         ],
         "legendgroup": "South Sudan",
         "marker": {
          "color": "#FECB52",
          "symbol": "circle"
         },
         "mode": "markers",
         "name": "South Sudan",
         "orientation": "v",
         "showlegend": true,
         "type": "scatter",
         "x": [
          758.725782
         ],
         "xaxis": "x",
         "y": [
          57.3
         ],
         "yaxis": "y"
        },
        {
         "hovertemplate": "<b>%{hovertext}</b><br><br>Country=Spain<br>GDP=%{x}<br>Life.expectancy=%{y}<extra></extra>",
         "hovertext": [
          "Spain"
         ],
         "legendgroup": "Spain",
         "marker": {
          "color": "#636efa",
          "symbol": "circle"
         },
         "mode": "markers",
         "name": "Spain",
         "orientation": "v",
         "showlegend": true,
         "type": "scatter",
         "x": [
          25683.84565
         ],
         "xaxis": "x",
         "y": [
          82.8
         ],
         "yaxis": "y"
        },
        {
         "hovertemplate": "<b>%{hovertext}</b><br><br>Country=Sri Lanka<br>GDP=%{x}<br>Life.expectancy=%{y}<extra></extra>",
         "hovertext": [
          "Sri Lanka"
         ],
         "legendgroup": "Sri Lanka",
         "marker": {
          "color": "#EF553B",
          "symbol": "circle"
         },
         "mode": "markers",
         "name": "Sri Lanka",
         "orientation": "v",
         "showlegend": true,
         "type": "scatter",
         "x": [
          3844.89123
         ],
         "xaxis": "x",
         "y": [
          74.9
         ],
         "yaxis": "y"
        },
        {
         "hovertemplate": "<b>%{hovertext}</b><br><br>Country=Sudan<br>GDP=%{x}<br>Life.expectancy=%{y}<extra></extra>",
         "hovertext": [
          "Sudan"
         ],
         "legendgroup": "Sudan",
         "marker": {
          "color": "#00cc96",
          "symbol": "circle"
         },
         "mode": "markers",
         "name": "Sudan",
         "orientation": "v",
         "showlegend": true,
         "type": "scatter",
         "x": [
          2513.884661
         ],
         "xaxis": "x",
         "y": [
          64.1
         ],
         "yaxis": "y"
        },
        {
         "hovertemplate": "<b>%{hovertext}</b><br><br>Country=Suriname<br>GDP=%{x}<br>Life.expectancy=%{y}<extra></extra>",
         "hovertext": [
          "Suriname"
         ],
         "legendgroup": "Suriname",
         "marker": {
          "color": "#ab63fa",
          "symbol": "circle"
         },
         "mode": "markers",
         "name": "Suriname",
         "orientation": "v",
         "showlegend": true,
         "type": "scatter",
         "x": [
          8818.982566
         ],
         "xaxis": "x",
         "y": [
          71.6
         ],
         "yaxis": "y"
        },
        {
         "hovertemplate": "<b>%{hovertext}</b><br><br>Country=Swaziland<br>GDP=%{x}<br>Life.expectancy=%{y}<extra></extra>",
         "hovertext": [
          "Swaziland"
         ],
         "legendgroup": "Swaziland",
         "marker": {
          "color": "#FFA15A",
          "symbol": "circle"
         },
         "mode": "markers",
         "name": "Swaziland",
         "orientation": "v",
         "showlegend": true,
         "type": "scatter",
         "x": [
          3136.92511
         ],
         "xaxis": "x",
         "y": [
          58.9
         ],
         "yaxis": "y"
        },
        {
         "hovertemplate": "<b>%{hovertext}</b><br><br>Country=Sweden<br>GDP=%{x}<br>Life.expectancy=%{y}<extra></extra>",
         "hovertext": [
          "Sweden"
         ],
         "legendgroup": "Sweden",
         "marker": {
          "color": "#19d3f3",
          "symbol": "circle"
         },
         "mode": "markers",
         "name": "Sweden",
         "orientation": "v",
         "showlegend": true,
         "type": "scatter",
         "x": [
          5585.25847
         ],
         "xaxis": "x",
         "y": [
          82.4
         ],
         "yaxis": "y"
        },
        {
         "hovertemplate": "<b>%{hovertext}</b><br><br>Country=Switzerland<br>GDP=%{x}<br>Life.expectancy=%{y}<extra></extra>",
         "hovertext": [
          "Switzerland"
         ],
         "legendgroup": "Switzerland",
         "marker": {
          "color": "#FF6692",
          "symbol": "circle"
         },
         "mode": "markers",
         "name": "Switzerland",
         "orientation": "v",
         "showlegend": true,
         "type": "scatter",
         "x": [
          8989.8424
         ],
         "xaxis": "x",
         "y": [
          83.4
         ],
         "yaxis": "y"
        },
        {
         "hovertemplate": "<b>%{hovertext}</b><br><br>Country=Tajikistan<br>GDP=%{x}<br>Life.expectancy=%{y}<extra></extra>",
         "hovertext": [
          "Tajikistan"
         ],
         "legendgroup": "Tajikistan",
         "marker": {
          "color": "#B6E880",
          "symbol": "circle"
         },
         "mode": "markers",
         "name": "Tajikistan",
         "orientation": "v",
         "showlegend": true,
         "type": "scatter",
         "x": [
          918.6771543
         ],
         "xaxis": "x",
         "y": [
          69.7
         ],
         "yaxis": "y"
        },
        {
         "hovertemplate": "<b>%{hovertext}</b><br><br>Country=Thailand<br>GDP=%{x}<br>Life.expectancy=%{y}<extra></extra>",
         "hovertext": [
          "Thailand"
         ],
         "legendgroup": "Thailand",
         "marker": {
          "color": "#FF97FF",
          "symbol": "circle"
         },
         "mode": "markers",
         "name": "Thailand",
         "orientation": "v",
         "showlegend": true,
         "type": "scatter",
         "x": [
          5814.863134
         ],
         "xaxis": "x",
         "y": [
          74.9
         ],
         "yaxis": "y"
        },
        {
         "hovertemplate": "<b>%{hovertext}</b><br><br>Country=Timor-Leste<br>GDP=%{x}<br>Life.expectancy=%{y}<extra></extra>",
         "hovertext": [
          "Timor-Leste"
         ],
         "legendgroup": "Timor-Leste",
         "marker": {
          "color": "#FECB52",
          "symbol": "circle"
         },
         "mode": "markers",
         "name": "Timor-Leste",
         "orientation": "v",
         "showlegend": true,
         "type": "scatter",
         "x": [
          1161.76935
         ],
         "xaxis": "x",
         "y": [
          68.3
         ],
         "yaxis": "y"
        },
        {
         "hovertemplate": "<b>%{hovertext}</b><br><br>Country=Togo<br>GDP=%{x}<br>Life.expectancy=%{y}<extra></extra>",
         "hovertext": [
          "Togo"
         ],
         "legendgroup": "Togo",
         "marker": {
          "color": "#636efa",
          "symbol": "circle"
         },
         "mode": "markers",
         "name": "Togo",
         "orientation": "v",
         "showlegend": true,
         "type": "scatter",
         "x": [
          551.138346
         ],
         "xaxis": "x",
         "y": [
          59.9
         ],
         "yaxis": "y"
        },
        {
         "hovertemplate": "<b>%{hovertext}</b><br><br>Country=Tonga<br>GDP=%{x}<br>Life.expectancy=%{y}<extra></extra>",
         "hovertext": [
          "Tonga"
         ],
         "legendgroup": "Tonga",
         "marker": {
          "color": "#EF553B",
          "symbol": "circle"
         },
         "mode": "markers",
         "name": "Tonga",
         "orientation": "v",
         "showlegend": true,
         "type": "scatter",
         "x": [
          493.775387
         ],
         "xaxis": "x",
         "y": [
          73.5
         ],
         "yaxis": "y"
        },
        {
         "hovertemplate": "<b>%{hovertext}</b><br><br>Country=Trinidad and Tobago<br>GDP=%{x}<br>Life.expectancy=%{y}<extra></extra>",
         "hovertext": [
          "Trinidad and Tobago"
         ],
         "legendgroup": "Trinidad and Tobago",
         "marker": {
          "color": "#00cc96",
          "symbol": "circle"
         },
         "mode": "markers",
         "name": "Trinidad and Tobago",
         "orientation": "v",
         "showlegend": true,
         "type": "scatter",
         "x": [
          17321.83373
         ],
         "xaxis": "x",
         "y": [
          71.2
         ],
         "yaxis": "y"
        },
        {
         "hovertemplate": "<b>%{hovertext}</b><br><br>Country=Tunisia<br>GDP=%{x}<br>Life.expectancy=%{y}<extra></extra>",
         "hovertext": [
          "Tunisia"
         ],
         "legendgroup": "Tunisia",
         "marker": {
          "color": "#ab63fa",
          "symbol": "circle"
         },
         "mode": "markers",
         "name": "Tunisia",
         "orientation": "v",
         "showlegend": true,
         "type": "scatter",
         "x": [
          3828.91589
         ],
         "xaxis": "x",
         "y": [
          75.3
         ],
         "yaxis": "y"
        },
        {
         "hovertemplate": "<b>%{hovertext}</b><br><br>Country=Turkey<br>GDP=%{x}<br>Life.expectancy=%{y}<extra></extra>",
         "hovertext": [
          "Turkey"
         ],
         "legendgroup": "Turkey",
         "marker": {
          "color": "#FFA15A",
          "symbol": "circle"
         },
         "mode": "markers",
         "name": "Turkey",
         "orientation": "v",
         "showlegend": true,
         "type": "scatter",
         "x": [
          1979.52569
         ],
         "xaxis": "x",
         "y": [
          75.8
         ],
         "yaxis": "y"
        },
        {
         "hovertemplate": "<b>%{hovertext}</b><br><br>Country=Turkmenistan<br>GDP=%{x}<br>Life.expectancy=%{y}<extra></extra>",
         "hovertext": [
          "Turkmenistan"
         ],
         "legendgroup": "Turkmenistan",
         "marker": {
          "color": "#19d3f3",
          "symbol": "circle"
         },
         "mode": "markers",
         "name": "Turkmenistan",
         "orientation": "v",
         "showlegend": true,
         "type": "scatter",
         "x": [
          6432.668768
         ],
         "xaxis": "x",
         "y": [
          66.3
         ],
         "yaxis": "y"
        },
        {
         "hovertemplate": "<b>%{hovertext}</b><br><br>Country=Uganda<br>GDP=%{x}<br>Life.expectancy=%{y}<extra></extra>",
         "hovertext": [
          "Uganda"
         ],
         "legendgroup": "Uganda",
         "marker": {
          "color": "#FF6692",
          "symbol": "circle"
         },
         "mode": "markers",
         "name": "Uganda",
         "orientation": "v",
         "showlegend": true,
         "type": "scatter",
         "x": [
          693.8963829
         ],
         "xaxis": "x",
         "y": [
          62.3
         ],
         "yaxis": "y"
        },
        {
         "hovertemplate": "<b>%{hovertext}</b><br><br>Country=Ukraine<br>GDP=%{x}<br>Life.expectancy=%{y}<extra></extra>",
         "hovertext": [
          "Ukraine"
         ],
         "legendgroup": "Ukraine",
         "marker": {
          "color": "#B6E880",
          "symbol": "circle"
         },
         "mode": "markers",
         "name": "Ukraine",
         "orientation": "v",
         "showlegend": true,
         "type": "scatter",
         "x": [
          2124.662666
         ],
         "xaxis": "x",
         "y": [
          71.3
         ],
         "yaxis": "y"
        },
        {
         "hovertemplate": "<b>%{hovertext}</b><br><br>Country=United Arab Emirates<br>GDP=%{x}<br>Life.expectancy=%{y}<extra></extra>",
         "hovertext": [
          "United Arab Emirates"
         ],
         "legendgroup": "United Arab Emirates",
         "marker": {
          "color": "#FF97FF",
          "symbol": "circle"
         },
         "mode": "markers",
         "name": "United Arab Emirates",
         "orientation": "v",
         "showlegend": true,
         "type": "scatter",
         "x": [
          3911.74689
         ],
         "xaxis": "x",
         "y": [
          77.1
         ],
         "yaxis": "y"
        },
        {
         "hovertemplate": "<b>%{hovertext}</b><br><br>Country=Uruguay<br>GDP=%{x}<br>Life.expectancy=%{y}<extra></extra>",
         "hovertext": [
          "Uruguay"
         ],
         "legendgroup": "Uruguay",
         "marker": {
          "color": "#FECB52",
          "symbol": "circle"
         },
         "mode": "markers",
         "name": "Uruguay",
         "orientation": "v",
         "showlegend": true,
         "type": "scatter",
         "x": [
          15524.84247
         ],
         "xaxis": "x",
         "y": [
          77
         ],
         "yaxis": "y"
        },
        {
         "hovertemplate": "<b>%{hovertext}</b><br><br>Country=Uzbekistan<br>GDP=%{x}<br>Life.expectancy=%{y}<extra></extra>",
         "hovertext": [
          "Uzbekistan"
         ],
         "legendgroup": "Uzbekistan",
         "marker": {
          "color": "#636efa",
          "symbol": "circle"
         },
         "mode": "markers",
         "name": "Uzbekistan",
         "orientation": "v",
         "showlegend": true,
         "type": "scatter",
         "x": [
          2137.576852
         ],
         "xaxis": "x",
         "y": [
          69.4
         ],
         "yaxis": "y"
        },
        {
         "hovertemplate": "<b>%{hovertext}</b><br><br>Country=Vanuatu<br>GDP=%{x}<br>Life.expectancy=%{y}<extra></extra>",
         "hovertext": [
          "Vanuatu"
         ],
         "legendgroup": "Vanuatu",
         "marker": {
          "color": "#EF553B",
          "symbol": "circle"
         },
         "mode": "markers",
         "name": "Vanuatu",
         "orientation": "v",
         "showlegend": true,
         "type": "scatter",
         "x": [
          285.83414
         ],
         "xaxis": "x",
         "y": [
          72
         ],
         "yaxis": "y"
        },
        {
         "hovertemplate": "<b>%{hovertext}</b><br><br>Country=Zambia<br>GDP=%{x}<br>Life.expectancy=%{y}<extra></extra>",
         "hovertext": [
          "Zambia"
         ],
         "legendgroup": "Zambia",
         "marker": {
          "color": "#00cc96",
          "symbol": "circle"
         },
         "mode": "markers",
         "name": "Zambia",
         "orientation": "v",
         "showlegend": true,
         "type": "scatter",
         "x": [
          1313.889646
         ],
         "xaxis": "x",
         "y": [
          61.8
         ],
         "yaxis": "y"
        },
        {
         "hovertemplate": "<b>%{hovertext}</b><br><br>Country=Zimbabwe<br>GDP=%{x}<br>Life.expectancy=%{y}<extra></extra>",
         "hovertext": [
          "Zimbabwe"
         ],
         "legendgroup": "Zimbabwe",
         "marker": {
          "color": "#ab63fa",
          "symbol": "circle"
         },
         "mode": "markers",
         "name": "Zimbabwe",
         "orientation": "v",
         "showlegend": true,
         "type": "scatter",
         "x": [
          118.69383
         ],
         "xaxis": "x",
         "y": [
          67
         ],
         "yaxis": "y"
        }
       ],
       "layout": {
        "legend": {
         "title": {
          "text": "Country"
         },
         "tracegroupgap": 0
        },
        "margin": {
         "t": 60
        },
        "template": {
         "data": {
          "bar": [
           {
            "error_x": {
             "color": "#2a3f5f"
            },
            "error_y": {
             "color": "#2a3f5f"
            },
            "marker": {
             "line": {
              "color": "#E5ECF6",
              "width": 0.5
             },
             "pattern": {
              "fillmode": "overlay",
              "size": 10,
              "solidity": 0.2
             }
            },
            "type": "bar"
           }
          ],
          "barpolar": [
           {
            "marker": {
             "line": {
              "color": "#E5ECF6",
              "width": 0.5
             },
             "pattern": {
              "fillmode": "overlay",
              "size": 10,
              "solidity": 0.2
             }
            },
            "type": "barpolar"
           }
          ],
          "carpet": [
           {
            "aaxis": {
             "endlinecolor": "#2a3f5f",
             "gridcolor": "white",
             "linecolor": "white",
             "minorgridcolor": "white",
             "startlinecolor": "#2a3f5f"
            },
            "baxis": {
             "endlinecolor": "#2a3f5f",
             "gridcolor": "white",
             "linecolor": "white",
             "minorgridcolor": "white",
             "startlinecolor": "#2a3f5f"
            },
            "type": "carpet"
           }
          ],
          "choropleth": [
           {
            "colorbar": {
             "outlinewidth": 0,
             "ticks": ""
            },
            "type": "choropleth"
           }
          ],
          "contour": [
           {
            "colorbar": {
             "outlinewidth": 0,
             "ticks": ""
            },
            "colorscale": [
             [
              0,
              "#0d0887"
             ],
             [
              0.1111111111111111,
              "#46039f"
             ],
             [
              0.2222222222222222,
              "#7201a8"
             ],
             [
              0.3333333333333333,
              "#9c179e"
             ],
             [
              0.4444444444444444,
              "#bd3786"
             ],
             [
              0.5555555555555556,
              "#d8576b"
             ],
             [
              0.6666666666666666,
              "#ed7953"
             ],
             [
              0.7777777777777778,
              "#fb9f3a"
             ],
             [
              0.8888888888888888,
              "#fdca26"
             ],
             [
              1,
              "#f0f921"
             ]
            ],
            "type": "contour"
           }
          ],
          "contourcarpet": [
           {
            "colorbar": {
             "outlinewidth": 0,
             "ticks": ""
            },
            "type": "contourcarpet"
           }
          ],
          "heatmap": [
           {
            "colorbar": {
             "outlinewidth": 0,
             "ticks": ""
            },
            "colorscale": [
             [
              0,
              "#0d0887"
             ],
             [
              0.1111111111111111,
              "#46039f"
             ],
             [
              0.2222222222222222,
              "#7201a8"
             ],
             [
              0.3333333333333333,
              "#9c179e"
             ],
             [
              0.4444444444444444,
              "#bd3786"
             ],
             [
              0.5555555555555556,
              "#d8576b"
             ],
             [
              0.6666666666666666,
              "#ed7953"
             ],
             [
              0.7777777777777778,
              "#fb9f3a"
             ],
             [
              0.8888888888888888,
              "#fdca26"
             ],
             [
              1,
              "#f0f921"
             ]
            ],
            "type": "heatmap"
           }
          ],
          "heatmapgl": [
           {
            "colorbar": {
             "outlinewidth": 0,
             "ticks": ""
            },
            "colorscale": [
             [
              0,
              "#0d0887"
             ],
             [
              0.1111111111111111,
              "#46039f"
             ],
             [
              0.2222222222222222,
              "#7201a8"
             ],
             [
              0.3333333333333333,
              "#9c179e"
             ],
             [
              0.4444444444444444,
              "#bd3786"
             ],
             [
              0.5555555555555556,
              "#d8576b"
             ],
             [
              0.6666666666666666,
              "#ed7953"
             ],
             [
              0.7777777777777778,
              "#fb9f3a"
             ],
             [
              0.8888888888888888,
              "#fdca26"
             ],
             [
              1,
              "#f0f921"
             ]
            ],
            "type": "heatmapgl"
           }
          ],
          "histogram": [
           {
            "marker": {
             "pattern": {
              "fillmode": "overlay",
              "size": 10,
              "solidity": 0.2
             }
            },
            "type": "histogram"
           }
          ],
          "histogram2d": [
           {
            "colorbar": {
             "outlinewidth": 0,
             "ticks": ""
            },
            "colorscale": [
             [
              0,
              "#0d0887"
             ],
             [
              0.1111111111111111,
              "#46039f"
             ],
             [
              0.2222222222222222,
              "#7201a8"
             ],
             [
              0.3333333333333333,
              "#9c179e"
             ],
             [
              0.4444444444444444,
              "#bd3786"
             ],
             [
              0.5555555555555556,
              "#d8576b"
             ],
             [
              0.6666666666666666,
              "#ed7953"
             ],
             [
              0.7777777777777778,
              "#fb9f3a"
             ],
             [
              0.8888888888888888,
              "#fdca26"
             ],
             [
              1,
              "#f0f921"
             ]
            ],
            "type": "histogram2d"
           }
          ],
          "histogram2dcontour": [
           {
            "colorbar": {
             "outlinewidth": 0,
             "ticks": ""
            },
            "colorscale": [
             [
              0,
              "#0d0887"
             ],
             [
              0.1111111111111111,
              "#46039f"
             ],
             [
              0.2222222222222222,
              "#7201a8"
             ],
             [
              0.3333333333333333,
              "#9c179e"
             ],
             [
              0.4444444444444444,
              "#bd3786"
             ],
             [
              0.5555555555555556,
              "#d8576b"
             ],
             [
              0.6666666666666666,
              "#ed7953"
             ],
             [
              0.7777777777777778,
              "#fb9f3a"
             ],
             [
              0.8888888888888888,
              "#fdca26"
             ],
             [
              1,
              "#f0f921"
             ]
            ],
            "type": "histogram2dcontour"
           }
          ],
          "mesh3d": [
           {
            "colorbar": {
             "outlinewidth": 0,
             "ticks": ""
            },
            "type": "mesh3d"
           }
          ],
          "parcoords": [
           {
            "line": {
             "colorbar": {
              "outlinewidth": 0,
              "ticks": ""
             }
            },
            "type": "parcoords"
           }
          ],
          "pie": [
           {
            "automargin": true,
            "type": "pie"
           }
          ],
          "scatter": [
           {
            "fillpattern": {
             "fillmode": "overlay",
             "size": 10,
             "solidity": 0.2
            },
            "type": "scatter"
           }
          ],
          "scatter3d": [
           {
            "line": {
             "colorbar": {
              "outlinewidth": 0,
              "ticks": ""
             }
            },
            "marker": {
             "colorbar": {
              "outlinewidth": 0,
              "ticks": ""
             }
            },
            "type": "scatter3d"
           }
          ],
          "scattercarpet": [
           {
            "marker": {
             "colorbar": {
              "outlinewidth": 0,
              "ticks": ""
             }
            },
            "type": "scattercarpet"
           }
          ],
          "scattergeo": [
           {
            "marker": {
             "colorbar": {
              "outlinewidth": 0,
              "ticks": ""
             }
            },
            "type": "scattergeo"
           }
          ],
          "scattergl": [
           {
            "marker": {
             "colorbar": {
              "outlinewidth": 0,
              "ticks": ""
             }
            },
            "type": "scattergl"
           }
          ],
          "scattermapbox": [
           {
            "marker": {
             "colorbar": {
              "outlinewidth": 0,
              "ticks": ""
             }
            },
            "type": "scattermapbox"
           }
          ],
          "scatterpolar": [
           {
            "marker": {
             "colorbar": {
              "outlinewidth": 0,
              "ticks": ""
             }
            },
            "type": "scatterpolar"
           }
          ],
          "scatterpolargl": [
           {
            "marker": {
             "colorbar": {
              "outlinewidth": 0,
              "ticks": ""
             }
            },
            "type": "scatterpolargl"
           }
          ],
          "scatterternary": [
           {
            "marker": {
             "colorbar": {
              "outlinewidth": 0,
              "ticks": ""
             }
            },
            "type": "scatterternary"
           }
          ],
          "surface": [
           {
            "colorbar": {
             "outlinewidth": 0,
             "ticks": ""
            },
            "colorscale": [
             [
              0,
              "#0d0887"
             ],
             [
              0.1111111111111111,
              "#46039f"
             ],
             [
              0.2222222222222222,
              "#7201a8"
             ],
             [
              0.3333333333333333,
              "#9c179e"
             ],
             [
              0.4444444444444444,
              "#bd3786"
             ],
             [
              0.5555555555555556,
              "#d8576b"
             ],
             [
              0.6666666666666666,
              "#ed7953"
             ],
             [
              0.7777777777777778,
              "#fb9f3a"
             ],
             [
              0.8888888888888888,
              "#fdca26"
             ],
             [
              1,
              "#f0f921"
             ]
            ],
            "type": "surface"
           }
          ],
          "table": [
           {
            "cells": {
             "fill": {
              "color": "#EBF0F8"
             },
             "line": {
              "color": "white"
             }
            },
            "header": {
             "fill": {
              "color": "#C8D4E3"
             },
             "line": {
              "color": "white"
             }
            },
            "type": "table"
           }
          ]
         },
         "layout": {
          "annotationdefaults": {
           "arrowcolor": "#2a3f5f",
           "arrowhead": 0,
           "arrowwidth": 1
          },
          "autotypenumbers": "strict",
          "coloraxis": {
           "colorbar": {
            "outlinewidth": 0,
            "ticks": ""
           }
          },
          "colorscale": {
           "diverging": [
            [
             0,
             "#8e0152"
            ],
            [
             0.1,
             "#c51b7d"
            ],
            [
             0.2,
             "#de77ae"
            ],
            [
             0.3,
             "#f1b6da"
            ],
            [
             0.4,
             "#fde0ef"
            ],
            [
             0.5,
             "#f7f7f7"
            ],
            [
             0.6,
             "#e6f5d0"
            ],
            [
             0.7,
             "#b8e186"
            ],
            [
             0.8,
             "#7fbc41"
            ],
            [
             0.9,
             "#4d9221"
            ],
            [
             1,
             "#276419"
            ]
           ],
           "sequential": [
            [
             0,
             "#0d0887"
            ],
            [
             0.1111111111111111,
             "#46039f"
            ],
            [
             0.2222222222222222,
             "#7201a8"
            ],
            [
             0.3333333333333333,
             "#9c179e"
            ],
            [
             0.4444444444444444,
             "#bd3786"
            ],
            [
             0.5555555555555556,
             "#d8576b"
            ],
            [
             0.6666666666666666,
             "#ed7953"
            ],
            [
             0.7777777777777778,
             "#fb9f3a"
            ],
            [
             0.8888888888888888,
             "#fdca26"
            ],
            [
             1,
             "#f0f921"
            ]
           ],
           "sequentialminus": [
            [
             0,
             "#0d0887"
            ],
            [
             0.1111111111111111,
             "#46039f"
            ],
            [
             0.2222222222222222,
             "#7201a8"
            ],
            [
             0.3333333333333333,
             "#9c179e"
            ],
            [
             0.4444444444444444,
             "#bd3786"
            ],
            [
             0.5555555555555556,
             "#d8576b"
            ],
            [
             0.6666666666666666,
             "#ed7953"
            ],
            [
             0.7777777777777778,
             "#fb9f3a"
            ],
            [
             0.8888888888888888,
             "#fdca26"
            ],
            [
             1,
             "#f0f921"
            ]
           ]
          },
          "colorway": [
           "#636efa",
           "#EF553B",
           "#00cc96",
           "#ab63fa",
           "#FFA15A",
           "#19d3f3",
           "#FF6692",
           "#B6E880",
           "#FF97FF",
           "#FECB52"
          ],
          "font": {
           "color": "#2a3f5f"
          },
          "geo": {
           "bgcolor": "white",
           "lakecolor": "white",
           "landcolor": "#E5ECF6",
           "showlakes": true,
           "showland": true,
           "subunitcolor": "white"
          },
          "hoverlabel": {
           "align": "left"
          },
          "hovermode": "closest",
          "mapbox": {
           "style": "light"
          },
          "paper_bgcolor": "white",
          "plot_bgcolor": "#E5ECF6",
          "polar": {
           "angularaxis": {
            "gridcolor": "white",
            "linecolor": "white",
            "ticks": ""
           },
           "bgcolor": "#E5ECF6",
           "radialaxis": {
            "gridcolor": "white",
            "linecolor": "white",
            "ticks": ""
           }
          },
          "scene": {
           "xaxis": {
            "backgroundcolor": "#E5ECF6",
            "gridcolor": "white",
            "gridwidth": 2,
            "linecolor": "white",
            "showbackground": true,
            "ticks": "",
            "zerolinecolor": "white"
           },
           "yaxis": {
            "backgroundcolor": "#E5ECF6",
            "gridcolor": "white",
            "gridwidth": 2,
            "linecolor": "white",
            "showbackground": true,
            "ticks": "",
            "zerolinecolor": "white"
           },
           "zaxis": {
            "backgroundcolor": "#E5ECF6",
            "gridcolor": "white",
            "gridwidth": 2,
            "linecolor": "white",
            "showbackground": true,
            "ticks": "",
            "zerolinecolor": "white"
           }
          },
          "shapedefaults": {
           "line": {
            "color": "#2a3f5f"
           }
          },
          "ternary": {
           "aaxis": {
            "gridcolor": "white",
            "linecolor": "white",
            "ticks": ""
           },
           "baxis": {
            "gridcolor": "white",
            "linecolor": "white",
            "ticks": ""
           },
           "bgcolor": "#E5ECF6",
           "caxis": {
            "gridcolor": "white",
            "linecolor": "white",
            "ticks": ""
           }
          },
          "title": {
           "x": 0.05
          },
          "xaxis": {
           "automargin": true,
           "gridcolor": "white",
           "linecolor": "white",
           "ticks": "",
           "title": {
            "standoff": 15
           },
           "zerolinecolor": "white",
           "zerolinewidth": 2
          },
          "yaxis": {
           "automargin": true,
           "gridcolor": "white",
           "linecolor": "white",
           "ticks": "",
           "title": {
            "standoff": 15
           },
           "zerolinecolor": "white",
           "zerolinewidth": 2
          }
         }
        },
        "xaxis": {
         "anchor": "y",
         "domain": [
          0,
          1
         ],
         "title": {
          "text": "GDP"
         },
         "type": "log"
        },
        "yaxis": {
         "anchor": "x",
         "domain": [
          0,
          1
         ],
         "title": {
          "text": "Life.expectancy"
         }
        }
       }
      },
      "text/html": [
       "<div>                            <div id=\"21a57e8e-ec9b-4f99-8e3d-1749236e25ed\" class=\"plotly-graph-div\" style=\"height:525px; width:100%;\"></div>            <script type=\"text/javascript\">                require([\"plotly\"], function(Plotly) {                    window.PLOTLYENV=window.PLOTLYENV || {};                                    if (document.getElementById(\"21a57e8e-ec9b-4f99-8e3d-1749236e25ed\")) {                    Plotly.newPlot(                        \"21a57e8e-ec9b-4f99-8e3d-1749236e25ed\",                        [{\"hovertemplate\":\"<b>%{hovertext}</b><br><br>Country=Afghanistan<br>GDP=%{x}<br>Life.expectancy=%{y}<extra></extra>\",\"hovertext\":[\"Afghanistan\"],\"legendgroup\":\"Afghanistan\",\"marker\":{\"color\":\"#636efa\",\"symbol\":\"circle\"},\"mode\":\"markers\",\"name\":\"Afghanistan\",\"orientation\":\"v\",\"showlegend\":true,\"x\":[584.25921],\"xaxis\":\"x\",\"y\":[65.0],\"yaxis\":\"y\",\"type\":\"scatter\"},{\"hovertemplate\":\"<b>%{hovertext}</b><br><br>Country=Albania<br>GDP=%{x}<br>Life.expectancy=%{y}<extra></extra>\",\"hovertext\":[\"Albania\"],\"legendgroup\":\"Albania\",\"marker\":{\"color\":\"#EF553B\",\"symbol\":\"circle\"},\"mode\":\"markers\",\"name\":\"Albania\",\"orientation\":\"v\",\"showlegend\":true,\"x\":[3954.22783],\"xaxis\":\"x\",\"y\":[77.8],\"yaxis\":\"y\",\"type\":\"scatter\"},{\"hovertemplate\":\"<b>%{hovertext}</b><br><br>Country=Algeria<br>GDP=%{x}<br>Life.expectancy=%{y}<extra></extra>\",\"hovertext\":[\"Algeria\"],\"legendgroup\":\"Algeria\",\"marker\":{\"color\":\"#00cc96\",\"symbol\":\"circle\"},\"mode\":\"markers\",\"name\":\"Algeria\",\"orientation\":\"v\",\"showlegend\":true,\"x\":[4132.76292],\"xaxis\":\"x\",\"y\":[75.6],\"yaxis\":\"y\",\"type\":\"scatter\"},{\"hovertemplate\":\"<b>%{hovertext}</b><br><br>Country=Angola<br>GDP=%{x}<br>Life.expectancy=%{y}<extra></extra>\",\"hovertext\":[\"Angola\"],\"legendgroup\":\"Angola\",\"marker\":{\"color\":\"#ab63fa\",\"symbol\":\"circle\"},\"mode\":\"markers\",\"name\":\"Angola\",\"orientation\":\"v\",\"showlegend\":true,\"x\":[3695.793748],\"xaxis\":\"x\",\"y\":[52.4],\"yaxis\":\"y\",\"type\":\"scatter\"},{\"hovertemplate\":\"<b>%{hovertext}</b><br><br>Country=Antigua and Barbuda<br>GDP=%{x}<br>Life.expectancy=%{y}<extra></extra>\",\"hovertext\":[\"Antigua and Barbuda\"],\"legendgroup\":\"Antigua and Barbuda\",\"marker\":{\"color\":\"#FFA15A\",\"symbol\":\"circle\"},\"mode\":\"markers\",\"name\":\"Antigua and Barbuda\",\"orientation\":\"v\",\"showlegend\":true,\"x\":[13566.9541],\"xaxis\":\"x\",\"y\":[76.4],\"yaxis\":\"y\",\"type\":\"scatter\"},{\"hovertemplate\":\"<b>%{hovertext}</b><br><br>Country=Argentina<br>GDP=%{x}<br>Life.expectancy=%{y}<extra></extra>\",\"hovertext\":[\"Argentina\"],\"legendgroup\":\"Argentina\",\"marker\":{\"color\":\"#19d3f3\",\"symbol\":\"circle\"},\"mode\":\"markers\",\"name\":\"Argentina\",\"orientation\":\"v\",\"showlegend\":true,\"x\":[13467.1236],\"xaxis\":\"x\",\"y\":[76.3],\"yaxis\":\"y\",\"type\":\"scatter\"},{\"hovertemplate\":\"<b>%{hovertext}</b><br><br>Country=Armenia<br>GDP=%{x}<br>Life.expectancy=%{y}<extra></extra>\",\"hovertext\":[\"Armenia\"],\"legendgroup\":\"Armenia\",\"marker\":{\"color\":\"#FF6692\",\"symbol\":\"circle\"},\"mode\":\"markers\",\"name\":\"Armenia\",\"orientation\":\"v\",\"showlegend\":true,\"x\":[369.654776],\"xaxis\":\"x\",\"y\":[74.8],\"yaxis\":\"y\",\"type\":\"scatter\"},{\"hovertemplate\":\"<b>%{hovertext}</b><br><br>Country=Australia<br>GDP=%{x}<br>Life.expectancy=%{y}<extra></extra>\",\"hovertext\":[\"Australia\"],\"legendgroup\":\"Australia\",\"marker\":{\"color\":\"#B6E880\",\"symbol\":\"circle\"},\"mode\":\"markers\",\"name\":\"Australia\",\"orientation\":\"v\",\"showlegend\":true,\"x\":[56554.3876],\"xaxis\":\"x\",\"y\":[82.8],\"yaxis\":\"y\",\"type\":\"scatter\"},{\"hovertemplate\":\"<b>%{hovertext}</b><br><br>Country=Austria<br>GDP=%{x}<br>Life.expectancy=%{y}<extra></extra>\",\"hovertext\":[\"Austria\"],\"legendgroup\":\"Austria\",\"marker\":{\"color\":\"#FF97FF\",\"symbol\":\"circle\"},\"mode\":\"markers\",\"name\":\"Austria\",\"orientation\":\"v\",\"showlegend\":true,\"x\":[43665.947],\"xaxis\":\"x\",\"y\":[81.5],\"yaxis\":\"y\",\"type\":\"scatter\"},{\"hovertemplate\":\"<b>%{hovertext}</b><br><br>Country=Azerbaijan<br>GDP=%{x}<br>Life.expectancy=%{y}<extra></extra>\",\"hovertext\":[\"Azerbaijan\"],\"legendgroup\":\"Azerbaijan\",\"marker\":{\"color\":\"#FECB52\",\"symbol\":\"circle\"},\"mode\":\"markers\",\"name\":\"Azerbaijan\",\"orientation\":\"v\",\"showlegend\":true,\"x\":[55.31382],\"xaxis\":\"x\",\"y\":[72.7],\"yaxis\":\"y\",\"type\":\"scatter\"},{\"hovertemplate\":\"<b>%{hovertext}</b><br><br>Country=Bahrain<br>GDP=%{x}<br>Life.expectancy=%{y}<extra></extra>\",\"hovertext\":[\"Bahrain\"],\"legendgroup\":\"Bahrain\",\"marker\":{\"color\":\"#636efa\",\"symbol\":\"circle\"},\"mode\":\"markers\",\"name\":\"Bahrain\",\"orientation\":\"v\",\"showlegend\":true,\"x\":[22688.87824],\"xaxis\":\"x\",\"y\":[76.9],\"yaxis\":\"y\",\"type\":\"scatter\"},{\"hovertemplate\":\"<b>%{hovertext}</b><br><br>Country=Bangladesh<br>GDP=%{x}<br>Life.expectancy=%{y}<extra></extra>\",\"hovertext\":[\"Bangladesh\"],\"legendgroup\":\"Bangladesh\",\"marker\":{\"color\":\"#EF553B\",\"symbol\":\"circle\"},\"mode\":\"markers\",\"name\":\"Bangladesh\",\"orientation\":\"v\",\"showlegend\":true,\"x\":[121.15812],\"xaxis\":\"x\",\"y\":[71.8],\"yaxis\":\"y\",\"type\":\"scatter\"},{\"hovertemplate\":\"<b>%{hovertext}</b><br><br>Country=Barbados<br>GDP=%{x}<br>Life.expectancy=%{y}<extra></extra>\",\"hovertext\":[\"Barbados\"],\"legendgroup\":\"Barbados\",\"marker\":{\"color\":\"#00cc96\",\"symbol\":\"circle\"},\"mode\":\"markers\",\"name\":\"Barbados\",\"orientation\":\"v\",\"showlegend\":true,\"x\":[15557.8381],\"xaxis\":\"x\",\"y\":[75.5],\"yaxis\":\"y\",\"type\":\"scatter\"},{\"hovertemplate\":\"<b>%{hovertext}</b><br><br>Country=Belarus<br>GDP=%{x}<br>Life.expectancy=%{y}<extra></extra>\",\"hovertext\":[\"Belarus\"],\"legendgroup\":\"Belarus\",\"marker\":{\"color\":\"#ab63fa\",\"symbol\":\"circle\"},\"mode\":\"markers\",\"name\":\"Belarus\",\"orientation\":\"v\",\"showlegend\":true,\"x\":[5949.11677],\"xaxis\":\"x\",\"y\":[72.3],\"yaxis\":\"y\",\"type\":\"scatter\"},{\"hovertemplate\":\"<b>%{hovertext}</b><br><br>Country=Belgium<br>GDP=%{x}<br>Life.expectancy=%{y}<extra></extra>\",\"hovertext\":[\"Belgium\"],\"legendgroup\":\"Belgium\",\"marker\":{\"color\":\"#FFA15A\",\"symbol\":\"circle\"},\"mode\":\"markers\",\"name\":\"Belgium\",\"orientation\":\"v\",\"showlegend\":true,\"x\":[4356.875],\"xaxis\":\"x\",\"y\":[81.1],\"yaxis\":\"y\",\"type\":\"scatter\"},{\"hovertemplate\":\"<b>%{hovertext}</b><br><br>Country=Belize<br>GDP=%{x}<br>Life.expectancy=%{y}<extra></extra>\",\"hovertext\":[\"Belize\"],\"legendgroup\":\"Belize\",\"marker\":{\"color\":\"#19d3f3\",\"symbol\":\"circle\"},\"mode\":\"markers\",\"name\":\"Belize\",\"orientation\":\"v\",\"showlegend\":true,\"x\":[4849.997495],\"xaxis\":\"x\",\"y\":[71.0],\"yaxis\":\"y\",\"type\":\"scatter\"},{\"hovertemplate\":\"<b>%{hovertext}</b><br><br>Country=Benin<br>GDP=%{x}<br>Life.expectancy=%{y}<extra></extra>\",\"hovertext\":[\"Benin\"],\"legendgroup\":\"Benin\",\"marker\":{\"color\":\"#FF6692\",\"symbol\":\"circle\"},\"mode\":\"markers\",\"name\":\"Benin\",\"orientation\":\"v\",\"showlegend\":true,\"x\":[783.94791],\"xaxis\":\"x\",\"y\":[60.0],\"yaxis\":\"y\",\"type\":\"scatter\"},{\"hovertemplate\":\"<b>%{hovertext}</b><br><br>Country=Bhutan<br>GDP=%{x}<br>Life.expectancy=%{y}<extra></extra>\",\"hovertext\":[\"Bhutan\"],\"legendgroup\":\"Bhutan\",\"marker\":{\"color\":\"#B6E880\",\"symbol\":\"circle\"},\"mode\":\"markers\",\"name\":\"Bhutan\",\"orientation\":\"v\",\"showlegend\":true,\"x\":[2613.645177],\"xaxis\":\"x\",\"y\":[69.8],\"yaxis\":\"y\",\"type\":\"scatter\"},{\"hovertemplate\":\"<b>%{hovertext}</b><br><br>Country=Bosnia and Herzegovina<br>GDP=%{x}<br>Life.expectancy=%{y}<extra></extra>\",\"hovertext\":[\"Bosnia and Herzegovina\"],\"legendgroup\":\"Bosnia and Herzegovina\",\"marker\":{\"color\":\"#FF97FF\",\"symbol\":\"circle\"},\"mode\":\"markers\",\"name\":\"Bosnia and Herzegovina\",\"orientation\":\"v\",\"showlegend\":true,\"x\":[4574.9787],\"xaxis\":\"x\",\"y\":[77.4],\"yaxis\":\"y\",\"type\":\"scatter\"},{\"hovertemplate\":\"<b>%{hovertext}</b><br><br>Country=Botswana<br>GDP=%{x}<br>Life.expectancy=%{y}<extra></extra>\",\"hovertext\":[\"Botswana\"],\"legendgroup\":\"Botswana\",\"marker\":{\"color\":\"#FECB52\",\"symbol\":\"circle\"},\"mode\":\"markers\",\"name\":\"Botswana\",\"orientation\":\"v\",\"showlegend\":true,\"x\":[6532.651],\"xaxis\":\"x\",\"y\":[65.7],\"yaxis\":\"y\",\"type\":\"scatter\"},{\"hovertemplate\":\"<b>%{hovertext}</b><br><br>Country=Brazil<br>GDP=%{x}<br>Life.expectancy=%{y}<extra></extra>\",\"hovertext\":[\"Brazil\"],\"legendgroup\":\"Brazil\",\"marker\":{\"color\":\"#636efa\",\"symbol\":\"circle\"},\"mode\":\"markers\",\"name\":\"Brazil\",\"orientation\":\"v\",\"showlegend\":true,\"x\":[8757.2622],\"xaxis\":\"x\",\"y\":[75.0],\"yaxis\":\"y\",\"type\":\"scatter\"},{\"hovertemplate\":\"<b>%{hovertext}</b><br><br>Country=Brunei Darussalam<br>GDP=%{x}<br>Life.expectancy=%{y}<extra></extra>\",\"hovertext\":[\"Brunei Darussalam\"],\"legendgroup\":\"Brunei Darussalam\",\"marker\":{\"color\":\"#EF553B\",\"symbol\":\"circle\"},\"mode\":\"markers\",\"name\":\"Brunei Darussalam\",\"orientation\":\"v\",\"showlegend\":true,\"x\":[3967.8951],\"xaxis\":\"x\",\"y\":[77.7],\"yaxis\":\"y\",\"type\":\"scatter\"},{\"hovertemplate\":\"<b>%{hovertext}</b><br><br>Country=Bulgaria<br>GDP=%{x}<br>Life.expectancy=%{y}<extra></extra>\",\"hovertext\":[\"Bulgaria\"],\"legendgroup\":\"Bulgaria\",\"marker\":{\"color\":\"#00cc96\",\"symbol\":\"circle\"},\"mode\":\"markers\",\"name\":\"Bulgaria\",\"orientation\":\"v\",\"showlegend\":true,\"x\":[6993.47736],\"xaxis\":\"x\",\"y\":[74.5],\"yaxis\":\"y\",\"type\":\"scatter\"},{\"hovertemplate\":\"<b>%{hovertext}</b><br><br>Country=Burkina Faso<br>GDP=%{x}<br>Life.expectancy=%{y}<extra></extra>\",\"hovertext\":[\"Burkina Faso\"],\"legendgroup\":\"Burkina Faso\",\"marker\":{\"color\":\"#ab63fa\",\"symbol\":\"circle\"},\"mode\":\"markers\",\"name\":\"Burkina Faso\",\"orientation\":\"v\",\"showlegend\":true,\"x\":[615.592225],\"xaxis\":\"x\",\"y\":[59.9],\"yaxis\":\"y\",\"type\":\"scatter\"},{\"hovertemplate\":\"<b>%{hovertext}</b><br><br>Country=Burundi<br>GDP=%{x}<br>Life.expectancy=%{y}<extra></extra>\",\"hovertext\":[\"Burundi\"],\"legendgroup\":\"Burundi\",\"marker\":{\"color\":\"#FFA15A\",\"symbol\":\"circle\"},\"mode\":\"markers\",\"name\":\"Burundi\",\"orientation\":\"v\",\"showlegend\":true,\"x\":[33.681223],\"xaxis\":\"x\",\"y\":[59.6],\"yaxis\":\"y\",\"type\":\"scatter\"},{\"hovertemplate\":\"<b>%{hovertext}</b><br><br>Country=Cabo Verde<br>GDP=%{x}<br>Life.expectancy=%{y}<extra></extra>\",\"hovertext\":[\"Cabo Verde\"],\"legendgroup\":\"Cabo Verde\",\"marker\":{\"color\":\"#19d3f3\",\"symbol\":\"circle\"},\"mode\":\"markers\",\"name\":\"Cabo Verde\",\"orientation\":\"v\",\"showlegend\":true,\"x\":[2954.119467],\"xaxis\":\"x\",\"y\":[73.3],\"yaxis\":\"y\",\"type\":\"scatter\"},{\"hovertemplate\":\"<b>%{hovertext}</b><br><br>Country=Cambodia<br>GDP=%{x}<br>Life.expectancy=%{y}<extra></extra>\",\"hovertext\":[\"Cambodia\"],\"legendgroup\":\"Cambodia\",\"marker\":{\"color\":\"#FF6692\",\"symbol\":\"circle\"},\"mode\":\"markers\",\"name\":\"Cambodia\",\"orientation\":\"v\",\"showlegend\":true,\"x\":[1163.18977],\"xaxis\":\"x\",\"y\":[68.7],\"yaxis\":\"y\",\"type\":\"scatter\"},{\"hovertemplate\":\"<b>%{hovertext}</b><br><br>Country=Cameroon<br>GDP=%{x}<br>Life.expectancy=%{y}<extra></extra>\",\"hovertext\":[\"Cameroon\"],\"legendgroup\":\"Cameroon\",\"marker\":{\"color\":\"#B6E880\",\"symbol\":\"circle\"},\"mode\":\"markers\",\"name\":\"Cameroon\",\"orientation\":\"v\",\"showlegend\":true,\"x\":[1244.429421],\"xaxis\":\"x\",\"y\":[57.3],\"yaxis\":\"y\",\"type\":\"scatter\"},{\"hovertemplate\":\"<b>%{hovertext}</b><br><br>Country=Canada<br>GDP=%{x}<br>Life.expectancy=%{y}<extra></extra>\",\"hovertext\":[\"Canada\"],\"legendgroup\":\"Canada\",\"marker\":{\"color\":\"#FF97FF\",\"symbol\":\"circle\"},\"mode\":\"markers\",\"name\":\"Canada\",\"orientation\":\"v\",\"showlegend\":true,\"x\":[43315.744],\"xaxis\":\"x\",\"y\":[82.2],\"yaxis\":\"y\",\"type\":\"scatter\"},{\"hovertemplate\":\"<b>%{hovertext}</b><br><br>Country=Central African Republic<br>GDP=%{x}<br>Life.expectancy=%{y}<extra></extra>\",\"hovertext\":[\"Central African Republic\"],\"legendgroup\":\"Central African Republic\",\"marker\":{\"color\":\"#FECB52\",\"symbol\":\"circle\"},\"mode\":\"markers\",\"name\":\"Central African Republic\",\"orientation\":\"v\",\"showlegend\":true,\"x\":[348.381417],\"xaxis\":\"x\",\"y\":[52.5],\"yaxis\":\"y\",\"type\":\"scatter\"},{\"hovertemplate\":\"<b>%{hovertext}</b><br><br>Country=Chad<br>GDP=%{x}<br>Life.expectancy=%{y}<extra></extra>\",\"hovertext\":[\"Chad\"],\"legendgroup\":\"Chad\",\"marker\":{\"color\":\"#636efa\",\"symbol\":\"circle\"},\"mode\":\"markers\",\"name\":\"Chad\",\"orientation\":\"v\",\"showlegend\":true,\"x\":[777.248751],\"xaxis\":\"x\",\"y\":[53.1],\"yaxis\":\"y\",\"type\":\"scatter\"},{\"hovertemplate\":\"<b>%{hovertext}</b><br><br>Country=Chile<br>GDP=%{x}<br>Life.expectancy=%{y}<extra></extra>\",\"hovertext\":[\"Chile\"],\"legendgroup\":\"Chile\",\"marker\":{\"color\":\"#EF553B\",\"symbol\":\"circle\"},\"mode\":\"markers\",\"name\":\"Chile\",\"orientation\":\"v\",\"showlegend\":true,\"x\":[13653.2264],\"xaxis\":\"x\",\"y\":[85.0],\"yaxis\":\"y\",\"type\":\"scatter\"},{\"hovertemplate\":\"<b>%{hovertext}</b><br><br>Country=China<br>GDP=%{x}<br>Life.expectancy=%{y}<extra></extra>\",\"hovertext\":[\"China\"],\"legendgroup\":\"China\",\"marker\":{\"color\":\"#00cc96\",\"symbol\":\"circle\"},\"mode\":\"markers\",\"name\":\"China\",\"orientation\":\"v\",\"showlegend\":true,\"x\":[869.211938],\"xaxis\":\"x\",\"y\":[76.1],\"yaxis\":\"y\",\"type\":\"scatter\"},{\"hovertemplate\":\"<b>%{hovertext}</b><br><br>Country=Colombia<br>GDP=%{x}<br>Life.expectancy=%{y}<extra></extra>\",\"hovertext\":[\"Colombia\"],\"legendgroup\":\"Colombia\",\"marker\":{\"color\":\"#ab63fa\",\"symbol\":\"circle\"},\"mode\":\"markers\",\"name\":\"Colombia\",\"orientation\":\"v\",\"showlegend\":true,\"x\":[644.525556],\"xaxis\":\"x\",\"y\":[74.8],\"yaxis\":\"y\",\"type\":\"scatter\"},{\"hovertemplate\":\"<b>%{hovertext}</b><br><br>Country=Comoros<br>GDP=%{x}<br>Life.expectancy=%{y}<extra></extra>\",\"hovertext\":[\"Comoros\"],\"legendgroup\":\"Comoros\",\"marker\":{\"color\":\"#FFA15A\",\"symbol\":\"circle\"},\"mode\":\"markers\",\"name\":\"Comoros\",\"orientation\":\"v\",\"showlegend\":true,\"x\":[727.6463868],\"xaxis\":\"x\",\"y\":[63.5],\"yaxis\":\"y\",\"type\":\"scatter\"},{\"hovertemplate\":\"<b>%{hovertext}</b><br><br>Country=Costa Rica<br>GDP=%{x}<br>Life.expectancy=%{y}<extra></extra>\",\"hovertext\":[\"Costa Rica\"],\"legendgroup\":\"Costa Rica\",\"marker\":{\"color\":\"#19d3f3\",\"symbol\":\"circle\"},\"mode\":\"markers\",\"name\":\"Costa Rica\",\"orientation\":\"v\",\"showlegend\":true,\"x\":[1146.36273],\"xaxis\":\"x\",\"y\":[79.6],\"yaxis\":\"y\",\"type\":\"scatter\"},{\"hovertemplate\":\"<b>%{hovertext}</b><br><br>Country=Croatia<br>GDP=%{x}<br>Life.expectancy=%{y}<extra></extra>\",\"hovertext\":[\"Croatia\"],\"legendgroup\":\"Croatia\",\"marker\":{\"color\":\"#FF6692\",\"symbol\":\"circle\"},\"mode\":\"markers\",\"name\":\"Croatia\",\"orientation\":\"v\",\"showlegend\":true,\"x\":[11579.6674],\"xaxis\":\"x\",\"y\":[78.0],\"yaxis\":\"y\",\"type\":\"scatter\"},{\"hovertemplate\":\"<b>%{hovertext}</b><br><br>Country=Cuba<br>GDP=%{x}<br>Life.expectancy=%{y}<extra></extra>\",\"hovertext\":[\"Cuba\"],\"legendgroup\":\"Cuba\",\"marker\":{\"color\":\"#B6E880\",\"symbol\":\"circle\"},\"mode\":\"markers\",\"name\":\"Cuba\",\"orientation\":\"v\",\"showlegend\":true,\"x\":[762.261218],\"xaxis\":\"x\",\"y\":[79.1],\"yaxis\":\"y\",\"type\":\"scatter\"},{\"hovertemplate\":\"<b>%{hovertext}</b><br><br>Country=Cyprus<br>GDP=%{x}<br>Life.expectancy=%{y}<extra></extra>\",\"hovertext\":[\"Cyprus\"],\"legendgroup\":\"Cyprus\",\"marker\":{\"color\":\"#FF97FF\",\"symbol\":\"circle\"},\"mode\":\"markers\",\"name\":\"Cyprus\",\"orientation\":\"v\",\"showlegend\":true,\"x\":[2375.1127],\"xaxis\":\"x\",\"y\":[85.0],\"yaxis\":\"y\",\"type\":\"scatter\"},{\"hovertemplate\":\"<b>%{hovertext}</b><br><br>Country=Denmark<br>GDP=%{x}<br>Life.expectancy=%{y}<extra></extra>\",\"hovertext\":[\"Denmark\"],\"legendgroup\":\"Denmark\",\"marker\":{\"color\":\"#FECB52\",\"symbol\":\"circle\"},\"mode\":\"markers\",\"name\":\"Denmark\",\"orientation\":\"v\",\"showlegend\":true,\"x\":[5314.64416],\"xaxis\":\"x\",\"y\":[86.0],\"yaxis\":\"y\",\"type\":\"scatter\"},{\"hovertemplate\":\"<b>%{hovertext}</b><br><br>Country=Djibouti<br>GDP=%{x}<br>Life.expectancy=%{y}<extra></extra>\",\"hovertext\":[\"Djibouti\"],\"legendgroup\":\"Djibouti\",\"marker\":{\"color\":\"#636efa\",\"symbol\":\"circle\"},\"mode\":\"markers\",\"name\":\"Djibouti\",\"orientation\":\"v\",\"showlegend\":true,\"x\":[1862.167274],\"xaxis\":\"x\",\"y\":[63.5],\"yaxis\":\"y\",\"type\":\"scatter\"},{\"hovertemplate\":\"<b>%{hovertext}</b><br><br>Country=Dominican Republic<br>GDP=%{x}<br>Life.expectancy=%{y}<extra></extra>\",\"hovertext\":[\"Dominican Republic\"],\"legendgroup\":\"Dominican Republic\",\"marker\":{\"color\":\"#EF553B\",\"symbol\":\"circle\"},\"mode\":\"markers\",\"name\":\"Dominican Republic\",\"orientation\":\"v\",\"showlegend\":true,\"x\":[6468.471648],\"xaxis\":\"x\",\"y\":[73.9],\"yaxis\":\"y\",\"type\":\"scatter\"},{\"hovertemplate\":\"<b>%{hovertext}</b><br><br>Country=Ecuador<br>GDP=%{x}<br>Life.expectancy=%{y}<extra></extra>\",\"hovertext\":[\"Ecuador\"],\"legendgroup\":\"Ecuador\",\"marker\":{\"color\":\"#00cc96\",\"symbol\":\"circle\"},\"mode\":\"markers\",\"name\":\"Ecuador\",\"orientation\":\"v\",\"showlegend\":true,\"x\":[625.62224],\"xaxis\":\"x\",\"y\":[76.2],\"yaxis\":\"y\",\"type\":\"scatter\"},{\"hovertemplate\":\"<b>%{hovertext}</b><br><br>Country=El Salvador<br>GDP=%{x}<br>Life.expectancy=%{y}<extra></extra>\",\"hovertext\":[\"El Salvador\"],\"legendgroup\":\"El Salvador\",\"marker\":{\"color\":\"#ab63fa\",\"symbol\":\"circle\"},\"mode\":\"markers\",\"name\":\"El Salvador\",\"orientation\":\"v\",\"showlegend\":true,\"x\":[4127.11775],\"xaxis\":\"x\",\"y\":[73.5],\"yaxis\":\"y\",\"type\":\"scatter\"},{\"hovertemplate\":\"<b>%{hovertext}</b><br><br>Country=Equatorial Guinea<br>GDP=%{x}<br>Life.expectancy=%{y}<extra></extra>\",\"hovertext\":[\"Equatorial Guinea\"],\"legendgroup\":\"Equatorial Guinea\",\"marker\":{\"color\":\"#FFA15A\",\"symbol\":\"circle\"},\"mode\":\"markers\",\"name\":\"Equatorial Guinea\",\"orientation\":\"v\",\"showlegend\":true,\"x\":[1347.31257],\"xaxis\":\"x\",\"y\":[58.2],\"yaxis\":\"y\",\"type\":\"scatter\"},{\"hovertemplate\":\"<b>%{hovertext}</b><br><br>Country=Estonia<br>GDP=%{x}<br>Life.expectancy=%{y}<extra></extra>\",\"hovertext\":[\"Estonia\"],\"legendgroup\":\"Estonia\",\"marker\":{\"color\":\"#19d3f3\",\"symbol\":\"circle\"},\"mode\":\"markers\",\"name\":\"Estonia\",\"orientation\":\"v\",\"showlegend\":true,\"x\":[1774.9291],\"xaxis\":\"x\",\"y\":[77.6],\"yaxis\":\"y\",\"type\":\"scatter\"},{\"hovertemplate\":\"<b>%{hovertext}</b><br><br>Country=Ethiopia<br>GDP=%{x}<br>Life.expectancy=%{y}<extra></extra>\",\"hovertext\":[\"Ethiopia\"],\"legendgroup\":\"Ethiopia\",\"marker\":{\"color\":\"#FF6692\",\"symbol\":\"circle\"},\"mode\":\"markers\",\"name\":\"Ethiopia\",\"orientation\":\"v\",\"showlegend\":true,\"x\":[645.4637627],\"xaxis\":\"x\",\"y\":[64.8],\"yaxis\":\"y\",\"type\":\"scatter\"},{\"hovertemplate\":\"<b>%{hovertext}</b><br><br>Country=Fiji<br>GDP=%{x}<br>Life.expectancy=%{y}<extra></extra>\",\"hovertext\":[\"Fiji\"],\"legendgroup\":\"Fiji\",\"marker\":{\"color\":\"#B6E880\",\"symbol\":\"circle\"},\"mode\":\"markers\",\"name\":\"Fiji\",\"orientation\":\"v\",\"showlegend\":true,\"x\":[4921.89629],\"xaxis\":\"x\",\"y\":[69.9],\"yaxis\":\"y\",\"type\":\"scatter\"},{\"hovertemplate\":\"<b>%{hovertext}</b><br><br>Country=Finland<br>GDP=%{x}<br>Life.expectancy=%{y}<extra></extra>\",\"hovertext\":[\"Finland\"],\"legendgroup\":\"Finland\",\"marker\":{\"color\":\"#FF97FF\",\"symbol\":\"circle\"},\"mode\":\"markers\",\"name\":\"Finland\",\"orientation\":\"v\",\"showlegend\":true,\"x\":[4245.39744],\"xaxis\":\"x\",\"y\":[81.1],\"yaxis\":\"y\",\"type\":\"scatter\"},{\"hovertemplate\":\"<b>%{hovertext}</b><br><br>Country=France<br>GDP=%{x}<br>Life.expectancy=%{y}<extra></extra>\",\"hovertext\":[\"France\"],\"legendgroup\":\"France\",\"marker\":{\"color\":\"#FECB52\",\"symbol\":\"circle\"},\"mode\":\"markers\",\"name\":\"France\",\"orientation\":\"v\",\"showlegend\":true,\"x\":[36526.7711],\"xaxis\":\"x\",\"y\":[82.4],\"yaxis\":\"y\",\"type\":\"scatter\"},{\"hovertemplate\":\"<b>%{hovertext}</b><br><br>Country=Gabon<br>GDP=%{x}<br>Life.expectancy=%{y}<extra></extra>\",\"hovertext\":[\"Gabon\"],\"legendgroup\":\"Gabon\",\"marker\":{\"color\":\"#636efa\",\"symbol\":\"circle\"},\"mode\":\"markers\",\"name\":\"Gabon\",\"orientation\":\"v\",\"showlegend\":true,\"x\":[7388.984144],\"xaxis\":\"x\",\"y\":[66.0],\"yaxis\":\"y\",\"type\":\"scatter\"},{\"hovertemplate\":\"<b>%{hovertext}</b><br><br>Country=Georgia<br>GDP=%{x}<br>Life.expectancy=%{y}<extra></extra>\",\"hovertext\":[\"Georgia\"],\"legendgroup\":\"Georgia\",\"marker\":{\"color\":\"#EF553B\",\"symbol\":\"circle\"},\"mode\":\"markers\",\"name\":\"Georgia\",\"orientation\":\"v\",\"showlegend\":true,\"x\":[3764.64912],\"xaxis\":\"x\",\"y\":[74.4],\"yaxis\":\"y\",\"type\":\"scatter\"},{\"hovertemplate\":\"<b>%{hovertext}</b><br><br>Country=Germany<br>GDP=%{x}<br>Life.expectancy=%{y}<extra></extra>\",\"hovertext\":[\"Germany\"],\"legendgroup\":\"Germany\",\"marker\":{\"color\":\"#00cc96\",\"symbol\":\"circle\"},\"mode\":\"markers\",\"name\":\"Germany\",\"orientation\":\"v\",\"showlegend\":true,\"x\":[41176.88158],\"xaxis\":\"x\",\"y\":[81.0],\"yaxis\":\"y\",\"type\":\"scatter\"},{\"hovertemplate\":\"<b>%{hovertext}</b><br><br>Country=Ghana<br>GDP=%{x}<br>Life.expectancy=%{y}<extra></extra>\",\"hovertext\":[\"Ghana\"],\"legendgroup\":\"Ghana\",\"marker\":{\"color\":\"#ab63fa\",\"symbol\":\"circle\"},\"mode\":\"markers\",\"name\":\"Ghana\",\"orientation\":\"v\",\"showlegend\":true,\"x\":[1361.11395],\"xaxis\":\"x\",\"y\":[62.4],\"yaxis\":\"y\",\"type\":\"scatter\"},{\"hovertemplate\":\"<b>%{hovertext}</b><br><br>Country=Greece<br>GDP=%{x}<br>Life.expectancy=%{y}<extra></extra>\",\"hovertext\":[\"Greece\"],\"legendgroup\":\"Greece\",\"marker\":{\"color\":\"#FFA15A\",\"symbol\":\"circle\"},\"mode\":\"markers\",\"name\":\"Greece\",\"orientation\":\"v\",\"showlegend\":true,\"x\":[187.78991],\"xaxis\":\"x\",\"y\":[81.0],\"yaxis\":\"y\",\"type\":\"scatter\"},{\"hovertemplate\":\"<b>%{hovertext}</b><br><br>Country=Grenada<br>GDP=%{x}<br>Life.expectancy=%{y}<extra></extra>\",\"hovertext\":[\"Grenada\"],\"legendgroup\":\"Grenada\",\"marker\":{\"color\":\"#19d3f3\",\"symbol\":\"circle\"},\"mode\":\"markers\",\"name\":\"Grenada\",\"orientation\":\"v\",\"showlegend\":true,\"x\":[9212.192824],\"xaxis\":\"x\",\"y\":[73.6],\"yaxis\":\"y\",\"type\":\"scatter\"},{\"hovertemplate\":\"<b>%{hovertext}</b><br><br>Country=Guatemala<br>GDP=%{x}<br>Life.expectancy=%{y}<extra></extra>\",\"hovertext\":[\"Guatemala\"],\"legendgroup\":\"Guatemala\",\"marker\":{\"color\":\"#FF6692\",\"symbol\":\"circle\"},\"mode\":\"markers\",\"name\":\"Guatemala\",\"orientation\":\"v\",\"showlegend\":true,\"x\":[3923.573344],\"xaxis\":\"x\",\"y\":[71.9],\"yaxis\":\"y\",\"type\":\"scatter\"},{\"hovertemplate\":\"<b>%{hovertext}</b><br><br>Country=Guinea<br>GDP=%{x}<br>Life.expectancy=%{y}<extra></extra>\",\"hovertext\":[\"Guinea\"],\"legendgroup\":\"Guinea\",\"marker\":{\"color\":\"#B6E880\",\"symbol\":\"circle\"},\"mode\":\"markers\",\"name\":\"Guinea\",\"orientation\":\"v\",\"showlegend\":true,\"x\":[554.48766],\"xaxis\":\"x\",\"y\":[59.0],\"yaxis\":\"y\",\"type\":\"scatter\"},{\"hovertemplate\":\"<b>%{hovertext}</b><br><br>Country=Guinea-Bissau<br>GDP=%{x}<br>Life.expectancy=%{y}<extra></extra>\",\"hovertext\":[\"Guinea-Bissau\"],\"legendgroup\":\"Guinea-Bissau\",\"marker\":{\"color\":\"#FF97FF\",\"symbol\":\"circle\"},\"mode\":\"markers\",\"name\":\"Guinea-Bissau\",\"orientation\":\"v\",\"showlegend\":true,\"x\":[596.8717189],\"xaxis\":\"x\",\"y\":[58.9],\"yaxis\":\"y\",\"type\":\"scatter\"},{\"hovertemplate\":\"<b>%{hovertext}</b><br><br>Country=Guyana<br>GDP=%{x}<br>Life.expectancy=%{y}<extra></extra>\",\"hovertext\":[\"Guyana\"],\"legendgroup\":\"Guyana\",\"marker\":{\"color\":\"#FECB52\",\"symbol\":\"circle\"},\"mode\":\"markers\",\"name\":\"Guyana\",\"orientation\":\"v\",\"showlegend\":true,\"x\":[4136.689919],\"xaxis\":\"x\",\"y\":[66.2],\"yaxis\":\"y\",\"type\":\"scatter\"},{\"hovertemplate\":\"<b>%{hovertext}</b><br><br>Country=Haiti<br>GDP=%{x}<br>Life.expectancy=%{y}<extra></extra>\",\"hovertext\":[\"Haiti\"],\"legendgroup\":\"Haiti\",\"marker\":{\"color\":\"#636efa\",\"symbol\":\"circle\"},\"mode\":\"markers\",\"name\":\"Haiti\",\"orientation\":\"v\",\"showlegend\":true,\"x\":[814.5463952],\"xaxis\":\"x\",\"y\":[63.5],\"yaxis\":\"y\",\"type\":\"scatter\"},{\"hovertemplate\":\"<b>%{hovertext}</b><br><br>Country=Honduras<br>GDP=%{x}<br>Life.expectancy=%{y}<extra></extra>\",\"hovertext\":[\"Honduras\"],\"legendgroup\":\"Honduras\",\"marker\":{\"color\":\"#EF553B\",\"symbol\":\"circle\"},\"mode\":\"markers\",\"name\":\"Honduras\",\"orientation\":\"v\",\"showlegend\":true,\"x\":[2326.15856],\"xaxis\":\"x\",\"y\":[74.6],\"yaxis\":\"y\",\"type\":\"scatter\"},{\"hovertemplate\":\"<b>%{hovertext}</b><br><br>Country=Hungary<br>GDP=%{x}<br>Life.expectancy=%{y}<extra></extra>\",\"hovertext\":[\"Hungary\"],\"legendgroup\":\"Hungary\",\"marker\":{\"color\":\"#00cc96\",\"symbol\":\"circle\"},\"mode\":\"markers\",\"name\":\"Hungary\",\"orientation\":\"v\",\"showlegend\":true,\"x\":[12365.6263],\"xaxis\":\"x\",\"y\":[75.8],\"yaxis\":\"y\",\"type\":\"scatter\"},{\"hovertemplate\":\"<b>%{hovertext}</b><br><br>Country=Iceland<br>GDP=%{x}<br>Life.expectancy=%{y}<extra></extra>\",\"hovertext\":[\"Iceland\"],\"legendgroup\":\"Iceland\",\"marker\":{\"color\":\"#ab63fa\",\"symbol\":\"circle\"},\"mode\":\"markers\",\"name\":\"Iceland\",\"orientation\":\"v\",\"showlegend\":true,\"x\":[5734.4436],\"xaxis\":\"x\",\"y\":[82.7],\"yaxis\":\"y\",\"type\":\"scatter\"},{\"hovertemplate\":\"<b>%{hovertext}</b><br><br>Country=India<br>GDP=%{x}<br>Life.expectancy=%{y}<extra></extra>\",\"hovertext\":[\"India\"],\"legendgroup\":\"India\",\"marker\":{\"color\":\"#FFA15A\",\"symbol\":\"circle\"},\"mode\":\"markers\",\"name\":\"India\",\"orientation\":\"v\",\"showlegend\":true,\"x\":[1613.18878],\"xaxis\":\"x\",\"y\":[68.3],\"yaxis\":\"y\",\"type\":\"scatter\"},{\"hovertemplate\":\"<b>%{hovertext}</b><br><br>Country=Indonesia<br>GDP=%{x}<br>Life.expectancy=%{y}<extra></extra>\",\"hovertext\":[\"Indonesia\"],\"legendgroup\":\"Indonesia\",\"marker\":{\"color\":\"#19d3f3\",\"symbol\":\"circle\"},\"mode\":\"markers\",\"name\":\"Indonesia\",\"orientation\":\"v\",\"showlegend\":true,\"x\":[3336.16686],\"xaxis\":\"x\",\"y\":[69.1],\"yaxis\":\"y\",\"type\":\"scatter\"},{\"hovertemplate\":\"<b>%{hovertext}</b><br><br>Country=Iraq<br>GDP=%{x}<br>Life.expectancy=%{y}<extra></extra>\",\"hovertext\":[\"Iraq\"],\"legendgroup\":\"Iraq\",\"marker\":{\"color\":\"#FF6692\",\"symbol\":\"circle\"},\"mode\":\"markers\",\"name\":\"Iraq\",\"orientation\":\"v\",\"showlegend\":true,\"x\":[4974.2693],\"xaxis\":\"x\",\"y\":[68.9],\"yaxis\":\"y\",\"type\":\"scatter\"},{\"hovertemplate\":\"<b>%{hovertext}</b><br><br>Country=Ireland<br>GDP=%{x}<br>Life.expectancy=%{y}<extra></extra>\",\"hovertext\":[\"Ireland\"],\"legendgroup\":\"Ireland\",\"marker\":{\"color\":\"#B6E880\",\"symbol\":\"circle\"},\"mode\":\"markers\",\"name\":\"Ireland\",\"orientation\":\"v\",\"showlegend\":true,\"x\":[6664.144],\"xaxis\":\"x\",\"y\":[81.4],\"yaxis\":\"y\",\"type\":\"scatter\"},{\"hovertemplate\":\"<b>%{hovertext}</b><br><br>Country=Israel<br>GDP=%{x}<br>Life.expectancy=%{y}<extra></extra>\",\"hovertext\":[\"Israel\"],\"legendgroup\":\"Israel\",\"marker\":{\"color\":\"#FF97FF\",\"symbol\":\"circle\"},\"mode\":\"markers\",\"name\":\"Israel\",\"orientation\":\"v\",\"showlegend\":true,\"x\":[35729.37253],\"xaxis\":\"x\",\"y\":[82.5],\"yaxis\":\"y\",\"type\":\"scatter\"},{\"hovertemplate\":\"<b>%{hovertext}</b><br><br>Country=Italy<br>GDP=%{x}<br>Life.expectancy=%{y}<extra></extra>\",\"hovertext\":[\"Italy\"],\"legendgroup\":\"Italy\",\"marker\":{\"color\":\"#FECB52\",\"symbol\":\"circle\"},\"mode\":\"markers\",\"name\":\"Italy\",\"orientation\":\"v\",\"showlegend\":true,\"x\":[349.14755],\"xaxis\":\"x\",\"y\":[82.7],\"yaxis\":\"y\",\"type\":\"scatter\"},{\"hovertemplate\":\"<b>%{hovertext}</b><br><br>Country=Jamaica<br>GDP=%{x}<br>Life.expectancy=%{y}<extra></extra>\",\"hovertext\":[\"Jamaica\"],\"legendgroup\":\"Jamaica\",\"marker\":{\"color\":\"#636efa\",\"symbol\":\"circle\"},\"mode\":\"markers\",\"name\":\"Jamaica\",\"orientation\":\"v\",\"showlegend\":true,\"x\":[4965.989857],\"xaxis\":\"x\",\"y\":[76.2],\"yaxis\":\"y\",\"type\":\"scatter\"},{\"hovertemplate\":\"<b>%{hovertext}</b><br><br>Country=Japan<br>GDP=%{x}<br>Life.expectancy=%{y}<extra></extra>\",\"hovertext\":[\"Japan\"],\"legendgroup\":\"Japan\",\"marker\":{\"color\":\"#EF553B\",\"symbol\":\"circle\"},\"mode\":\"markers\",\"name\":\"Japan\",\"orientation\":\"v\",\"showlegend\":true,\"x\":[34474.13736],\"xaxis\":\"x\",\"y\":[83.7],\"yaxis\":\"y\",\"type\":\"scatter\"},{\"hovertemplate\":\"<b>%{hovertext}</b><br><br>Country=Jordan<br>GDP=%{x}<br>Life.expectancy=%{y}<extra></extra>\",\"hovertext\":[\"Jordan\"],\"legendgroup\":\"Jordan\",\"marker\":{\"color\":\"#00cc96\",\"symbol\":\"circle\"},\"mode\":\"markers\",\"name\":\"Jordan\",\"orientation\":\"v\",\"showlegend\":true,\"x\":[496.99275],\"xaxis\":\"x\",\"y\":[74.1],\"yaxis\":\"y\",\"type\":\"scatter\"},{\"hovertemplate\":\"<b>%{hovertext}</b><br><br>Country=Kazakhstan<br>GDP=%{x}<br>Life.expectancy=%{y}<extra></extra>\",\"hovertext\":[\"Kazakhstan\"],\"legendgroup\":\"Kazakhstan\",\"marker\":{\"color\":\"#ab63fa\",\"symbol\":\"circle\"},\"mode\":\"markers\",\"name\":\"Kazakhstan\",\"orientation\":\"v\",\"showlegend\":true,\"x\":[159.9817],\"xaxis\":\"x\",\"y\":[72.0],\"yaxis\":\"y\",\"type\":\"scatter\"},{\"hovertemplate\":\"<b>%{hovertext}</b><br><br>Country=Kenya<br>GDP=%{x}<br>Life.expectancy=%{y}<extra></extra>\",\"hovertext\":[\"Kenya\"],\"legendgroup\":\"Kenya\",\"marker\":{\"color\":\"#FFA15A\",\"symbol\":\"circle\"},\"mode\":\"markers\",\"name\":\"Kenya\",\"orientation\":\"v\",\"showlegend\":true,\"x\":[1349.97144],\"xaxis\":\"x\",\"y\":[63.4],\"yaxis\":\"y\",\"type\":\"scatter\"},{\"hovertemplate\":\"<b>%{hovertext}</b><br><br>Country=Kiribati<br>GDP=%{x}<br>Life.expectancy=%{y}<extra></extra>\",\"hovertext\":[\"Kiribati\"],\"legendgroup\":\"Kiribati\",\"marker\":{\"color\":\"#19d3f3\",\"symbol\":\"circle\"},\"mode\":\"markers\",\"name\":\"Kiribati\",\"orientation\":\"v\",\"showlegend\":true,\"x\":[1424.483611],\"xaxis\":\"x\",\"y\":[66.3],\"yaxis\":\"y\",\"type\":\"scatter\"},{\"hovertemplate\":\"<b>%{hovertext}</b><br><br>Country=Kuwait<br>GDP=%{x}<br>Life.expectancy=%{y}<extra></extra>\",\"hovertext\":[\"Kuwait\"],\"legendgroup\":\"Kuwait\",\"marker\":{\"color\":\"#FF6692\",\"symbol\":\"circle\"},\"mode\":\"markers\",\"name\":\"Kuwait\",\"orientation\":\"v\",\"showlegend\":true,\"x\":[28975.418],\"xaxis\":\"x\",\"y\":[74.7],\"yaxis\":\"y\",\"type\":\"scatter\"},{\"hovertemplate\":\"<b>%{hovertext}</b><br><br>Country=Latvia<br>GDP=%{x}<br>Life.expectancy=%{y}<extra></extra>\",\"hovertext\":[\"Latvia\"],\"legendgroup\":\"Latvia\",\"marker\":{\"color\":\"#B6E880\",\"symbol\":\"circle\"},\"mode\":\"markers\",\"name\":\"Latvia\",\"orientation\":\"v\",\"showlegend\":true,\"x\":[13666.58336],\"xaxis\":\"x\",\"y\":[74.6],\"yaxis\":\"y\",\"type\":\"scatter\"},{\"hovertemplate\":\"<b>%{hovertext}</b><br><br>Country=Lebanon<br>GDP=%{x}<br>Life.expectancy=%{y}<extra></extra>\",\"hovertext\":[\"Lebanon\"],\"legendgroup\":\"Lebanon\",\"marker\":{\"color\":\"#FF97FF\",\"symbol\":\"circle\"},\"mode\":\"markers\",\"name\":\"Lebanon\",\"orientation\":\"v\",\"showlegend\":true,\"x\":[846.632851],\"xaxis\":\"x\",\"y\":[74.9],\"yaxis\":\"y\",\"type\":\"scatter\"},{\"hovertemplate\":\"<b>%{hovertext}</b><br><br>Country=Lesotho<br>GDP=%{x}<br>Life.expectancy=%{y}<extra></extra>\",\"hovertext\":[\"Lesotho\"],\"legendgroup\":\"Lesotho\",\"marker\":{\"color\":\"#FECB52\",\"symbol\":\"circle\"},\"mode\":\"markers\",\"name\":\"Lesotho\",\"orientation\":\"v\",\"showlegend\":true,\"x\":[173.82893],\"xaxis\":\"x\",\"y\":[53.7],\"yaxis\":\"y\",\"type\":\"scatter\"},{\"hovertemplate\":\"<b>%{hovertext}</b><br><br>Country=Liberia<br>GDP=%{x}<br>Life.expectancy=%{y}<extra></extra>\",\"hovertext\":[\"Liberia\"],\"legendgroup\":\"Liberia\",\"marker\":{\"color\":\"#636efa\",\"symbol\":\"circle\"},\"mode\":\"markers\",\"name\":\"Liberia\",\"orientation\":\"v\",\"showlegend\":true,\"x\":[452.38717],\"xaxis\":\"x\",\"y\":[61.4],\"yaxis\":\"y\",\"type\":\"scatter\"},{\"hovertemplate\":\"<b>%{hovertext}</b><br><br>Country=Lithuania<br>GDP=%{x}<br>Life.expectancy=%{y}<extra></extra>\",\"hovertext\":[\"Lithuania\"],\"legendgroup\":\"Lithuania\",\"marker\":{\"color\":\"#EF553B\",\"symbol\":\"circle\"},\"mode\":\"markers\",\"name\":\"Lithuania\",\"orientation\":\"v\",\"showlegend\":true,\"x\":[14252.42853],\"xaxis\":\"x\",\"y\":[73.6],\"yaxis\":\"y\",\"type\":\"scatter\"},{\"hovertemplate\":\"<b>%{hovertext}</b><br><br>Country=Luxembourg<br>GDP=%{x}<br>Life.expectancy=%{y}<extra></extra>\",\"hovertext\":[\"Luxembourg\"],\"legendgroup\":\"Luxembourg\",\"marker\":{\"color\":\"#00cc96\",\"symbol\":\"circle\"},\"mode\":\"markers\",\"name\":\"Luxembourg\",\"orientation\":\"v\",\"showlegend\":true,\"x\":[1199.8223],\"xaxis\":\"x\",\"y\":[82.0],\"yaxis\":\"y\",\"type\":\"scatter\"},{\"hovertemplate\":\"<b>%{hovertext}</b><br><br>Country=Madagascar<br>GDP=%{x}<br>Life.expectancy=%{y}<extra></extra>\",\"hovertext\":[\"Madagascar\"],\"legendgroup\":\"Madagascar\",\"marker\":{\"color\":\"#ab63fa\",\"symbol\":\"circle\"},\"mode\":\"markers\",\"name\":\"Madagascar\",\"orientation\":\"v\",\"showlegend\":true,\"x\":[41.8575951],\"xaxis\":\"x\",\"y\":[65.5],\"yaxis\":\"y\",\"type\":\"scatter\"},{\"hovertemplate\":\"<b>%{hovertext}</b><br><br>Country=Malawi<br>GDP=%{x}<br>Life.expectancy=%{y}<extra></extra>\",\"hovertext\":[\"Malawi\"],\"legendgroup\":\"Malawi\",\"marker\":{\"color\":\"#FFA15A\",\"symbol\":\"circle\"},\"mode\":\"markers\",\"name\":\"Malawi\",\"orientation\":\"v\",\"showlegend\":true,\"x\":[362.6575444],\"xaxis\":\"x\",\"y\":[58.3],\"yaxis\":\"y\",\"type\":\"scatter\"},{\"hovertemplate\":\"<b>%{hovertext}</b><br><br>Country=Malaysia<br>GDP=%{x}<br>Life.expectancy=%{y}<extra></extra>\",\"hovertext\":[\"Malaysia\"],\"legendgroup\":\"Malaysia\",\"marker\":{\"color\":\"#19d3f3\",\"symbol\":\"circle\"},\"mode\":\"markers\",\"name\":\"Malaysia\",\"orientation\":\"v\",\"showlegend\":true,\"x\":[9643.644683],\"xaxis\":\"x\",\"y\":[75.0],\"yaxis\":\"y\",\"type\":\"scatter\"},{\"hovertemplate\":\"<b>%{hovertext}</b><br><br>Country=Maldives<br>GDP=%{x}<br>Life.expectancy=%{y}<extra></extra>\",\"hovertext\":[\"Maldives\"],\"legendgroup\":\"Maldives\",\"marker\":{\"color\":\"#FF6692\",\"symbol\":\"circle\"},\"mode\":\"markers\",\"name\":\"Maldives\",\"orientation\":\"v\",\"showlegend\":true,\"x\":[8395.785198],\"xaxis\":\"x\",\"y\":[78.5],\"yaxis\":\"y\",\"type\":\"scatter\"},{\"hovertemplate\":\"<b>%{hovertext}</b><br><br>Country=Mali<br>GDP=%{x}<br>Life.expectancy=%{y}<extra></extra>\",\"hovertext\":[\"Mali\"],\"legendgroup\":\"Mali\",\"marker\":{\"color\":\"#B6E880\",\"symbol\":\"circle\"},\"mode\":\"markers\",\"name\":\"Mali\",\"orientation\":\"v\",\"showlegend\":true,\"x\":[729.725338],\"xaxis\":\"x\",\"y\":[58.2],\"yaxis\":\"y\",\"type\":\"scatter\"},{\"hovertemplate\":\"<b>%{hovertext}</b><br><br>Country=Malta<br>GDP=%{x}<br>Life.expectancy=%{y}<extra></extra>\",\"hovertext\":[\"Malta\"],\"legendgroup\":\"Malta\",\"marker\":{\"color\":\"#FF97FF\",\"symbol\":\"circle\"},\"mode\":\"markers\",\"name\":\"Malta\",\"orientation\":\"v\",\"showlegend\":true,\"x\":[23819.4636],\"xaxis\":\"x\",\"y\":[81.7],\"yaxis\":\"y\",\"type\":\"scatter\"},{\"hovertemplate\":\"<b>%{hovertext}</b><br><br>Country=Mauritania<br>GDP=%{x}<br>Life.expectancy=%{y}<extra></extra>\",\"hovertext\":[\"Mauritania\"],\"legendgroup\":\"Mauritania\",\"marker\":{\"color\":\"#FECB52\",\"symbol\":\"circle\"},\"mode\":\"markers\",\"name\":\"Mauritania\",\"orientation\":\"v\",\"showlegend\":true,\"x\":[1158.256469],\"xaxis\":\"x\",\"y\":[63.1],\"yaxis\":\"y\",\"type\":\"scatter\"},{\"hovertemplate\":\"<b>%{hovertext}</b><br><br>Country=Mauritius<br>GDP=%{x}<br>Life.expectancy=%{y}<extra></extra>\",\"hovertext\":[\"Mauritius\"],\"legendgroup\":\"Mauritius\",\"marker\":{\"color\":\"#636efa\",\"symbol\":\"circle\"},\"mode\":\"markers\",\"name\":\"Mauritius\",\"orientation\":\"v\",\"showlegend\":true,\"x\":[9252.11724],\"xaxis\":\"x\",\"y\":[74.6],\"yaxis\":\"y\",\"type\":\"scatter\"},{\"hovertemplate\":\"<b>%{hovertext}</b><br><br>Country=Mexico<br>GDP=%{x}<br>Life.expectancy=%{y}<extra></extra>\",\"hovertext\":[\"Mexico\"],\"legendgroup\":\"Mexico\",\"marker\":{\"color\":\"#EF553B\",\"symbol\":\"circle\"},\"mode\":\"markers\",\"name\":\"Mexico\",\"orientation\":\"v\",\"showlegend\":true,\"x\":[9143.128494],\"xaxis\":\"x\",\"y\":[76.7],\"yaxis\":\"y\",\"type\":\"scatter\"},{\"hovertemplate\":\"<b>%{hovertext}</b><br><br>Country=Mongolia<br>GDP=%{x}<br>Life.expectancy=%{y}<extra></extra>\",\"hovertext\":[\"Mongolia\"],\"legendgroup\":\"Mongolia\",\"marker\":{\"color\":\"#00cc96\",\"symbol\":\"circle\"},\"mode\":\"markers\",\"name\":\"Mongolia\",\"orientation\":\"v\",\"showlegend\":true,\"x\":[3944.1839],\"xaxis\":\"x\",\"y\":[68.8],\"yaxis\":\"y\",\"type\":\"scatter\"},{\"hovertemplate\":\"<b>%{hovertext}</b><br><br>Country=Montenegro<br>GDP=%{x}<br>Life.expectancy=%{y}<extra></extra>\",\"hovertext\":[\"Montenegro\"],\"legendgroup\":\"Montenegro\",\"marker\":{\"color\":\"#ab63fa\",\"symbol\":\"circle\"},\"mode\":\"markers\",\"name\":\"Montenegro\",\"orientation\":\"v\",\"showlegend\":true,\"x\":[6461.192554],\"xaxis\":\"x\",\"y\":[76.1],\"yaxis\":\"y\",\"type\":\"scatter\"},{\"hovertemplate\":\"<b>%{hovertext}</b><br><br>Country=Morocco<br>GDP=%{x}<br>Life.expectancy=%{y}<extra></extra>\",\"hovertext\":[\"Morocco\"],\"legendgroup\":\"Morocco\",\"marker\":{\"color\":\"#FFA15A\",\"symbol\":\"circle\"},\"mode\":\"markers\",\"name\":\"Morocco\",\"orientation\":\"v\",\"showlegend\":true,\"x\":[2847.285569],\"xaxis\":\"x\",\"y\":[74.3],\"yaxis\":\"y\",\"type\":\"scatter\"},{\"hovertemplate\":\"<b>%{hovertext}</b><br><br>Country=Mozambique<br>GDP=%{x}<br>Life.expectancy=%{y}<extra></extra>\",\"hovertext\":[\"Mozambique\"],\"legendgroup\":\"Mozambique\",\"marker\":{\"color\":\"#19d3f3\",\"symbol\":\"circle\"},\"mode\":\"markers\",\"name\":\"Mozambique\",\"orientation\":\"v\",\"showlegend\":true,\"x\":[528.3125597],\"xaxis\":\"x\",\"y\":[57.6],\"yaxis\":\"y\",\"type\":\"scatter\"},{\"hovertemplate\":\"<b>%{hovertext}</b><br><br>Country=Myanmar<br>GDP=%{x}<br>Life.expectancy=%{y}<extra></extra>\",\"hovertext\":[\"Myanmar\"],\"legendgroup\":\"Myanmar\",\"marker\":{\"color\":\"#FF6692\",\"symbol\":\"circle\"},\"mode\":\"markers\",\"name\":\"Myanmar\",\"orientation\":\"v\",\"showlegend\":true,\"x\":[1194.59137],\"xaxis\":\"x\",\"y\":[66.6],\"yaxis\":\"y\",\"type\":\"scatter\"},{\"hovertemplate\":\"<b>%{hovertext}</b><br><br>Country=Namibia<br>GDP=%{x}<br>Life.expectancy=%{y}<extra></extra>\",\"hovertext\":[\"Namibia\"],\"legendgroup\":\"Namibia\",\"marker\":{\"color\":\"#B6E880\",\"symbol\":\"circle\"},\"mode\":\"markers\",\"name\":\"Namibia\",\"orientation\":\"v\",\"showlegend\":true,\"x\":[4737.66996],\"xaxis\":\"x\",\"y\":[65.8],\"yaxis\":\"y\",\"type\":\"scatter\"},{\"hovertemplate\":\"<b>%{hovertext}</b><br><br>Country=Nepal<br>GDP=%{x}<br>Life.expectancy=%{y}<extra></extra>\",\"hovertext\":[\"Nepal\"],\"legendgroup\":\"Nepal\",\"marker\":{\"color\":\"#FF97FF\",\"symbol\":\"circle\"},\"mode\":\"markers\",\"name\":\"Nepal\",\"orientation\":\"v\",\"showlegend\":true,\"x\":[743.7653489],\"xaxis\":\"x\",\"y\":[69.2],\"yaxis\":\"y\",\"type\":\"scatter\"},{\"hovertemplate\":\"<b>%{hovertext}</b><br><br>Country=Netherlands<br>GDP=%{x}<br>Life.expectancy=%{y}<extra></extra>\",\"hovertext\":[\"Netherlands\"],\"legendgroup\":\"Netherlands\",\"marker\":{\"color\":\"#FECB52\",\"symbol\":\"circle\"},\"mode\":\"markers\",\"name\":\"Netherlands\",\"orientation\":\"v\",\"showlegend\":true,\"x\":[44292.88473],\"xaxis\":\"x\",\"y\":[81.9],\"yaxis\":\"y\",\"type\":\"scatter\"},{\"hovertemplate\":\"<b>%{hovertext}</b><br><br>Country=New Zealand<br>GDP=%{x}<br>Life.expectancy=%{y}<extra></extra>\",\"hovertext\":[\"New Zealand\"],\"legendgroup\":\"New Zealand\",\"marker\":{\"color\":\"#636efa\",\"symbol\":\"circle\"},\"mode\":\"markers\",\"name\":\"New Zealand\",\"orientation\":\"v\",\"showlegend\":true,\"x\":[3821.8937],\"xaxis\":\"x\",\"y\":[81.6],\"yaxis\":\"y\",\"type\":\"scatter\"},{\"hovertemplate\":\"<b>%{hovertext}</b><br><br>Country=Nicaragua<br>GDP=%{x}<br>Life.expectancy=%{y}<extra></extra>\",\"hovertext\":[\"Nicaragua\"],\"legendgroup\":\"Nicaragua\",\"marker\":{\"color\":\"#EF553B\",\"symbol\":\"circle\"},\"mode\":\"markers\",\"name\":\"Nicaragua\",\"orientation\":\"v\",\"showlegend\":true,\"x\":[295.966488],\"xaxis\":\"x\",\"y\":[74.8],\"yaxis\":\"y\",\"type\":\"scatter\"},{\"hovertemplate\":\"<b>%{hovertext}</b><br><br>Country=Niger<br>GDP=%{x}<br>Life.expectancy=%{y}<extra></extra>\",\"hovertext\":[\"Niger\"],\"legendgroup\":\"Niger\",\"marker\":{\"color\":\"#00cc96\",\"symbol\":\"circle\"},\"mode\":\"markers\",\"name\":\"Niger\",\"orientation\":\"v\",\"showlegend\":true,\"x\":[358.99731],\"xaxis\":\"x\",\"y\":[61.8],\"yaxis\":\"y\",\"type\":\"scatter\"},{\"hovertemplate\":\"<b>%{hovertext}</b><br><br>Country=Nigeria<br>GDP=%{x}<br>Life.expectancy=%{y}<extra></extra>\",\"hovertext\":[\"Nigeria\"],\"legendgroup\":\"Nigeria\",\"marker\":{\"color\":\"#ab63fa\",\"symbol\":\"circle\"},\"mode\":\"markers\",\"name\":\"Nigeria\",\"orientation\":\"v\",\"showlegend\":true,\"x\":[2655.157977],\"xaxis\":\"x\",\"y\":[54.5],\"yaxis\":\"y\",\"type\":\"scatter\"},{\"hovertemplate\":\"<b>%{hovertext}</b><br><br>Country=Norway<br>GDP=%{x}<br>Life.expectancy=%{y}<extra></extra>\",\"hovertext\":[\"Norway\"],\"legendgroup\":\"Norway\",\"marker\":{\"color\":\"#FFA15A\",\"symbol\":\"circle\"},\"mode\":\"markers\",\"name\":\"Norway\",\"orientation\":\"v\",\"showlegend\":true,\"x\":[7455.24654],\"xaxis\":\"x\",\"y\":[81.8],\"yaxis\":\"y\",\"type\":\"scatter\"},{\"hovertemplate\":\"<b>%{hovertext}</b><br><br>Country=Oman<br>GDP=%{x}<br>Life.expectancy=%{y}<extra></extra>\",\"hovertext\":[\"Oman\"],\"legendgroup\":\"Oman\",\"marker\":{\"color\":\"#19d3f3\",\"symbol\":\"circle\"},\"mode\":\"markers\",\"name\":\"Oman\",\"orientation\":\"v\",\"showlegend\":true,\"x\":[16627.36433],\"xaxis\":\"x\",\"y\":[76.6],\"yaxis\":\"y\",\"type\":\"scatter\"},{\"hovertemplate\":\"<b>%{hovertext}</b><br><br>Country=Pakistan<br>GDP=%{x}<br>Life.expectancy=%{y}<extra></extra>\",\"hovertext\":[\"Pakistan\"],\"legendgroup\":\"Pakistan\",\"marker\":{\"color\":\"#FF6692\",\"symbol\":\"circle\"},\"mode\":\"markers\",\"name\":\"Pakistan\",\"orientation\":\"v\",\"showlegend\":true,\"x\":[1431.244865],\"xaxis\":\"x\",\"y\":[66.4],\"yaxis\":\"y\",\"type\":\"scatter\"},{\"hovertemplate\":\"<b>%{hovertext}</b><br><br>Country=Panama<br>GDP=%{x}<br>Life.expectancy=%{y}<extra></extra>\",\"hovertext\":[\"Panama\"],\"legendgroup\":\"Panama\",\"marker\":{\"color\":\"#B6E880\",\"symbol\":\"circle\"},\"mode\":\"markers\",\"name\":\"Panama\",\"orientation\":\"v\",\"showlegend\":true,\"x\":[13134.4367],\"xaxis\":\"x\",\"y\":[77.8],\"yaxis\":\"y\",\"type\":\"scatter\"},{\"hovertemplate\":\"<b>%{hovertext}</b><br><br>Country=Paraguay<br>GDP=%{x}<br>Life.expectancy=%{y}<extra></extra>\",\"hovertext\":[\"Paraguay\"],\"legendgroup\":\"Paraguay\",\"marker\":{\"color\":\"#FF97FF\",\"symbol\":\"circle\"},\"mode\":\"markers\",\"name\":\"Paraguay\",\"orientation\":\"v\",\"showlegend\":true,\"x\":[419.367724],\"xaxis\":\"x\",\"y\":[74.0],\"yaxis\":\"y\",\"type\":\"scatter\"},{\"hovertemplate\":\"<b>%{hovertext}</b><br><br>Country=Peru<br>GDP=%{x}<br>Life.expectancy=%{y}<extra></extra>\",\"hovertext\":[\"Peru\"],\"legendgroup\":\"Peru\",\"marker\":{\"color\":\"#FECB52\",\"symbol\":\"circle\"},\"mode\":\"markers\",\"name\":\"Peru\",\"orientation\":\"v\",\"showlegend\":true,\"x\":[63.343259],\"xaxis\":\"x\",\"y\":[75.5],\"yaxis\":\"y\",\"type\":\"scatter\"},{\"hovertemplate\":\"<b>%{hovertext}</b><br><br>Country=Philippines<br>GDP=%{x}<br>Life.expectancy=%{y}<extra></extra>\",\"hovertext\":[\"Philippines\"],\"legendgroup\":\"Philippines\",\"marker\":{\"color\":\"#636efa\",\"symbol\":\"circle\"},\"mode\":\"markers\",\"name\":\"Philippines\",\"orientation\":\"v\",\"showlegend\":true,\"x\":[2878.33837],\"xaxis\":\"x\",\"y\":[68.5],\"yaxis\":\"y\",\"type\":\"scatter\"},{\"hovertemplate\":\"<b>%{hovertext}</b><br><br>Country=Poland<br>GDP=%{x}<br>Life.expectancy=%{y}<extra></extra>\",\"hovertext\":[\"Poland\"],\"legendgroup\":\"Poland\",\"marker\":{\"color\":\"#EF553B\",\"symbol\":\"circle\"},\"mode\":\"markers\",\"name\":\"Poland\",\"orientation\":\"v\",\"showlegend\":true,\"x\":[12565.9876],\"xaxis\":\"x\",\"y\":[77.5],\"yaxis\":\"y\",\"type\":\"scatter\"},{\"hovertemplate\":\"<b>%{hovertext}</b><br><br>Country=Portugal<br>GDP=%{x}<br>Life.expectancy=%{y}<extra></extra>\",\"hovertext\":[\"Portugal\"],\"legendgroup\":\"Portugal\",\"marker\":{\"color\":\"#00cc96\",\"symbol\":\"circle\"},\"mode\":\"markers\",\"name\":\"Portugal\",\"orientation\":\"v\",\"showlegend\":true,\"x\":[1922.681],\"xaxis\":\"x\",\"y\":[81.1],\"yaxis\":\"y\",\"type\":\"scatter\"},{\"hovertemplate\":\"<b>%{hovertext}</b><br><br>Country=Qatar<br>GDP=%{x}<br>Life.expectancy=%{y}<extra></extra>\",\"hovertext\":[\"Qatar\"],\"legendgroup\":\"Qatar\",\"marker\":{\"color\":\"#ab63fa\",\"symbol\":\"circle\"},\"mode\":\"markers\",\"name\":\"Qatar\",\"orientation\":\"v\",\"showlegend\":true,\"x\":[66346.52267],\"xaxis\":\"x\",\"y\":[78.2],\"yaxis\":\"y\",\"type\":\"scatter\"},{\"hovertemplate\":\"<b>%{hovertext}</b><br><br>Country=Romania<br>GDP=%{x}<br>Life.expectancy=%{y}<extra></extra>\",\"hovertext\":[\"Romania\"],\"legendgroup\":\"Romania\",\"marker\":{\"color\":\"#FFA15A\",\"symbol\":\"circle\"},\"mode\":\"markers\",\"name\":\"Romania\",\"orientation\":\"v\",\"showlegend\":true,\"x\":[8958.788593],\"xaxis\":\"x\",\"y\":[75.0],\"yaxis\":\"y\",\"type\":\"scatter\"},{\"hovertemplate\":\"<b>%{hovertext}</b><br><br>Country=Russian Federation<br>GDP=%{x}<br>Life.expectancy=%{y}<extra></extra>\",\"hovertext\":[\"Russian Federation\"],\"legendgroup\":\"Russian Federation\",\"marker\":{\"color\":\"#19d3f3\",\"symbol\":\"circle\"},\"mode\":\"markers\",\"name\":\"Russian Federation\",\"orientation\":\"v\",\"showlegend\":true,\"x\":[9329.298351],\"xaxis\":\"x\",\"y\":[75.0],\"yaxis\":\"y\",\"type\":\"scatter\"},{\"hovertemplate\":\"<b>%{hovertext}</b><br><br>Country=Rwanda<br>GDP=%{x}<br>Life.expectancy=%{y}<extra></extra>\",\"hovertext\":[\"Rwanda\"],\"legendgroup\":\"Rwanda\",\"marker\":{\"color\":\"#FF6692\",\"symbol\":\"circle\"},\"mode\":\"markers\",\"name\":\"Rwanda\",\"orientation\":\"v\",\"showlegend\":true,\"x\":[71.348397],\"xaxis\":\"x\",\"y\":[66.1],\"yaxis\":\"y\",\"type\":\"scatter\"},{\"hovertemplate\":\"<b>%{hovertext}</b><br><br>Country=Samoa<br>GDP=%{x}<br>Life.expectancy=%{y}<extra></extra>\",\"hovertext\":[\"Samoa\"],\"legendgroup\":\"Samoa\",\"marker\":{\"color\":\"#B6E880\",\"symbol\":\"circle\"},\"mode\":\"markers\",\"name\":\"Samoa\",\"orientation\":\"v\",\"showlegend\":true,\"x\":[4149.363444],\"xaxis\":\"x\",\"y\":[74.0],\"yaxis\":\"y\",\"type\":\"scatter\"},{\"hovertemplate\":\"<b>%{hovertext}</b><br><br>Country=Sao Tome and Principe<br>GDP=%{x}<br>Life.expectancy=%{y}<extra></extra>\",\"hovertext\":[\"Sao Tome and Principe\"],\"legendgroup\":\"Sao Tome and Principe\",\"marker\":{\"color\":\"#FF97FF\",\"symbol\":\"circle\"},\"mode\":\"markers\",\"name\":\"Sao Tome and Principe\",\"orientation\":\"v\",\"showlegend\":true,\"x\":[1624.63963],\"xaxis\":\"x\",\"y\":[67.5],\"yaxis\":\"y\",\"type\":\"scatter\"},{\"hovertemplate\":\"<b>%{hovertext}</b><br><br>Country=Saudi Arabia<br>GDP=%{x}<br>Life.expectancy=%{y}<extra></extra>\",\"hovertext\":[\"Saudi Arabia\"],\"legendgroup\":\"Saudi Arabia\",\"marker\":{\"color\":\"#FECB52\",\"symbol\":\"circle\"},\"mode\":\"markers\",\"name\":\"Saudi Arabia\",\"orientation\":\"v\",\"showlegend\":true,\"x\":[2732.86172],\"xaxis\":\"x\",\"y\":[74.5],\"yaxis\":\"y\",\"type\":\"scatter\"},{\"hovertemplate\":\"<b>%{hovertext}</b><br><br>Country=Senegal<br>GDP=%{x}<br>Life.expectancy=%{y}<extra></extra>\",\"hovertext\":[\"Senegal\"],\"legendgroup\":\"Senegal\",\"marker\":{\"color\":\"#636efa\",\"symbol\":\"circle\"},\"mode\":\"markers\",\"name\":\"Senegal\",\"orientation\":\"v\",\"showlegend\":true,\"x\":[98.7256145],\"xaxis\":\"x\",\"y\":[66.7],\"yaxis\":\"y\",\"type\":\"scatter\"},{\"hovertemplate\":\"<b>%{hovertext}</b><br><br>Country=Serbia<br>GDP=%{x}<br>Life.expectancy=%{y}<extra></extra>\",\"hovertext\":[\"Serbia\"],\"legendgroup\":\"Serbia\",\"marker\":{\"color\":\"#EF553B\",\"symbol\":\"circle\"},\"mode\":\"markers\",\"name\":\"Serbia\",\"orientation\":\"v\",\"showlegend\":true,\"x\":[5237.255334],\"xaxis\":\"x\",\"y\":[75.6],\"yaxis\":\"y\",\"type\":\"scatter\"},{\"hovertemplate\":\"<b>%{hovertext}</b><br><br>Country=Seychelles<br>GDP=%{x}<br>Life.expectancy=%{y}<extra></extra>\",\"hovertext\":[\"Seychelles\"],\"legendgroup\":\"Seychelles\",\"marker\":{\"color\":\"#00cc96\",\"symbol\":\"circle\"},\"mode\":\"markers\",\"name\":\"Seychelles\",\"orientation\":\"v\",\"showlegend\":true,\"x\":[1539.464],\"xaxis\":\"x\",\"y\":[73.2],\"yaxis\":\"y\",\"type\":\"scatter\"},{\"hovertemplate\":\"<b>%{hovertext}</b><br><br>Country=Sierra Leone<br>GDP=%{x}<br>Life.expectancy=%{y}<extra></extra>\",\"hovertext\":[\"Sierra Leone\"],\"legendgroup\":\"Sierra Leone\",\"marker\":{\"color\":\"#ab63fa\",\"symbol\":\"circle\"},\"mode\":\"markers\",\"name\":\"Sierra Leone\",\"orientation\":\"v\",\"showlegend\":true,\"x\":[587.538233],\"xaxis\":\"x\",\"y\":[51.0],\"yaxis\":\"y\",\"type\":\"scatter\"},{\"hovertemplate\":\"<b>%{hovertext}</b><br><br>Country=Singapore<br>GDP=%{x}<br>Life.expectancy=%{y}<extra></extra>\",\"hovertext\":[\"Singapore\"],\"legendgroup\":\"Singapore\",\"marker\":{\"color\":\"#FFA15A\",\"symbol\":\"circle\"},\"mode\":\"markers\",\"name\":\"Singapore\",\"orientation\":\"v\",\"showlegend\":true,\"x\":[53629.73746],\"xaxis\":\"x\",\"y\":[83.1],\"yaxis\":\"y\",\"type\":\"scatter\"},{\"hovertemplate\":\"<b>%{hovertext}</b><br><br>Country=Slovenia<br>GDP=%{x}<br>Life.expectancy=%{y}<extra></extra>\",\"hovertext\":[\"Slovenia\"],\"legendgroup\":\"Slovenia\",\"marker\":{\"color\":\"#19d3f3\",\"symbol\":\"circle\"},\"mode\":\"markers\",\"name\":\"Slovenia\",\"orientation\":\"v\",\"showlegend\":true,\"x\":[2729.86383],\"xaxis\":\"x\",\"y\":[88.0],\"yaxis\":\"y\",\"type\":\"scatter\"},{\"hovertemplate\":\"<b>%{hovertext}</b><br><br>Country=Solomon Islands<br>GDP=%{x}<br>Life.expectancy=%{y}<extra></extra>\",\"hovertext\":[\"Solomon Islands\"],\"legendgroup\":\"Solomon Islands\",\"marker\":{\"color\":\"#FF6692\",\"symbol\":\"circle\"},\"mode\":\"markers\",\"name\":\"Solomon Islands\",\"orientation\":\"v\",\"showlegend\":true,\"x\":[1922.41388],\"xaxis\":\"x\",\"y\":[69.2],\"yaxis\":\"y\",\"type\":\"scatter\"},{\"hovertemplate\":\"<b>%{hovertext}</b><br><br>Country=Somalia<br>GDP=%{x}<br>Life.expectancy=%{y}<extra></extra>\",\"hovertext\":[\"Somalia\"],\"legendgroup\":\"Somalia\",\"marker\":{\"color\":\"#B6E880\",\"symbol\":\"circle\"},\"mode\":\"markers\",\"name\":\"Somalia\",\"orientation\":\"v\",\"showlegend\":true,\"x\":[426.98537],\"xaxis\":\"x\",\"y\":[55.0],\"yaxis\":\"y\",\"type\":\"scatter\"},{\"hovertemplate\":\"<b>%{hovertext}</b><br><br>Country=South Africa<br>GDP=%{x}<br>Life.expectancy=%{y}<extra></extra>\",\"hovertext\":[\"South Africa\"],\"legendgroup\":\"South Africa\",\"marker\":{\"color\":\"#FF97FF\",\"symbol\":\"circle\"},\"mode\":\"markers\",\"name\":\"South Africa\",\"orientation\":\"v\",\"showlegend\":true,\"x\":[5769.77258],\"xaxis\":\"x\",\"y\":[62.9],\"yaxis\":\"y\",\"type\":\"scatter\"},{\"hovertemplate\":\"<b>%{hovertext}</b><br><br>Country=South Sudan<br>GDP=%{x}<br>Life.expectancy=%{y}<extra></extra>\",\"hovertext\":[\"South Sudan\"],\"legendgroup\":\"South Sudan\",\"marker\":{\"color\":\"#FECB52\",\"symbol\":\"circle\"},\"mode\":\"markers\",\"name\":\"South Sudan\",\"orientation\":\"v\",\"showlegend\":true,\"x\":[758.725782],\"xaxis\":\"x\",\"y\":[57.3],\"yaxis\":\"y\",\"type\":\"scatter\"},{\"hovertemplate\":\"<b>%{hovertext}</b><br><br>Country=Spain<br>GDP=%{x}<br>Life.expectancy=%{y}<extra></extra>\",\"hovertext\":[\"Spain\"],\"legendgroup\":\"Spain\",\"marker\":{\"color\":\"#636efa\",\"symbol\":\"circle\"},\"mode\":\"markers\",\"name\":\"Spain\",\"orientation\":\"v\",\"showlegend\":true,\"x\":[25683.84565],\"xaxis\":\"x\",\"y\":[82.8],\"yaxis\":\"y\",\"type\":\"scatter\"},{\"hovertemplate\":\"<b>%{hovertext}</b><br><br>Country=Sri Lanka<br>GDP=%{x}<br>Life.expectancy=%{y}<extra></extra>\",\"hovertext\":[\"Sri Lanka\"],\"legendgroup\":\"Sri Lanka\",\"marker\":{\"color\":\"#EF553B\",\"symbol\":\"circle\"},\"mode\":\"markers\",\"name\":\"Sri Lanka\",\"orientation\":\"v\",\"showlegend\":true,\"x\":[3844.89123],\"xaxis\":\"x\",\"y\":[74.9],\"yaxis\":\"y\",\"type\":\"scatter\"},{\"hovertemplate\":\"<b>%{hovertext}</b><br><br>Country=Sudan<br>GDP=%{x}<br>Life.expectancy=%{y}<extra></extra>\",\"hovertext\":[\"Sudan\"],\"legendgroup\":\"Sudan\",\"marker\":{\"color\":\"#00cc96\",\"symbol\":\"circle\"},\"mode\":\"markers\",\"name\":\"Sudan\",\"orientation\":\"v\",\"showlegend\":true,\"x\":[2513.884661],\"xaxis\":\"x\",\"y\":[64.1],\"yaxis\":\"y\",\"type\":\"scatter\"},{\"hovertemplate\":\"<b>%{hovertext}</b><br><br>Country=Suriname<br>GDP=%{x}<br>Life.expectancy=%{y}<extra></extra>\",\"hovertext\":[\"Suriname\"],\"legendgroup\":\"Suriname\",\"marker\":{\"color\":\"#ab63fa\",\"symbol\":\"circle\"},\"mode\":\"markers\",\"name\":\"Suriname\",\"orientation\":\"v\",\"showlegend\":true,\"x\":[8818.982566],\"xaxis\":\"x\",\"y\":[71.6],\"yaxis\":\"y\",\"type\":\"scatter\"},{\"hovertemplate\":\"<b>%{hovertext}</b><br><br>Country=Swaziland<br>GDP=%{x}<br>Life.expectancy=%{y}<extra></extra>\",\"hovertext\":[\"Swaziland\"],\"legendgroup\":\"Swaziland\",\"marker\":{\"color\":\"#FFA15A\",\"symbol\":\"circle\"},\"mode\":\"markers\",\"name\":\"Swaziland\",\"orientation\":\"v\",\"showlegend\":true,\"x\":[3136.92511],\"xaxis\":\"x\",\"y\":[58.9],\"yaxis\":\"y\",\"type\":\"scatter\"},{\"hovertemplate\":\"<b>%{hovertext}</b><br><br>Country=Sweden<br>GDP=%{x}<br>Life.expectancy=%{y}<extra></extra>\",\"hovertext\":[\"Sweden\"],\"legendgroup\":\"Sweden\",\"marker\":{\"color\":\"#19d3f3\",\"symbol\":\"circle\"},\"mode\":\"markers\",\"name\":\"Sweden\",\"orientation\":\"v\",\"showlegend\":true,\"x\":[5585.25847],\"xaxis\":\"x\",\"y\":[82.4],\"yaxis\":\"y\",\"type\":\"scatter\"},{\"hovertemplate\":\"<b>%{hovertext}</b><br><br>Country=Switzerland<br>GDP=%{x}<br>Life.expectancy=%{y}<extra></extra>\",\"hovertext\":[\"Switzerland\"],\"legendgroup\":\"Switzerland\",\"marker\":{\"color\":\"#FF6692\",\"symbol\":\"circle\"},\"mode\":\"markers\",\"name\":\"Switzerland\",\"orientation\":\"v\",\"showlegend\":true,\"x\":[8989.8424],\"xaxis\":\"x\",\"y\":[83.4],\"yaxis\":\"y\",\"type\":\"scatter\"},{\"hovertemplate\":\"<b>%{hovertext}</b><br><br>Country=Tajikistan<br>GDP=%{x}<br>Life.expectancy=%{y}<extra></extra>\",\"hovertext\":[\"Tajikistan\"],\"legendgroup\":\"Tajikistan\",\"marker\":{\"color\":\"#B6E880\",\"symbol\":\"circle\"},\"mode\":\"markers\",\"name\":\"Tajikistan\",\"orientation\":\"v\",\"showlegend\":true,\"x\":[918.6771543],\"xaxis\":\"x\",\"y\":[69.7],\"yaxis\":\"y\",\"type\":\"scatter\"},{\"hovertemplate\":\"<b>%{hovertext}</b><br><br>Country=Thailand<br>GDP=%{x}<br>Life.expectancy=%{y}<extra></extra>\",\"hovertext\":[\"Thailand\"],\"legendgroup\":\"Thailand\",\"marker\":{\"color\":\"#FF97FF\",\"symbol\":\"circle\"},\"mode\":\"markers\",\"name\":\"Thailand\",\"orientation\":\"v\",\"showlegend\":true,\"x\":[5814.863134],\"xaxis\":\"x\",\"y\":[74.9],\"yaxis\":\"y\",\"type\":\"scatter\"},{\"hovertemplate\":\"<b>%{hovertext}</b><br><br>Country=Timor-Leste<br>GDP=%{x}<br>Life.expectancy=%{y}<extra></extra>\",\"hovertext\":[\"Timor-Leste\"],\"legendgroup\":\"Timor-Leste\",\"marker\":{\"color\":\"#FECB52\",\"symbol\":\"circle\"},\"mode\":\"markers\",\"name\":\"Timor-Leste\",\"orientation\":\"v\",\"showlegend\":true,\"x\":[1161.76935],\"xaxis\":\"x\",\"y\":[68.3],\"yaxis\":\"y\",\"type\":\"scatter\"},{\"hovertemplate\":\"<b>%{hovertext}</b><br><br>Country=Togo<br>GDP=%{x}<br>Life.expectancy=%{y}<extra></extra>\",\"hovertext\":[\"Togo\"],\"legendgroup\":\"Togo\",\"marker\":{\"color\":\"#636efa\",\"symbol\":\"circle\"},\"mode\":\"markers\",\"name\":\"Togo\",\"orientation\":\"v\",\"showlegend\":true,\"x\":[551.138346],\"xaxis\":\"x\",\"y\":[59.9],\"yaxis\":\"y\",\"type\":\"scatter\"},{\"hovertemplate\":\"<b>%{hovertext}</b><br><br>Country=Tonga<br>GDP=%{x}<br>Life.expectancy=%{y}<extra></extra>\",\"hovertext\":[\"Tonga\"],\"legendgroup\":\"Tonga\",\"marker\":{\"color\":\"#EF553B\",\"symbol\":\"circle\"},\"mode\":\"markers\",\"name\":\"Tonga\",\"orientation\":\"v\",\"showlegend\":true,\"x\":[493.775387],\"xaxis\":\"x\",\"y\":[73.5],\"yaxis\":\"y\",\"type\":\"scatter\"},{\"hovertemplate\":\"<b>%{hovertext}</b><br><br>Country=Trinidad and Tobago<br>GDP=%{x}<br>Life.expectancy=%{y}<extra></extra>\",\"hovertext\":[\"Trinidad and Tobago\"],\"legendgroup\":\"Trinidad and Tobago\",\"marker\":{\"color\":\"#00cc96\",\"symbol\":\"circle\"},\"mode\":\"markers\",\"name\":\"Trinidad and Tobago\",\"orientation\":\"v\",\"showlegend\":true,\"x\":[17321.83373],\"xaxis\":\"x\",\"y\":[71.2],\"yaxis\":\"y\",\"type\":\"scatter\"},{\"hovertemplate\":\"<b>%{hovertext}</b><br><br>Country=Tunisia<br>GDP=%{x}<br>Life.expectancy=%{y}<extra></extra>\",\"hovertext\":[\"Tunisia\"],\"legendgroup\":\"Tunisia\",\"marker\":{\"color\":\"#ab63fa\",\"symbol\":\"circle\"},\"mode\":\"markers\",\"name\":\"Tunisia\",\"orientation\":\"v\",\"showlegend\":true,\"x\":[3828.91589],\"xaxis\":\"x\",\"y\":[75.3],\"yaxis\":\"y\",\"type\":\"scatter\"},{\"hovertemplate\":\"<b>%{hovertext}</b><br><br>Country=Turkey<br>GDP=%{x}<br>Life.expectancy=%{y}<extra></extra>\",\"hovertext\":[\"Turkey\"],\"legendgroup\":\"Turkey\",\"marker\":{\"color\":\"#FFA15A\",\"symbol\":\"circle\"},\"mode\":\"markers\",\"name\":\"Turkey\",\"orientation\":\"v\",\"showlegend\":true,\"x\":[1979.52569],\"xaxis\":\"x\",\"y\":[75.8],\"yaxis\":\"y\",\"type\":\"scatter\"},{\"hovertemplate\":\"<b>%{hovertext}</b><br><br>Country=Turkmenistan<br>GDP=%{x}<br>Life.expectancy=%{y}<extra></extra>\",\"hovertext\":[\"Turkmenistan\"],\"legendgroup\":\"Turkmenistan\",\"marker\":{\"color\":\"#19d3f3\",\"symbol\":\"circle\"},\"mode\":\"markers\",\"name\":\"Turkmenistan\",\"orientation\":\"v\",\"showlegend\":true,\"x\":[6432.668768],\"xaxis\":\"x\",\"y\":[66.3],\"yaxis\":\"y\",\"type\":\"scatter\"},{\"hovertemplate\":\"<b>%{hovertext}</b><br><br>Country=Uganda<br>GDP=%{x}<br>Life.expectancy=%{y}<extra></extra>\",\"hovertext\":[\"Uganda\"],\"legendgroup\":\"Uganda\",\"marker\":{\"color\":\"#FF6692\",\"symbol\":\"circle\"},\"mode\":\"markers\",\"name\":\"Uganda\",\"orientation\":\"v\",\"showlegend\":true,\"x\":[693.8963829],\"xaxis\":\"x\",\"y\":[62.3],\"yaxis\":\"y\",\"type\":\"scatter\"},{\"hovertemplate\":\"<b>%{hovertext}</b><br><br>Country=Ukraine<br>GDP=%{x}<br>Life.expectancy=%{y}<extra></extra>\",\"hovertext\":[\"Ukraine\"],\"legendgroup\":\"Ukraine\",\"marker\":{\"color\":\"#B6E880\",\"symbol\":\"circle\"},\"mode\":\"markers\",\"name\":\"Ukraine\",\"orientation\":\"v\",\"showlegend\":true,\"x\":[2124.662666],\"xaxis\":\"x\",\"y\":[71.3],\"yaxis\":\"y\",\"type\":\"scatter\"},{\"hovertemplate\":\"<b>%{hovertext}</b><br><br>Country=United Arab Emirates<br>GDP=%{x}<br>Life.expectancy=%{y}<extra></extra>\",\"hovertext\":[\"United Arab Emirates\"],\"legendgroup\":\"United Arab Emirates\",\"marker\":{\"color\":\"#FF97FF\",\"symbol\":\"circle\"},\"mode\":\"markers\",\"name\":\"United Arab Emirates\",\"orientation\":\"v\",\"showlegend\":true,\"x\":[3911.74689],\"xaxis\":\"x\",\"y\":[77.1],\"yaxis\":\"y\",\"type\":\"scatter\"},{\"hovertemplate\":\"<b>%{hovertext}</b><br><br>Country=Uruguay<br>GDP=%{x}<br>Life.expectancy=%{y}<extra></extra>\",\"hovertext\":[\"Uruguay\"],\"legendgroup\":\"Uruguay\",\"marker\":{\"color\":\"#FECB52\",\"symbol\":\"circle\"},\"mode\":\"markers\",\"name\":\"Uruguay\",\"orientation\":\"v\",\"showlegend\":true,\"x\":[15524.84247],\"xaxis\":\"x\",\"y\":[77.0],\"yaxis\":\"y\",\"type\":\"scatter\"},{\"hovertemplate\":\"<b>%{hovertext}</b><br><br>Country=Uzbekistan<br>GDP=%{x}<br>Life.expectancy=%{y}<extra></extra>\",\"hovertext\":[\"Uzbekistan\"],\"legendgroup\":\"Uzbekistan\",\"marker\":{\"color\":\"#636efa\",\"symbol\":\"circle\"},\"mode\":\"markers\",\"name\":\"Uzbekistan\",\"orientation\":\"v\",\"showlegend\":true,\"x\":[2137.576852],\"xaxis\":\"x\",\"y\":[69.4],\"yaxis\":\"y\",\"type\":\"scatter\"},{\"hovertemplate\":\"<b>%{hovertext}</b><br><br>Country=Vanuatu<br>GDP=%{x}<br>Life.expectancy=%{y}<extra></extra>\",\"hovertext\":[\"Vanuatu\"],\"legendgroup\":\"Vanuatu\",\"marker\":{\"color\":\"#EF553B\",\"symbol\":\"circle\"},\"mode\":\"markers\",\"name\":\"Vanuatu\",\"orientation\":\"v\",\"showlegend\":true,\"x\":[285.83414],\"xaxis\":\"x\",\"y\":[72.0],\"yaxis\":\"y\",\"type\":\"scatter\"},{\"hovertemplate\":\"<b>%{hovertext}</b><br><br>Country=Zambia<br>GDP=%{x}<br>Life.expectancy=%{y}<extra></extra>\",\"hovertext\":[\"Zambia\"],\"legendgroup\":\"Zambia\",\"marker\":{\"color\":\"#00cc96\",\"symbol\":\"circle\"},\"mode\":\"markers\",\"name\":\"Zambia\",\"orientation\":\"v\",\"showlegend\":true,\"x\":[1313.889646],\"xaxis\":\"x\",\"y\":[61.8],\"yaxis\":\"y\",\"type\":\"scatter\"},{\"hovertemplate\":\"<b>%{hovertext}</b><br><br>Country=Zimbabwe<br>GDP=%{x}<br>Life.expectancy=%{y}<extra></extra>\",\"hovertext\":[\"Zimbabwe\"],\"legendgroup\":\"Zimbabwe\",\"marker\":{\"color\":\"#ab63fa\",\"symbol\":\"circle\"},\"mode\":\"markers\",\"name\":\"Zimbabwe\",\"orientation\":\"v\",\"showlegend\":true,\"x\":[118.69383],\"xaxis\":\"x\",\"y\":[67.0],\"yaxis\":\"y\",\"type\":\"scatter\"}],                        {\"template\":{\"data\":{\"histogram2dcontour\":[{\"type\":\"histogram2dcontour\",\"colorbar\":{\"outlinewidth\":0,\"ticks\":\"\"},\"colorscale\":[[0.0,\"#0d0887\"],[0.1111111111111111,\"#46039f\"],[0.2222222222222222,\"#7201a8\"],[0.3333333333333333,\"#9c179e\"],[0.4444444444444444,\"#bd3786\"],[0.5555555555555556,\"#d8576b\"],[0.6666666666666666,\"#ed7953\"],[0.7777777777777778,\"#fb9f3a\"],[0.8888888888888888,\"#fdca26\"],[1.0,\"#f0f921\"]]}],\"choropleth\":[{\"type\":\"choropleth\",\"colorbar\":{\"outlinewidth\":0,\"ticks\":\"\"}}],\"histogram2d\":[{\"type\":\"histogram2d\",\"colorbar\":{\"outlinewidth\":0,\"ticks\":\"\"},\"colorscale\":[[0.0,\"#0d0887\"],[0.1111111111111111,\"#46039f\"],[0.2222222222222222,\"#7201a8\"],[0.3333333333333333,\"#9c179e\"],[0.4444444444444444,\"#bd3786\"],[0.5555555555555556,\"#d8576b\"],[0.6666666666666666,\"#ed7953\"],[0.7777777777777778,\"#fb9f3a\"],[0.8888888888888888,\"#fdca26\"],[1.0,\"#f0f921\"]]}],\"heatmap\":[{\"type\":\"heatmap\",\"colorbar\":{\"outlinewidth\":0,\"ticks\":\"\"},\"colorscale\":[[0.0,\"#0d0887\"],[0.1111111111111111,\"#46039f\"],[0.2222222222222222,\"#7201a8\"],[0.3333333333333333,\"#9c179e\"],[0.4444444444444444,\"#bd3786\"],[0.5555555555555556,\"#d8576b\"],[0.6666666666666666,\"#ed7953\"],[0.7777777777777778,\"#fb9f3a\"],[0.8888888888888888,\"#fdca26\"],[1.0,\"#f0f921\"]]}],\"heatmapgl\":[{\"type\":\"heatmapgl\",\"colorbar\":{\"outlinewidth\":0,\"ticks\":\"\"},\"colorscale\":[[0.0,\"#0d0887\"],[0.1111111111111111,\"#46039f\"],[0.2222222222222222,\"#7201a8\"],[0.3333333333333333,\"#9c179e\"],[0.4444444444444444,\"#bd3786\"],[0.5555555555555556,\"#d8576b\"],[0.6666666666666666,\"#ed7953\"],[0.7777777777777778,\"#fb9f3a\"],[0.8888888888888888,\"#fdca26\"],[1.0,\"#f0f921\"]]}],\"contourcarpet\":[{\"type\":\"contourcarpet\",\"colorbar\":{\"outlinewidth\":0,\"ticks\":\"\"}}],\"contour\":[{\"type\":\"contour\",\"colorbar\":{\"outlinewidth\":0,\"ticks\":\"\"},\"colorscale\":[[0.0,\"#0d0887\"],[0.1111111111111111,\"#46039f\"],[0.2222222222222222,\"#7201a8\"],[0.3333333333333333,\"#9c179e\"],[0.4444444444444444,\"#bd3786\"],[0.5555555555555556,\"#d8576b\"],[0.6666666666666666,\"#ed7953\"],[0.7777777777777778,\"#fb9f3a\"],[0.8888888888888888,\"#fdca26\"],[1.0,\"#f0f921\"]]}],\"surface\":[{\"type\":\"surface\",\"colorbar\":{\"outlinewidth\":0,\"ticks\":\"\"},\"colorscale\":[[0.0,\"#0d0887\"],[0.1111111111111111,\"#46039f\"],[0.2222222222222222,\"#7201a8\"],[0.3333333333333333,\"#9c179e\"],[0.4444444444444444,\"#bd3786\"],[0.5555555555555556,\"#d8576b\"],[0.6666666666666666,\"#ed7953\"],[0.7777777777777778,\"#fb9f3a\"],[0.8888888888888888,\"#fdca26\"],[1.0,\"#f0f921\"]]}],\"mesh3d\":[{\"type\":\"mesh3d\",\"colorbar\":{\"outlinewidth\":0,\"ticks\":\"\"}}],\"scatter\":[{\"fillpattern\":{\"fillmode\":\"overlay\",\"size\":10,\"solidity\":0.2},\"type\":\"scatter\"}],\"parcoords\":[{\"type\":\"parcoords\",\"line\":{\"colorbar\":{\"outlinewidth\":0,\"ticks\":\"\"}}}],\"scatterpolargl\":[{\"type\":\"scatterpolargl\",\"marker\":{\"colorbar\":{\"outlinewidth\":0,\"ticks\":\"\"}}}],\"bar\":[{\"error_x\":{\"color\":\"#2a3f5f\"},\"error_y\":{\"color\":\"#2a3f5f\"},\"marker\":{\"line\":{\"color\":\"#E5ECF6\",\"width\":0.5},\"pattern\":{\"fillmode\":\"overlay\",\"size\":10,\"solidity\":0.2}},\"type\":\"bar\"}],\"scattergeo\":[{\"type\":\"scattergeo\",\"marker\":{\"colorbar\":{\"outlinewidth\":0,\"ticks\":\"\"}}}],\"scatterpolar\":[{\"type\":\"scatterpolar\",\"marker\":{\"colorbar\":{\"outlinewidth\":0,\"ticks\":\"\"}}}],\"histogram\":[{\"marker\":{\"pattern\":{\"fillmode\":\"overlay\",\"size\":10,\"solidity\":0.2}},\"type\":\"histogram\"}],\"scattergl\":[{\"type\":\"scattergl\",\"marker\":{\"colorbar\":{\"outlinewidth\":0,\"ticks\":\"\"}}}],\"scatter3d\":[{\"type\":\"scatter3d\",\"line\":{\"colorbar\":{\"outlinewidth\":0,\"ticks\":\"\"}},\"marker\":{\"colorbar\":{\"outlinewidth\":0,\"ticks\":\"\"}}}],\"scattermapbox\":[{\"type\":\"scattermapbox\",\"marker\":{\"colorbar\":{\"outlinewidth\":0,\"ticks\":\"\"}}}],\"scatterternary\":[{\"type\":\"scatterternary\",\"marker\":{\"colorbar\":{\"outlinewidth\":0,\"ticks\":\"\"}}}],\"scattercarpet\":[{\"type\":\"scattercarpet\",\"marker\":{\"colorbar\":{\"outlinewidth\":0,\"ticks\":\"\"}}}],\"carpet\":[{\"aaxis\":{\"endlinecolor\":\"#2a3f5f\",\"gridcolor\":\"white\",\"linecolor\":\"white\",\"minorgridcolor\":\"white\",\"startlinecolor\":\"#2a3f5f\"},\"baxis\":{\"endlinecolor\":\"#2a3f5f\",\"gridcolor\":\"white\",\"linecolor\":\"white\",\"minorgridcolor\":\"white\",\"startlinecolor\":\"#2a3f5f\"},\"type\":\"carpet\"}],\"table\":[{\"cells\":{\"fill\":{\"color\":\"#EBF0F8\"},\"line\":{\"color\":\"white\"}},\"header\":{\"fill\":{\"color\":\"#C8D4E3\"},\"line\":{\"color\":\"white\"}},\"type\":\"table\"}],\"barpolar\":[{\"marker\":{\"line\":{\"color\":\"#E5ECF6\",\"width\":0.5},\"pattern\":{\"fillmode\":\"overlay\",\"size\":10,\"solidity\":0.2}},\"type\":\"barpolar\"}],\"pie\":[{\"automargin\":true,\"type\":\"pie\"}]},\"layout\":{\"autotypenumbers\":\"strict\",\"colorway\":[\"#636efa\",\"#EF553B\",\"#00cc96\",\"#ab63fa\",\"#FFA15A\",\"#19d3f3\",\"#FF6692\",\"#B6E880\",\"#FF97FF\",\"#FECB52\"],\"font\":{\"color\":\"#2a3f5f\"},\"hovermode\":\"closest\",\"hoverlabel\":{\"align\":\"left\"},\"paper_bgcolor\":\"white\",\"plot_bgcolor\":\"#E5ECF6\",\"polar\":{\"bgcolor\":\"#E5ECF6\",\"angularaxis\":{\"gridcolor\":\"white\",\"linecolor\":\"white\",\"ticks\":\"\"},\"radialaxis\":{\"gridcolor\":\"white\",\"linecolor\":\"white\",\"ticks\":\"\"}},\"ternary\":{\"bgcolor\":\"#E5ECF6\",\"aaxis\":{\"gridcolor\":\"white\",\"linecolor\":\"white\",\"ticks\":\"\"},\"baxis\":{\"gridcolor\":\"white\",\"linecolor\":\"white\",\"ticks\":\"\"},\"caxis\":{\"gridcolor\":\"white\",\"linecolor\":\"white\",\"ticks\":\"\"}},\"coloraxis\":{\"colorbar\":{\"outlinewidth\":0,\"ticks\":\"\"}},\"colorscale\":{\"sequential\":[[0.0,\"#0d0887\"],[0.1111111111111111,\"#46039f\"],[0.2222222222222222,\"#7201a8\"],[0.3333333333333333,\"#9c179e\"],[0.4444444444444444,\"#bd3786\"],[0.5555555555555556,\"#d8576b\"],[0.6666666666666666,\"#ed7953\"],[0.7777777777777778,\"#fb9f3a\"],[0.8888888888888888,\"#fdca26\"],[1.0,\"#f0f921\"]],\"sequentialminus\":[[0.0,\"#0d0887\"],[0.1111111111111111,\"#46039f\"],[0.2222222222222222,\"#7201a8\"],[0.3333333333333333,\"#9c179e\"],[0.4444444444444444,\"#bd3786\"],[0.5555555555555556,\"#d8576b\"],[0.6666666666666666,\"#ed7953\"],[0.7777777777777778,\"#fb9f3a\"],[0.8888888888888888,\"#fdca26\"],[1.0,\"#f0f921\"]],\"diverging\":[[0,\"#8e0152\"],[0.1,\"#c51b7d\"],[0.2,\"#de77ae\"],[0.3,\"#f1b6da\"],[0.4,\"#fde0ef\"],[0.5,\"#f7f7f7\"],[0.6,\"#e6f5d0\"],[0.7,\"#b8e186\"],[0.8,\"#7fbc41\"],[0.9,\"#4d9221\"],[1,\"#276419\"]]},\"xaxis\":{\"gridcolor\":\"white\",\"linecolor\":\"white\",\"ticks\":\"\",\"title\":{\"standoff\":15},\"zerolinecolor\":\"white\",\"automargin\":true,\"zerolinewidth\":2},\"yaxis\":{\"gridcolor\":\"white\",\"linecolor\":\"white\",\"ticks\":\"\",\"title\":{\"standoff\":15},\"zerolinecolor\":\"white\",\"automargin\":true,\"zerolinewidth\":2},\"scene\":{\"xaxis\":{\"backgroundcolor\":\"#E5ECF6\",\"gridcolor\":\"white\",\"linecolor\":\"white\",\"showbackground\":true,\"ticks\":\"\",\"zerolinecolor\":\"white\",\"gridwidth\":2},\"yaxis\":{\"backgroundcolor\":\"#E5ECF6\",\"gridcolor\":\"white\",\"linecolor\":\"white\",\"showbackground\":true,\"ticks\":\"\",\"zerolinecolor\":\"white\",\"gridwidth\":2},\"zaxis\":{\"backgroundcolor\":\"#E5ECF6\",\"gridcolor\":\"white\",\"linecolor\":\"white\",\"showbackground\":true,\"ticks\":\"\",\"zerolinecolor\":\"white\",\"gridwidth\":2}},\"shapedefaults\":{\"line\":{\"color\":\"#2a3f5f\"}},\"annotationdefaults\":{\"arrowcolor\":\"#2a3f5f\",\"arrowhead\":0,\"arrowwidth\":1},\"geo\":{\"bgcolor\":\"white\",\"landcolor\":\"#E5ECF6\",\"subunitcolor\":\"white\",\"showland\":true,\"showlakes\":true,\"lakecolor\":\"white\"},\"title\":{\"x\":0.05},\"mapbox\":{\"style\":\"light\"}}},\"xaxis\":{\"anchor\":\"y\",\"domain\":[0.0,1.0],\"title\":{\"text\":\"GDP\"},\"type\":\"log\"},\"yaxis\":{\"anchor\":\"x\",\"domain\":[0.0,1.0],\"title\":{\"text\":\"Life.expectancy\"}},\"legend\":{\"title\":{\"text\":\"Country\"},\"tracegroupgap\":0},\"margin\":{\"t\":60}},                        {\"responsive\": true}                    ).then(function(){\n",
       "                            \n",
       "var gd = document.getElementById('21a57e8e-ec9b-4f99-8e3d-1749236e25ed');\n",
       "var x = new MutationObserver(function (mutations, observer) {{\n",
       "        var display = window.getComputedStyle(gd).display;\n",
       "        if (!display || display === 'none') {{\n",
       "            console.log([gd, 'removed!']);\n",
       "            Plotly.purge(gd);\n",
       "            observer.disconnect();\n",
       "        }}\n",
       "}});\n",
       "\n",
       "// Listen for the removal of the full notebook cells\n",
       "var notebookContainer = gd.closest('#notebook-container');\n",
       "if (notebookContainer) {{\n",
       "    x.observe(notebookContainer, {childList: true});\n",
       "}}\n",
       "\n",
       "// Listen for the clearing of the current output cell\n",
       "var outputEl = gd.closest('.output');\n",
       "if (outputEl) {{\n",
       "    x.observe(outputEl, {childList: true});\n",
       "}}\n",
       "\n",
       "                        })                };                });            </script>        </div>"
      ]
     },
     "metadata": {},
     "output_type": "display_data"
    }
   ],
   "source": [
    "import plotly.express as px\n",
    "\n",
    "fig = px.scatter(life_data, x=\"GDP\", y=\"Life.expectancy\",\n",
    "        color=\"Country\",\n",
    "                 hover_name=\"Country\", log_x=True, size_max=60)\n",
    "fig.show()"
   ]
  },
  {
   "attachments": {
    "image.png": {
     "image/png": "[encoded data removed]"
    }
   },
   "cell_type": "markdown",
   "id": "b747ed36",
   "metadata": {},
   "source": [
    "![image.png](attachment:image.png)"
   ]
  },
  {
   "cell_type": "code",
   "execution_count": 386,
   "id": "ba049bf2",
   "metadata": {},
   "outputs": [],
   "source": [
    "life_df = pd.DataFrame(life_data['GDP'])\n",
    "life_df['Life_Exp'] = life_data['Life.expectancy']"
   ]
  },
  {
   "cell_type": "code",
   "execution_count": 387,
   "id": "eaa28e40",
   "metadata": {
    "collapsed": true
   },
   "outputs": [
    {
     "data": {
      "text/html": [
       "<div>\n",
       "<style scoped>\n",
       "    .dataframe tbody tr th:only-of-type {\n",
       "        vertical-align: middle;\n",
       "    }\n",
       "\n",
       "    .dataframe tbody tr th {\n",
       "        vertical-align: top;\n",
       "    }\n",
       "\n",
       "    .dataframe thead th {\n",
       "        text-align: right;\n",
       "    }\n",
       "</style>\n",
       "<table border=\"1\" class=\"dataframe\">\n",
       "  <thead>\n",
       "    <tr style=\"text-align: right;\">\n",
       "      <th></th>\n",
       "      <th>GDP</th>\n",
       "      <th>Life_Exp</th>\n",
       "    </tr>\n",
       "  </thead>\n",
       "  <tbody>\n",
       "    <tr>\n",
       "      <th>0</th>\n",
       "      <td>584.259210</td>\n",
       "      <td>65.0</td>\n",
       "    </tr>\n",
       "    <tr>\n",
       "      <th>1</th>\n",
       "      <td>3954.227830</td>\n",
       "      <td>77.8</td>\n",
       "    </tr>\n",
       "    <tr>\n",
       "      <th>2</th>\n",
       "      <td>4132.762920</td>\n",
       "      <td>75.6</td>\n",
       "    </tr>\n",
       "    <tr>\n",
       "      <th>3</th>\n",
       "      <td>3695.793748</td>\n",
       "      <td>52.4</td>\n",
       "    </tr>\n",
       "    <tr>\n",
       "      <th>4</th>\n",
       "      <td>13566.954100</td>\n",
       "      <td>76.4</td>\n",
       "    </tr>\n",
       "    <tr>\n",
       "      <th>...</th>\n",
       "      <td>...</td>\n",
       "      <td>...</td>\n",
       "    </tr>\n",
       "    <tr>\n",
       "      <th>149</th>\n",
       "      <td>15524.842470</td>\n",
       "      <td>77.0</td>\n",
       "    </tr>\n",
       "    <tr>\n",
       "      <th>150</th>\n",
       "      <td>2137.576852</td>\n",
       "      <td>69.4</td>\n",
       "    </tr>\n",
       "    <tr>\n",
       "      <th>151</th>\n",
       "      <td>285.834140</td>\n",
       "      <td>72.0</td>\n",
       "    </tr>\n",
       "    <tr>\n",
       "      <th>152</th>\n",
       "      <td>1313.889646</td>\n",
       "      <td>61.8</td>\n",
       "    </tr>\n",
       "    <tr>\n",
       "      <th>153</th>\n",
       "      <td>118.693830</td>\n",
       "      <td>67.0</td>\n",
       "    </tr>\n",
       "  </tbody>\n",
       "</table>\n",
       "<p>154 rows × 2 columns</p>\n",
       "</div>"
      ],
      "text/plain": [
       "              GDP  Life_Exp\n",
       "0      584.259210      65.0\n",
       "1     3954.227830      77.8\n",
       "2     4132.762920      75.6\n",
       "3     3695.793748      52.4\n",
       "4    13566.954100      76.4\n",
       "..            ...       ...\n",
       "149  15524.842470      77.0\n",
       "150   2137.576852      69.4\n",
       "151    285.834140      72.0\n",
       "152   1313.889646      61.8\n",
       "153    118.693830      67.0\n",
       "\n",
       "[154 rows x 2 columns]"
      ]
     },
     "execution_count": 387,
     "metadata": {},
     "output_type": "execute_result"
    }
   ],
   "source": [
    "life_df"
   ]
  },
  {
   "cell_type": "code",
   "execution_count": 388,
   "id": "3834f8c4",
   "metadata": {
    "scrolled": false
   },
   "outputs": [
    {
     "data": {
      "text/plain": [
       "<AxesSubplot:>"
      ]
     },
     "execution_count": 388,
     "metadata": {},
     "output_type": "execute_result"
    },
    {
     "data": {
      "image/png": "[encoded data removed]",
      "text/plain": [
       "<Figure size 432x288 with 1 Axes>"
      ]
     },
     "metadata": {
      "needs_background": "light"
     },
     "output_type": "display_data"
    }
   ],
   "source": [
    "import seaborn as sns\n",
    "sns.boxplot(data=life_df)"
   ]
  },
  {
   "cell_type": "code",
   "execution_count": 389,
   "id": "1a07adb1",
   "metadata": {
    "scrolled": false
   },
   "outputs": [
    {
     "data": {
      "text/plain": [
       "<AxesSubplot:xlabel='GDP', ylabel='Life_Exp'>"
      ]
     },
     "execution_count": 389,
     "metadata": {},
     "output_type": "execute_result"
    },
    {
     "data": {
      "image/png": "[encoded data removed]",
      "text/plain": [
       "<Figure size 432x288 with 1 Axes>"
      ]
     },
     "metadata": {
      "needs_background": "light"
     },
     "output_type": "display_data"
    }
   ],
   "source": [
    "sns.regplot(x=\"GDP\", y=\"Life_Exp\", data=life_df)"
   ]
  },
  {
   "cell_type": "markdown",
   "id": "d097019b",
   "metadata": {},
   "source": [
    "It is visible that there are some influential observations, affecting the regression line."
   ]
  },
  {
   "cell_type": "code",
   "execution_count": 390,
   "id": "18f2a456",
   "metadata": {},
   "outputs": [],
   "source": [
    "import statsmodels.api as sm\n",
    "\n",
    "x_val = sm.add_constant(life_df['GDP'])\n",
    "y_val = life_df['Life_Exp']\n",
    "model = sm.OLS(y_val,x_val).fit()"
   ]
  },
  {
   "cell_type": "code",
   "execution_count": 391,
   "id": "ab8b9424",
   "metadata": {},
   "outputs": [],
   "source": [
    "influence = model.get_influence()"
   ]
  },
  {
   "cell_type": "markdown",
   "id": "7861de14",
   "metadata": {},
   "source": [
    "#### Standardized Residuals :"
   ]
  },
  {
   "cell_type": "code",
   "execution_count": 392,
   "id": "61feb073",
   "metadata": {
    "collapsed": true
   },
   "outputs": [
    {
     "data": {
      "text/plain": [
       "array([-0.61971987,  0.96947318,  0.66333784, -2.46368843,  0.36049712,\n",
       "        0.35127484,  0.71967703, -0.68885575, -0.27009358,  0.44843593,\n",
       "        0.03022352,  0.32339105,  0.15154846,  0.13658857,  1.39931617,\n",
       "        0.00828551, -1.30691676, -0.05688244,  0.88807152, -0.78363685,\n",
       "        0.38015842,  0.95531449,  0.38928419, -1.31320559, -1.32876616,\n",
       "        0.4029626 , -0.14283904, -1.69318929, -0.15611432, -2.30599529,\n",
       "       -2.24298239,  1.52381326,  0.8741625 ,  0.70761171, -0.82951113,\n",
       "        1.33690137,  0.66404535,  1.28597374,  2.01533059,  2.02173244,\n",
       "       -0.87876352,  0.33084586,  0.89843546,  0.37882436, -1.57551835,\n",
       "        1.03790327, -0.64952209, -0.14399602,  1.40420126,  0.17577601,\n",
       "       -0.78031028,  0.51670741, -0.22691938, -1.00625727,  1.56918557,\n",
       "        0.17051197,  0.17074961, -1.43270488, -1.44810732, -0.6114735 ,\n",
       "       -0.83328296,  0.60676462,  0.33141565,  1.55595039, -0.21673222,\n",
       "       -0.18333291, -0.28186548,  1.33908812,  0.22488634,  1.79278293,\n",
       "        0.70827117,  0.4459277 ,  0.61908602,  0.34883752, -0.87009323,\n",
       "       -0.47986175, -0.54871058,  0.11188604,  0.71231337, -2.13563076,\n",
       "       -1.10257135, -0.04940944,  1.66019463, -0.52827549, -1.51942246,\n",
       "        0.34152319,  0.87042722, -1.54884148,  0.63571144, -0.9024778 ,\n",
       "        0.30435462,  0.59382824, -0.25052228,  0.62942046,  0.5432645 ,\n",
       "       -1.62157401, -0.42915083, -0.69187795, -0.05669173, -0.24259551,\n",
       "        1.49057212,  0.72291235, -1.04423823, -2.13393339,  1.35880328,\n",
       "        0.25431447, -0.46658823,  0.56929166,  0.60891927,  0.82814278,\n",
       "       -0.24474898,  0.55331607,  1.50622496, -1.86183499,  0.37137373,\n",
       "        0.35522399, -0.4481171 ,  0.44565245, -0.32576783,  0.57539784,\n",
       "       -0.36786831,  0.61506955,  0.45128261, -2.51982691, -0.50595343,\n",
       "        2.40659345, -0.10811751, -1.97007134, -1.13000304, -1.67222776,\n",
       "        0.70509904,  0.58100274, -0.82568282, -0.08349849, -1.55800156,\n",
       "        1.52180158,  1.50889441,  0.00352369,  0.4949429 , -0.19705231,\n",
       "       -1.31041818,  0.53779766, -0.50985963,  0.63594379,  0.78473456,\n",
       "       -0.6979355 , -0.99089489,  0.16793251,  0.87640981,  0.35668338,\n",
       "       -0.09037192,  0.34332706, -1.0856184 , -0.32801802])"
      ]
     },
     "execution_count": 392,
     "metadata": {},
     "output_type": "execute_result"
    }
   ],
   "source": [
    "stand_resid = influence.resid_studentized_internal\n",
    "stand_resid"
   ]
  },
  {
   "cell_type": "code",
   "execution_count": 393,
   "id": "ae327d6a",
   "metadata": {},
   "outputs": [
    {
     "data": {
      "image/png": "[encoded data removed]",
      "text/plain": [
       "<Figure size 432x288 with 1 Axes>"
      ]
     },
     "metadata": {
      "needs_background": "light"
     },
     "output_type": "display_data"
    }
   ],
   "source": [
    "plt.scatter(life_data['GDP'], stand_resid , color = 'indigo')\n",
    "plt.xlabel('GDP')\n",
    "plt.ylabel('Standardized Residuals')\n",
    "plt.axhline(y=0, color='red', linestyle='--', linewidth=1)\n",
    "plt.show()"
   ]
  },
  {
   "cell_type": "code",
   "execution_count": 394,
   "id": "c78857a0",
   "metadata": {},
   "outputs": [
    {
     "data": {
      "text/plain": [
       "(array([  3,  29,  30,  38,  39,  79, 103, 123, 125], dtype=int64),)"
      ]
     },
     "execution_count": 394,
     "metadata": {},
     "output_type": "execute_result"
    }
   ],
   "source": [
    "np.where(abs(np.array(stand_resid))>2)"
   ]
  },
  {
   "cell_type": "markdown",
   "id": "26fc0309",
   "metadata": {},
   "source": [
    "#### Studentized Residuals :"
   ]
  },
  {
   "cell_type": "code",
   "execution_count": 396,
   "id": "9304a0c9",
   "metadata": {
    "collapsed": true
   },
   "outputs": [
    {
     "data": {
      "text/plain": [
       "array([-0.61845977,  0.96928023,  0.66211126, -2.50611855,  0.35946302,\n",
       "        0.35025963,  0.718531  , -0.68766026, -0.26926828,  0.44725433,\n",
       "        0.03012403,  0.32243645,  0.15106053,  0.13614688,  1.4037767 ,\n",
       "        0.00825822, -1.30999161, -0.05669562,  0.88745073, -0.78263739,\n",
       "        0.37908609,  0.95503822,  0.3881951 , -1.3163674 , -1.33214766,\n",
       "        0.40184958, -0.14237796, -1.70375424, -0.15561241, -2.33968778,\n",
       "       -2.27353385,  1.53052789,  0.87348064,  0.70644473, -0.82865572,\n",
       "        1.34040032,  0.66281951,  1.28876651,  2.03607724,  2.04272343,\n",
       "       -0.87810149,  0.32987455,  0.8978624 ,  0.37775454, -1.58330861,\n",
       "        1.03816883, -0.64828227, -0.14353136,  1.40874165,  0.17521465,\n",
       "       -0.77930167,  0.5154578 , -0.22621002, -1.0062991 ,  1.57683951,\n",
       "        0.1699664 ,  0.17020333, -1.43772494, -1.45339641, -0.61020973,\n",
       "       -0.83244092,  0.60549913,  0.33044308,  1.56332358, -0.2160515 ,\n",
       "       -0.18274905, -0.28101021,  1.34261895,  0.22418266,  1.80607279,\n",
       "        0.70710529,  0.44474942,  0.61782561,  0.3478274 , -0.86939415,\n",
       "       -0.47864335, -0.5474451 ,  0.11152198,  0.71115431, -2.16126655,\n",
       "       -1.10335957, -0.04924704,  1.66993434, -0.52701891, -1.52604962,\n",
       "        0.34052858,  0.86972954, -1.55606619,  0.63446083, -0.90192387,\n",
       "        0.30344428,  0.59255939, -0.2497484 ,  0.62816573,  0.54200095,\n",
       "       -1.63039499, -0.42799619, -0.69068673, -0.05650554, -0.24184301,\n",
       "        1.49663939,  0.72177229, -1.04455106, -2.15949574,  1.36262737,\n",
       "        0.25353047, -0.46538427,  0.56802179,  0.60765454,  0.82728259,\n",
       "       -0.24399064,  0.5520492 ,  1.51259282, -1.87722942,  0.37031813,\n",
       "        0.35420062, -0.44693592,  0.44447454, -0.32480787,  0.57412757,\n",
       "       -0.36681955,  0.61380728,  0.45009731, -2.5656844 , -0.50471155,\n",
       "        2.44571124, -0.10776542, -1.98913979, -1.13104058, -1.68226408,\n",
       "        0.70392796,  0.57973249, -0.82481409, -0.08322528, -1.5654179 ,\n",
       "        1.52847605,  1.51531428,  0.00351208,  0.49371011, -0.19642814,\n",
       "       -1.31354132,  0.53653637, -0.5086148 ,  0.63469334,  0.78373815,\n",
       "       -0.69675321, -0.99083542,  0.16739472,  0.87573759,  0.35565702,\n",
       "       -0.09007658,  0.3423286 , -1.08626088, -0.32705301])"
      ]
     },
     "execution_count": 396,
     "metadata": {},
     "output_type": "execute_result"
    }
   ],
   "source": [
    "student_resid = influence.resid_studentized_external\n",
    "student_resid"
   ]
  },
  {
   "cell_type": "code",
   "execution_count": 397,
   "id": "5537d058",
   "metadata": {},
   "outputs": [
    {
     "data": {
      "image/png": "[encoded data removed]",
      "text/plain": [
       "<Figure size 432x288 with 1 Axes>"
      ]
     },
     "metadata": {
      "needs_background": "light"
     },
     "output_type": "display_data"
    }
   ],
   "source": [
    "plt.scatter(life_data['GDP'], student_resid , color = 'blue')\n",
    "plt.xlabel('GDP')\n",
    "plt.ylabel('Studentized Residuals')\n",
    "plt.axhline(y=0, color='red', linestyle='--', linewidth=1)\n",
    "plt.show()"
   ]
  },
  {
   "cell_type": "code",
   "execution_count": 398,
   "id": "3efe0707",
   "metadata": {},
   "outputs": [
    {
     "data": {
      "text/plain": [
       "(array([], dtype=int64),)"
      ]
     },
     "execution_count": 398,
     "metadata": {},
     "output_type": "execute_result"
    }
   ],
   "source": [
    "np.where(abs(np.array(student_resid))>3)"
   ]
  },
  {
   "cell_type": "markdown",
   "id": "2904419b",
   "metadata": {},
   "source": [
    "#### High Leverage value detection :"
   ]
  },
  {
   "cell_type": "code",
   "execution_count": 402,
   "id": "403700fe",
   "metadata": {
    "collapsed": true
   },
   "outputs": [
    {
     "data": {
      "text/plain": [
       "array([0.00857488, 0.00699219, 0.0069386 , 0.00707515, 0.00843879,\n",
       "       0.00837841, 0.00871242, 0.12291454, 0.07006261, 0.00892181,\n",
       "       0.01797462, 0.00887717, 0.00984187, 0.0065665 , 0.00687565,\n",
       "       0.00675401, 0.00845086, 0.00749184, 0.00681898, 0.00651385,\n",
       "       0.00661154, 0.00698798, 0.00649526, 0.00855517, 0.00893657,\n",
       "       0.00734867, 0.00822581, 0.00817939, 0.06884798, 0.00872629,\n",
       "       0.00845496, 0.00849175, 0.00839907, 0.00853705, 0.00848544,\n",
       "       0.0082355 , 0.00741588, 0.00846415, 0.00759873, 0.00666066,\n",
       "       0.00784702, 0.00651805, 0.00854888, 0.00694025, 0.0081215 ,\n",
       "       0.00789174, 0.00853647, 0.00673822, 0.00690636, 0.04761649,\n",
       "       0.00649549, 0.00705242, 0.06168393, 0.00811381, 0.00883241,\n",
       "       0.00668974, 0.0070017 , 0.0085937 , 0.00856694, 0.00693746,\n",
       "       0.00843219, 0.00762134, 0.00777534, 0.00659406, 0.00797659,\n",
       "       0.00720122, 0.00672703, 0.00650648, 0.0454117 , 0.00872579,\n",
       "       0.00672878, 0.04206408, 0.00863028, 0.00885104, 0.00812002,\n",
       "       0.00807875, 0.02917333, 0.00850001, 0.00841271, 0.00884175,\n",
       "       0.00865888, 0.00887914, 0.0082048 , 0.00893098, 0.00871698,\n",
       "       0.00678217, 0.00656349, 0.00848416, 0.01971018, 0.00822865,\n",
       "       0.00669755, 0.00667659, 0.00699529, 0.00651855, 0.0073924 ,\n",
       "       0.00861031, 0.00820779, 0.00677968, 0.00847551, 0.07226632,\n",
       "       0.00703387, 0.00876066, 0.00871936, 0.00747379, 0.00649699,\n",
       "       0.01075197, 0.00807503, 0.00818404, 0.00868017, 0.00891634,\n",
       "       0.00737958, 0.00787641, 0.00781642, 0.17367785, 0.00664374,\n",
       "       0.00671307, 0.0089109 , 0.00693377, 0.0079705 , 0.00744045,\n",
       "       0.00889233, 0.00667478, 0.0080161 , 0.00857282, 0.10952942,\n",
       "       0.00744173, 0.00781655, 0.00867524, 0.00658922, 0.00846632,\n",
       "       0.0228389 , 0.00702651, 0.00753588, 0.00662099, 0.00727638,\n",
       "       0.0066158 , 0.00664905, 0.00836934, 0.00658322, 0.00822663,\n",
       "       0.00859582, 0.00863234, 0.01140143, 0.00703162, 0.00778799,\n",
       "       0.00652057, 0.00850632, 0.00771682, 0.00700539, 0.00981553,\n",
       "       0.00771058, 0.00876733, 0.00814019, 0.00887883])"
      ]
     },
     "execution_count": 402,
     "metadata": {},
     "output_type": "execute_result"
    }
   ],
   "source": [
    "leverage = influence.hat_matrix_diag\n",
    "leverage"
   ]
  },
  {
   "cell_type": "code",
   "execution_count": 406,
   "id": "70bfff7c",
   "metadata": {},
   "outputs": [
    {
     "data": {
      "text/plain": [
       "(array([  3,   7,  29,  30,  79, 113, 123, 125], dtype=int64),)"
      ]
     },
     "execution_count": 406,
     "metadata": {},
     "output_type": "execute_result"
    }
   ],
   "source": [
    "HVi = 3*(1/153)\n",
    "leverage_list = np.where((np.array(cooks))>HVi)\n",
    "leverage_list"
   ]
  },
  {
   "cell_type": "code",
   "execution_count": 427,
   "id": "6122b412",
   "metadata": {
    "scrolled": true
   },
   "outputs": [
    {
     "name": "stdout",
     "output_type": "stream",
     "text": [
      "3       3695.793748\n",
      "7      56554.387600\n",
      "29       348.381417\n",
      "30       777.248751\n",
      "79       173.828930\n",
      "113    66346.522670\n",
      "123      587.538233\n",
      "125     2729.863830\n",
      "Name: GDP, dtype: float64\n"
     ]
    }
   ],
   "source": [
    "for i in leverage_list:\n",
    "    print(life_data['GDP'][i])"
   ]
  },
  {
   "cell_type": "markdown",
   "id": "00a81611",
   "metadata": {},
   "source": [
    "So, these are the High Leverage values."
   ]
  },
  {
   "cell_type": "markdown",
   "id": "308b19f1",
   "metadata": {},
   "source": [
    "#### Influential observation detection :"
   ]
  },
  {
   "cell_type": "markdown",
   "id": "6797286c",
   "metadata": {},
   "source": [
    "#### Using DFBETAS :"
   ]
  },
  {
   "cell_type": "code",
   "execution_count": 401,
   "id": "79a17202",
   "metadata": {
    "collapsed": true
   },
   "outputs": [
    {
     "data": {
      "text/plain": [
       "array([[-5.74772727e-02,  2.83371978e-02],\n",
       "       [ 7.81237263e-02, -2.17212517e-02],\n",
       "       [ 5.29344291e-02, -1.40174587e-02],\n",
       "       [-2.04357687e-01,  6.06557884e-02],\n",
       "       [ 1.64113190e-02,  1.59215905e-02],\n",
       "       [ 1.61179726e-02,  1.52707911e-02],\n",
       "       [ 6.73437147e-02, -3.39950413e-02],\n",
       "       [ 8.10693731e-02, -2.50535167e-01],\n",
       "       [ 1.77800448e-02, -7.04014154e-02],\n",
       "       [ 4.24350297e-02, -2.21387000e-02],\n",
       "       [ 3.76524016e-04,  3.25719414e-03],\n",
       "       [ 3.05144237e-02, -1.58125771e-02],\n",
       "       [ 5.80567483e-03,  8.78446089e-03],\n",
       "       [ 9.98299731e-03, -1.16706006e-03],\n",
       "       [ 1.11080812e-01, -2.75363679e-02],\n",
       "       [ 6.38616253e-04, -1.33741997e-04],\n",
       "       [-1.20785417e-01,  5.82031061e-02],\n",
       "       [-4.84743229e-03,  1.79812483e-03],\n",
       "       [ 6.95177150e-02, -1.60653500e-02],\n",
       "       [-5.57241390e-02,  3.54194150e-03],\n",
       "       [ 2.39244258e-02,  4.13211616e-03],\n",
       "       [ 7.69281658e-02, -2.13115189e-02],\n",
       "       [ 2.69886420e-02, -5.16413645e-04],\n",
       "       [-1.22186708e-01,  6.00277261e-02],\n",
       "       [-1.26498701e-01,  6.61407058e-02],\n",
       "       [ 3.38574174e-02, -1.17948077e-02],\n",
       "       [-1.29296168e-02,  5.95042852e-03],\n",
       "       [-1.54213644e-01,  7.02431044e-02],\n",
       "       [ 1.00637589e-02, -4.02687131e-02],\n",
       "       [-2.19468077e-01,  1.11041274e-01],\n",
       "       [-2.09682987e-01,  1.01119340e-01],\n",
       "       [ 6.93974396e-02,  6.87095205e-02],\n",
       "       [ 8.02644151e-02, -3.82909444e-02],\n",
       "       [ 6.54979657e-02, -3.20724492e-02],\n",
       "       [-7.65759302e-02,  3.71417501e-02],\n",
       "       [ 1.21807055e-01, -5.61764052e-02],\n",
       "       [ 3.50394664e-02,  2.02053209e-02],\n",
       "       [ 1.18930965e-01, -5.74544433e-02],\n",
       "       [ 1.75860170e-01, -6.79479484e-02],\n",
       "       [ 1.54505368e-01, -2.64985993e-02],\n",
       "       [-7.74925626e-02,  3.24329294e-02],\n",
       "       [ 2.35642853e-02, -1.63969898e-03],\n",
       "       [ 8.33075428e-02, -4.08808238e-02],\n",
       "       [ 3.02084803e-02, -8.01218134e-03],\n",
       "       [-1.42714376e-01,  6.41449915e-02],\n",
       "       [ 9.19502903e-02, -3.89743555e-02],\n",
       "       [-6.01032049e-02,  2.94276546e-02],\n",
       "       [-1.10617913e-02,  2.25291049e-03],\n",
       "       [ 1.12046821e-01, -2.87233295e-02],\n",
       "       [-6.78476347e-03,  3.64088365e-02],\n",
       "       [-5.30584667e-02, -1.10045202e-03],\n",
       "       [ 4.19026052e-02, -1.22293575e-02],\n",
       "       [ 1.27623847e-02, -5.48616838e-02],\n",
       "       [-9.06536681e-02,  4.06719195e-02],\n",
       "       [ 1.48841353e-01, -7.65985152e-02],\n",
       "       [ 1.04458249e-02,  2.38894145e-03],\n",
       "       [ 1.37373931e-02, -3.85040560e-03],\n",
       "       [-1.33773769e-01,  6.61728266e-02],\n",
       "       [-1.35005777e-01,  6.64656411e-02],\n",
       "       [-4.87762619e-02,  1.29020325e-02],\n",
       "       [-7.66602424e-02,  3.68083273e-02],\n",
       "       [ 5.24066900e-02, -2.04125891e-02],\n",
       "       [ 1.65263959e-02,  1.18770070e-02],\n",
       "       [ 1.15853521e-01, -1.57282475e-02],\n",
       "       [-1.92636472e-02,  8.35371153e-03],\n",
       "       [-1.51421103e-02,  4.87923712e-03],\n",
       "       [-2.16034565e-02,  4.30873413e-03],\n",
       "       [ 9.49524886e-02, -4.85205091e-03],\n",
       "       [-8.00747372e-03,  4.52658130e-02],\n",
       "       [ 1.69408686e-01, -8.57063504e-02],\n",
       "       [ 5.43820711e-02, -1.08826652e-02],\n",
       "       [-1.37897955e-02,  8.57023220e-02],\n",
       "       [ 5.76162848e-02, -2.86831773e-02],\n",
       "       [ 3.28677305e-02, -1.69638019e-02],\n",
       "       [-7.83559345e-02,  3.52059223e-02],\n",
       "       [-4.30079732e-02,  1.91346602e-02],\n",
       "       [ 5.78305373e-03, -8.36738148e-02],\n",
       "       [ 5.05124393e-03,  5.01688188e-03],\n",
       "       [ 6.54071158e-02, -3.12866737e-02],\n",
       "       [-2.04117564e-01,  1.05198330e-01],\n",
       "       [-1.03076224e-01,  5.15669496e-02],\n",
       "       [-2.12592684e-03, -2.41612133e-03],\n",
       "       [ 1.51425621e-01, -6.93666009e-02],\n",
       "       [-5.00290720e-02,  2.61363312e-02],\n",
       "       [-1.43066938e-01,  7.22745431e-02],\n",
       "       [ 2.03946902e-02,  5.80536298e-03],\n",
       "       [ 5.60317146e-02,  7.30000499e-03],\n",
       "       [-1.43783932e-01,  6.97230186e-02],\n",
       "       [ 5.31025675e-03,  7.36696500e-02],\n",
       "       [-8.19217639e-02,  3.77252059e-02],\n",
       "       [ 1.86051288e-02,  4.34905098e-03],\n",
       "       [ 3.65662671e-02,  8.04479632e-03],\n",
       "       [-2.01388132e-02,  5.61418614e-03],\n",
       "       [ 4.48890871e-02, -3.15411348e-03],\n",
       "       [ 4.58774697e-02, -1.63104642e-02],\n",
       "       [-1.51857524e-01,  7.53375241e-02],\n",
       "       [-3.88178727e-02,  1.77938921e-02],\n",
       "       [-5.36944673e-02,  1.17238599e-02],\n",
       "       [-5.21832394e-03,  2.52633923e-03],\n",
       "       [ 1.65588640e-02, -6.43939529e-02],\n",
       "       [ 1.21351949e-01, -3.49135722e-02],\n",
       "       [ 6.78428495e-02, -3.45184310e-02],\n",
       "       [-9.79405573e-02,  4.94971080e-02],\n",
       "       [-1.84307272e-01,  6.78667607e-02],\n",
       "       [ 9.24455914e-02,  2.55023441e-03],\n",
       "       [ 8.75982362e-03,  1.66342781e-02],\n",
       "       [-4.18050591e-02,  1.85827336e-02],\n",
       "       [ 2.68242515e-02,  2.34510331e-02],\n",
       "       [ 5.68409729e-02, -2.85391105e-02],\n",
       "       [ 7.84673086e-02, -4.09035397e-02],\n",
       "       [-2.06247893e-02,  7.28981760e-03],\n",
       "       [ 2.72082983e-02,  2.06106178e-02],\n",
       "       [ 1.33151243e-01, -5.52320886e-02],\n",
       "       [ 3.01329677e-01, -8.44384908e-01],\n",
       "       [ 2.30999466e-02,  4.55411491e-03],\n",
       "       [ 2.16178708e-02,  5.26612140e-03],\n",
       "       [-4.23784846e-02,  2.20730658e-02],\n",
       "       [ 3.55078890e-02, -9.35870847e-03],\n",
       "       [-2.89469853e-02,  1.25329698e-02],\n",
       "       [ 4.88370867e-02, -1.77334005e-02],\n",
       "       [-3.47449440e-02,  1.80464280e-02],\n",
       "       [ 4.65996575e-02, -8.29188352e-03],\n",
       "       [ 4.02533140e-02, -1.76337915e-02],\n",
       "       [-2.38413956e-01,  1.17498532e-01],\n",
       "       [ 5.33804348e-02, -1.71683186e-01],\n",
       "       [ 2.08066664e-01, -7.55929671e-02],\n",
       "       [-9.48653099e-03,  3.93523723e-03],\n",
       "       [-1.86011658e-01,  9.33165504e-02],\n",
       "       [-8.36726694e-02,  1.11020372e-02],\n",
       "       [-1.55265844e-01,  7.50383037e-02],\n",
       "       [ 1.08712967e-03,  9.10422275e-02],\n",
       "       [ 4.69577376e-02, -1.34314672e-02],\n",
       "       [-7.08220256e-02,  2.67307410e-02],\n",
       "       [-5.23375129e-03, -9.42796369e-04],\n",
       "       [-1.30846423e-01,  4.39603504e-02],\n",
       "       [ 1.14101870e-01, -1.69590213e-02],\n",
       "       [ 9.43523236e-02,  1.89614572e-02],\n",
       "       [ 3.22088956e-04, -1.52751814e-04],\n",
       "       [ 3.64428293e-02, -4.69176522e-03],\n",
       "       [-1.78390412e-02,  8.21129755e-03],\n",
       "       [-1.22235200e-01,  6.04877448e-02],\n",
       "       [ 5.00418692e-02, -2.49212506e-02],\n",
       "       [-1.62909889e-02, -3.58367004e-02],\n",
       "       [ 5.14465378e-02, -1.47751840e-02],\n",
       "       [ 6.88281135e-02, -2.83085506e-02],\n",
       "       [-4.98627370e-02,  3.63631077e-03],\n",
       "       [-9.16856663e-02,  4.46434949e-02],\n",
       "       [ 1.46116910e-02, -5.87750203e-03],\n",
       "       [ 7.07200524e-02, -1.98831436e-02],\n",
       "       [ 1.37114646e-02,  2.06003596e-02],\n",
       "       [-7.85842071e-03,  3.15465484e-03],\n",
       "       [ 3.21898525e-02, -1.63958427e-02],\n",
       "       [-9.80451888e-02,  4.42603328e-02],\n",
       "       [-3.09542824e-02,  1.60445859e-02]])"
      ]
     },
     "execution_count": 401,
     "metadata": {},
     "output_type": "execute_result"
    }
   ],
   "source": [
    "dfbetas = influence.dfbetas\n",
    "dfbetas"
   ]
  },
  {
   "cell_type": "code",
   "execution_count": 423,
   "id": "7a48ba05",
   "metadata": {},
   "outputs": [
    {
     "data": {
      "text/plain": [
       "(array([  7, 113, 123], dtype=int64),)"
      ]
     },
     "execution_count": 423,
     "metadata": {},
     "output_type": "execute_result"
    }
   ],
   "source": [
    "DBi = (2/(153**(1/2)))\n",
    "dfbeta_list = np.where(abs(np.array(cooks))>CDi)\n",
    "dfbeta_list"
   ]
  },
  {
   "cell_type": "code",
   "execution_count": 425,
   "id": "9feb06b8",
   "metadata": {
    "scrolled": true
   },
   "outputs": [
    {
     "name": "stdout",
     "output_type": "stream",
     "text": [
      "7      56554.387600\n",
      "113    66346.522670\n",
      "123      587.538233\n",
      "Name: GDP, dtype: float64 7      82.8\n",
      "113    78.2\n",
      "123    51.0\n",
      "Name: Life.expectancy, dtype: float64\n"
     ]
    }
   ],
   "source": [
    "for i in dfbeta_list:\n",
    "    print(life_data['GDP'][i],life_data['Life.expectancy'][i])"
   ]
  },
  {
   "cell_type": "markdown",
   "id": "d6f59bbf",
   "metadata": {},
   "source": [
    "#### Using DFFITS :"
   ]
  },
  {
   "cell_type": "code",
   "execution_count": 412,
   "id": "e2c509fd",
   "metadata": {
    "collapsed": true
   },
   "outputs": [
    {
     "data": {
      "text/plain": [
       "array([-5.75169196e-02,  8.13353961e-02,  5.53450640e-02, -2.11549147e-01,\n",
       "        3.31615382e-02,  3.21957000e-02,  6.73620045e-02, -2.57427299e-01,\n",
       "       -7.39097106e-02,  4.24352816e-02,  4.07550581e-03,  3.05152972e-02,\n",
       "        1.50604369e-02,  1.10689244e-02,  1.16802715e-01,  6.80987006e-04,\n",
       "       -1.20937748e-01, -4.92579887e-03,  7.35342832e-02, -6.33721894e-02,\n",
       "        3.09264064e-02,  8.01160048e-02,  3.13879898e-02, -1.22280499e-01,\n",
       "       -1.26498979e-01,  3.45755946e-02, -1.29665867e-02, -1.54721528e-01,\n",
       "       -4.23135578e-02, -2.19520932e-01, -2.09942799e-01,  1.41641851e-01,\n",
       "        8.03896831e-02,  6.55532027e-02, -7.66587709e-02,  1.22144895e-01,\n",
       "        5.72918784e-02,  1.19072536e-01,  1.78164512e-01,  1.67270555e-01,\n",
       "       -7.80922045e-02,  2.67194655e-02,  8.33736421e-02,  3.15798115e-02,\n",
       "       -1.43269741e-01,  9.25923170e-02, -6.01540436e-02, -1.18219064e-02,\n",
       "        1.17479176e-01,  3.91780829e-02, -6.30124784e-02,  4.34409338e-02,\n",
       "       -5.79993714e-02, -9.10140926e-02,  1.48851640e-01,  1.39484257e-02,\n",
       "        1.42920789e-02, -1.33856689e-01, -1.35103061e-01, -5.10024433e-02,\n",
       "       -7.67648662e-02,  5.30628534e-02,  2.92517112e-02,  1.27368458e-01,\n",
       "       -1.93733633e-02, -1.55642221e-02, -2.31259378e-02,  1.08653409e-01,\n",
       "        4.88965104e-02,  1.69449667e-01,  5.81993686e-02,  9.31971976e-02,\n",
       "        5.76448491e-02,  3.28693758e-02, -7.86621200e-02, -4.31961840e-02,\n",
       "       -9.48992398e-02,  1.03258015e-02,  6.55037925e-02, -2.04129639e-01,\n",
       "       -1.03118419e-01, -4.66124868e-03,  1.51887609e-01, -5.00292419e-02,\n",
       "       -1.43104316e-01,  2.81394587e-02,  7.06938602e-02, -1.43940394e-01,\n",
       "        8.99648447e-02, -8.21539329e-02,  2.49170155e-02,  4.85807271e-02,\n",
       "       -2.09618707e-02,  5.08826823e-02,  4.67739553e-02, -1.51942804e-01,\n",
       "       -3.89352249e-02, -5.70640787e-02, -5.22422941e-03, -6.74978353e-02,\n",
       "        1.25964227e-01,  6.78545943e-02, -9.79656246e-02, -1.87392322e-01,\n",
       "        1.10191601e-01,  2.64314847e-02, -4.19898436e-02,  5.15980695e-02,\n",
       "        5.68609178e-02,  7.84679198e-02, -2.10376589e-02,  4.91879907e-02,\n",
       "        1.34254828e-01, -8.60626822e-01,  3.02850804e-02,  2.91187348e-02,\n",
       "       -4.23789037e-02,  3.71400612e-02, -2.91143510e-02,  4.97083907e-02,\n",
       "       -3.47456032e-02,  5.03158456e-02,  4.04609048e-02, -2.38580303e-01,\n",
       "       -1.77010425e-01,  2.11769778e-01, -9.56513389e-03, -1.86079360e-01,\n",
       "       -9.21150921e-02, -1.55448907e-01,  1.07617466e-01,  4.87672896e-02,\n",
       "       -7.18729950e-02, -6.79452499e-03, -1.34021267e-01,  1.24735819e-01,\n",
       "        1.23974119e-01,  3.22652633e-04,  4.01906914e-02, -1.78899186e-02,\n",
       "       -1.22310035e-01,  5.00663522e-02, -5.46208834e-02,  5.34101637e-02,\n",
       "        6.94354966e-02, -5.64471724e-02, -9.17756303e-02,  1.47619295e-02,\n",
       "        7.35557500e-02,  3.54103524e-02, -7.94028944e-03,  3.21950461e-02,\n",
       "       -9.84070896e-02, -3.09551326e-02])"
      ]
     },
     "execution_count": 412,
     "metadata": {},
     "output_type": "execute_result"
    }
   ],
   "source": [
    "(dffits, p) = influence.dffits\n",
    "dffits"
   ]
  },
  {
   "cell_type": "code",
   "execution_count": 460,
   "id": "0427c071",
   "metadata": {},
   "outputs": [
    {
     "data": {
      "text/plain": [
       "(array([  3,   7,  29,  30,  38,  39,  69,  79, 103, 113, 123, 124, 125,\n",
       "        127], dtype=int64),)"
      ]
     },
     "execution_count": 460,
     "metadata": {},
     "output_type": "execute_result"
    }
   ],
   "source": [
    "DFi = (2*((1/153)**(1/2)))\n",
    "dffit_list = np.where(abs(np.array(dffits))>DFi)\n",
    "dffit_list"
   ]
  },
  {
   "cell_type": "code",
   "execution_count": 461,
   "id": "0fa177e7",
   "metadata": {
    "collapsed": true
   },
   "outputs": [
    {
     "name": "stdout",
     "output_type": "stream",
     "text": [
      "3       3695.793748\n",
      "7      56554.387600\n",
      "29       348.381417\n",
      "30       777.248751\n",
      "38      2375.112700\n",
      "39      5314.644160\n",
      "69       349.147550\n",
      "79       173.828930\n",
      "103     2655.157977\n",
      "113    66346.522670\n",
      "123      587.538233\n",
      "124    53629.737460\n",
      "125     2729.863830\n",
      "127      426.985370\n",
      "Name: GDP, dtype: float64 3      52.4\n",
      "7      82.8\n",
      "29     52.5\n",
      "30     53.1\n",
      "38     85.0\n",
      "39     86.0\n",
      "69     82.7\n",
      "79     53.7\n",
      "103    54.5\n",
      "113    78.2\n",
      "123    51.0\n",
      "124    83.1\n",
      "125    88.0\n",
      "127    55.0\n",
      "Name: Life.expectancy, dtype: float64\n"
     ]
    }
   ],
   "source": [
    "for i in dffit_list:\n",
    "    print(life_data['GDP'][i],life_data['Life.expectancy'][i])"
   ]
  },
  {
   "cell_type": "code",
   "execution_count": 462,
   "id": "d8d91bc5",
   "metadata": {},
   "outputs": [
    {
     "data": {
      "image/png": "[encoded data removed]",
      "text/plain": [
       "<Figure size 864x576 with 1 Axes>"
      ]
     },
     "metadata": {
      "needs_background": "light"
     },
     "output_type": "display_data"
    }
   ],
   "source": [
    "fig, ax = plt.subplots(figsize=(12,8))\n",
    "fig = sm.graphics.influence_plot(model, alpha = 0.05, ax = ax, criterion=\"dffit\")"
   ]
  },
  {
   "cell_type": "markdown",
   "id": "708876ab",
   "metadata": {},
   "source": [
    "#### Using Cook's Distance :"
   ]
  },
  {
   "cell_type": "code",
   "execution_count": 408,
   "id": "5c69051e",
   "metadata": {
    "collapsed": true
   },
   "outputs": [
    {
     "data": {
      "text/plain": [
       "array([1.66084529e-03, 3.30904032e-03, 1.53721776e-03, 2.16252386e-02,\n",
       "       5.53011933e-04, 5.21290347e-04, 2.27606300e-03, 3.32497145e-02,\n",
       "       2.74809135e-03, 9.05140243e-04, 8.35982273e-06, 4.68352603e-04,\n",
       "       1.14142179e-04, 6.16586742e-05, 6.77815553e-03, 2.33407120e-07,\n",
       "       7.27867933e-03, 1.22118300e-05, 2.70742924e-03, 2.01314912e-03,\n",
       "       4.80930634e-04, 3.21114412e-03, 4.95370851e-04, 7.44038855e-03,\n",
       "       7.96042812e-03, 6.01051606e-04, 8.46115561e-05, 1.18213922e-02,\n",
       "       9.01002698e-04, 2.34057681e-02, 2.14496817e-02, 9.94338363e-03,\n",
       "       3.23629731e-03, 2.15571564e-03, 2.94435300e-03, 7.42079334e-03,\n",
       "       1.64725576e-03, 7.05844322e-03, 1.55495027e-02, 1.37036803e-02,\n",
       "       3.05379573e-03, 3.59070162e-04, 3.48002011e-03, 5.01470613e-04,\n",
       "       1.01623638e-02, 4.28447576e-03, 1.81618142e-03, 7.03319136e-05,\n",
       "       6.85626818e-03, 7.72386579e-04, 1.99042845e-03, 9.48137764e-04,\n",
       "       1.69252881e-03, 4.14143819e-03, 1.09711178e-02, 9.79047928e-05,\n",
       "       1.02788409e-04, 8.89635347e-03, 9.06011507e-03, 1.30601747e-03,\n",
       "       2.95238620e-03, 1.41372407e-03, 4.30353422e-04, 8.03503033e-03,\n",
       "       1.88848030e-04, 1.21897679e-04, 2.69034697e-04, 5.87177609e-03,\n",
       "       1.20295076e-03, 1.41460881e-02, 1.69917266e-03, 4.36590037e-03,\n",
       "       1.66825027e-03, 5.43340068e-04, 3.09884216e-03, 9.37710957e-04,\n",
       "       4.52377508e-03, 5.36597218e-05, 2.15237230e-03, 2.03431316e-02,\n",
       "       5.30911066e-03, 1.09353885e-05, 1.14007628e-02, 1.25743743e-03,\n",
       "       1.01506825e-02, 3.98230699e-04, 2.50282155e-03, 1.02634457e-02,\n",
       "       4.06280612e-03, 3.37878076e-03, 3.12294215e-04, 1.18510261e-03,\n",
       "       2.21063664e-04, 1.29970032e-03, 1.09900775e-03, 1.14187393e-02,\n",
       "       7.62071093e-04, 1.63377550e-03, 1.37363688e-05, 2.29217699e-03,\n",
       "       7.86929992e-03, 2.30940132e-03, 4.79575792e-03, 1.71447283e-02,\n",
       "       6.03706635e-03, 3.51475398e-04, 8.86140709e-04, 1.33713903e-03,\n",
       "       1.62331829e-03, 3.08501275e-03, 2.22669265e-04, 1.21528789e-03,\n",
       "       8.93645846e-03, 3.64290153e-01, 4.61211224e-04, 4.26403699e-04,\n",
       "       9.02738467e-04, 6.93352438e-04, 4.26331621e-04, 1.24093505e-03,\n",
       "       6.07085036e-04, 1.27105382e-03, 8.22859238e-04, 2.74520086e-02,\n",
       "       1.57435369e-02, 2.17116620e-02, 4.60453047e-05, 1.69824250e-02,\n",
       "       4.23481494e-03, 1.19384477e-02, 5.81004293e-03, 1.19434095e-03,\n",
       "       2.58830735e-03, 2.32345852e-05, 8.89595611e-03, 7.71171815e-03,\n",
       "       7.61981321e-03, 5.23970743e-08, 8.11684234e-04, 1.61043210e-04,\n",
       "       7.44434567e-03, 1.25921932e-03, 1.49903130e-03, 1.43194851e-03,\n",
       "       2.41677753e-03, 1.59855289e-03, 4.21188873e-03, 1.09658503e-04,\n",
       "       2.70937887e-03, 6.30570266e-04, 3.17311620e-05, 5.21288120e-04,\n",
       "       4.83625169e-03, 4.81941641e-04])"
      ]
     },
     "execution_count": 408,
     "metadata": {},
     "output_type": "execute_result"
    }
   ],
   "source": [
    "(cooks, p) = influence.cooks_distance\n",
    "cooks"
   ]
  },
  {
   "cell_type": "code",
   "execution_count": 409,
   "id": "88ea7b80",
   "metadata": {
    "scrolled": true
   },
   "outputs": [
    {
     "data": {
      "text/plain": [
       "(array([  7, 113, 123], dtype=int64),)"
      ]
     },
     "execution_count": 409,
     "metadata": {},
     "output_type": "execute_result"
    }
   ],
   "source": [
    "CDi = (4/153)\n",
    "cooks_list = np.where(abs(np.array(cooks))>CDi)\n",
    "cooks_list"
   ]
  },
  {
   "cell_type": "code",
   "execution_count": 410,
   "id": "c0c60cb7",
   "metadata": {},
   "outputs": [
    {
     "name": "stdout",
     "output_type": "stream",
     "text": [
      "7      56554.387600\n",
      "113    66346.522670\n",
      "123      587.538233\n",
      "Name: GDP, dtype: float64 7      82.8\n",
      "113    78.2\n",
      "123    51.0\n",
      "Name: Life.expectancy, dtype: float64\n"
     ]
    }
   ],
   "source": [
    "for i in cooks_list:\n",
    "    print(life_data['GDP'][i],life_data['Life.expectancy'][i])"
   ]
  },
  {
   "cell_type": "code",
   "execution_count": 411,
   "id": "13f8b56f",
   "metadata": {},
   "outputs": [
    {
     "data": {
      "image/png": "[encoded data removed]",
      "text/plain": [
       "<Figure size 864x576 with 1 Axes>"
      ]
     },
     "metadata": {
      "needs_background": "light"
     },
     "output_type": "display_data"
    }
   ],
   "source": [
    "fig, ax = plt.subplots(figsize=(12,8))\n",
    "fig = sm.graphics.influence_plot(model, alpha = 0.05, ax = ax, criterion=\"cooks\")"
   ]
  },
  {
   "cell_type": "markdown",
   "id": "ef11ee9e",
   "metadata": {},
   "source": [
    "So, the 7th, 113th and 123rd values are the most common influential observations."
   ]
  },
  {
   "cell_type": "markdown",
   "id": "d0fe4d2c",
   "metadata": {},
   "source": [
    "### B. Consider the following data on cloud seeding by silver iodide crystal. Each case represents a different day. Consider Y as the dependent variable and others as independent variable.\n",
    "1. Check for any outliers in the data.\n",
    "2. Discuss the influence of these outliers on regression.\n"
   ]
  },
  {
   "cell_type": "code",
   "execution_count": 135,
   "id": "2cfeda67",
   "metadata": {
    "collapsed": true
   },
   "outputs": [
    {
     "data": {
      "text/html": [
       "<div>\n",
       "<style scoped>\n",
       "    .dataframe tbody tr th:only-of-type {\n",
       "        vertical-align: middle;\n",
       "    }\n",
       "\n",
       "    .dataframe tbody tr th {\n",
       "        vertical-align: top;\n",
       "    }\n",
       "\n",
       "    .dataframe thead th {\n",
       "        text-align: right;\n",
       "    }\n",
       "</style>\n",
       "<table border=\"1\" class=\"dataframe\">\n",
       "  <thead>\n",
       "    <tr style=\"text-align: right;\">\n",
       "      <th></th>\n",
       "      <th>A</th>\n",
       "      <th>T</th>\n",
       "      <th>S</th>\n",
       "      <th>C</th>\n",
       "      <th>P</th>\n",
       "      <th>E</th>\n",
       "      <th>Y</th>\n",
       "    </tr>\n",
       "  </thead>\n",
       "  <tbody>\n",
       "    <tr>\n",
       "      <th>0</th>\n",
       "      <td>0</td>\n",
       "      <td>0</td>\n",
       "      <td>1.75</td>\n",
       "      <td>13.4</td>\n",
       "      <td>0.274</td>\n",
       "      <td>0</td>\n",
       "      <td>2.55</td>\n",
       "    </tr>\n",
       "    <tr>\n",
       "      <th>1</th>\n",
       "      <td>1</td>\n",
       "      <td>3</td>\n",
       "      <td>4.10</td>\n",
       "      <td>3.9</td>\n",
       "      <td>0.198</td>\n",
       "      <td>0</td>\n",
       "      <td>1.83</td>\n",
       "    </tr>\n",
       "    <tr>\n",
       "      <th>2</th>\n",
       "      <td>0</td>\n",
       "      <td>4</td>\n",
       "      <td>2.35</td>\n",
       "      <td>5.3</td>\n",
       "      <td>0.526</td>\n",
       "      <td>1</td>\n",
       "      <td>1.80</td>\n",
       "    </tr>\n",
       "    <tr>\n",
       "      <th>3</th>\n",
       "      <td>1</td>\n",
       "      <td>6</td>\n",
       "      <td>4.25</td>\n",
       "      <td>7.1</td>\n",
       "      <td>0.250</td>\n",
       "      <td>1</td>\n",
       "      <td>0.89</td>\n",
       "    </tr>\n",
       "    <tr>\n",
       "      <th>4</th>\n",
       "      <td>0</td>\n",
       "      <td>9</td>\n",
       "      <td>1.60</td>\n",
       "      <td>6.9</td>\n",
       "      <td>0.018</td>\n",
       "      <td>0</td>\n",
       "      <td>1.28</td>\n",
       "    </tr>\n",
       "    <tr>\n",
       "      <th>5</th>\n",
       "      <td>0</td>\n",
       "      <td>25</td>\n",
       "      <td>3.35</td>\n",
       "      <td>4.9</td>\n",
       "      <td>0.194</td>\n",
       "      <td>1</td>\n",
       "      <td>1.51</td>\n",
       "    </tr>\n",
       "    <tr>\n",
       "      <th>6</th>\n",
       "      <td>0</td>\n",
       "      <td>27</td>\n",
       "      <td>2.85</td>\n",
       "      <td>12.1</td>\n",
       "      <td>0.751</td>\n",
       "      <td>1</td>\n",
       "      <td>1.84</td>\n",
       "    </tr>\n",
       "    <tr>\n",
       "      <th>7</th>\n",
       "      <td>1</td>\n",
       "      <td>28</td>\n",
       "      <td>2.20</td>\n",
       "      <td>5.2</td>\n",
       "      <td>0.084</td>\n",
       "      <td>1</td>\n",
       "      <td>1.62</td>\n",
       "    </tr>\n",
       "    <tr>\n",
       "      <th>8</th>\n",
       "      <td>1</td>\n",
       "      <td>29</td>\n",
       "      <td>4.40</td>\n",
       "      <td>4.1</td>\n",
       "      <td>0.236</td>\n",
       "      <td>1</td>\n",
       "      <td>1.01</td>\n",
       "    </tr>\n",
       "    <tr>\n",
       "      <th>9</th>\n",
       "      <td>1</td>\n",
       "      <td>32</td>\n",
       "      <td>3.10</td>\n",
       "      <td>2.8</td>\n",
       "      <td>0.214</td>\n",
       "      <td>1</td>\n",
       "      <td>1.39</td>\n",
       "    </tr>\n",
       "    <tr>\n",
       "      <th>10</th>\n",
       "      <td>0</td>\n",
       "      <td>33</td>\n",
       "      <td>3.95</td>\n",
       "      <td>6.8</td>\n",
       "      <td>0.796</td>\n",
       "      <td>1</td>\n",
       "      <td>1.74</td>\n",
       "    </tr>\n",
       "    <tr>\n",
       "      <th>11</th>\n",
       "      <td>1</td>\n",
       "      <td>35</td>\n",
       "      <td>2.90</td>\n",
       "      <td>3.0</td>\n",
       "      <td>0.124</td>\n",
       "      <td>1</td>\n",
       "      <td>1.57</td>\n",
       "    </tr>\n",
       "    <tr>\n",
       "      <th>12</th>\n",
       "      <td>1</td>\n",
       "      <td>38</td>\n",
       "      <td>2.05</td>\n",
       "      <td>7.0</td>\n",
       "      <td>0.144</td>\n",
       "      <td>1</td>\n",
       "      <td>2.47</td>\n",
       "    </tr>\n",
       "    <tr>\n",
       "      <th>13</th>\n",
       "      <td>0</td>\n",
       "      <td>39</td>\n",
       "      <td>4.00</td>\n",
       "      <td>11.3</td>\n",
       "      <td>0.398</td>\n",
       "      <td>1</td>\n",
       "      <td>1.49</td>\n",
       "    </tr>\n",
       "    <tr>\n",
       "      <th>14</th>\n",
       "      <td>0</td>\n",
       "      <td>53</td>\n",
       "      <td>3.35</td>\n",
       "      <td>4.2</td>\n",
       "      <td>0.237</td>\n",
       "      <td>0</td>\n",
       "      <td>1.29</td>\n",
       "    </tr>\n",
       "    <tr>\n",
       "      <th>15</th>\n",
       "      <td>0</td>\n",
       "      <td>56</td>\n",
       "      <td>3.80</td>\n",
       "      <td>2.2</td>\n",
       "      <td>0.230</td>\n",
       "      <td>1</td>\n",
       "      <td>0.14</td>\n",
       "    </tr>\n",
       "    <tr>\n",
       "      <th>16</th>\n",
       "      <td>1</td>\n",
       "      <td>59</td>\n",
       "      <td>3.40</td>\n",
       "      <td>6.5</td>\n",
       "      <td>0.142</td>\n",
       "      <td>0</td>\n",
       "      <td>1.69</td>\n",
       "    </tr>\n",
       "    <tr>\n",
       "      <th>17</th>\n",
       "      <td>1</td>\n",
       "      <td>65</td>\n",
       "      <td>3.15</td>\n",
       "      <td>3.1</td>\n",
       "      <td>0.073</td>\n",
       "      <td>1</td>\n",
       "      <td>0.70</td>\n",
       "    </tr>\n",
       "    <tr>\n",
       "      <th>18</th>\n",
       "      <td>0</td>\n",
       "      <td>68</td>\n",
       "      <td>3.15</td>\n",
       "      <td>2.6</td>\n",
       "      <td>0.136</td>\n",
       "      <td>1</td>\n",
       "      <td>-0.19</td>\n",
       "    </tr>\n",
       "    <tr>\n",
       "      <th>19</th>\n",
       "      <td>1</td>\n",
       "      <td>82</td>\n",
       "      <td>4.01</td>\n",
       "      <td>8.3</td>\n",
       "      <td>0.123</td>\n",
       "      <td>1</td>\n",
       "      <td>0.08</td>\n",
       "    </tr>\n",
       "  </tbody>\n",
       "</table>\n",
       "</div>"
      ],
      "text/plain": [
       "    A   T     S     C      P  E     Y\n",
       "0   0   0  1.75  13.4  0.274  0  2.55\n",
       "1   1   3  4.10   3.9  0.198  0  1.83\n",
       "2   0   4  2.35   5.3  0.526  1  1.80\n",
       "3   1   6  4.25   7.1  0.250  1  0.89\n",
       "4   0   9  1.60   6.9  0.018  0  1.28\n",
       "5   0  25  3.35   4.9  0.194  1  1.51\n",
       "6   0  27  2.85  12.1  0.751  1  1.84\n",
       "7   1  28  2.20   5.2  0.084  1  1.62\n",
       "8   1  29  4.40   4.1  0.236  1  1.01\n",
       "9   1  32  3.10   2.8  0.214  1  1.39\n",
       "10  0  33  3.95   6.8  0.796  1  1.74\n",
       "11  1  35  2.90   3.0  0.124  1  1.57\n",
       "12  1  38  2.05   7.0  0.144  1  2.47\n",
       "13  0  39  4.00  11.3  0.398  1  1.49\n",
       "14  0  53  3.35   4.2  0.237  0  1.29\n",
       "15  0  56  3.80   2.2  0.230  1  0.14\n",
       "16  1  59  3.40   6.5  0.142  0  1.69\n",
       "17  1  65  3.15   3.1  0.073  1  0.70\n",
       "18  0  68  3.15   2.6  0.136  1 -0.19\n",
       "19  1  82  4.01   8.3  0.123  1  0.08"
      ]
     },
     "execution_count": 135,
     "metadata": {},
     "output_type": "execute_result"
    }
   ],
   "source": [
    "cloud_data = pd.read_excel('MS-ASA Sem 2 MSA 494 Regression - 1 2.xlsm')\n",
    "cloud_data"
   ]
  },
  {
   "cell_type": "code",
   "execution_count": 195,
   "id": "19c0c019",
   "metadata": {
    "scrolled": true
   },
   "outputs": [
    {
     "data": {
      "text/html": [
       "<div>\n",
       "<style scoped>\n",
       "    .dataframe tbody tr th:only-of-type {\n",
       "        vertical-align: middle;\n",
       "    }\n",
       "\n",
       "    .dataframe tbody tr th {\n",
       "        vertical-align: top;\n",
       "    }\n",
       "\n",
       "    .dataframe thead th {\n",
       "        text-align: right;\n",
       "    }\n",
       "</style>\n",
       "<table border=\"1\" class=\"dataframe\">\n",
       "  <thead>\n",
       "    <tr style=\"text-align: right;\">\n",
       "      <th></th>\n",
       "      <th>A</th>\n",
       "      <th>T</th>\n",
       "      <th>S</th>\n",
       "      <th>C</th>\n",
       "      <th>P</th>\n",
       "      <th>E</th>\n",
       "      <th>Y</th>\n",
       "    </tr>\n",
       "  </thead>\n",
       "  <tbody>\n",
       "    <tr>\n",
       "      <th>count</th>\n",
       "      <td>20.000000</td>\n",
       "      <td>20.00000</td>\n",
       "      <td>20.000000</td>\n",
       "      <td>20.000000</td>\n",
       "      <td>20.00000</td>\n",
       "      <td>20.000000</td>\n",
       "      <td>20.000000</td>\n",
       "    </tr>\n",
       "    <tr>\n",
       "      <th>mean</th>\n",
       "      <td>0.500000</td>\n",
       "      <td>34.55000</td>\n",
       "      <td>3.185500</td>\n",
       "      <td>6.035000</td>\n",
       "      <td>0.25740</td>\n",
       "      <td>0.750000</td>\n",
       "      <td>1.335000</td>\n",
       "    </tr>\n",
       "    <tr>\n",
       "      <th>std</th>\n",
       "      <td>0.512989</td>\n",
       "      <td>23.56285</td>\n",
       "      <td>0.845636</td>\n",
       "      <td>3.215796</td>\n",
       "      <td>0.20966</td>\n",
       "      <td>0.444262</td>\n",
       "      <td>0.725676</td>\n",
       "    </tr>\n",
       "    <tr>\n",
       "      <th>min</th>\n",
       "      <td>0.000000</td>\n",
       "      <td>0.00000</td>\n",
       "      <td>1.600000</td>\n",
       "      <td>2.200000</td>\n",
       "      <td>0.01800</td>\n",
       "      <td>0.000000</td>\n",
       "      <td>-0.190000</td>\n",
       "    </tr>\n",
       "    <tr>\n",
       "      <th>25%</th>\n",
       "      <td>0.000000</td>\n",
       "      <td>21.00000</td>\n",
       "      <td>2.725000</td>\n",
       "      <td>3.700000</td>\n",
       "      <td>0.13300</td>\n",
       "      <td>0.750000</td>\n",
       "      <td>0.980000</td>\n",
       "    </tr>\n",
       "    <tr>\n",
       "      <th>50%</th>\n",
       "      <td>0.500000</td>\n",
       "      <td>32.50000</td>\n",
       "      <td>3.250000</td>\n",
       "      <td>5.250000</td>\n",
       "      <td>0.20600</td>\n",
       "      <td>1.000000</td>\n",
       "      <td>1.500000</td>\n",
       "    </tr>\n",
       "    <tr>\n",
       "      <th>75%</th>\n",
       "      <td>1.000000</td>\n",
       "      <td>53.75000</td>\n",
       "      <td>3.962500</td>\n",
       "      <td>7.025000</td>\n",
       "      <td>0.25600</td>\n",
       "      <td>1.000000</td>\n",
       "      <td>1.755000</td>\n",
       "    </tr>\n",
       "    <tr>\n",
       "      <th>max</th>\n",
       "      <td>1.000000</td>\n",
       "      <td>82.00000</td>\n",
       "      <td>4.400000</td>\n",
       "      <td>13.400000</td>\n",
       "      <td>0.79600</td>\n",
       "      <td>1.000000</td>\n",
       "      <td>2.550000</td>\n",
       "    </tr>\n",
       "  </tbody>\n",
       "</table>\n",
       "</div>"
      ],
      "text/plain": [
       "               A         T          S          C         P          E  \\\n",
       "count  20.000000  20.00000  20.000000  20.000000  20.00000  20.000000   \n",
       "mean    0.500000  34.55000   3.185500   6.035000   0.25740   0.750000   \n",
       "std     0.512989  23.56285   0.845636   3.215796   0.20966   0.444262   \n",
       "min     0.000000   0.00000   1.600000   2.200000   0.01800   0.000000   \n",
       "25%     0.000000  21.00000   2.725000   3.700000   0.13300   0.750000   \n",
       "50%     0.500000  32.50000   3.250000   5.250000   0.20600   1.000000   \n",
       "75%     1.000000  53.75000   3.962500   7.025000   0.25600   1.000000   \n",
       "max     1.000000  82.00000   4.400000  13.400000   0.79600   1.000000   \n",
       "\n",
       "               Y  \n",
       "count  20.000000  \n",
       "mean    1.335000  \n",
       "std     0.725676  \n",
       "min    -0.190000  \n",
       "25%     0.980000  \n",
       "50%     1.500000  \n",
       "75%     1.755000  \n",
       "max     2.550000  "
      ]
     },
     "execution_count": 195,
     "metadata": {},
     "output_type": "execute_result"
    }
   ],
   "source": [
    "cloud_data.describe()"
   ]
  },
  {
   "cell_type": "code",
   "execution_count": 207,
   "id": "84722f5f",
   "metadata": {
    "scrolled": false
   },
   "outputs": [
    {
     "data": {
      "text/plain": [
       "<AxesSubplot:>"
      ]
     },
     "execution_count": 207,
     "metadata": {},
     "output_type": "execute_result"
    },
    {
     "data": {
      "image/png": "[encoded data removed]",
      "text/plain": [
       "<Figure size 432x288 with 1 Axes>"
      ]
     },
     "metadata": {
      "needs_background": "light"
     },
     "output_type": "display_data"
    }
   ],
   "source": [
    "sns.boxplot(data=cloud_data.Y)"
   ]
  },
  {
   "cell_type": "markdown",
   "id": "49a93704",
   "metadata": {},
   "source": [
    "From the boxplot, it is clearly visible that a value of Y which is lesser than zero(i.e. negative) is exhibiting an outlierish characteristic. The observation is -0.19."
   ]
  },
  {
   "cell_type": "code",
   "execution_count": 436,
   "id": "856c6127",
   "metadata": {},
   "outputs": [],
   "source": [
    "Y=pd.DataFrame(cloud_data['Y'])\n",
    "X=pd.DataFrame(cloud_data['A'])\n",
    "X['T']=cloud_data['T']\n",
    "X['S']=cloud_data['S']\n",
    "X['C']=cloud_data['C']\n",
    "X['P']=cloud_data['P']\n",
    "X['E']=cloud_data['E']"
   ]
  },
  {
   "cell_type": "code",
   "execution_count": 484,
   "id": "b03d8f45",
   "metadata": {
    "scrolled": false
   },
   "outputs": [],
   "source": [
    "model_1 = sm.OLS(Y[0:15],X[0:15]).fit()"
   ]
  },
  {
   "cell_type": "code",
   "execution_count": 485,
   "id": "0f364b83",
   "metadata": {},
   "outputs": [
    {
     "data": {
      "text/plain": [
       "15    0.772459\n",
       "16    2.323572\n",
       "17    1.614280\n",
       "18    0.904737\n",
       "19    2.587334\n",
       "dtype: float64"
      ]
     },
     "execution_count": 485,
     "metadata": {},
     "output_type": "execute_result"
    }
   ],
   "source": [
    "pred_Y = model_1.predict(X[15:20])\n",
    "pred_Y"
   ]
  },
  {
   "cell_type": "code",
   "execution_count": 486,
   "id": "87c241a5",
   "metadata": {},
   "outputs": [
    {
     "data": {
      "text/plain": [
       "<matplotlib.legend.Legend at 0x234d8d62a60>"
      ]
     },
     "execution_count": 486,
     "metadata": {},
     "output_type": "execute_result"
    },
    {
     "data": {
      "image/png": "[encoded data removed]",
      "text/plain": [
       "<Figure size 432x288 with 1 Axes>"
      ]
     },
     "metadata": {
      "needs_background": "light"
     },
     "output_type": "display_data"
    }
   ],
   "source": [
    "plt.scatter(X['S'],Y)\n",
    "plt.scatter(X['S'][15:20],pred_Y)\n",
    "plt.legend(['Obs.','Pred'])"
   ]
  },
  {
   "cell_type": "markdown",
   "id": "66935c30",
   "metadata": {},
   "source": [
    "So, this is how the regression is getting affected by the outlier."
   ]
  },
  {
   "cell_type": "markdown",
   "id": "fafc5bdf",
   "metadata": {},
   "source": [
    "# Submitted by,\n",
    "### Soumitro Mukherjee\n",
    "#### Reg. No. : 213001818010030  ,  Roll No. : 30018021030\n",
    "### M.Sc. in Applied Statistics and Analytics"
   ]
  }
 ],
 "metadata": {
  "kernelspec": {
   "display_name": "Python 3",
   "language": "python",
   "name": "python3"
  },
  "language_info": {
   "codemirror_mode": {
    "name": "ipython",
    "version": 3
   },
   "file_extension": ".py",
   "mimetype": "text/x-python",
   "name": "python",
   "nbconvert_exporter": "python",
   "pygments_lexer": "ipython3",
   "version": "3.8.8"
  }
 },
 "nbformat": 4,
 "nbformat_minor": 5
}
