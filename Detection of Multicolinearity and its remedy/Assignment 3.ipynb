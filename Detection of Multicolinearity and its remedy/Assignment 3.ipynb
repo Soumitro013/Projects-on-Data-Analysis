{
 "cells": [
  {
   "cell_type": "markdown",
   "metadata": {},
   "source": [
    "3A. The following data is used to fit a model of consumption-expenditure on income and wealth:\n",
    "> Cons-exp (‘00 Rs.): 70,65,90,70,110,115,120,140,155,150\n",
    "> Income (’00 Rs.): 80,100,120,140,160,180,200,220,240,260\n",
    "> Wealth (’00 Rs.): 810,1009,1273,1425,1633,1876,2052,2201,2435,2686\n",
    "1. Use two different methods to check for the presence of multicollinearity.\n",
    "2. Do the additional information of an 11th individual having expenditure 160, income 120, wealth 3,000 and a 12th individual having expenditure 85, income 255, wealth 920 help you to overcome the problem?\n",
    "3. Use PCA and Ridge regression to solve the problem."
   ]
  },
  {
   "cell_type": "code",
   "execution_count": 101,
   "metadata": {
    "id": "3H-hdni2QHGV"
   },
   "outputs": [],
   "source": [
    "import numpy as np\n",
    "import pandas as pd\n",
    "import matplotlib.pyplot as plt\n",
    "import scipy.stats as st\n",
    "import statsmodels.api as sm\n",
    "from statsmodels.stats.outliers_influence import variance_inflation_factor\n",
    "from sklearn.linear_model import Ridge\n",
    "from numpy.linalg import eig\n",
    "import numpy.linalg as LA\n",
    "import math"
   ]
  },
  {
   "cell_type": "markdown",
   "metadata": {
    "id": "VwtVjOB9Wu-P"
   },
   "source": [
    "## Load Dataset"
   ]
  },
  {
   "cell_type": "code",
   "execution_count": 2,
   "metadata": {
    "colab": {
     "base_uri": "https://localhost:8080/",
     "height": 206
    },
    "id": "AZKkvGJ5VZiE",
    "outputId": "c89ecdb5-081a-43bb-8707-b37b93232079"
   },
   "outputs": [
    {
     "data": {
      "text/html": [
       "\n",
       "  <div id=\"df-c22aa085-00b5-4ed2-a27e-90d77fad0b87\">\n",
       "    <div class=\"colab-df-container\">\n",
       "      <div>\n",
       "<style scoped>\n",
       "    .dataframe tbody tr th:only-of-type {\n",
       "        vertical-align: middle;\n",
       "    }\n",
       "\n",
       "    .dataframe tbody tr th {\n",
       "        vertical-align: top;\n",
       "    }\n",
       "\n",
       "    .dataframe thead th {\n",
       "        text-align: right;\n",
       "    }\n",
       "</style>\n",
       "<table border=\"1\" class=\"dataframe\">\n",
       "  <thead>\n",
       "    <tr style=\"text-align: right;\">\n",
       "      <th></th>\n",
       "      <th>cons_exp</th>\n",
       "      <th>income</th>\n",
       "      <th>wealth</th>\n",
       "    </tr>\n",
       "  </thead>\n",
       "  <tbody>\n",
       "    <tr>\n",
       "      <th>0</th>\n",
       "      <td>70</td>\n",
       "      <td>80</td>\n",
       "      <td>810</td>\n",
       "    </tr>\n",
       "    <tr>\n",
       "      <th>1</th>\n",
       "      <td>65</td>\n",
       "      <td>100</td>\n",
       "      <td>1009</td>\n",
       "    </tr>\n",
       "    <tr>\n",
       "      <th>2</th>\n",
       "      <td>90</td>\n",
       "      <td>120</td>\n",
       "      <td>1273</td>\n",
       "    </tr>\n",
       "    <tr>\n",
       "      <th>3</th>\n",
       "      <td>70</td>\n",
       "      <td>140</td>\n",
       "      <td>1425</td>\n",
       "    </tr>\n",
       "    <tr>\n",
       "      <th>4</th>\n",
       "      <td>110</td>\n",
       "      <td>160</td>\n",
       "      <td>1633</td>\n",
       "    </tr>\n",
       "  </tbody>\n",
       "</table>\n",
       "</div>\n",
       "      <button class=\"colab-df-convert\" onclick=\"convertToInteractive('df-c22aa085-00b5-4ed2-a27e-90d77fad0b87')\"\n",
       "              title=\"Convert this dataframe to an interactive table.\"\n",
       "              style=\"display:none;\">\n",
       "        \n",
       "  <svg xmlns=\"http://www.w3.org/2000/svg\" height=\"24px\"viewBox=\"0 0 24 24\"\n",
       "       width=\"24px\">\n",
       "    <path d=\"M0 0h24v24H0V0z\" fill=\"none\"/>\n",
       "    <path d=\"M18.56 5.44l.94 2.06.94-2.06 2.06-.94-2.06-.94-.94-2.06-.94 2.06-2.06.94zm-11 1L8.5 8.5l.94-2.06 2.06-.94-2.06-.94L8.5 2.5l-.94 2.06-2.06.94zm10 10l.94 2.06.94-2.06 2.06-.94-2.06-.94-.94-2.06-.94 2.06-2.06.94z\"/><path d=\"M17.41 7.96l-1.37-1.37c-.4-.4-.92-.59-1.43-.59-.52 0-1.04.2-1.43.59L10.3 9.45l-7.72 7.72c-.78.78-.78 2.05 0 2.83L4 21.41c.39.39.9.59 1.41.59.51 0 1.02-.2 1.41-.59l7.78-7.78 2.81-2.81c.8-.78.8-2.07 0-2.86zM5.41 20L4 18.59l7.72-7.72 1.47 1.35L5.41 20z\"/>\n",
       "  </svg>\n",
       "      </button>\n",
       "      \n",
       "  <style>\n",
       "    .colab-df-container {\n",
       "      display:flex;\n",
       "      flex-wrap:wrap;\n",
       "      gap: 12px;\n",
       "    }\n",
       "\n",
       "    .colab-df-convert {\n",
       "      background-color: #E8F0FE;\n",
       "      border: none;\n",
       "      border-radius: 50%;\n",
       "      cursor: pointer;\n",
       "      display: none;\n",
       "      fill: #1967D2;\n",
       "      height: 32px;\n",
       "      padding: 0 0 0 0;\n",
       "      width: 32px;\n",
       "    }\n",
       "\n",
       "    .colab-df-convert:hover {\n",
       "      background-color: #E2EBFA;\n",
       "      box-shadow: 0px 1px 2px rgba(60, 64, 67, 0.3), 0px 1px 3px 1px rgba(60, 64, 67, 0.15);\n",
       "      fill: #174EA6;\n",
       "    }\n",
       "\n",
       "    [theme=dark] .colab-df-convert {\n",
       "      background-color: #3B4455;\n",
       "      fill: #D2E3FC;\n",
       "    }\n",
       "\n",
       "    [theme=dark] .colab-df-convert:hover {\n",
       "      background-color: #434B5C;\n",
       "      box-shadow: 0px 1px 3px 1px rgba(0, 0, 0, 0.15);\n",
       "      filter: drop-shadow(0px 1px 2px rgba(0, 0, 0, 0.3));\n",
       "      fill: #FFFFFF;\n",
       "    }\n",
       "  </style>\n",
       "\n",
       "      <script>\n",
       "        const buttonEl =\n",
       "          document.querySelector('#df-c22aa085-00b5-4ed2-a27e-90d77fad0b87 button.colab-df-convert');\n",
       "        buttonEl.style.display =\n",
       "          google.colab.kernel.accessAllowed ? 'block' : 'none';\n",
       "\n",
       "        async function convertToInteractive(key) {\n",
       "          const element = document.querySelector('#df-c22aa085-00b5-4ed2-a27e-90d77fad0b87');\n",
       "          const dataTable =\n",
       "            await google.colab.kernel.invokeFunction('convertToInteractive',\n",
       "                                                     [key], {});\n",
       "          if (!dataTable) return;\n",
       "\n",
       "          const docLinkHtml = 'Like what you see? Visit the ' +\n",
       "            '<a target=\"_blank\" href=https://colab.research.google.com/notebooks/data_table.ipynb>data table notebook</a>'\n",
       "            + ' to learn more about interactive tables.';\n",
       "          element.innerHTML = '';\n",
       "          dataTable['output_type'] = 'display_data';\n",
       "          await google.colab.output.renderOutput(dataTable, element);\n",
       "          const docLink = document.createElement('div');\n",
       "          docLink.innerHTML = docLinkHtml;\n",
       "          element.appendChild(docLink);\n",
       "        }\n",
       "      </script>\n",
       "    </div>\n",
       "  </div>\n",
       "  "
      ],
      "text/plain": [
       "   cons_exp  income  wealth\n",
       "0        70      80     810\n",
       "1        65     100    1009\n",
       "2        90     120    1273\n",
       "3        70     140    1425\n",
       "4       110     160    1633"
      ]
     },
     "execution_count": 2,
     "metadata": {},
     "output_type": "execute_result"
    }
   ],
   "source": [
    "Dict= dict({\"cons_exp\" : [70,65,90,70,110,115,120,140,155,150], \n",
    "            \"income\" : [80,100,120,140,160,180,200,220,240,260], \n",
    "            \"wealth\" : [810,1009,1273,1425,1633,1876,2052,2201,2435,2686] })\n",
    "data= pd.DataFrame(Dict)\n",
    "data.head()"
   ]
  },
  {
   "cell_type": "markdown",
   "metadata": {
    "id": "jQP_n1SJWqzJ"
   },
   "source": [
    "#### Multicollinearity occurs when there are two or more independent variables in a multiple regression model, which have a high correlation among themselves.Multicollinearity can be detected using various techniques, one such technique being the Variance Inflation Factor(VIF)."
   ]
  },
  {
   "cell_type": "code",
   "execution_count": 75,
   "metadata": {
    "colab": {
     "base_uri": "https://localhost:8080/"
    },
    "id": "_tuFqhysRKXQ",
    "outputId": "5413c93d-7d76-45e1-c938-7516ff868ae5"
   },
   "outputs": [
    {
     "data": {
      "text/plain": [
       "pandas.core.frame.DataFrame"
      ]
     },
     "execution_count": 75,
     "metadata": {},
     "output_type": "execute_result"
    }
   ],
   "source": [
    " # the independent variables set\n",
    "X= data[[\"income\",\"wealth\"]]"
   ]
  },
  {
   "cell_type": "code",
   "execution_count": 4,
   "metadata": {
    "id": "bx27hTCdYvW3"
   },
   "outputs": [],
   "source": [
    "# VIF dataframe\n",
    "vif_data = pd.DataFrame()\n",
    "vif_data[\"feature\"] = X.columns"
   ]
  },
  {
   "cell_type": "code",
   "execution_count": 5,
   "metadata": {
    "colab": {
     "base_uri": "https://localhost:8080/"
    },
    "id": "QrG4oLRgY5kf",
    "outputId": "958bebff-a025-4df5-b2c1-5a38d9b07976"
   },
   "outputs": [
    {
     "name": "stdout",
     "output_type": "stream",
     "text": [
      "  feature         VIF\n",
      "0  income  4693.97166\n",
      "1  wealth  4693.97166\n"
     ]
    }
   ],
   "source": [
    "# calculating VIF for each feature\n",
    "vif_data[\"VIF\"] = [variance_inflation_factor(X.values, i)\n",
    "                          for i in range(X.shape[1])]\n",
    "print(vif_data)"
   ]
  },
  {
   "cell_type": "markdown",
   "metadata": {
    "id": "CJHnj_wsRgYI"
   },
   "source": [
    "#### Checking multicolinearity using Condition number "
   ]
  },
  {
   "cell_type": "code",
   "execution_count": 104,
   "metadata": {
    "colab": {
     "base_uri": "https://localhost:8080/"
    },
    "id": "v7UUaaEaU_Q6",
    "outputId": "0c38c130-9af0-408c-86ff-39a5346749cd"
   },
   "outputs": [
    {
     "name": "stdout",
     "output_type": "stream",
     "text": [
      "CONDITION NUMBER: 707.7038938618891\n"
     ]
    }
   ],
   "source": [
    "CN=LA.cond(X)\n",
    "print(\"CONDITION NUMBER:\",CN)"
   ]
  },
  {
   "cell_type": "markdown",
   "metadata": {
    "id": "byYDEsJgV3Dd"
   },
   "source": [
    "#### condition number is greater than 30, thats indicate high multicolinearity between them."
   ]
  },
  {
   "cell_type": "code",
   "execution_count": 6,
   "metadata": {
    "colab": {
     "base_uri": "https://localhost:8080/"
    },
    "id": "BF_qiF3baUeJ",
    "outputId": "28f2d837-a36b-4a5b-e467-66b9eacd3ce9"
   },
   "outputs": [
    {
     "data": {
      "text/plain": [
       "0     70\n",
       "1     65\n",
       "2     90\n",
       "3     70\n",
       "4    110\n",
       "Name: cons_exp, dtype: int64"
      ]
     },
     "execution_count": 6,
     "metadata": {},
     "output_type": "execute_result"
    }
   ],
   "source": [
    "#dependent variable\n",
    "y= data[\"cons_exp\"]            \n",
    "y.head()"
   ]
  },
  {
   "cell_type": "markdown",
   "metadata": {
    "id": "Kj6sTDLE0SbK"
   },
   "source": [
    "#### The additional information of an 11th individual having expenditure 160, income 120, wealth 3,000 and a 12th individual having expenditure 85, income 255, wealth 920 "
   ]
  },
  {
   "cell_type": "code",
   "execution_count": 8,
   "metadata": {
    "colab": {
     "base_uri": "https://localhost:8080/",
     "height": 206
    },
    "id": "MxkzbbV3QJw6",
    "outputId": "ba25af47-0973-47df-d2e8-ba44097b017b"
   },
   "outputs": [
    {
     "data": {
      "text/html": [
       "\n",
       "  <div id=\"df-fc14237e-7528-459f-9407-2d415cbfd0b7\">\n",
       "    <div class=\"colab-df-container\">\n",
       "      <div>\n",
       "<style scoped>\n",
       "    .dataframe tbody tr th:only-of-type {\n",
       "        vertical-align: middle;\n",
       "    }\n",
       "\n",
       "    .dataframe tbody tr th {\n",
       "        vertical-align: top;\n",
       "    }\n",
       "\n",
       "    .dataframe thead th {\n",
       "        text-align: right;\n",
       "    }\n",
       "</style>\n",
       "<table border=\"1\" class=\"dataframe\">\n",
       "  <thead>\n",
       "    <tr style=\"text-align: right;\">\n",
       "      <th></th>\n",
       "      <th>cons_exp</th>\n",
       "      <th>income</th>\n",
       "      <th>wealth</th>\n",
       "    </tr>\n",
       "  </thead>\n",
       "  <tbody>\n",
       "    <tr>\n",
       "      <th>7</th>\n",
       "      <td>140</td>\n",
       "      <td>220</td>\n",
       "      <td>2201</td>\n",
       "    </tr>\n",
       "    <tr>\n",
       "      <th>8</th>\n",
       "      <td>155</td>\n",
       "      <td>240</td>\n",
       "      <td>2435</td>\n",
       "    </tr>\n",
       "    <tr>\n",
       "      <th>9</th>\n",
       "      <td>150</td>\n",
       "      <td>260</td>\n",
       "      <td>2686</td>\n",
       "    </tr>\n",
       "    <tr>\n",
       "      <th>10</th>\n",
       "      <td>160</td>\n",
       "      <td>120</td>\n",
       "      <td>3000</td>\n",
       "    </tr>\n",
       "    <tr>\n",
       "      <th>11</th>\n",
       "      <td>85</td>\n",
       "      <td>255</td>\n",
       "      <td>920</td>\n",
       "    </tr>\n",
       "  </tbody>\n",
       "</table>\n",
       "</div>\n",
       "      <button class=\"colab-df-convert\" onclick=\"convertToInteractive('df-fc14237e-7528-459f-9407-2d415cbfd0b7')\"\n",
       "              title=\"Convert this dataframe to an interactive table.\"\n",
       "              style=\"display:none;\">\n",
       "        \n",
       "  <svg xmlns=\"http://www.w3.org/2000/svg\" height=\"24px\"viewBox=\"0 0 24 24\"\n",
       "       width=\"24px\">\n",
       "    <path d=\"M0 0h24v24H0V0z\" fill=\"none\"/>\n",
       "    <path d=\"M18.56 5.44l.94 2.06.94-2.06 2.06-.94-2.06-.94-.94-2.06-.94 2.06-2.06.94zm-11 1L8.5 8.5l.94-2.06 2.06-.94-2.06-.94L8.5 2.5l-.94 2.06-2.06.94zm10 10l.94 2.06.94-2.06 2.06-.94-2.06-.94-.94-2.06-.94 2.06-2.06.94z\"/><path d=\"M17.41 7.96l-1.37-1.37c-.4-.4-.92-.59-1.43-.59-.52 0-1.04.2-1.43.59L10.3 9.45l-7.72 7.72c-.78.78-.78 2.05 0 2.83L4 21.41c.39.39.9.59 1.41.59.51 0 1.02-.2 1.41-.59l7.78-7.78 2.81-2.81c.8-.78.8-2.07 0-2.86zM5.41 20L4 18.59l7.72-7.72 1.47 1.35L5.41 20z\"/>\n",
       "  </svg>\n",
       "      </button>\n",
       "      \n",
       "  <style>\n",
       "    .colab-df-container {\n",
       "      display:flex;\n",
       "      flex-wrap:wrap;\n",
       "      gap: 12px;\n",
       "    }\n",
       "\n",
       "    .colab-df-convert {\n",
       "      background-color: #E8F0FE;\n",
       "      border: none;\n",
       "      border-radius: 50%;\n",
       "      cursor: pointer;\n",
       "      display: none;\n",
       "      fill: #1967D2;\n",
       "      height: 32px;\n",
       "      padding: 0 0 0 0;\n",
       "      width: 32px;\n",
       "    }\n",
       "\n",
       "    .colab-df-convert:hover {\n",
       "      background-color: #E2EBFA;\n",
       "      box-shadow: 0px 1px 2px rgba(60, 64, 67, 0.3), 0px 1px 3px 1px rgba(60, 64, 67, 0.15);\n",
       "      fill: #174EA6;\n",
       "    }\n",
       "\n",
       "    [theme=dark] .colab-df-convert {\n",
       "      background-color: #3B4455;\n",
       "      fill: #D2E3FC;\n",
       "    }\n",
       "\n",
       "    [theme=dark] .colab-df-convert:hover {\n",
       "      background-color: #434B5C;\n",
       "      box-shadow: 0px 1px 3px 1px rgba(0, 0, 0, 0.15);\n",
       "      filter: drop-shadow(0px 1px 2px rgba(0, 0, 0, 0.3));\n",
       "      fill: #FFFFFF;\n",
       "    }\n",
       "  </style>\n",
       "\n",
       "      <script>\n",
       "        const buttonEl =\n",
       "          document.querySelector('#df-fc14237e-7528-459f-9407-2d415cbfd0b7 button.colab-df-convert');\n",
       "        buttonEl.style.display =\n",
       "          google.colab.kernel.accessAllowed ? 'block' : 'none';\n",
       "\n",
       "        async function convertToInteractive(key) {\n",
       "          const element = document.querySelector('#df-fc14237e-7528-459f-9407-2d415cbfd0b7');\n",
       "          const dataTable =\n",
       "            await google.colab.kernel.invokeFunction('convertToInteractive',\n",
       "                                                     [key], {});\n",
       "          if (!dataTable) return;\n",
       "\n",
       "          const docLinkHtml = 'Like what you see? Visit the ' +\n",
       "            '<a target=\"_blank\" href=https://colab.research.google.com/notebooks/data_table.ipynb>data table notebook</a>'\n",
       "            + ' to learn more about interactive tables.';\n",
       "          element.innerHTML = '';\n",
       "          dataTable['output_type'] = 'display_data';\n",
       "          await google.colab.output.renderOutput(dataTable, element);\n",
       "          const docLink = document.createElement('div');\n",
       "          docLink.innerHTML = docLinkHtml;\n",
       "          element.appendChild(docLink);\n",
       "        }\n",
       "      </script>\n",
       "    </div>\n",
       "  </div>\n",
       "  "
      ],
      "text/plain": [
       "    cons_exp  income  wealth\n",
       "7        140     220    2201\n",
       "8        155     240    2435\n",
       "9        150     260    2686\n",
       "10       160     120    3000\n",
       "11        85     255     920"
      ]
     },
     "execution_count": 8,
     "metadata": {},
     "output_type": "execute_result"
    }
   ],
   "source": [
    "Dict1= dict({\"cons_exp\" : [70,65,90,70,110,115,120,140,155,150,160,85], \n",
    "             \"income\" : [80,100,120,140,160,180,200,220,240,260,120,255], \n",
    "             \"wealth\" : [810,1009,1273,1425,1633,1876,2052,2201,2435,2686,3000,920] })\n",
    "data1= pd.DataFrame(Dict1)\n",
    "data1.tail()"
   ]
  },
  {
   "cell_type": "code",
   "execution_count": 9,
   "metadata": {
    "id": "GXSeslerZIyh"
   },
   "outputs": [],
   "source": [
    "X1= data1[[\"income\",\"wealth\"]]  \n",
    "y1=data1[\"cons_exp\"]               # the independent variables set"
   ]
  },
  {
   "cell_type": "code",
   "execution_count": 10,
   "metadata": {
    "id": "2gaYUmznZYUt"
   },
   "outputs": [],
   "source": [
    "# VIF dataframe\n",
    "vif_data1 = pd.DataFrame()\n",
    "vif_data1[\"feature\"] = X1.columns"
   ]
  },
  {
   "cell_type": "code",
   "execution_count": 11,
   "metadata": {
    "colab": {
     "base_uri": "https://localhost:8080/"
    },
    "id": "XPO-eS27ZkDj",
    "outputId": "3893171b-1edd-4fb0-ac63-7f52df245787"
   },
   "outputs": [
    {
     "name": "stdout",
     "output_type": "stream",
     "text": [
      "  feature       VIF\n",
      "0  income  7.404982\n",
      "1  wealth  7.404982\n"
     ]
    }
   ],
   "source": [
    "# calculating VIF for each feature\n",
    "vif_data1[\"VIF\"] = [variance_inflation_factor(X1.values, i)\n",
    "                          for i in range(X1.shape[1])]\n",
    "print(vif_data1)"
   ]
  },
  {
   "cell_type": "markdown",
   "metadata": {},
   "source": [
    "### performing OLS "
   ]
  },
  {
   "cell_type": "code",
   "execution_count": 12,
   "metadata": {
    "colab": {
     "base_uri": "https://localhost:8080/"
    },
    "id": "ODGcT1IYzN1D",
    "outputId": "82acd166-7643-4c6f-eb1f-3ced522a7d3d"
   },
   "outputs": [
    {
     "name": "stdout",
     "output_type": "stream",
     "text": [
      "                            OLS Regression Results                            \n",
      "==============================================================================\n",
      "Dep. Variable:               cons_exp   R-squared:                       0.929\n",
      "Model:                            OLS   Adj. R-squared:                  0.913\n",
      "Method:                 Least Squares   F-statistic:                     58.80\n",
      "Date:                Fri, 03 Jun 2022   Prob (F-statistic):           6.81e-06\n",
      "Time:                        13:43:57   Log-Likelihood:                -43.269\n",
      "No. Observations:                  12   AIC:                             92.54\n",
      "Df Residuals:                       9   BIC:                             93.99\n",
      "Df Model:                           2                                         \n",
      "Covariance Type:            nonrobust                                         \n",
      "==============================================================================\n",
      "                 coef    std err          t      P>|t|      [0.025      0.975]\n",
      "------------------------------------------------------------------------------\n",
      "const         17.8521     10.174      1.755      0.113      -5.162      40.867\n",
      "income         0.1006      0.055      1.841      0.099      -0.023       0.224\n",
      "wealth         0.0425      0.005      8.984      0.000       0.032       0.053\n",
      "==============================================================================\n",
      "Omnibus:                        6.536   Durbin-Watson:                   2.821\n",
      "Prob(Omnibus):                  0.038   Jarque-Bera (JB):                3.040\n",
      "Skew:                          -1.166   Prob(JB):                        0.219\n",
      "Kurtosis:                       3.800   Cond. No.                     6.55e+03\n",
      "==============================================================================\n",
      "\n",
      "Warnings:\n",
      "[1] Standard Errors assume that the covariance matrix of the errors is correctly specified.\n",
      "[2] The condition number is large, 6.55e+03. This might indicate that there are\n",
      "strong multicollinearity or other numerical problems.\n"
     ]
    }
   ],
   "source": [
    "x_const=sm.add_constant(X1)                  \n",
    "model= sm.OLS(y1,x_const)\n",
    "results=model.fit()\n",
    "print(results.summary())"
   ]
  },
  {
   "cell_type": "markdown",
   "metadata": {
    "id": "9oYJ7dmgZpxX"
   },
   "source": [
    "#### adding 2 more information, it reduces VIF from previous one. But still VIF is more than 5, so it consider as high multicolinearity."
   ]
  },
  {
   "cell_type": "markdown",
   "metadata": {
    "id": "hmjpcTNEiif6"
   },
   "source": [
    "### Use PCA and Ridge regression to solve the problem."
   ]
  },
  {
   "cell_type": "code",
   "execution_count": 13,
   "metadata": {
    "colab": {
     "base_uri": "https://localhost:8080/"
    },
    "id": "9qbfF3fyoYeL",
    "outputId": "617535f9-e52d-477d-be28-053dce38f0e5"
   },
   "outputs": [
    {
     "name": "stdout",
     "output_type": "stream",
     "text": [
      "[0.70562458 0.29437542]\n",
      "    principal component 1  principal component 2\n",
      "0                2.096103               0.108740\n",
      "1                1.654249               0.076009\n",
      "2                1.145579               0.110094\n",
      "3                0.752038               0.029049\n",
      "4                0.300933               0.005570\n",
      "5               -0.186150               0.018068\n",
      "6               -0.604362              -0.038306\n",
      "7               -0.994818              -0.122434\n",
      "8               -1.472650              -0.119187\n",
      "9               -1.967957              -0.098465\n",
      "10              -0.629685               1.885358\n",
      "11              -0.093280              -1.854496\n"
     ]
    }
   ],
   "source": [
    "from sklearn.preprocessing import StandardScaler                                  # performing preprocessing part\n",
    "sc = StandardScaler()\n",
    " \n",
    "X_1 = sc.fit_transform(X1)\n",
    "\n",
    "from sklearn.decomposition import PCA                                             # Applying PCA function on X component \n",
    "pca = PCA(n_components = 2)\n",
    " \n",
    "X_11 = pca.fit_transform(X_1)\n",
    "explained_variance = pca.explained_variance_ratio_\n",
    "print(explained_variance)\n",
    "principalDf = pd.DataFrame(data = X_11\n",
    "             , columns = ['principal component 1', 'principal component 2'])\n",
    "print(principalDf)"
   ]
  },
  {
   "cell_type": "code",
   "execution_count": 14,
   "metadata": {
    "colab": {
     "base_uri": "https://localhost:8080/"
    },
    "id": "_an7TFr1oYhd",
    "outputId": "38989679-9d22-4a1d-d3ee-fa3ad0296ca1"
   },
   "outputs": [
    {
     "name": "stdout",
     "output_type": "stream",
     "text": [
      "    principal component 1  principal component 2  cons_exp\n",
      "0                2.096103               0.108740        70\n",
      "1                1.654249               0.076009        65\n",
      "2                1.145579               0.110094        90\n",
      "3                0.752038               0.029049        70\n",
      "4                0.300933               0.005570       110\n",
      "5               -0.186150               0.018068       115\n",
      "6               -0.604362              -0.038306       120\n",
      "7               -0.994818              -0.122434       140\n",
      "8               -1.472650              -0.119187       155\n",
      "9               -1.967957              -0.098465       150\n",
      "10              -0.629685               1.885358       160\n",
      "11              -0.093280              -1.854496        85\n"
     ]
    }
   ],
   "source": [
    "finalDf = pd.concat([principalDf, y1], axis = 1)\n",
    "print(finalDf)"
   ]
  },
  {
   "cell_type": "code",
   "execution_count": 15,
   "metadata": {
    "id": "hDRhdTNnoYpc"
   },
   "outputs": [],
   "source": [
    "X2=principalDf[[\"principal component 1\",\"principal component 2\"]]\n",
    "y2=data1[\"cons_exp\"]"
   ]
  },
  {
   "cell_type": "code",
   "execution_count": 16,
   "metadata": {
    "colab": {
     "base_uri": "https://localhost:8080/"
    },
    "id": "wPXRad2xoYt1",
    "outputId": "be034d65-fff7-48ca-a4b2-399be6af9759"
   },
   "outputs": [
    {
     "name": "stdout",
     "output_type": "stream",
     "text": [
      "                                 OLS Regression Results                                \n",
      "=======================================================================================\n",
      "Dep. Variable:               cons_exp   R-squared (uncentered):                   0.077\n",
      "Model:                            OLS   Adj. R-squared (uncentered):             -0.107\n",
      "Method:                 Least Squares   F-statistic:                             0.4192\n",
      "Date:                Fri, 03 Jun 2022   Prob (F-statistic):                       0.669\n",
      "Time:                        13:43:57   Log-Likelihood:                         -73.562\n",
      "No. Observations:                  12   AIC:                                      151.1\n",
      "Df Residuals:                      10   BIC:                                      152.1\n",
      "Df Model:                           2                                                  \n",
      "Covariance Type:            nonrobust                                                  \n",
      "=========================================================================================\n",
      "                            coef    std err          t      P>|t|      [0.025      0.975]\n",
      "-----------------------------------------------------------------------------------------\n",
      "principal component 1   -24.9328     29.598     -0.842      0.419     -90.882      41.016\n",
      "principal component 2    16.4513     45.825      0.359      0.727     -85.653     118.556\n",
      "==============================================================================\n",
      "Omnibus:                        6.536   Durbin-Watson:                   0.018\n",
      "Prob(Omnibus):                  0.038   Jarque-Bera (JB):                3.040\n",
      "Skew:                          -1.166   Prob(JB):                        0.219\n",
      "Kurtosis:                       3.800   Cond. No.                         1.55\n",
      "==============================================================================\n",
      "\n",
      "Warnings:\n",
      "[1] Standard Errors assume that the covariance matrix of the errors is correctly specified.\n"
     ]
    }
   ],
   "source": [
    "model= sm.OLS(y2,X2)                               #performing OLS \n",
    "results=model.fit()\n",
    "print(results.summary())"
   ]
  },
  {
   "cell_type": "markdown",
   "metadata": {
    "id": "kDB5kk5H1L8a"
   },
   "source": [
    "#### After performing PCA technique, Our new model is \n",
    "> Yi= -24.9328* prinicipal component 1 + 16.4513* prinicipal component 2"
   ]
  },
  {
   "cell_type": "markdown",
   "metadata": {
    "id": "iJZUSsmHWMea"
   },
   "source": [
    "### DATA SET -2"
   ]
  },
  {
   "cell_type": "markdown",
   "metadata": {
    "id": "r3hm3pgroZ3f"
   },
   "source": [
    "### B. The following data is given for 20 individuals. Y is the dependent variable and rest are independent variables. A regression model is developed using the data. Check for the presence of multicollinearity and suggest all possible measure. Compare the effectiveness of these remedial measures and comment.\n",
    "> Y: 105,115,116,117,112,121,121,110,110,114,114,115,114,106,125,114,106,113,110,122\n",
    "> X1: 47,49,49,50,51,48,49,47,49,48,47,49,50,45,52,46,46,46,48,56\n",
    "> X2: 85.4,94.2,95.3,94.7,89.4,99.5,99.8,90.9,89.2,92.7,94.4,94.1,91.6,87.1,101.3,94.5,87.0,94.5,90.5,95.7\n",
    "> X3: 1.75,2.10,1.98,2.01,1.89,2.25,2.25,1.90,1.83,2.07,2.07,1.98,2.05,1.92,2.19,1.98,1.87,1.90,1.88,2.09\n",
    "> X4: 5.1,3.8,8.2,5.8,7.0,9.3,2.5,6.2,7.1,5.6,5.3,5.6,10.2,5.6,10.0,7.4,3.6,4.3,9.0,7.0\n",
    "> X6: 63,70,72,73,72,71,69,66,69,64,74,71,68,67,76,69,62,70,71,75\n",
    "> X7: 33,14,10,99,95,10,42,8,62,35,90,21,47,80,98,95,18,12,99,99\n"
   ]
  },
  {
   "cell_type": "code",
   "execution_count": 27,
   "metadata": {
    "colab": {
     "base_uri": "https://localhost:8080/",
     "height": 206
    },
    "id": "45A_q1nkojnc",
    "outputId": "01d00b2d-99f4-48bd-f5df-2a1860a38aa9"
   },
   "outputs": [
    {
     "data": {
      "text/html": [
       "\n",
       "  <div id=\"df-ab124dec-e557-4138-83c8-0958fd154939\">\n",
       "    <div class=\"colab-df-container\">\n",
       "      <div>\n",
       "<style scoped>\n",
       "    .dataframe tbody tr th:only-of-type {\n",
       "        vertical-align: middle;\n",
       "    }\n",
       "\n",
       "    .dataframe tbody tr th {\n",
       "        vertical-align: top;\n",
       "    }\n",
       "\n",
       "    .dataframe thead th {\n",
       "        text-align: right;\n",
       "    }\n",
       "</style>\n",
       "<table border=\"1\" class=\"dataframe\">\n",
       "  <thead>\n",
       "    <tr style=\"text-align: right;\">\n",
       "      <th></th>\n",
       "      <th>X1</th>\n",
       "      <th>X2</th>\n",
       "      <th>X3</th>\n",
       "      <th>X4</th>\n",
       "      <th>X5</th>\n",
       "      <th>X6</th>\n",
       "      <th>Y</th>\n",
       "    </tr>\n",
       "  </thead>\n",
       "  <tbody>\n",
       "    <tr>\n",
       "      <th>0</th>\n",
       "      <td>47</td>\n",
       "      <td>85.4</td>\n",
       "      <td>1.75</td>\n",
       "      <td>5.1</td>\n",
       "      <td>63</td>\n",
       "      <td>33</td>\n",
       "      <td>105</td>\n",
       "    </tr>\n",
       "    <tr>\n",
       "      <th>1</th>\n",
       "      <td>49</td>\n",
       "      <td>94.2</td>\n",
       "      <td>2.10</td>\n",
       "      <td>3.8</td>\n",
       "      <td>70</td>\n",
       "      <td>14</td>\n",
       "      <td>115</td>\n",
       "    </tr>\n",
       "    <tr>\n",
       "      <th>2</th>\n",
       "      <td>49</td>\n",
       "      <td>95.3</td>\n",
       "      <td>1.98</td>\n",
       "      <td>8.2</td>\n",
       "      <td>72</td>\n",
       "      <td>10</td>\n",
       "      <td>116</td>\n",
       "    </tr>\n",
       "    <tr>\n",
       "      <th>3</th>\n",
       "      <td>50</td>\n",
       "      <td>94.7</td>\n",
       "      <td>2.01</td>\n",
       "      <td>5.8</td>\n",
       "      <td>73</td>\n",
       "      <td>99</td>\n",
       "      <td>117</td>\n",
       "    </tr>\n",
       "    <tr>\n",
       "      <th>4</th>\n",
       "      <td>51</td>\n",
       "      <td>89.4</td>\n",
       "      <td>1.89</td>\n",
       "      <td>7.0</td>\n",
       "      <td>72</td>\n",
       "      <td>95</td>\n",
       "      <td>112</td>\n",
       "    </tr>\n",
       "  </tbody>\n",
       "</table>\n",
       "</div>\n",
       "      <button class=\"colab-df-convert\" onclick=\"convertToInteractive('df-ab124dec-e557-4138-83c8-0958fd154939')\"\n",
       "              title=\"Convert this dataframe to an interactive table.\"\n",
       "              style=\"display:none;\">\n",
       "        \n",
       "  <svg xmlns=\"http://www.w3.org/2000/svg\" height=\"24px\"viewBox=\"0 0 24 24\"\n",
       "       width=\"24px\">\n",
       "    <path d=\"M0 0h24v24H0V0z\" fill=\"none\"/>\n",
       "    <path d=\"M18.56 5.44l.94 2.06.94-2.06 2.06-.94-2.06-.94-.94-2.06-.94 2.06-2.06.94zm-11 1L8.5 8.5l.94-2.06 2.06-.94-2.06-.94L8.5 2.5l-.94 2.06-2.06.94zm10 10l.94 2.06.94-2.06 2.06-.94-2.06-.94-.94-2.06-.94 2.06-2.06.94z\"/><path d=\"M17.41 7.96l-1.37-1.37c-.4-.4-.92-.59-1.43-.59-.52 0-1.04.2-1.43.59L10.3 9.45l-7.72 7.72c-.78.78-.78 2.05 0 2.83L4 21.41c.39.39.9.59 1.41.59.51 0 1.02-.2 1.41-.59l7.78-7.78 2.81-2.81c.8-.78.8-2.07 0-2.86zM5.41 20L4 18.59l7.72-7.72 1.47 1.35L5.41 20z\"/>\n",
       "  </svg>\n",
       "      </button>\n",
       "      \n",
       "  <style>\n",
       "    .colab-df-container {\n",
       "      display:flex;\n",
       "      flex-wrap:wrap;\n",
       "      gap: 12px;\n",
       "    }\n",
       "\n",
       "    .colab-df-convert {\n",
       "      background-color: #E8F0FE;\n",
       "      border: none;\n",
       "      border-radius: 50%;\n",
       "      cursor: pointer;\n",
       "      display: none;\n",
       "      fill: #1967D2;\n",
       "      height: 32px;\n",
       "      padding: 0 0 0 0;\n",
       "      width: 32px;\n",
       "    }\n",
       "\n",
       "    .colab-df-convert:hover {\n",
       "      background-color: #E2EBFA;\n",
       "      box-shadow: 0px 1px 2px rgba(60, 64, 67, 0.3), 0px 1px 3px 1px rgba(60, 64, 67, 0.15);\n",
       "      fill: #174EA6;\n",
       "    }\n",
       "\n",
       "    [theme=dark] .colab-df-convert {\n",
       "      background-color: #3B4455;\n",
       "      fill: #D2E3FC;\n",
       "    }\n",
       "\n",
       "    [theme=dark] .colab-df-convert:hover {\n",
       "      background-color: #434B5C;\n",
       "      box-shadow: 0px 1px 3px 1px rgba(0, 0, 0, 0.15);\n",
       "      filter: drop-shadow(0px 1px 2px rgba(0, 0, 0, 0.3));\n",
       "      fill: #FFFFFF;\n",
       "    }\n",
       "  </style>\n",
       "\n",
       "      <script>\n",
       "        const buttonEl =\n",
       "          document.querySelector('#df-ab124dec-e557-4138-83c8-0958fd154939 button.colab-df-convert');\n",
       "        buttonEl.style.display =\n",
       "          google.colab.kernel.accessAllowed ? 'block' : 'none';\n",
       "\n",
       "        async function convertToInteractive(key) {\n",
       "          const element = document.querySelector('#df-ab124dec-e557-4138-83c8-0958fd154939');\n",
       "          const dataTable =\n",
       "            await google.colab.kernel.invokeFunction('convertToInteractive',\n",
       "                                                     [key], {});\n",
       "          if (!dataTable) return;\n",
       "\n",
       "          const docLinkHtml = 'Like what you see? Visit the ' +\n",
       "            '<a target=\"_blank\" href=https://colab.research.google.com/notebooks/data_table.ipynb>data table notebook</a>'\n",
       "            + ' to learn more about interactive tables.';\n",
       "          element.innerHTML = '';\n",
       "          dataTable['output_type'] = 'display_data';\n",
       "          await google.colab.output.renderOutput(dataTable, element);\n",
       "          const docLink = document.createElement('div');\n",
       "          docLink.innerHTML = docLinkHtml;\n",
       "          element.appendChild(docLink);\n",
       "        }\n",
       "      </script>\n",
       "    </div>\n",
       "  </div>\n",
       "  "
      ],
      "text/plain": [
       "   X1    X2    X3   X4  X5  X6    Y\n",
       "0  47  85.4  1.75  5.1  63  33  105\n",
       "1  49  94.2  2.10  3.8  70  14  115\n",
       "2  49  95.3  1.98  8.2  72  10  116\n",
       "3  50  94.7  2.01  5.8  73  99  117\n",
       "4  51  89.4  1.89  7.0  72  95  112"
      ]
     },
     "execution_count": 27,
     "metadata": {},
     "output_type": "execute_result"
    }
   ],
   "source": [
    "Dict2= {\"X1\": [47,49,49,50,51,48,49,47,49,48,47,49,50,45,52,46,46,46,48,56],\n",
    "             \"X2\": [85.4,94.2,95.3,94.7,89.4,99.5,99.8,90.9,89.2,92.7,94.4,94.1,91.6,87.1,101.3,94.5,87.0,94.5,90.5,95.7],\n",
    "             \"X3\": [1.75,2.10,1.98,2.01,1.89,2.25,2.25,1.90,1.83,2.07,2.07,1.98,2.05,1.92,2.19,1.98,1.87,1.90,1.88,2.09],\n",
    "             \"X4\": [5.1,3.8,8.2,5.8,7.0,9.3,2.5,6.2,7.1,5.6,5.3,5.6,10.2,5.6,10.0,7.4,3.6,4.3,9.0,7.0],\n",
    "             \"X5\": [63,70,72,73,72,71,69,66,69,64,74,71,68,67,76,69,62,70,71,75],\n",
    "             \"X6\": [ 33,14,10,99,95,10,42,8,62,35,90,21,47,80,98,95,18,12,99,99],\n",
    "             \"Y\": [105,115,116,117,112,121,121,110,110,114,114,115,114,106,125,114,106,113,110,122]}\n",
    "data2=pd.DataFrame(Dict2)\n",
    "data2.head()"
   ]
  },
  {
   "cell_type": "code",
   "execution_count": 98,
   "metadata": {
    "id": "ZpP4f-hQQfRe"
   },
   "outputs": [],
   "source": [
    "X1=data2[\"X1\"]\n",
    "X2=data2[\"X2\"]\n",
    "X3=data2[\"X3\"]\n",
    "X4=data2[\"X4\"]\n",
    "X5=data2[\"X5\"]\n",
    "X6=data2[\"X6\"]"
   ]
  },
  {
   "cell_type": "code",
   "execution_count": 63,
   "metadata": {
    "id": "c9d7j5hq4CpL"
   },
   "outputs": [],
   "source": [
    "design_mat=arr[0:,:-1]                   #design matrix"
   ]
  },
  {
   "cell_type": "markdown",
   "metadata": {
    "id": "dijOpgDYqEae"
   },
   "source": [
    "### Check for the presence of multicollinearity and suggest all possible measure. "
   ]
  },
  {
   "cell_type": "code",
   "execution_count": 24,
   "metadata": {
    "id": "e8QT8z4fp1_l"
   },
   "outputs": [],
   "source": [
    "X_3= data2[[\"X1\",\"X2\",\"X3\",\"X4\",\"X5\",\"X6\"]]         #independent variable\n",
    "y_3= data2[[\"Y\"]]                                   #dependent variable"
   ]
  },
  {
   "cell_type": "code",
   "execution_count": 41,
   "metadata": {
    "id": "u9jQGLI9614N"
   },
   "outputs": [],
   "source": [
    "y_= y_3.to_numpy()                                     #target variable"
   ]
  },
  {
   "cell_type": "code",
   "execution_count": 19,
   "metadata": {
    "id": "lFYnmRJJrN5G"
   },
   "outputs": [],
   "source": [
    "# VIF dataframe\n",
    "vif_data3 = pd.DataFrame()\n",
    "vif_data3[\"feature\"] = X_3.columns"
   ]
  },
  {
   "cell_type": "code",
   "execution_count": 20,
   "metadata": {
    "colab": {
     "base_uri": "https://localhost:8080/"
    },
    "id": "Xy0rXnAHuyMP",
    "outputId": "36c921c5-9995-4794-bdbf-5519a7befbd8"
   },
   "outputs": [
    {
     "name": "stdout",
     "output_type": "stream",
     "text": [
      "  feature          VIF\n",
      "0      X1   536.793041\n",
      "1      X2  3187.057943\n",
      "2      X3  1044.246904\n",
      "3      X4    12.514432\n",
      "4      X5  1553.320340\n",
      "5      X6     5.809743\n"
     ]
    }
   ],
   "source": [
    "# calculating VIF for each feature\n",
    "vif_data3[\"VIF\"] = [variance_inflation_factor(X_3.values, i)\n",
    "                          for i in range(X_3.shape[1])]\n",
    "print(vif_data3)"
   ]
  },
  {
   "cell_type": "markdown",
   "metadata": {
    "id": "hpJu_ZNRu9_A"
   },
   "source": [
    "#### Here,we can clearly see that, X1,X2,X3,X5 have the highest VIF i.e they have strong multicolinearity between them and rest of covariates have less VIF comparativlely from those.\n",
    "\n",
    "\n"
   ]
  },
  {
   "cell_type": "markdown",
   "metadata": {
    "id": "IgHjC2GD7f0L"
   },
   "source": [
    "### RIDGE REGRESSION:\n",
    ">  betaR= (X'X)^-1 * ( X'Y) + KI(X'Y) "
   ]
  },
  {
   "cell_type": "code",
   "execution_count": 57,
   "metadata": {
    "id": "tjBe59hMdtXK"
   },
   "outputs": [],
   "source": [
    "X_T= design_mat.transpose()\n",
    "res=np.dot(X_T,design_mat)\n",
    "a=np.linalg.inv(res) \n",
    "b=np.dot(X_T,y_)\n",
    "C= np.dot(a,b)\n",
    "K=0.01\n",
    "I=np.identity(6)\n",
    "e=np.multiply(I,0.01)\n",
    "D=np.dot(e,b)"
   ]
  },
  {
   "cell_type": "code",
   "execution_count": 59,
   "metadata": {
    "colab": {
     "base_uri": "https://localhost:8080/"
    },
    "id": "q8PXr6zmecwn",
    "outputId": "5c7eb57f-8a73-41cc-a02b-0c28588d3116"
   },
   "outputs": [
    {
     "data": {
      "text/plain": [
       "(6, 1)"
      ]
     },
     "execution_count": 59,
     "metadata": {},
     "output_type": "execute_result"
    }
   ],
   "source": [
    "C.shape"
   ]
  },
  {
   "cell_type": "code",
   "execution_count": 60,
   "metadata": {
    "colab": {
     "base_uri": "https://localhost:8080/"
    },
    "id": "5YM-6HkD_OI2",
    "outputId": "4065f00b-9b4f-46e6-c21d-7fd620390078"
   },
   "outputs": [
    {
     "data": {
      "text/plain": [
       "(6, 1)"
      ]
     },
     "execution_count": 60,
     "metadata": {},
     "output_type": "execute_result"
    }
   ],
   "source": [
    "D.shape"
   ]
  },
  {
   "cell_type": "code",
   "execution_count": 62,
   "metadata": {
    "colab": {
     "base_uri": "https://localhost:8080/"
    },
    "id": "XB9fS3w8_SXx",
    "outputId": "498eb407-8b51-4469-cb9e-d2ffd06f31ff"
   },
   "outputs": [
    {
     "name": "stdout",
     "output_type": "stream",
     "text": [
      "[[1110.36191435]\n",
      " [2127.4766327 ]\n",
      " [  52.37714125]\n",
      " [ 147.36450462]\n",
      " [1589.64308771]\n",
      " [1222.65662513]]\n"
     ]
    }
   ],
   "source": [
    "betaR= np.add(C,D)             #estimated BetaHat of Ridge regression\n",
    "print(betaR)"
   ]
  },
  {
   "cell_type": "markdown",
   "metadata": {
    "id": "67dA7nF5WpTX"
   },
   "source": [
    "#### new model is Yi= 1110.36 * X1 + 2127.47 * X2 + 52.377 * X3 + 147.36 * X4 + 1589.64*X5 + 1222.65 * X6\n",
    "#### which is free from multicolinearity"
   ]
  },
  {
   "cell_type": "markdown",
   "metadata": {
    "id": "FQw6vU75AkJB"
   },
   "source": [
    "### PCA"
   ]
  },
  {
   "cell_type": "code",
   "execution_count": 75,
   "metadata": {
    "colab": {
     "base_uri": "https://localhost:8080/"
    },
    "collapsed": true,
    "id": "_tuFqhysRKXQ",
    "outputId": "5413c93d-7d76-45e1-c938-7516ff868ae5"
   },
   "outputs": [
    {
     "data": {
      "text/plain": [
       "pandas.core.frame.DataFrame"
      ]
     },
     "execution_count": 75,
     "metadata": {},
     "output_type": "execute_result"
    }
   ],
   "source": [
    "from sklearn.preprocessing import StandardScaler                                  # performing preprocessing part\n",
    "sc = StandardScaler()\n",
    " \n",
    "X_3 = sc.fit_transform(X_3)\n",
    "\n",
    "from sklearn.decomposition import PCA                                             # Applying PCA function on X component \n",
    "pca = PCA(n_components = 6)\n",
    " \n",
    "X_33 = pca.fit_transform(X_3)\n",
    "explained_variance = pca.explained_variance_ratio_\n",
    "print(explained_variance)\n",
    "principalDf = pd.DataFrame(data = X_33\n",
    "             , columns = ['principal component 1', 'principal component 2',\n",
    "                          'principal component 3','principal component 4',\n",
    "                          'principal component 5','principal component 6'])\n",
    "finalDf = pd.concat([principalDf, y_3], axis = 1)\n",
    "print(finalDf)"
   ]
  },
  {
   "cell_type": "code",
   "execution_count": 68,
   "metadata": {
    "id": "q2p-Y_bHGATL"
   },
   "outputs": [],
   "source": [
    "X=principalDf[[\"principal component 1\",\"principal component 2\",\"principal component 3\"]]\n",
    "y=y_3"
   ]
  },
  {
   "cell_type": "code",
   "execution_count": 69,
   "metadata": {
    "colab": {
     "base_uri": "https://localhost:8080/"
    },
    "id": "YOosa7jBHMZT",
    "outputId": "93ed8bb7-a12b-4c78-acae-195e24aedf21"
   },
   "outputs": [
    {
     "name": "stdout",
     "output_type": "stream",
     "text": [
      "                                 OLS Regression Results                                \n",
      "=======================================================================================\n",
      "Dep. Variable:                      Y   R-squared (uncentered):                   0.002\n",
      "Model:                            OLS   Adj. R-squared (uncentered):             -0.174\n",
      "Method:                 Least Squares   F-statistic:                            0.01183\n",
      "Date:                Fri, 03 Jun 2022   Prob (F-statistic):                       0.998\n",
      "Time:                        15:09:26   Log-Likelihood:                         -123.10\n",
      "No. Observations:                  20   AIC:                                      252.2\n",
      "Df Residuals:                      17   BIC:                                      255.2\n",
      "Df Model:                           3                                                  \n",
      "Covariance Type:            nonrobust                                                  \n",
      "=========================================================================================\n",
      "                            coef    std err          t      P>|t|      [0.025      0.975]\n",
      "-----------------------------------------------------------------------------------------\n",
      "principal component 1     2.8002     15.930      0.176      0.863     -30.809      36.410\n",
      "principal component 2     1.5891     23.469      0.068      0.947     -47.926      51.105\n",
      "principal component 3    -0.0430     32.843     -0.001      0.999     -69.336      69.250\n",
      "==============================================================================\n",
      "Omnibus:                        3.235   Durbin-Watson:                   0.000\n",
      "Prob(Omnibus):                  0.198   Jarque-Bera (JB):                2.311\n",
      "Skew:                          -0.829   Prob(JB):                        0.315\n",
      "Kurtosis:                       2.837   Cond. No.                         2.06\n",
      "==============================================================================\n",
      "\n",
      "Warnings:\n",
      "[1] Standard Errors assume that the covariance matrix of the errors is correctly specified.\n"
     ]
    }
   ],
   "source": [
    "model= sm.OLS(y,X)                               #performing OLS \n",
    "results=model.fit()\n",
    "print(results.summary())"
   ]
  },
  {
   "cell_type": "markdown",
   "metadata": {
    "id": "Yj1oHlg9HWfc"
   },
   "source": [
    "##### after performing PCA, new model is Yi= 2.8002 * principal component 1 + 1.5891 *principal component2 - 0.0430 * principal component 3\n",
    "\n",
    "\n",
    "\n"
   ]
  },
  {
   "cell_type": "markdown",
   "metadata": {},
   "source": [
    "Submitted by,\n",
    "\n",
    "> Soumitro Mukherjee\n",
    "\n",
    "\n",
    "Reg. No. : 213001818010030, Roll No. : 30018021030"
   ]
  }
 ],
 "metadata": {
  "colab": {
   "collapsed_sections": [
    "VwtVjOB9Wu-P",
    "byYDEsJgV3Dd",
    "Kj6sTDLE0SbK",
    "9oYJ7dmgZpxX",
    "dijOpgDYqEae",
    "hpJu_ZNRu9_A"
   ],
   "name": "Assignment-3 (VIF)_ANUZA_PAUL.ipynb",
   "provenance": []
  },
  "kernelspec": {
   "display_name": "Python 3",
   "language": "python",
   "name": "python3"
  },
  "language_info": {
   "codemirror_mode": {
    "name": "ipython",
    "version": 3
   },
   "file_extension": ".py",
   "mimetype": "text/x-python",
   "name": "python",
   "nbconvert_exporter": "python",
   "pygments_lexer": "ipython3",
   "version": "3.8.8"
  }
 },
 "nbformat": 4,
 "nbformat_minor": 1
}
