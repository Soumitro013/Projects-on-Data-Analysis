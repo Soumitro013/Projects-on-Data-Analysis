{
 "cells": [
  {
   "cell_type": "markdown",
   "id": "9e6bad3e",
   "metadata": {},
   "source": [
    "## Topic : Senic Data project - Different plots and Regression"
   ]
  },
  {
   "cell_type": "markdown",
   "id": "183fe8a8",
   "metadata": {},
   "source": [
    "### 1. Uploading the dataset 'sonic (1).txt "
   ]
  },
  {
   "cell_type": "code",
   "execution_count": 1,
   "id": "669187b6",
   "metadata": {},
   "outputs": [
    {
     "data": {
      "text/html": [
       "<div>\n",
       "<style scoped>\n",
       "    .dataframe tbody tr th:only-of-type {\n",
       "        vertical-align: middle;\n",
       "    }\n",
       "\n",
       "    .dataframe tbody tr th {\n",
       "        vertical-align: top;\n",
       "    }\n",
       "\n",
       "    .dataframe thead th {\n",
       "        text-align: right;\n",
       "    }\n",
       "</style>\n",
       "<table border=\"1\" class=\"dataframe\">\n",
       "  <thead>\n",
       "    <tr style=\"text-align: right;\">\n",
       "      <th></th>\n",
       "      <th>ID</th>\n",
       "      <th>Length</th>\n",
       "      <th>Age</th>\n",
       "      <th>InR</th>\n",
       "      <th>RCra</th>\n",
       "      <th>RCXra</th>\n",
       "      <th>Beds</th>\n",
       "      <th>ACen</th>\n",
       "      <th>Nurse</th>\n",
       "      <th>AFaS</th>\n",
       "      <th>MedAf</th>\n",
       "      <th>Region</th>\n",
       "    </tr>\n",
       "  </thead>\n",
       "  <tbody>\n",
       "    <tr>\n",
       "      <th>1</th>\n",
       "      <td>1</td>\n",
       "      <td>7.13</td>\n",
       "      <td>55.7</td>\n",
       "      <td>4.1</td>\n",
       "      <td>9.0</td>\n",
       "      <td>39.6</td>\n",
       "      <td>279</td>\n",
       "      <td>207</td>\n",
       "      <td>241</td>\n",
       "      <td>60.0</td>\n",
       "      <td>No</td>\n",
       "      <td>W</td>\n",
       "    </tr>\n",
       "    <tr>\n",
       "      <th>2</th>\n",
       "      <td>2</td>\n",
       "      <td>8.82</td>\n",
       "      <td>58.2</td>\n",
       "      <td>1.6</td>\n",
       "      <td>3.8</td>\n",
       "      <td>51.7</td>\n",
       "      <td>80</td>\n",
       "      <td>51</td>\n",
       "      <td>52</td>\n",
       "      <td>40.0</td>\n",
       "      <td>No</td>\n",
       "      <td>NC</td>\n",
       "    </tr>\n",
       "    <tr>\n",
       "      <th>3</th>\n",
       "      <td>3</td>\n",
       "      <td>8.34</td>\n",
       "      <td>56.9</td>\n",
       "      <td>2.7</td>\n",
       "      <td>8.1</td>\n",
       "      <td>74.0</td>\n",
       "      <td>107</td>\n",
       "      <td>82</td>\n",
       "      <td>54</td>\n",
       "      <td>20.0</td>\n",
       "      <td>No</td>\n",
       "      <td>S</td>\n",
       "    </tr>\n",
       "    <tr>\n",
       "      <th>4</th>\n",
       "      <td>4</td>\n",
       "      <td>8.95</td>\n",
       "      <td>53.7</td>\n",
       "      <td>5.6</td>\n",
       "      <td>18.9</td>\n",
       "      <td>122.8</td>\n",
       "      <td>147</td>\n",
       "      <td>53</td>\n",
       "      <td>148</td>\n",
       "      <td>40.0</td>\n",
       "      <td>No</td>\n",
       "      <td>W</td>\n",
       "    </tr>\n",
       "    <tr>\n",
       "      <th>5</th>\n",
       "      <td>5</td>\n",
       "      <td>11.20</td>\n",
       "      <td>56.5</td>\n",
       "      <td>5.7</td>\n",
       "      <td>34.5</td>\n",
       "      <td>88.9</td>\n",
       "      <td>180</td>\n",
       "      <td>134</td>\n",
       "      <td>151</td>\n",
       "      <td>40.0</td>\n",
       "      <td>No</td>\n",
       "      <td>NE</td>\n",
       "    </tr>\n",
       "    <tr>\n",
       "      <th>...</th>\n",
       "      <td>...</td>\n",
       "      <td>...</td>\n",
       "      <td>...</td>\n",
       "      <td>...</td>\n",
       "      <td>...</td>\n",
       "      <td>...</td>\n",
       "      <td>...</td>\n",
       "      <td>...</td>\n",
       "      <td>...</td>\n",
       "      <td>...</td>\n",
       "      <td>...</td>\n",
       "      <td>...</td>\n",
       "    </tr>\n",
       "    <tr>\n",
       "      <th>109</th>\n",
       "      <td>109</td>\n",
       "      <td>11.80</td>\n",
       "      <td>53.8</td>\n",
       "      <td>5.7</td>\n",
       "      <td>9.1</td>\n",
       "      <td>116.9</td>\n",
       "      <td>571</td>\n",
       "      <td>441</td>\n",
       "      <td>469</td>\n",
       "      <td>62.9</td>\n",
       "      <td>Yes</td>\n",
       "      <td>NC</td>\n",
       "    </tr>\n",
       "    <tr>\n",
       "      <th>110</th>\n",
       "      <td>110</td>\n",
       "      <td>9.50</td>\n",
       "      <td>49.3</td>\n",
       "      <td>5.8</td>\n",
       "      <td>42.0</td>\n",
       "      <td>70.9</td>\n",
       "      <td>98</td>\n",
       "      <td>68</td>\n",
       "      <td>46</td>\n",
       "      <td>22.9</td>\n",
       "      <td>No</td>\n",
       "      <td>S</td>\n",
       "    </tr>\n",
       "    <tr>\n",
       "      <th>111</th>\n",
       "      <td>111</td>\n",
       "      <td>7.70</td>\n",
       "      <td>56.9</td>\n",
       "      <td>4.4</td>\n",
       "      <td>12.2</td>\n",
       "      <td>67.9</td>\n",
       "      <td>129</td>\n",
       "      <td>85</td>\n",
       "      <td>136</td>\n",
       "      <td>62.9</td>\n",
       "      <td>No</td>\n",
       "      <td>W</td>\n",
       "    </tr>\n",
       "    <tr>\n",
       "      <th>112</th>\n",
       "      <td>112</td>\n",
       "      <td>17.94</td>\n",
       "      <td>56.2</td>\n",
       "      <td>5.9</td>\n",
       "      <td>26.4</td>\n",
       "      <td>91.8</td>\n",
       "      <td>835</td>\n",
       "      <td>791</td>\n",
       "      <td>407</td>\n",
       "      <td>62.9</td>\n",
       "      <td>Yes</td>\n",
       "      <td>NE</td>\n",
       "    </tr>\n",
       "    <tr>\n",
       "      <th>113</th>\n",
       "      <td>113</td>\n",
       "      <td>9.41</td>\n",
       "      <td>59.5</td>\n",
       "      <td>3.1</td>\n",
       "      <td>20.6</td>\n",
       "      <td>91.7</td>\n",
       "      <td>29</td>\n",
       "      <td>20</td>\n",
       "      <td>22</td>\n",
       "      <td>22.9</td>\n",
       "      <td>No</td>\n",
       "      <td>S</td>\n",
       "    </tr>\n",
       "  </tbody>\n",
       "</table>\n",
       "<p>113 rows × 12 columns</p>\n",
       "</div>"
      ],
      "text/plain": [
       "      ID  Length   Age  InR  RCra  RCXra  Beds  ACen  Nurse  AFaS MedAf Region\n",
       "1      1    7.13  55.7  4.1   9.0   39.6   279   207    241  60.0    No      W\n",
       "2      2    8.82  58.2  1.6   3.8   51.7    80    51     52  40.0    No     NC\n",
       "3      3    8.34  56.9  2.7   8.1   74.0   107    82     54  20.0    No      S\n",
       "4      4    8.95  53.7  5.6  18.9  122.8   147    53    148  40.0    No      W\n",
       "5      5   11.20  56.5  5.7  34.5   88.9   180   134    151  40.0    No     NE\n",
       "..   ...     ...   ...  ...   ...    ...   ...   ...    ...   ...   ...    ...\n",
       "109  109   11.80  53.8  5.7   9.1  116.9   571   441    469  62.9   Yes     NC\n",
       "110  110    9.50  49.3  5.8  42.0   70.9    98    68     46  22.9    No      S\n",
       "111  111    7.70  56.9  4.4  12.2   67.9   129    85    136  62.9    No      W\n",
       "112  112   17.94  56.2  5.9  26.4   91.8   835   791    407  62.9   Yes     NE\n",
       "113  113    9.41  59.5  3.1  20.6   91.7    29    20     22  22.9    No      S\n",
       "\n",
       "[113 rows x 12 columns]"
      ]
     },
     "execution_count": 1,
     "metadata": {},
     "output_type": "execute_result"
    }
   ],
   "source": [
    "import pandas as pd\n",
    "senic = pd.read_table('senic (1).txt')\n",
    "senic"
   ]
  },
  {
   "cell_type": "code",
   "execution_count": 4,
   "id": "bd66b5cf",
   "metadata": {},
   "outputs": [
    {
     "data": {
      "text/plain": [
       "S     37\n",
       "NC    32\n",
       "NE    28\n",
       "W     16\n",
       "Name: Region, dtype: int64"
      ]
     },
     "execution_count": 4,
     "metadata": {},
     "output_type": "execute_result"
    }
   ],
   "source": [
    "region = senic.Region.value_counts()\n",
    "region"
   ]
  },
  {
   "cell_type": "markdown",
   "id": "ff99aaef",
   "metadata": {},
   "source": [
    "### 2. Creating a pie chart for the Region variable with Title, labels with the percentages for each slice."
   ]
  },
  {
   "cell_type": "code",
   "execution_count": 5,
   "id": "9ac50769",
   "metadata": {},
   "outputs": [
    {
     "data": {
      "text/plain": [
       "S     37\n",
       "NC    32\n",
       "NE    28\n",
       "W     16\n",
       "Name: Region, dtype: int64"
      ]
     },
     "execution_count": 5,
     "metadata": {},
     "output_type": "execute_result"
    }
   ],
   "source": [
    "region = senic.Region.value_counts()\n",
    "region"
   ]
  },
  {
   "cell_type": "code",
   "execution_count": 6,
   "id": "c7680398",
   "metadata": {},
   "outputs": [
    {
     "data": {
      "text/plain": [
       "([<matplotlib.patches.Wedge at 0x1e7fe93a2b0>,\n",
       "  <matplotlib.patches.Wedge at 0x1e7fe93a9a0>,\n",
       "  <matplotlib.patches.Wedge at 0x1e7fe93afd0>,\n",
       "  <matplotlib.patches.Wedge at 0x1e7fe94f700>],\n",
       " [Text(0.5727206582552293, 0.9508370247354154, 'S'),\n",
       "  Text(-1.0890462792753985, 0.21465833689007094, 'NC'),\n",
       "  Text(-0.10783935346808984, -1.1047491452106148, 'NE'),\n",
       "  Text(1.0019803075290596, -0.47763528274612554, 'W')],\n",
       " [Text(0.31473837976188274, 0.5225320586383814, '32.74%'),\n",
       "  Text(-0.598484892214408, 0.11796539234499394, '28.32%'),\n",
       "  Text(-0.05926306812210341, -0.6071143951157433, '24.78%'),\n",
       "  Text(0.5506378266601137, -0.262484254482105, '14.16%')])"
      ]
     },
     "execution_count": 6,
     "metadata": {},
     "output_type": "execute_result"
    },
    {
     "data": {
      "image/png": "[encoded data removed]",
      "text/plain": [
       "<Figure size 504x504 with 1 Axes>"
      ]
     },
     "metadata": {},
     "output_type": "display_data"
    }
   ],
   "source": [
    "import matplotlib.pyplot as plt\n",
    "plt.figure(figsize=(7,7))\n",
    "plt.pie(region,labels=['S','NC','NE','W'],explode=(0.01,0.01,0.01,0.01),autopct='%.2f%%')"
   ]
  },
  {
   "cell_type": "markdown",
   "id": "b4e3e79a",
   "metadata": {},
   "source": [
    "### 3. Hypothesis testing to determine if the mean infection risk is less than 5%. Also, fiding the 99% confidence intervals for the mean infection risk.\n",
    "#### H0 : u = 0.05 vs H1 : u < 0.05"
   ]
  },
  {
   "cell_type": "code",
   "execution_count": 8,
   "id": "c20732da",
   "metadata": {},
   "outputs": [
    {
     "data": {
      "text/plain": [
       "(34.12714988845517, 1.0)"
      ]
     },
     "execution_count": 8,
     "metadata": {},
     "output_type": "execute_result"
    }
   ],
   "source": [
    "import scipy.stats as scist\n",
    "ttest_stat,ttest_pval = scist.ttest_1samp(senic.InR,0.05,alternative='less')\n",
    "ttest_stat,ttest_pval"
   ]
  },
  {
   "cell_type": "markdown",
   "id": "01a3fa95",
   "metadata": {},
   "source": [
    "As the p-value is 1.0 which is the maximum, the null hypothesis is acceptedted and it implies that the mean infection risk is 5% ."
   ]
  },
  {
   "cell_type": "markdown",
   "id": "4082df2a",
   "metadata": {},
   "source": [
    "#### Calculation for the 99% Confidence Interval"
   ]
  },
  {
   "cell_type": "code",
   "execution_count": 113,
   "id": "a9449272",
   "metadata": {},
   "outputs": [
    {
     "data": {
      "text/plain": [
       "(-2.360103972336328, inf)"
      ]
     },
     "execution_count": 113,
     "metadata": {},
     "output_type": "execute_result"
    }
   ],
   "source": [
    "c_level_a = scist.t.ppf(0.01,112)\n",
    "c_level_b = scist.t.ppf(1,112)\n",
    "c_level_a,c_level_b"
   ]
  },
  {
   "cell_type": "markdown",
   "id": "0ba3fb22",
   "metadata": {},
   "source": [
    "### 4. Calculating the sample mean, variance, 5th percentile, 72nd percentile, and 80th percentile of the average daily census variable. "
   ]
  },
  {
   "cell_type": "code",
   "execution_count": 137,
   "id": "cd768ca4",
   "metadata": {},
   "outputs": [
    {
     "name": "stdout",
     "output_type": "stream",
     "text": [
      "Sample Mean and Variance are 191.372 and 23642.003\n"
     ]
    }
   ],
   "source": [
    "import statistics as st\n",
    "Avg_ACen = st.mean(senic.ACen)\n",
    "Var_ACen = st.variance(senic.ACen)\n",
    "print('Sample Mean and Variance are 'f'{Avg_ACen:.3f}'' and 'f'{Var_ACen:.3f}')"
   ]
  },
  {
   "cell_type": "code",
   "execution_count": 130,
   "id": "b4699140",
   "metadata": {},
   "outputs": [
    {
     "name": "stdout",
     "output_type": "stream",
     "text": [
      "5th percentile is 40.00\n",
      "72th percentile is 240.64\n",
      "80th percentile is 311.00\n"
     ]
    }
   ],
   "source": [
    "import numpy as np\n",
    "for i in [5,72,80]:\n",
    "    print('{:.0F}th percentile is {:.2F}'.format(i,np.quantile(senic.ACen,i/100)))"
   ]
  },
  {
   "cell_type": "markdown",
   "id": "5ff06ec4",
   "metadata": {},
   "source": [
    "### 5. Creating a multi-panel image that has four scatterplots in the first row (Nurse should be the explanatory variable for each, RCra, AFaS, Length, and Age should be the response variables), two histograms in the second row (one for RCra and one for RCXra, each should be the length of two of the scatterplots from the first row), and a single multiple boxplot in the third row that shows the distribution of Age for each of the Regions. "
   ]
  },
  {
   "cell_type": "code",
   "execution_count": 12,
   "id": "dc1ca2fd",
   "metadata": {},
   "outputs": [
    {
     "data": {
      "image/png": "[encoded data removed]",
      "text/plain": [
       "<Figure size 1152x288 with 4 Axes>"
      ]
     },
     "metadata": {
      "needs_background": "light"
     },
     "output_type": "display_data"
    },
    {
     "data": {
      "image/png": "[encoded data removed]",
      "text/plain": [
       "<Figure size 1152x288 with 2 Axes>"
      ]
     },
     "metadata": {
      "needs_background": "light"
     },
     "output_type": "display_data"
    },
    {
     "data": {
      "image/png": "[encoded data removed]",
      "text/plain": [
       "<Figure size 432x288 with 1 Axes>"
      ]
     },
     "metadata": {
      "needs_background": "light"
     },
     "output_type": "display_data"
    }
   ],
   "source": [
    "plt.figure(figsize=(16,4))\n",
    "plt.subplot(141)\n",
    "plt.scatter(senic.Nurse,senic.RCra,color='darkblue')\n",
    "plt.title(\"RCas vs Nurse\")\n",
    "plt.subplot(142)\n",
    "plt.scatter(senic.Nurse,senic.AFaS,color='b')\n",
    "plt.title(\"AFaS vs Nurse\")\n",
    "plt.subplot(143)\n",
    "plt.scatter(senic.Nurse,senic.Length,color='dodgerblue')\n",
    "plt.title(\"Length vs Nurse\")\n",
    "plt.subplot(144)\n",
    "plt.scatter(senic.Nurse,senic.Age,color='c')\n",
    "plt.title(\"Age vs Nurse\")\n",
    "plt.show()\n",
    "plt.figure(figsize=(16,4))\n",
    "plt.subplot(121)\n",
    "plt.hist(senic.RCra,color='g')\n",
    "plt.title(\"Histogram of RCra\")\n",
    "plt.subplot(122)\n",
    "plt.hist(senic.RCXra,color='m')\n",
    "plt.title(\"Histogram of RCXra\")\n",
    "plt.show()\n",
    "plt.subplot()\n",
    "import seaborn as sb\n",
    "sb.boxplot(x=senic.Region,y=senic.Age)\n",
    "plt.title(\"Distribution of Age for each of the Regions\")\n",
    "plt.show()\n"
   ]
  },
  {
   "cell_type": "markdown",
   "id": "0a202eb6",
   "metadata": {},
   "source": [
    "### 6. Regression analysis using ACen as the response variable and Beds as the explanatory variable."
   ]
  },
  {
   "cell_type": "code",
   "execution_count": 73,
   "id": "ec050979",
   "metadata": {},
   "outputs": [],
   "source": [
    "import numpy as np\n",
    "Explo_data = np.array(senic.Beds).reshape(-1,1)\n",
    "Respo_data = np.array(senic.ACen)"
   ]
  },
  {
   "cell_type": "code",
   "execution_count": 23,
   "id": "47a5e4e6",
   "metadata": {},
   "outputs": [
    {
     "data": {
      "text/plain": [
       "(array([[279],\n",
       "        [ 80],\n",
       "        [107],\n",
       "        [147],\n",
       "        [180],\n",
       "        [150],\n",
       "        [186],\n",
       "        [640],\n",
       "        [182],\n",
       "        [ 85],\n",
       "        [768],\n",
       "        [167],\n",
       "        [322],\n",
       "        [ 97],\n",
       "        [ 72],\n",
       "        [387],\n",
       "        [108],\n",
       "        [133],\n",
       "        [134],\n",
       "        [833],\n",
       "        [ 95],\n",
       "        [195],\n",
       "        [270],\n",
       "        [600],\n",
       "        [298],\n",
       "        [546],\n",
       "        [170],\n",
       "        [176],\n",
       "        [248],\n",
       "        [167],\n",
       "        [318],\n",
       "        [210],\n",
       "        [196],\n",
       "        [312],\n",
       "        [221],\n",
       "        [266],\n",
       "        [ 90],\n",
       "        [ 60],\n",
       "        [196],\n",
       "        [ 73],\n",
       "        [166],\n",
       "        [113],\n",
       "        [130],\n",
       "        [362],\n",
       "        [115],\n",
       "        [831],\n",
       "        [306],\n",
       "        [593],\n",
       "        [106],\n",
       "        [305],\n",
       "        [252],\n",
       "        [620],\n",
       "        [535],\n",
       "        [157],\n",
       "        [ 76],\n",
       "        [281],\n",
       "        [ 70],\n",
       "        [318],\n",
       "        [445],\n",
       "        [191],\n",
       "        [119],\n",
       "        [595],\n",
       "        [ 68],\n",
       "        [ 83],\n",
       "        [489],\n",
       "        [508],\n",
       "        [265],\n",
       "        [304],\n",
       "        [487],\n",
       "        [ 97],\n",
       "        [ 72],\n",
       "        [ 87],\n",
       "        [298],\n",
       "        [184],\n",
       "        [235],\n",
       "        [ 76],\n",
       "        [ 52],\n",
       "        [752],\n",
       "        [237],\n",
       "        [175],\n",
       "        [461],\n",
       "        [195],\n",
       "        [197],\n",
       "        [143],\n",
       "        [ 92],\n",
       "        [195],\n",
       "        [477],\n",
       "        [353],\n",
       "        [165],\n",
       "        [424],\n",
       "        [100],\n",
       "        [ 95],\n",
       "        [ 56],\n",
       "        [ 99],\n",
       "        [154],\n",
       "        [ 98],\n",
       "        [246],\n",
       "        [298],\n",
       "        [163],\n",
       "        [568],\n",
       "        [ 64],\n",
       "        [190],\n",
       "        [ 92],\n",
       "        [356],\n",
       "        [297],\n",
       "        [130],\n",
       "        [115],\n",
       "        [ 91],\n",
       "        [571],\n",
       "        [ 98],\n",
       "        [129],\n",
       "        [835],\n",
       "        [ 29]], dtype=int64),\n",
       " array([207,  51,  82,  53, 134, 147, 151, 399, 130,  59, 591, 105, 252,\n",
       "         59,  61, 326,  84, 113, 103, 547,  47, 163, 240, 468, 244, 413,\n",
       "        124, 156, 217, 113, 270, 200, 164, 258, 170, 181,  69,  50, 168,\n",
       "         49, 145,  90,  95, 313,  96, 581, 273, 446,  93, 238, 207, 413,\n",
       "        330, 115,  39, 217,  37, 265, 374, 153,  67, 546,  42,  66, 391,\n",
       "        421, 191, 248, 404,  65,  38,  52, 241, 144, 143,  51,  37, 595,\n",
       "        165, 113, 320, 139, 109,  85,  61, 127, 349, 223, 127, 359,  65,\n",
       "         59,  40,  55, 123,  57, 178, 237, 128, 452,  47, 141,  40, 308,\n",
       "        230,  69,  90,  44, 441,  68,  85, 791,  20], dtype=int64))"
      ]
     },
     "execution_count": 23,
     "metadata": {},
     "output_type": "execute_result"
    }
   ],
   "source": [
    "Explo_data , Respo_data"
   ]
  },
  {
   "cell_type": "code",
   "execution_count": 28,
   "id": "6cdffadc",
   "metadata": {},
   "outputs": [],
   "source": [
    "from sklearn.linear_model import LinearRegression as lr\n",
    "model = lr().fit(Explo_data,Respo_data)"
   ]
  },
  {
   "cell_type": "code",
   "execution_count": 49,
   "id": "75c34cb6",
   "metadata": {},
   "outputs": [
    {
     "name": "stdout",
     "output_type": "stream",
     "text": [
      "Correration between Beds and ACen is 0.9623565710681561\n"
     ]
    }
   ],
   "source": [
    "print('Correration between Beds and ACen is {}'.format(model.score(Explo_data,Respo_data)))"
   ]
  },
  {
   "cell_type": "code",
   "execution_count": 43,
   "id": "27547500",
   "metadata": {},
   "outputs": [
    {
     "name": "stdout",
     "output_type": "stream",
     "text": [
      "β0 and β1 are -5.869316306724073 and 0.7821804787738136 respectively.\n"
     ]
    }
   ],
   "source": [
    "print('β0 and β1 are {} and {} respectively.'.format(model.intercept_ , model.coef_[0]))"
   ]
  },
  {
   "cell_type": "markdown",
   "id": "2fdb95b6",
   "metadata": {},
   "source": [
    "So, the Simple linear regression equn. can be written as,\n",
    "    Y = 0.78218X - 5.86932 ; Y denotes the ACen and X denotes the Beds."
   ]
  },
  {
   "cell_type": "code",
   "execution_count": 71,
   "id": "40fc9abc",
   "metadata": {},
   "outputs": [
    {
     "data": {
      "text/plain": [
       "(252.16814159292036, 191.3716814159292)"
      ]
     },
     "execution_count": 71,
     "metadata": {},
     "output_type": "execute_result"
    }
   ],
   "source": [
    "x_bar = senic.Beds.mean()\n",
    "y_bar = senic.ACen.mean()\n",
    "x_bar , y_bar"
   ]
  },
  {
   "attachments": {},
   "cell_type": "markdown",
   "id": "84e88d9d",
   "metadata": {},
   "source": [
    "Now, the previous equn. can also be represented as,"
   ]
  },
  {
   "cell_type": "markdown",
   "id": "202571a6",
   "metadata": {},
   "source": [
    "# Y - Ybar = byx(X - Xbar) "
   ]
  },
  {
   "cell_type": "markdown",
   "id": "28bbc5f2",
   "metadata": {},
   "source": [
    "So,  (Y - 191.37168) = 0.78218(X - 252.16814) ; 0.78218 = b'"
   ]
  },
  {
   "attachments": {
    "image.png": {
     "image/png": "[encoded data removed]"
    }
   },
   "cell_type": "markdown",
   "id": "b2e9b1dc",
   "metadata": {},
   "source": [
    "### Testing of regression coefficient\n",
    "#### H0 : byx = b0 vs H1 : byx ≠ b0\n",
    "![image.png](attachment:image.png)"
   ]
  },
  {
   "cell_type": "code",
   "execution_count": 78,
   "id": "5561d34e",
   "metadata": {},
   "outputs": [
    {
     "data": {
      "text/plain": [
       "111"
      ]
     },
     "execution_count": 78,
     "metadata": {},
     "output_type": "execute_result"
    }
   ],
   "source": [
    "n = senic.Beds.count()\n",
    "(n-2)"
   ]
  },
  {
   "cell_type": "markdown",
   "id": "48c0f6b6",
   "metadata": {},
   "source": [
    "### Calculating 90% confidence intervals for the regression coefficient."
   ]
  },
  {
   "cell_type": "code",
   "execution_count": 80,
   "id": "b96c0cc1",
   "metadata": {},
   "outputs": [
    {
     "data": {
      "text/plain": [
       "(-1.658697265409974, 1.6586972654099734)"
      ]
     },
     "execution_count": 80,
     "metadata": {},
     "output_type": "execute_result"
    }
   ],
   "source": [
    "import scipy.stats as scist\n",
    "a , b = scist.t.ppf(0.05,111) , scist.t.ppf(0.95,111)\n",
    "a , b"
   ]
  },
  {
   "cell_type": "markdown",
   "id": "b9c6448a",
   "metadata": {},
   "source": [
    "## Submitted by,\n",
    "### Soumitro Mukherjee\n",
    "#### Reg. No. : 213001818010030  ,  Roll No. : 30018021030\n",
    "### M.Sc. in Applied Statistics and Analytics"
   ]
  }
 ],
 "metadata": {
  "kernelspec": {
   "display_name": "Python 3",
   "language": "python",
   "name": "python3"
  },
  "language_info": {
   "codemirror_mode": {
    "name": "ipython",
    "version": 3
   },
   "file_extension": ".py",
   "mimetype": "text/x-python",
   "name": "python",
   "nbconvert_exporter": "python",
   "pygments_lexer": "ipython3",
   "version": "3.8.8"
  }
 },
 "nbformat": 4,
 "nbformat_minor": 5
}
