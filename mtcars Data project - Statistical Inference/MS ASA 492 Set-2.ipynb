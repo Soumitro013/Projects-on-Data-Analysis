{
 "cells": [
  {
   "cell_type": "markdown",
   "id": "f741016b",
   "metadata": {},
   "source": [
    "## Topic : Statistical Inference - mtcars Data"
   ]
  },
  {
   "cell_type": "code",
   "execution_count": 7,
   "id": "db215d51",
   "metadata": {},
   "outputs": [],
   "source": [
    "import numpy as  np\n",
    "import pandas as pd\n",
    "mtcars = pd.read_excel('mtcars.xlsx')"
   ]
  },
  {
   "cell_type": "code",
   "execution_count": 8,
   "id": "2892c4bc",
   "metadata": {},
   "outputs": [
    {
     "data": {
      "text/html": [
       "<div>\n",
       "<style scoped>\n",
       "    .dataframe tbody tr th:only-of-type {\n",
       "        vertical-align: middle;\n",
       "    }\n",
       "\n",
       "    .dataframe tbody tr th {\n",
       "        vertical-align: top;\n",
       "    }\n",
       "\n",
       "    .dataframe thead th {\n",
       "        text-align: right;\n",
       "    }\n",
       "</style>\n",
       "<table border=\"1\" class=\"dataframe\">\n",
       "  <thead>\n",
       "    <tr style=\"text-align: right;\">\n",
       "      <th></th>\n",
       "      <th>Unnamed: 0</th>\n",
       "      <th>mpg</th>\n",
       "      <th>cyl</th>\n",
       "      <th>disp</th>\n",
       "      <th>hp</th>\n",
       "      <th>drat</th>\n",
       "      <th>wt</th>\n",
       "      <th>qsec</th>\n",
       "      <th>vs</th>\n",
       "      <th>am</th>\n",
       "      <th>gear</th>\n",
       "      <th>carb</th>\n",
       "    </tr>\n",
       "  </thead>\n",
       "  <tbody>\n",
       "    <tr>\n",
       "      <th>0</th>\n",
       "      <td>Mazda RX4</td>\n",
       "      <td>21.0</td>\n",
       "      <td>6</td>\n",
       "      <td>160.0</td>\n",
       "      <td>110</td>\n",
       "      <td>3.90</td>\n",
       "      <td>2.620</td>\n",
       "      <td>16.46</td>\n",
       "      <td>0</td>\n",
       "      <td>1</td>\n",
       "      <td>4</td>\n",
       "      <td>4</td>\n",
       "    </tr>\n",
       "    <tr>\n",
       "      <th>1</th>\n",
       "      <td>Mazda RX4 Wag</td>\n",
       "      <td>21.0</td>\n",
       "      <td>6</td>\n",
       "      <td>160.0</td>\n",
       "      <td>110</td>\n",
       "      <td>3.90</td>\n",
       "      <td>2.875</td>\n",
       "      <td>17.02</td>\n",
       "      <td>0</td>\n",
       "      <td>1</td>\n",
       "      <td>4</td>\n",
       "      <td>4</td>\n",
       "    </tr>\n",
       "    <tr>\n",
       "      <th>2</th>\n",
       "      <td>Datsun 710</td>\n",
       "      <td>22.8</td>\n",
       "      <td>4</td>\n",
       "      <td>108.0</td>\n",
       "      <td>93</td>\n",
       "      <td>3.85</td>\n",
       "      <td>2.320</td>\n",
       "      <td>18.61</td>\n",
       "      <td>1</td>\n",
       "      <td>1</td>\n",
       "      <td>4</td>\n",
       "      <td>1</td>\n",
       "    </tr>\n",
       "    <tr>\n",
       "      <th>3</th>\n",
       "      <td>Hornet 4 Drive</td>\n",
       "      <td>21.4</td>\n",
       "      <td>6</td>\n",
       "      <td>258.0</td>\n",
       "      <td>110</td>\n",
       "      <td>3.08</td>\n",
       "      <td>3.215</td>\n",
       "      <td>19.44</td>\n",
       "      <td>1</td>\n",
       "      <td>0</td>\n",
       "      <td>3</td>\n",
       "      <td>1</td>\n",
       "    </tr>\n",
       "    <tr>\n",
       "      <th>4</th>\n",
       "      <td>Hornet Sportabout</td>\n",
       "      <td>18.7</td>\n",
       "      <td>8</td>\n",
       "      <td>360.0</td>\n",
       "      <td>175</td>\n",
       "      <td>3.15</td>\n",
       "      <td>3.440</td>\n",
       "      <td>17.02</td>\n",
       "      <td>0</td>\n",
       "      <td>0</td>\n",
       "      <td>3</td>\n",
       "      <td>2</td>\n",
       "    </tr>\n",
       "    <tr>\n",
       "      <th>5</th>\n",
       "      <td>Valiant</td>\n",
       "      <td>18.1</td>\n",
       "      <td>6</td>\n",
       "      <td>225.0</td>\n",
       "      <td>105</td>\n",
       "      <td>2.76</td>\n",
       "      <td>3.460</td>\n",
       "      <td>20.22</td>\n",
       "      <td>1</td>\n",
       "      <td>0</td>\n",
       "      <td>3</td>\n",
       "      <td>1</td>\n",
       "    </tr>\n",
       "    <tr>\n",
       "      <th>6</th>\n",
       "      <td>Duster 360</td>\n",
       "      <td>14.3</td>\n",
       "      <td>8</td>\n",
       "      <td>360.0</td>\n",
       "      <td>245</td>\n",
       "      <td>3.21</td>\n",
       "      <td>3.570</td>\n",
       "      <td>15.84</td>\n",
       "      <td>0</td>\n",
       "      <td>0</td>\n",
       "      <td>3</td>\n",
       "      <td>4</td>\n",
       "    </tr>\n",
       "    <tr>\n",
       "      <th>7</th>\n",
       "      <td>Merc 240D</td>\n",
       "      <td>24.4</td>\n",
       "      <td>4</td>\n",
       "      <td>146.7</td>\n",
       "      <td>62</td>\n",
       "      <td>3.69</td>\n",
       "      <td>3.190</td>\n",
       "      <td>20.00</td>\n",
       "      <td>1</td>\n",
       "      <td>0</td>\n",
       "      <td>4</td>\n",
       "      <td>2</td>\n",
       "    </tr>\n",
       "    <tr>\n",
       "      <th>8</th>\n",
       "      <td>Merc 230</td>\n",
       "      <td>22.8</td>\n",
       "      <td>4</td>\n",
       "      <td>140.8</td>\n",
       "      <td>95</td>\n",
       "      <td>3.92</td>\n",
       "      <td>3.150</td>\n",
       "      <td>22.90</td>\n",
       "      <td>1</td>\n",
       "      <td>0</td>\n",
       "      <td>4</td>\n",
       "      <td>2</td>\n",
       "    </tr>\n",
       "    <tr>\n",
       "      <th>9</th>\n",
       "      <td>Merc 280</td>\n",
       "      <td>19.2</td>\n",
       "      <td>6</td>\n",
       "      <td>167.6</td>\n",
       "      <td>123</td>\n",
       "      <td>3.92</td>\n",
       "      <td>3.440</td>\n",
       "      <td>18.30</td>\n",
       "      <td>1</td>\n",
       "      <td>0</td>\n",
       "      <td>4</td>\n",
       "      <td>4</td>\n",
       "    </tr>\n",
       "    <tr>\n",
       "      <th>10</th>\n",
       "      <td>Merc 280C</td>\n",
       "      <td>17.8</td>\n",
       "      <td>6</td>\n",
       "      <td>167.6</td>\n",
       "      <td>123</td>\n",
       "      <td>3.92</td>\n",
       "      <td>3.440</td>\n",
       "      <td>18.90</td>\n",
       "      <td>1</td>\n",
       "      <td>0</td>\n",
       "      <td>4</td>\n",
       "      <td>4</td>\n",
       "    </tr>\n",
       "    <tr>\n",
       "      <th>11</th>\n",
       "      <td>Merc 450SE</td>\n",
       "      <td>16.4</td>\n",
       "      <td>8</td>\n",
       "      <td>275.8</td>\n",
       "      <td>180</td>\n",
       "      <td>3.07</td>\n",
       "      <td>4.070</td>\n",
       "      <td>17.40</td>\n",
       "      <td>0</td>\n",
       "      <td>0</td>\n",
       "      <td>3</td>\n",
       "      <td>3</td>\n",
       "    </tr>\n",
       "    <tr>\n",
       "      <th>12</th>\n",
       "      <td>Merc 450SL</td>\n",
       "      <td>17.3</td>\n",
       "      <td>8</td>\n",
       "      <td>275.8</td>\n",
       "      <td>180</td>\n",
       "      <td>3.07</td>\n",
       "      <td>3.730</td>\n",
       "      <td>17.60</td>\n",
       "      <td>0</td>\n",
       "      <td>0</td>\n",
       "      <td>3</td>\n",
       "      <td>3</td>\n",
       "    </tr>\n",
       "    <tr>\n",
       "      <th>13</th>\n",
       "      <td>Merc 450SLC</td>\n",
       "      <td>15.2</td>\n",
       "      <td>8</td>\n",
       "      <td>275.8</td>\n",
       "      <td>180</td>\n",
       "      <td>3.07</td>\n",
       "      <td>3.780</td>\n",
       "      <td>18.00</td>\n",
       "      <td>0</td>\n",
       "      <td>0</td>\n",
       "      <td>3</td>\n",
       "      <td>3</td>\n",
       "    </tr>\n",
       "    <tr>\n",
       "      <th>14</th>\n",
       "      <td>Cadillac Fleetwood</td>\n",
       "      <td>10.4</td>\n",
       "      <td>8</td>\n",
       "      <td>472.0</td>\n",
       "      <td>205</td>\n",
       "      <td>2.93</td>\n",
       "      <td>5.250</td>\n",
       "      <td>17.98</td>\n",
       "      <td>0</td>\n",
       "      <td>0</td>\n",
       "      <td>3</td>\n",
       "      <td>4</td>\n",
       "    </tr>\n",
       "    <tr>\n",
       "      <th>15</th>\n",
       "      <td>Lincoln Continental</td>\n",
       "      <td>10.4</td>\n",
       "      <td>8</td>\n",
       "      <td>460.0</td>\n",
       "      <td>215</td>\n",
       "      <td>3.00</td>\n",
       "      <td>5.424</td>\n",
       "      <td>17.82</td>\n",
       "      <td>0</td>\n",
       "      <td>0</td>\n",
       "      <td>3</td>\n",
       "      <td>4</td>\n",
       "    </tr>\n",
       "    <tr>\n",
       "      <th>16</th>\n",
       "      <td>Chrysler Imperial</td>\n",
       "      <td>14.7</td>\n",
       "      <td>8</td>\n",
       "      <td>440.0</td>\n",
       "      <td>230</td>\n",
       "      <td>3.23</td>\n",
       "      <td>5.345</td>\n",
       "      <td>17.42</td>\n",
       "      <td>0</td>\n",
       "      <td>0</td>\n",
       "      <td>3</td>\n",
       "      <td>4</td>\n",
       "    </tr>\n",
       "    <tr>\n",
       "      <th>17</th>\n",
       "      <td>Fiat 128</td>\n",
       "      <td>32.4</td>\n",
       "      <td>4</td>\n",
       "      <td>78.7</td>\n",
       "      <td>66</td>\n",
       "      <td>4.08</td>\n",
       "      <td>2.200</td>\n",
       "      <td>19.47</td>\n",
       "      <td>1</td>\n",
       "      <td>1</td>\n",
       "      <td>4</td>\n",
       "      <td>1</td>\n",
       "    </tr>\n",
       "    <tr>\n",
       "      <th>18</th>\n",
       "      <td>Honda Civic</td>\n",
       "      <td>30.4</td>\n",
       "      <td>4</td>\n",
       "      <td>75.7</td>\n",
       "      <td>52</td>\n",
       "      <td>4.93</td>\n",
       "      <td>1.615</td>\n",
       "      <td>18.52</td>\n",
       "      <td>1</td>\n",
       "      <td>1</td>\n",
       "      <td>4</td>\n",
       "      <td>2</td>\n",
       "    </tr>\n",
       "    <tr>\n",
       "      <th>19</th>\n",
       "      <td>Toyota Corolla</td>\n",
       "      <td>33.9</td>\n",
       "      <td>4</td>\n",
       "      <td>71.1</td>\n",
       "      <td>65</td>\n",
       "      <td>4.22</td>\n",
       "      <td>1.835</td>\n",
       "      <td>19.90</td>\n",
       "      <td>1</td>\n",
       "      <td>1</td>\n",
       "      <td>4</td>\n",
       "      <td>1</td>\n",
       "    </tr>\n",
       "    <tr>\n",
       "      <th>20</th>\n",
       "      <td>Toyota Corona</td>\n",
       "      <td>21.5</td>\n",
       "      <td>4</td>\n",
       "      <td>120.1</td>\n",
       "      <td>97</td>\n",
       "      <td>3.70</td>\n",
       "      <td>2.465</td>\n",
       "      <td>20.01</td>\n",
       "      <td>1</td>\n",
       "      <td>0</td>\n",
       "      <td>3</td>\n",
       "      <td>1</td>\n",
       "    </tr>\n",
       "    <tr>\n",
       "      <th>21</th>\n",
       "      <td>Dodge Challenger</td>\n",
       "      <td>15.5</td>\n",
       "      <td>8</td>\n",
       "      <td>318.0</td>\n",
       "      <td>150</td>\n",
       "      <td>2.76</td>\n",
       "      <td>3.520</td>\n",
       "      <td>16.87</td>\n",
       "      <td>0</td>\n",
       "      <td>0</td>\n",
       "      <td>3</td>\n",
       "      <td>2</td>\n",
       "    </tr>\n",
       "    <tr>\n",
       "      <th>22</th>\n",
       "      <td>AMC Javelin</td>\n",
       "      <td>15.2</td>\n",
       "      <td>8</td>\n",
       "      <td>304.0</td>\n",
       "      <td>150</td>\n",
       "      <td>3.15</td>\n",
       "      <td>3.435</td>\n",
       "      <td>17.30</td>\n",
       "      <td>0</td>\n",
       "      <td>0</td>\n",
       "      <td>3</td>\n",
       "      <td>2</td>\n",
       "    </tr>\n",
       "    <tr>\n",
       "      <th>23</th>\n",
       "      <td>Camaro Z28</td>\n",
       "      <td>13.3</td>\n",
       "      <td>8</td>\n",
       "      <td>350.0</td>\n",
       "      <td>245</td>\n",
       "      <td>3.73</td>\n",
       "      <td>3.840</td>\n",
       "      <td>15.41</td>\n",
       "      <td>0</td>\n",
       "      <td>0</td>\n",
       "      <td>3</td>\n",
       "      <td>4</td>\n",
       "    </tr>\n",
       "    <tr>\n",
       "      <th>24</th>\n",
       "      <td>Pontiac Firebird</td>\n",
       "      <td>19.2</td>\n",
       "      <td>8</td>\n",
       "      <td>400.0</td>\n",
       "      <td>175</td>\n",
       "      <td>3.08</td>\n",
       "      <td>3.845</td>\n",
       "      <td>17.05</td>\n",
       "      <td>0</td>\n",
       "      <td>0</td>\n",
       "      <td>3</td>\n",
       "      <td>2</td>\n",
       "    </tr>\n",
       "    <tr>\n",
       "      <th>25</th>\n",
       "      <td>Fiat X1-9</td>\n",
       "      <td>27.3</td>\n",
       "      <td>4</td>\n",
       "      <td>79.0</td>\n",
       "      <td>66</td>\n",
       "      <td>4.08</td>\n",
       "      <td>1.935</td>\n",
       "      <td>18.90</td>\n",
       "      <td>1</td>\n",
       "      <td>1</td>\n",
       "      <td>4</td>\n",
       "      <td>1</td>\n",
       "    </tr>\n",
       "    <tr>\n",
       "      <th>26</th>\n",
       "      <td>Porsche 914-2</td>\n",
       "      <td>26.0</td>\n",
       "      <td>4</td>\n",
       "      <td>120.3</td>\n",
       "      <td>91</td>\n",
       "      <td>4.43</td>\n",
       "      <td>2.140</td>\n",
       "      <td>16.70</td>\n",
       "      <td>0</td>\n",
       "      <td>1</td>\n",
       "      <td>5</td>\n",
       "      <td>2</td>\n",
       "    </tr>\n",
       "    <tr>\n",
       "      <th>27</th>\n",
       "      <td>Lotus Europa</td>\n",
       "      <td>30.4</td>\n",
       "      <td>4</td>\n",
       "      <td>95.1</td>\n",
       "      <td>113</td>\n",
       "      <td>3.77</td>\n",
       "      <td>1.513</td>\n",
       "      <td>16.90</td>\n",
       "      <td>1</td>\n",
       "      <td>1</td>\n",
       "      <td>5</td>\n",
       "      <td>2</td>\n",
       "    </tr>\n",
       "    <tr>\n",
       "      <th>28</th>\n",
       "      <td>Ford Pantera L</td>\n",
       "      <td>15.8</td>\n",
       "      <td>8</td>\n",
       "      <td>351.0</td>\n",
       "      <td>264</td>\n",
       "      <td>4.22</td>\n",
       "      <td>3.170</td>\n",
       "      <td>14.50</td>\n",
       "      <td>0</td>\n",
       "      <td>1</td>\n",
       "      <td>5</td>\n",
       "      <td>4</td>\n",
       "    </tr>\n",
       "    <tr>\n",
       "      <th>29</th>\n",
       "      <td>Ferrari Dino</td>\n",
       "      <td>19.7</td>\n",
       "      <td>6</td>\n",
       "      <td>145.0</td>\n",
       "      <td>175</td>\n",
       "      <td>3.62</td>\n",
       "      <td>2.770</td>\n",
       "      <td>15.50</td>\n",
       "      <td>0</td>\n",
       "      <td>1</td>\n",
       "      <td>5</td>\n",
       "      <td>6</td>\n",
       "    </tr>\n",
       "    <tr>\n",
       "      <th>30</th>\n",
       "      <td>Maserati Bora</td>\n",
       "      <td>15.0</td>\n",
       "      <td>8</td>\n",
       "      <td>301.0</td>\n",
       "      <td>335</td>\n",
       "      <td>3.54</td>\n",
       "      <td>3.570</td>\n",
       "      <td>14.60</td>\n",
       "      <td>0</td>\n",
       "      <td>1</td>\n",
       "      <td>5</td>\n",
       "      <td>8</td>\n",
       "    </tr>\n",
       "    <tr>\n",
       "      <th>31</th>\n",
       "      <td>Volvo 142E</td>\n",
       "      <td>21.4</td>\n",
       "      <td>4</td>\n",
       "      <td>121.0</td>\n",
       "      <td>109</td>\n",
       "      <td>4.11</td>\n",
       "      <td>2.780</td>\n",
       "      <td>18.60</td>\n",
       "      <td>1</td>\n",
       "      <td>1</td>\n",
       "      <td>4</td>\n",
       "      <td>2</td>\n",
       "    </tr>\n",
       "  </tbody>\n",
       "</table>\n",
       "</div>"
      ],
      "text/plain": [
       "             Unnamed: 0   mpg  cyl   disp   hp  drat     wt   qsec  vs  am  \\\n",
       "0             Mazda RX4  21.0    6  160.0  110  3.90  2.620  16.46   0   1   \n",
       "1         Mazda RX4 Wag  21.0    6  160.0  110  3.90  2.875  17.02   0   1   \n",
       "2            Datsun 710  22.8    4  108.0   93  3.85  2.320  18.61   1   1   \n",
       "3        Hornet 4 Drive  21.4    6  258.0  110  3.08  3.215  19.44   1   0   \n",
       "4     Hornet Sportabout  18.7    8  360.0  175  3.15  3.440  17.02   0   0   \n",
       "5               Valiant  18.1    6  225.0  105  2.76  3.460  20.22   1   0   \n",
       "6            Duster 360  14.3    8  360.0  245  3.21  3.570  15.84   0   0   \n",
       "7             Merc 240D  24.4    4  146.7   62  3.69  3.190  20.00   1   0   \n",
       "8              Merc 230  22.8    4  140.8   95  3.92  3.150  22.90   1   0   \n",
       "9              Merc 280  19.2    6  167.6  123  3.92  3.440  18.30   1   0   \n",
       "10            Merc 280C  17.8    6  167.6  123  3.92  3.440  18.90   1   0   \n",
       "11           Merc 450SE  16.4    8  275.8  180  3.07  4.070  17.40   0   0   \n",
       "12           Merc 450SL  17.3    8  275.8  180  3.07  3.730  17.60   0   0   \n",
       "13          Merc 450SLC  15.2    8  275.8  180  3.07  3.780  18.00   0   0   \n",
       "14   Cadillac Fleetwood  10.4    8  472.0  205  2.93  5.250  17.98   0   0   \n",
       "15  Lincoln Continental  10.4    8  460.0  215  3.00  5.424  17.82   0   0   \n",
       "16    Chrysler Imperial  14.7    8  440.0  230  3.23  5.345  17.42   0   0   \n",
       "17             Fiat 128  32.4    4   78.7   66  4.08  2.200  19.47   1   1   \n",
       "18          Honda Civic  30.4    4   75.7   52  4.93  1.615  18.52   1   1   \n",
       "19       Toyota Corolla  33.9    4   71.1   65  4.22  1.835  19.90   1   1   \n",
       "20        Toyota Corona  21.5    4  120.1   97  3.70  2.465  20.01   1   0   \n",
       "21     Dodge Challenger  15.5    8  318.0  150  2.76  3.520  16.87   0   0   \n",
       "22          AMC Javelin  15.2    8  304.0  150  3.15  3.435  17.30   0   0   \n",
       "23           Camaro Z28  13.3    8  350.0  245  3.73  3.840  15.41   0   0   \n",
       "24     Pontiac Firebird  19.2    8  400.0  175  3.08  3.845  17.05   0   0   \n",
       "25            Fiat X1-9  27.3    4   79.0   66  4.08  1.935  18.90   1   1   \n",
       "26        Porsche 914-2  26.0    4  120.3   91  4.43  2.140  16.70   0   1   \n",
       "27         Lotus Europa  30.4    4   95.1  113  3.77  1.513  16.90   1   1   \n",
       "28       Ford Pantera L  15.8    8  351.0  264  4.22  3.170  14.50   0   1   \n",
       "29         Ferrari Dino  19.7    6  145.0  175  3.62  2.770  15.50   0   1   \n",
       "30        Maserati Bora  15.0    8  301.0  335  3.54  3.570  14.60   0   1   \n",
       "31           Volvo 142E  21.4    4  121.0  109  4.11  2.780  18.60   1   1   \n",
       "\n",
       "    gear  carb  \n",
       "0      4     4  \n",
       "1      4     4  \n",
       "2      4     1  \n",
       "3      3     1  \n",
       "4      3     2  \n",
       "5      3     1  \n",
       "6      3     4  \n",
       "7      4     2  \n",
       "8      4     2  \n",
       "9      4     4  \n",
       "10     4     4  \n",
       "11     3     3  \n",
       "12     3     3  \n",
       "13     3     3  \n",
       "14     3     4  \n",
       "15     3     4  \n",
       "16     3     4  \n",
       "17     4     1  \n",
       "18     4     2  \n",
       "19     4     1  \n",
       "20     3     1  \n",
       "21     3     2  \n",
       "22     3     2  \n",
       "23     3     4  \n",
       "24     3     2  \n",
       "25     4     1  \n",
       "26     5     2  \n",
       "27     5     2  \n",
       "28     5     4  \n",
       "29     5     6  \n",
       "30     5     8  \n",
       "31     4     2  "
      ]
     },
     "execution_count": 8,
     "metadata": {},
     "output_type": "execute_result"
    }
   ],
   "source": [
    "mtcars"
   ]
  },
  {
   "cell_type": "code",
   "execution_count": 9,
   "id": "6f4f3e03",
   "metadata": {},
   "outputs": [
    {
     "data": {
      "text/plain": [
       "Unnamed: 0    0\n",
       "mpg           0\n",
       "cyl           0\n",
       "disp          0\n",
       "hp            0\n",
       "drat          0\n",
       "wt            0\n",
       "qsec          0\n",
       "vs            0\n",
       "am            0\n",
       "gear          0\n",
       "carb          0\n",
       "dtype: int64"
      ]
     },
     "execution_count": 9,
     "metadata": {},
     "output_type": "execute_result"
    }
   ],
   "source": [
    "mtcars.isna().sum()"
   ]
  },
  {
   "cell_type": "code",
   "execution_count": 10,
   "id": "ee603417",
   "metadata": {},
   "outputs": [
    {
     "data": {
      "text/plain": [
       "mpg      20.090625\n",
       "cyl       6.187500\n",
       "disp    230.721875\n",
       "hp      146.687500\n",
       "drat      3.596563\n",
       "wt        3.217250\n",
       "qsec     17.848750\n",
       "vs        0.437500\n",
       "am        0.406250\n",
       "gear      3.687500\n",
       "carb      2.812500\n",
       "dtype: float64"
      ]
     },
     "execution_count": 10,
     "metadata": {},
     "output_type": "execute_result"
    }
   ],
   "source": [
    "mtcars.mean()"
   ]
  },
  {
   "cell_type": "code",
   "execution_count": 11,
   "id": "ca885a6a",
   "metadata": {},
   "outputs": [],
   "source": [
    "import matplotlib.pyplot as plt\n",
    "import seaborn as sb"
   ]
  },
  {
   "cell_type": "code",
   "execution_count": 12,
   "id": "9f9d52d3",
   "metadata": {},
   "outputs": [],
   "source": [
    "import statsmodels.stats.weightstats as sts\n",
    "import scipy.stats as scist"
   ]
  },
  {
   "cell_type": "markdown",
   "id": "f0b2b50b",
   "metadata": {},
   "source": [
    "# Parametric Testing"
   ]
  },
  {
   "cell_type": "markdown",
   "id": "d4d1a648",
   "metadata": {},
   "source": [
    "## Test - I\n",
    "## Z-test for Average Milleage (mpg)\n",
    "### H0 : u = 24.9 vs H1 : u ≠ 24.9"
   ]
  },
  {
   "cell_type": "code",
   "execution_count": 328,
   "id": "0d970297",
   "metadata": {},
   "outputs": [
    {
     "data": {
      "text/plain": [
       "[<matplotlib.lines.Line2D at 0x1bd2e7bb4f0>]"
      ]
     },
     "execution_count": 328,
     "metadata": {},
     "output_type": "execute_result"
    },
    {
     "data": {
      "image/png": "[encoded data removed]",
      "text/plain": [
       "<Figure size 432x288 with 1 Axes>"
      ]
     },
     "metadata": {
      "needs_background": "light"
     },
     "output_type": "display_data"
    }
   ],
   "source": [
    "plt.bar([i for i in range(0,32)],mtcars.mpg, color='green')\n",
    "plt.plot([i for i in range(0,32)],[24.9 for i in range(0,32)], color='b',linestyle='--')"
   ]
  },
  {
   "cell_type": "code",
   "execution_count": 9,
   "id": "cc98cb5d",
   "metadata": {},
   "outputs": [
    {
     "data": {
      "text/plain": [
       "20.090624999999996"
      ]
     },
     "execution_count": 9,
     "metadata": {},
     "output_type": "execute_result"
    }
   ],
   "source": [
    "mtcars.mpg.mean()"
   ]
  },
  {
   "cell_type": "code",
   "execution_count": 148,
   "id": "e7ee0fb1",
   "metadata": {},
   "outputs": [
    {
     "data": {
      "text/plain": [
       "(-4.514048100468043, 6.360178188599354e-06)"
      ]
     },
     "execution_count": 148,
     "metadata": {},
     "output_type": "execute_result"
    }
   ],
   "source": [
    "z_stat,z_pval=sts.ztest(mtcars.mpg,value=24.9,alternative='two-sided')\n",
    "z_stat,z_pval"
   ]
  },
  {
   "cell_type": "code",
   "execution_count": 138,
   "id": "5427464c",
   "metadata": {},
   "outputs": [
    {
     "data": {
      "text/plain": [
       "(-1.9599639845400545, 1.959963984540054)"
      ]
     },
     "execution_count": 138,
     "metadata": {},
     "output_type": "execute_result"
    }
   ],
   "source": [
    "a = scist.norm.ppf(0.025)\n",
    "b = scist.norm.ppf(0.975)\n",
    "a,b"
   ]
  },
  {
   "cell_type": "markdown",
   "id": "05fc6e56",
   "metadata": {},
   "source": [
    "### Test at 5% level of significance(Both Sided)"
   ]
  },
  {
   "cell_type": "markdown",
   "id": "aeb691b2",
   "metadata": {},
   "source": [
    "#### Using Test Statistics"
   ]
  },
  {
   "cell_type": "code",
   "execution_count": 100,
   "id": "28fa082e",
   "metadata": {},
   "outputs": [
    {
     "name": "stdout",
     "output_type": "stream",
     "text": [
      "Rejected\n"
     ]
    }
   ],
   "source": [
    "if(z_stat>=a and z_stat<=b):\n",
    "    print('Accepted')\n",
    "else:\n",
    "    print('Rejected')"
   ]
  },
  {
   "cell_type": "markdown",
   "id": "38b1289a",
   "metadata": {},
   "source": [
    "#### Using p-value"
   ]
  },
  {
   "cell_type": "code",
   "execution_count": 149,
   "id": "29d8d3cf",
   "metadata": {},
   "outputs": [
    {
     "name": "stdout",
     "output_type": "stream",
     "text": [
      "Rejected\n"
     ]
    }
   ],
   "source": [
    "if(z_pval<0.05):\n",
    "    print('Rejected')\n",
    "else:\n",
    "    print('Accepted')"
   ]
  },
  {
   "cell_type": "markdown",
   "id": "004f7a2b",
   "metadata": {},
   "source": [
    "#### Conclusion : So, the average milleage for the vehicles isn't equal to 24.9"
   ]
  },
  {
   "cell_type": "markdown",
   "id": "4ff6f1ba",
   "metadata": {},
   "source": [
    "## Test - II\n",
    "## Student's t-test for Average Weights(in '000 lbs)\n",
    "### H0 : u = 4.156 vs H1 : u < 4.156"
   ]
  },
  {
   "cell_type": "code",
   "execution_count": 336,
   "id": "b3aec72b",
   "metadata": {},
   "outputs": [
    {
     "data": {
      "text/plain": [
       "[<matplotlib.lines.Line2D at 0x1bd34169940>]"
      ]
     },
     "execution_count": 336,
     "metadata": {},
     "output_type": "execute_result"
    },
    {
     "data": {
      "image/png": "[encoded data removed]",
      "text/plain": [
       "<Figure size 432x288 with 1 Axes>"
      ]
     },
     "metadata": {
      "needs_background": "light"
     },
     "output_type": "display_data"
    }
   ],
   "source": [
    "plt.bar([i for i in range(0,32)], mtcars.wt,color='lime')\n",
    "plt.plot([i for i in range(0,32)],[4.156 for i in range(0,32)], color='orange',linestyle='--')"
   ]
  },
  {
   "cell_type": "code",
   "execution_count": 143,
   "id": "96ec3de6",
   "metadata": {},
   "outputs": [
    {
     "data": {
      "text/plain": [
       "(-5.427289622822039, 3.1533639230259644e-06)"
      ]
     },
     "execution_count": 143,
     "metadata": {},
     "output_type": "execute_result"
    }
   ],
   "source": [
    "t_stat,t_pval=scist.ttest_1samp(mtcars.wt,4.156,alternative='less')\n",
    "t_stat,t_pval"
   ]
  },
  {
   "cell_type": "code",
   "execution_count": 139,
   "id": "1626a44a",
   "metadata": {},
   "outputs": [
    {
     "data": {
      "text/plain": [
       "-1.6955187891366654"
      ]
     },
     "execution_count": 139,
     "metadata": {},
     "output_type": "execute_result"
    }
   ],
   "source": [
    "a=scist.t.ppf(0.05,31)\n",
    "a"
   ]
  },
  {
   "cell_type": "markdown",
   "id": "053f61f3",
   "metadata": {},
   "source": [
    "### Test at 5% level of significance(One Sided, Less)"
   ]
  },
  {
   "cell_type": "markdown",
   "id": "093ca828",
   "metadata": {},
   "source": [
    "#### Using Test Statistics"
   ]
  },
  {
   "cell_type": "code",
   "execution_count": 140,
   "id": "2f227452",
   "metadata": {},
   "outputs": [
    {
     "name": "stdout",
     "output_type": "stream",
     "text": [
      "Rejected\n"
     ]
    }
   ],
   "source": [
    "if(t_stat<a):\n",
    "    print('Rejected')\n",
    "else:\n",
    "    print('Accepted')"
   ]
  },
  {
   "cell_type": "markdown",
   "id": "8a91ae9d",
   "metadata": {},
   "source": [
    "#### Using p-value"
   ]
  },
  {
   "cell_type": "code",
   "execution_count": 141,
   "id": "08b0dd50",
   "metadata": {},
   "outputs": [
    {
     "name": "stdout",
     "output_type": "stream",
     "text": [
      "Rejected\n"
     ]
    }
   ],
   "source": [
    "if(t_pval<0.05):\n",
    "    print('Rejected')\n",
    "else:\n",
    "    print('Accepted')"
   ]
  },
  {
   "cell_type": "markdown",
   "id": "a60255b5",
   "metadata": {},
   "source": [
    "#### Conclusion : So, the average weight of the vehicles is below 4.156(in '000 lbs)"
   ]
  },
  {
   "cell_type": "markdown",
   "id": "7ddda428",
   "metadata": {},
   "source": [
    "## Test - III\n",
    "## Fisher's t-test for Average Weights(in '000 lbs) of Sample 1 and Sample 2\n",
    "### H0 : u1 = u2 vs H1 : u1 ≠ u2"
   ]
  },
  {
   "cell_type": "code",
   "execution_count": 152,
   "id": "6eee116d",
   "metadata": {},
   "outputs": [],
   "source": [
    "samp1 = list(mtcars.wt[:16])\n",
    "samp2 = list(mtcars.wt[16:])"
   ]
  },
  {
   "cell_type": "code",
   "execution_count": 287,
   "id": "7cd3d99d",
   "metadata": {},
   "outputs": [
    {
     "data": {
      "text/plain": [
       "Text(0.5, 1.0, \"Average Weights(in '000 lbs) of Sample 1 vs Sample 2\")"
      ]
     },
     "execution_count": 287,
     "metadata": {},
     "output_type": "execute_result"
    },
    {
     "data": {
      "image/png": "[encoded data removed]",
      "text/plain": [
       "<Figure size 432x288 with 1 Axes>"
      ]
     },
     "metadata": {
      "needs_background": "light"
     },
     "output_type": "display_data"
    }
   ],
   "source": [
    "plt.plot(samp1 , color = 'green')\n",
    "plt.plot(samp2 , color = 'cyan')\n",
    "plt.legend(['Sample 1','Sample 2'])\n",
    "plt.title(\"Average Weights(in '000 lbs) of Sample 1 vs Sample 2\")"
   ]
  },
  {
   "cell_type": "code",
   "execution_count": 353,
   "id": "e03af9f3",
   "metadata": {},
   "outputs": [
    {
     "data": {
      "text/plain": [
       "Text(0.5, 1.0, 'Difference between Sample 1 and Sample 2')"
      ]
     },
     "execution_count": 353,
     "metadata": {},
     "output_type": "execute_result"
    },
    {
     "data": {
      "image/png": "[encoded data removed]",
      "text/plain": [
       "<Figure size 432x288 with 1 Axes>"
      ]
     },
     "metadata": {
      "needs_background": "light"
     },
     "output_type": "display_data"
    }
   ],
   "source": [
    "plt.plot([samp1[i]-samp2[i] for i in range(0,16)] , color = 'green')\n",
    "plt.plot([0 for i in range(0,16)], linestyle='--')\n",
    "plt.title('Difference between Sample 1 and Sample 2')"
   ]
  },
  {
   "cell_type": "code",
   "execution_count": 158,
   "id": "e2ac3ac3",
   "metadata": {},
   "outputs": [
    {
     "data": {
      "text/plain": [
       "(2.092032428781288, 0.04500050552556938)"
      ]
     },
     "execution_count": 158,
     "metadata": {},
     "output_type": "execute_result"
    }
   ],
   "source": [
    "t2_stat,t2_pval = scist.ttest_ind(samp1, samp2, alternative='two-sided')\n",
    "t2_stat,t2_pval"
   ]
  },
  {
   "cell_type": "code",
   "execution_count": 166,
   "id": "4bfb9b51",
   "metadata": {},
   "outputs": [
    {
     "data": {
      "text/plain": [
       "(-2.042272456301238, 2.0422724563012373)"
      ]
     },
     "execution_count": 166,
     "metadata": {},
     "output_type": "execute_result"
    }
   ],
   "source": [
    "a , b = scist.t.ppf(0.025,30) , scist.t.ppf(0.975,30)\n",
    "a , b"
   ]
  },
  {
   "cell_type": "markdown",
   "id": "94dee483",
   "metadata": {},
   "source": [
    "### Test at 5% level of significance(Both Sided) "
   ]
  },
  {
   "cell_type": "markdown",
   "id": "46b52620",
   "metadata": {},
   "source": [
    "#### Using Test Statistics"
   ]
  },
  {
   "cell_type": "code",
   "execution_count": 167,
   "id": "de097697",
   "metadata": {},
   "outputs": [
    {
     "name": "stdout",
     "output_type": "stream",
     "text": [
      "Rejected\n"
     ]
    }
   ],
   "source": [
    "if(t2_stat>=a and t2_stat<=b):\n",
    "    print('Accepted')\n",
    "else:\n",
    "    print('Rejected')"
   ]
  },
  {
   "cell_type": "markdown",
   "id": "fad44f37",
   "metadata": {},
   "source": [
    "#### Using p-value"
   ]
  },
  {
   "cell_type": "code",
   "execution_count": 168,
   "id": "cb46dd38",
   "metadata": {},
   "outputs": [
    {
     "name": "stdout",
     "output_type": "stream",
     "text": [
      "Rejected\n"
     ]
    }
   ],
   "source": [
    "if(t2_pval<0.05):\n",
    "    print('Rejected')\n",
    "else:\n",
    "    print('Accepted')"
   ]
  },
  {
   "cell_type": "markdown",
   "id": "d54956aa",
   "metadata": {},
   "source": [
    "#### Conclusion : So, the average weight of the vehicles in Sample 1 and Sample 2 are unequal (in '000 lbs)"
   ]
  },
  {
   "cell_type": "markdown",
   "id": "ca5333e8",
   "metadata": {},
   "source": [
    "## Test - IV\n",
    "## Paired t-test for Average Acceleration(in QSec) Before and After Servicing\n",
    "### H0 : uB = uA vs H1 : uB < uA"
   ]
  },
  {
   "cell_type": "code",
   "execution_count": 171,
   "id": "64c089d5",
   "metadata": {},
   "outputs": [],
   "source": [
    "Acce_B = mtcars.qsec\n",
    "Acce_A = Acce_B + scist.expon.rvs(0.0625,0.25,32) #adding random sampled values from exponential dist.\n",
    "Acce = pd.DataFrame({\"Before\":np.array(Acce_B),\"After\":np.array(Acce_A)})"
   ]
  },
  {
   "cell_type": "code",
   "execution_count": 172,
   "id": "435fbf0d",
   "metadata": {},
   "outputs": [
    {
     "data": {
      "text/html": [
       "<div>\n",
       "<style scoped>\n",
       "    .dataframe tbody tr th:only-of-type {\n",
       "        vertical-align: middle;\n",
       "    }\n",
       "\n",
       "    .dataframe tbody tr th {\n",
       "        vertical-align: top;\n",
       "    }\n",
       "\n",
       "    .dataframe thead th {\n",
       "        text-align: right;\n",
       "    }\n",
       "</style>\n",
       "<table border=\"1\" class=\"dataframe\">\n",
       "  <thead>\n",
       "    <tr style=\"text-align: right;\">\n",
       "      <th></th>\n",
       "      <th>Before</th>\n",
       "      <th>After</th>\n",
       "    </tr>\n",
       "  </thead>\n",
       "  <tbody>\n",
       "    <tr>\n",
       "      <th>0</th>\n",
       "      <td>16.46</td>\n",
       "      <td>16.590905</td>\n",
       "    </tr>\n",
       "    <tr>\n",
       "      <th>1</th>\n",
       "      <td>17.02</td>\n",
       "      <td>17.259086</td>\n",
       "    </tr>\n",
       "    <tr>\n",
       "      <th>2</th>\n",
       "      <td>18.61</td>\n",
       "      <td>18.715226</td>\n",
       "    </tr>\n",
       "    <tr>\n",
       "      <th>3</th>\n",
       "      <td>19.44</td>\n",
       "      <td>19.656661</td>\n",
       "    </tr>\n",
       "    <tr>\n",
       "      <th>4</th>\n",
       "      <td>17.02</td>\n",
       "      <td>17.273654</td>\n",
       "    </tr>\n",
       "    <tr>\n",
       "      <th>5</th>\n",
       "      <td>20.22</td>\n",
       "      <td>20.306702</td>\n",
       "    </tr>\n",
       "    <tr>\n",
       "      <th>6</th>\n",
       "      <td>15.84</td>\n",
       "      <td>16.099061</td>\n",
       "    </tr>\n",
       "    <tr>\n",
       "      <th>7</th>\n",
       "      <td>20.00</td>\n",
       "      <td>20.303553</td>\n",
       "    </tr>\n",
       "    <tr>\n",
       "      <th>8</th>\n",
       "      <td>22.90</td>\n",
       "      <td>23.583966</td>\n",
       "    </tr>\n",
       "    <tr>\n",
       "      <th>9</th>\n",
       "      <td>18.30</td>\n",
       "      <td>18.746593</td>\n",
       "    </tr>\n",
       "    <tr>\n",
       "      <th>10</th>\n",
       "      <td>18.90</td>\n",
       "      <td>19.180894</td>\n",
       "    </tr>\n",
       "    <tr>\n",
       "      <th>11</th>\n",
       "      <td>17.40</td>\n",
       "      <td>18.737905</td>\n",
       "    </tr>\n",
       "    <tr>\n",
       "      <th>12</th>\n",
       "      <td>17.60</td>\n",
       "      <td>17.723357</td>\n",
       "    </tr>\n",
       "    <tr>\n",
       "      <th>13</th>\n",
       "      <td>18.00</td>\n",
       "      <td>18.261325</td>\n",
       "    </tr>\n",
       "    <tr>\n",
       "      <th>14</th>\n",
       "      <td>17.98</td>\n",
       "      <td>18.337946</td>\n",
       "    </tr>\n",
       "    <tr>\n",
       "      <th>15</th>\n",
       "      <td>17.82</td>\n",
       "      <td>17.996371</td>\n",
       "    </tr>\n",
       "    <tr>\n",
       "      <th>16</th>\n",
       "      <td>17.42</td>\n",
       "      <td>18.198002</td>\n",
       "    </tr>\n",
       "    <tr>\n",
       "      <th>17</th>\n",
       "      <td>19.47</td>\n",
       "      <td>19.862704</td>\n",
       "    </tr>\n",
       "    <tr>\n",
       "      <th>18</th>\n",
       "      <td>18.52</td>\n",
       "      <td>18.872375</td>\n",
       "    </tr>\n",
       "    <tr>\n",
       "      <th>19</th>\n",
       "      <td>19.90</td>\n",
       "      <td>20.147517</td>\n",
       "    </tr>\n",
       "    <tr>\n",
       "      <th>20</th>\n",
       "      <td>20.01</td>\n",
       "      <td>20.325032</td>\n",
       "    </tr>\n",
       "    <tr>\n",
       "      <th>21</th>\n",
       "      <td>16.87</td>\n",
       "      <td>17.016705</td>\n",
       "    </tr>\n",
       "    <tr>\n",
       "      <th>22</th>\n",
       "      <td>17.30</td>\n",
       "      <td>18.184041</td>\n",
       "    </tr>\n",
       "    <tr>\n",
       "      <th>23</th>\n",
       "      <td>15.41</td>\n",
       "      <td>15.731737</td>\n",
       "    </tr>\n",
       "    <tr>\n",
       "      <th>24</th>\n",
       "      <td>17.05</td>\n",
       "      <td>17.125229</td>\n",
       "    </tr>\n",
       "    <tr>\n",
       "      <th>25</th>\n",
       "      <td>18.90</td>\n",
       "      <td>19.112775</td>\n",
       "    </tr>\n",
       "    <tr>\n",
       "      <th>26</th>\n",
       "      <td>16.70</td>\n",
       "      <td>16.835159</td>\n",
       "    </tr>\n",
       "    <tr>\n",
       "      <th>27</th>\n",
       "      <td>16.90</td>\n",
       "      <td>17.247767</td>\n",
       "    </tr>\n",
       "    <tr>\n",
       "      <th>28</th>\n",
       "      <td>14.50</td>\n",
       "      <td>15.284380</td>\n",
       "    </tr>\n",
       "    <tr>\n",
       "      <th>29</th>\n",
       "      <td>15.50</td>\n",
       "      <td>15.735165</td>\n",
       "    </tr>\n",
       "    <tr>\n",
       "      <th>30</th>\n",
       "      <td>14.60</td>\n",
       "      <td>14.701289</td>\n",
       "    </tr>\n",
       "    <tr>\n",
       "      <th>31</th>\n",
       "      <td>18.60</td>\n",
       "      <td>18.884857</td>\n",
       "    </tr>\n",
       "  </tbody>\n",
       "</table>\n",
       "</div>"
      ],
      "text/plain": [
       "    Before      After\n",
       "0    16.46  16.590905\n",
       "1    17.02  17.259086\n",
       "2    18.61  18.715226\n",
       "3    19.44  19.656661\n",
       "4    17.02  17.273654\n",
       "5    20.22  20.306702\n",
       "6    15.84  16.099061\n",
       "7    20.00  20.303553\n",
       "8    22.90  23.583966\n",
       "9    18.30  18.746593\n",
       "10   18.90  19.180894\n",
       "11   17.40  18.737905\n",
       "12   17.60  17.723357\n",
       "13   18.00  18.261325\n",
       "14   17.98  18.337946\n",
       "15   17.82  17.996371\n",
       "16   17.42  18.198002\n",
       "17   19.47  19.862704\n",
       "18   18.52  18.872375\n",
       "19   19.90  20.147517\n",
       "20   20.01  20.325032\n",
       "21   16.87  17.016705\n",
       "22   17.30  18.184041\n",
       "23   15.41  15.731737\n",
       "24   17.05  17.125229\n",
       "25   18.90  19.112775\n",
       "26   16.70  16.835159\n",
       "27   16.90  17.247767\n",
       "28   14.50  15.284380\n",
       "29   15.50  15.735165\n",
       "30   14.60  14.701289\n",
       "31   18.60  18.884857"
      ]
     },
     "execution_count": 172,
     "metadata": {},
     "output_type": "execute_result"
    }
   ],
   "source": [
    "Acce"
   ]
  },
  {
   "cell_type": "code",
   "execution_count": 290,
   "id": "31fea905",
   "metadata": {},
   "outputs": [
    {
     "data": {
      "text/plain": [
       "Text(0.5, 1.0, 'Acceleration Before vs After Servicing')"
      ]
     },
     "execution_count": 290,
     "metadata": {},
     "output_type": "execute_result"
    },
    {
     "data": {
      "image/png": "[encoded data removed]",
      "text/plain": [
       "<Figure size 432x288 with 1 Axes>"
      ]
     },
     "metadata": {
      "needs_background": "light"
     },
     "output_type": "display_data"
    }
   ],
   "source": [
    "plt.plot(Acce.Before , color = 'green')\n",
    "plt.plot(Acce.After , color = 'cyan')\n",
    "plt.legend(['Before','After'])\n",
    "plt.title('Acceleration Before vs After Servicing')"
   ]
  },
  {
   "cell_type": "code",
   "execution_count": 351,
   "id": "0fcd70a7",
   "metadata": {},
   "outputs": [
    {
     "data": {
      "text/plain": [
       "Text(0.5, 1.0, 'Difference between Acceleration After and Before Servicing')"
      ]
     },
     "execution_count": 351,
     "metadata": {},
     "output_type": "execute_result"
    },
    {
     "data": {
      "image/png": "[encoded data removed]",
      "text/plain": [
       "<Figure size 432x288 with 1 Axes>"
      ]
     },
     "metadata": {
      "needs_background": "light"
     },
     "output_type": "display_data"
    }
   ],
   "source": [
    "plt.plot([Acce.After[i]-Acce.Before[i] for i in range(0,32)] , color = 'orange')\n",
    "plt.plot([0 for i in range(0,32)], color = 'red', linestyle='--')\n",
    "plt.title('Difference between Acceleration After and Before Servicing')"
   ]
  },
  {
   "cell_type": "code",
   "execution_count": 295,
   "id": "1363d935",
   "metadata": {},
   "outputs": [
    {
     "data": {
      "text/plain": [
       "(-6.08960625314834, 4.755763612690901e-07)"
      ]
     },
     "execution_count": 295,
     "metadata": {},
     "output_type": "execute_result"
    }
   ],
   "source": [
    "tp_stat,tp_pval = scist.ttest_rel(Acce.Before, Acce.After, alternative='less')\n",
    "tp_stat,tp_pval"
   ]
  },
  {
   "cell_type": "code",
   "execution_count": 296,
   "id": "5a82d273",
   "metadata": {},
   "outputs": [
    {
     "data": {
      "text/plain": [
       "-1.6955187891366654"
      ]
     },
     "execution_count": 296,
     "metadata": {},
     "output_type": "execute_result"
    }
   ],
   "source": [
    "a=scist.t.ppf(0.05,31)\n",
    "a"
   ]
  },
  {
   "cell_type": "markdown",
   "id": "c4c685ac",
   "metadata": {},
   "source": [
    "### Test at 5% level of significance(One Sided, Less)"
   ]
  },
  {
   "cell_type": "markdown",
   "id": "5400f2a6",
   "metadata": {},
   "source": [
    "#### Using Test Statistics"
   ]
  },
  {
   "cell_type": "code",
   "execution_count": 297,
   "id": "dc52db4e",
   "metadata": {},
   "outputs": [
    {
     "name": "stdout",
     "output_type": "stream",
     "text": [
      "Rejected\n"
     ]
    }
   ],
   "source": [
    "if(tp_stat<a):\n",
    "    print('Rejected')\n",
    "else:\n",
    "    print('Accepted')"
   ]
  },
  {
   "cell_type": "markdown",
   "id": "63d435c4",
   "metadata": {},
   "source": [
    "#### Using p-value"
   ]
  },
  {
   "cell_type": "code",
   "execution_count": 298,
   "id": "87af5847",
   "metadata": {},
   "outputs": [
    {
     "name": "stdout",
     "output_type": "stream",
     "text": [
      "Rejected\n"
     ]
    }
   ],
   "source": [
    "if(tp_pval<0.05):\n",
    "    print('Rejected')\n",
    "else:\n",
    "    print('Accepted')"
   ]
  },
  {
   "cell_type": "markdown",
   "id": "9d4cf4d3",
   "metadata": {},
   "source": [
    "#### Conclusion : So, the average acceleration of the vehicles(in QSec) has been inproved after servicing"
   ]
  },
  {
   "cell_type": "markdown",
   "id": "9c1fff6e",
   "metadata": {},
   "source": [
    "## Test - V\n",
    "## Test for variance(scale) for Milleage (mpg)\n",
    "### H0 : σ^2 = 2 vs H1 : σ^2 < 2"
   ]
  },
  {
   "cell_type": "code",
   "execution_count": 70,
   "id": "35ec5d83",
   "metadata": {},
   "outputs": [
    {
     "data": {
      "text/plain": [
       "14.839374000000001"
      ]
     },
     "execution_count": 70,
     "metadata": {},
     "output_type": "execute_result"
    }
   ],
   "source": [
    "Tσ = (len(mtcars.wt)-1)*st.variance(mtcars.wt)/2\n",
    "Tσ"
   ]
  },
  {
   "cell_type": "code",
   "execution_count": 81,
   "id": "5ca7ac9a",
   "metadata": {},
   "outputs": [
    {
     "data": {
      "text/plain": [
       "0.006301379150510014"
      ]
     },
     "execution_count": 81,
     "metadata": {},
     "output_type": "execute_result"
    }
   ],
   "source": [
    "Tσ_pval = scist.chi2.cdf(Tσ,31)\n",
    "Tσ_pval"
   ]
  },
  {
   "cell_type": "code",
   "execution_count": 82,
   "id": "61827bb1",
   "metadata": {},
   "outputs": [
    {
     "data": {
      "text/plain": [
       "19.280568559129293"
      ]
     },
     "execution_count": 82,
     "metadata": {},
     "output_type": "execute_result"
    }
   ],
   "source": [
    "T=scist.chi2.ppf(0.05,len(mtcars.wt)-1)\n",
    "T"
   ]
  },
  {
   "cell_type": "markdown",
   "id": "8b840df5",
   "metadata": {},
   "source": [
    "### Test at 5% level of significance(One Sided, Less)"
   ]
  },
  {
   "cell_type": "markdown",
   "id": "5a494bb4",
   "metadata": {},
   "source": [
    "#### Using Test Statistics"
   ]
  },
  {
   "cell_type": "code",
   "execution_count": 83,
   "id": "0ffdee04",
   "metadata": {},
   "outputs": [
    {
     "name": "stdout",
     "output_type": "stream",
     "text": [
      "Rejected\n"
     ]
    }
   ],
   "source": [
    "if(Tσ<T):\n",
    "    print('Rejected')\n",
    "else:\n",
    "    print('Accepted')"
   ]
  },
  {
   "cell_type": "markdown",
   "id": "6ff1545f",
   "metadata": {},
   "source": [
    "#### Using p-value"
   ]
  },
  {
   "cell_type": "code",
   "execution_count": 75,
   "id": "e00fa8fb",
   "metadata": {},
   "outputs": [
    {
     "name": "stdout",
     "output_type": "stream",
     "text": [
      "Rejected\n"
     ]
    }
   ],
   "source": [
    "if(Tσ_pval<0.05):\n",
    "    print('Rejected')\n",
    "else:\n",
    "    print('Accepted')"
   ]
  },
  {
   "cell_type": "markdown",
   "id": "5f17a574",
   "metadata": {},
   "source": [
    "#### Conclusion : So, the variance(scale) for Milleage (mpg) is less than 2 ."
   ]
  },
  {
   "cell_type": "markdown",
   "id": "b8b2091c",
   "metadata": {},
   "source": [
    "#### Conclusion : So, the variance(scale) for Milleage (mpg) is less than 2 ."
   ]
  },
  {
   "cell_type": "markdown",
   "id": "4eb414e8",
   "metadata": {},
   "source": [
    "## Test - VI\n",
    "## Test for the variances between Sample 1 and Sample 2 of Weights(in '000 lbs)\n",
    "### H0 : (σ^2)1 = (σ^2)2 vs H1 : (σ^2)1 ≠ (σ^2)2"
   ]
  },
  {
   "cell_type": "code",
   "execution_count": 85,
   "id": "d5889d0a",
   "metadata": {},
   "outputs": [],
   "source": [
    "samp1 = mtcars.wt[:16]\n",
    "samp2 = mtcars.wt[16:]"
   ]
  },
  {
   "cell_type": "code",
   "execution_count": 88,
   "id": "3a765db2",
   "metadata": {},
   "outputs": [],
   "source": [
    "s2_1 = st.variance(samp1)\n",
    "s2_2 = st.variance(samp2)"
   ]
  },
  {
   "cell_type": "code",
   "execution_count": 93,
   "id": "c79fe068",
   "metadata": {},
   "outputs": [
    {
     "data": {
      "text/plain": [
       "0.6325900628375706"
      ]
     },
     "execution_count": 93,
     "metadata": {},
     "output_type": "execute_result"
    }
   ],
   "source": [
    "T_s2 = s2_1/s2_2\n",
    "T_s2"
   ]
  },
  {
   "cell_type": "code",
   "execution_count": 95,
   "id": "2a4198f3",
   "metadata": {},
   "outputs": [
    {
     "data": {
      "text/plain": [
       "0.18463424759138966"
      ]
     },
     "execution_count": 95,
     "metadata": {},
     "output_type": "execute_result"
    }
   ],
   "source": [
    "T_s2_pval = scist.f.cdf(T_s2,len(samp1),len(samp2))\n",
    "T_s2_pval"
   ]
  },
  {
   "cell_type": "code",
   "execution_count": 99,
   "id": "f23ca6b0",
   "metadata": {},
   "outputs": [
    {
     "data": {
      "text/plain": [
       "(0.3621405115933232, 2.7613591078232655)"
      ]
     },
     "execution_count": 99,
     "metadata": {},
     "output_type": "execute_result"
    }
   ],
   "source": [
    "a,b = scist.f.ppf(0.025,len(samp1),len(samp2)), scist.f.ppf(0.975,len(samp1),len(samp2))\n",
    "a,b"
   ]
  },
  {
   "cell_type": "markdown",
   "id": "be96fdfa",
   "metadata": {},
   "source": [
    "### Test at 5% level of significance(Both Sided)"
   ]
  },
  {
   "cell_type": "markdown",
   "id": "8c1d5ba8",
   "metadata": {},
   "source": [
    "#### Using Test Statistics"
   ]
  },
  {
   "cell_type": "code",
   "execution_count": 97,
   "id": "d643e6b2",
   "metadata": {},
   "outputs": [
    {
     "name": "stdout",
     "output_type": "stream",
     "text": [
      "Accepted\n"
     ]
    }
   ],
   "source": [
    "if(T_s2>=a and T_s2<=b):\n",
    "    print('Accepted')\n",
    "else:\n",
    "    print('Rejected')"
   ]
  },
  {
   "cell_type": "markdown",
   "id": "61d7e628",
   "metadata": {},
   "source": [
    "#### Using p-value"
   ]
  },
  {
   "cell_type": "code",
   "execution_count": 141,
   "id": "c3060391",
   "metadata": {},
   "outputs": [
    {
     "name": "stdout",
     "output_type": "stream",
     "text": [
      "Accepted\n"
     ]
    }
   ],
   "source": [
    "if(T_s2_pval<0.05):\n",
    "    print('Rejected')\n",
    "else:\n",
    "    print('Accepted')"
   ]
  },
  {
   "cell_type": "markdown",
   "id": "90f388ec",
   "metadata": {},
   "source": [
    "#### Conclusion : So, the variance of Weights(in '000 lbs) between Sample 1 and Sample 2 are equal ."
   ]
  },
  {
   "cell_type": "markdown",
   "id": "05ff56d2",
   "metadata": {},
   "source": [
    "## Test - VII\n",
    "## Test for several means and variances."
   ]
  },
  {
   "cell_type": "markdown",
   "id": "8bf9efac",
   "metadata": {},
   "source": [
    "### One way ANOVA (for means)"
   ]
  },
  {
   "cell_type": "code",
   "execution_count": 138,
   "id": "9d264c9d",
   "metadata": {},
   "outputs": [],
   "source": [
    "import random as rnd\n",
    "Samp1 = rnd.choices(mtcars.disp,k=37)\n",
    "Samp2 = rnd.choices(mtcars.disp,k=26)\n",
    "Samp3 = rnd.choices(mtcars.disp,k=15)"
   ]
  },
  {
   "cell_type": "code",
   "execution_count": 139,
   "id": "c22874f4",
   "metadata": {},
   "outputs": [
    {
     "data": {
      "text/plain": [
       "0.02607482577241784"
      ]
     },
     "execution_count": 139,
     "metadata": {},
     "output_type": "execute_result"
    }
   ],
   "source": [
    "Anova_pval = scist.f_oneway(Samp1,Samp2,Samp3)[1]\n",
    "Anova_pval"
   ]
  },
  {
   "cell_type": "markdown",
   "id": "009194f9",
   "metadata": {},
   "source": [
    "### Test at 5% level of significance(Both Sided)"
   ]
  },
  {
   "cell_type": "markdown",
   "id": "9d647581",
   "metadata": {},
   "source": [
    "#### Using p-value"
   ]
  },
  {
   "cell_type": "code",
   "execution_count": 169,
   "id": "e3f785c9",
   "metadata": {},
   "outputs": [
    {
     "name": "stdout",
     "output_type": "stream",
     "text": [
      "Rejected\n"
     ]
    }
   ],
   "source": [
    "if(Anova_pval<0.05):\n",
    "    print('Rejected')\n",
    "else:\n",
    "    print('Accepted')"
   ]
  },
  {
   "cell_type": "markdown",
   "id": "be6ac5b8",
   "metadata": {},
   "source": [
    "#### Conclusion : So, the means displacements of Sample 1, Sample 2 and Sample 3 are unequal ."
   ]
  },
  {
   "cell_type": "markdown",
   "id": "ca84abef",
   "metadata": {},
   "source": [
    "## Test - VIII\n",
    "## Test for Correlation Coefficient"
   ]
  },
  {
   "cell_type": "code",
   "execution_count": 176,
   "id": "c16ae41a",
   "metadata": {},
   "outputs": [
    {
     "data": {
      "text/plain": [
       "(0.988416851155249, 35.6725152453786, 3.97660555410022e-26)"
      ]
     },
     "execution_count": 176,
     "metadata": {},
     "output_type": "execute_result"
    }
   ],
   "source": [
    "import math\n",
    "r = Acce_B.corr(Acce_A)\n",
    "n = len(Acce_B) - 2\n",
    "stat = (r*math.sqrt(n))/(math.sqrt(1-(r**2)))\n",
    "\n",
    "corrcoeff, p_value = scist.pearsonr(Acce_B,Acce_A)\n",
    "corrcoeff, stat, p_value"
   ]
  },
  {
   "cell_type": "markdown",
   "id": "cb932b34",
   "metadata": {},
   "source": [
    "## 9) Test for Normality"
   ]
  },
  {
   "cell_type": "markdown",
   "id": "cb623bfb",
   "metadata": {},
   "source": [
    "### i) Graphically"
   ]
  },
  {
   "cell_type": "markdown",
   "id": "f05998be",
   "metadata": {},
   "source": [
    "#### Histogram"
   ]
  },
  {
   "cell_type": "code",
   "execution_count": 254,
   "id": "e66ae833",
   "metadata": {},
   "outputs": [
    {
     "data": {
      "text/plain": [
       "Text(0.5, 1.0, 'Acceleration of the engine')"
      ]
     },
     "execution_count": 254,
     "metadata": {},
     "output_type": "execute_result"
    },
    {
     "data": {
      "image/png": "[encoded data removed]",
      "text/plain": [
       "<Figure size 1296x864 with 6 Axes>"
      ]
     },
     "metadata": {
      "needs_background": "light"
     },
     "output_type": "display_data"
    }
   ],
   "source": [
    "plt.figure(figsize=(18,12))\n",
    "plt.subplot(231)\n",
    "sb.histplot(mtcars.mpg,kde=True,color='cyan')\n",
    "plt.title('Milleage (mpg)')\n",
    "plt.subplot(232)\n",
    "sb.histplot(mtcars.disp,kde=True,color='tab:blue')\n",
    "plt.title(\"Displacement of the engine\")\n",
    "plt.subplot(233)\n",
    "sb.histplot(mtcars.hp,kde=True,color='blue')\n",
    "plt.title(\"Horse power of the engine\")\n",
    "plt.subplot(234)\n",
    "sb.histplot(mtcars.drat,kde=True,color='darkblue')\n",
    "plt.title('Drat on the car wheels')\n",
    "plt.subplot(235)\n",
    "sb.histplot(mtcars.wt,kde=True,color='indigo')\n",
    "plt.title(\"Weights(in '000 lbs)\")\n",
    "plt.subplot(236)\n",
    "sb.histplot(mtcars.qsec,kde=True,color='purple')\n",
    "plt.title(\"Acceleration of the engine\")"
   ]
  },
  {
   "cell_type": "markdown",
   "id": "d2ce99fb",
   "metadata": {},
   "source": [
    "#### Q-Q Plot"
   ]
  },
  {
   "cell_type": "code",
   "execution_count": 257,
   "id": "474122ef",
   "metadata": {},
   "outputs": [
    {
     "data": {
      "text/plain": [
       "Text(0.5, 1.0, 'Acceleration of the engine')"
      ]
     },
     "execution_count": 257,
     "metadata": {},
     "output_type": "execute_result"
    },
    {
     "data": {
      "image/png": "[encoded data removed]",
      "text/plain": [
       "<Figure size 1296x864 with 6 Axes>"
      ]
     },
     "metadata": {
      "needs_background": "light"
     },
     "output_type": "display_data"
    }
   ],
   "source": [
    "import pylab\n",
    "plt.figure(figsize=(18,12))\n",
    "plt.subplot(231)\n",
    "scist.probplot(mtcars.mpg , dist = \"norm\" , plot = pylab)\n",
    "plt.title('Milleage (mpg)')\n",
    "plt.subplot(232)\n",
    "scist.probplot(mtcars.disp , dist = \"norm\" , plot = pylab)\n",
    "plt.title(\"Displacement of the engine\")\n",
    "plt.subplot(233)\n",
    "scist.probplot(mtcars.hp , dist = \"norm\" , plot = pylab)\n",
    "plt.title(\"Horse power of the engine\")\n",
    "plt.subplot(234)\n",
    "scist.probplot(mtcars.drat , dist = \"norm\" , plot = pylab)\n",
    "plt.title('Drat on the car wheels')\n",
    "plt.subplot(235)\n",
    "scist.probplot(mtcars.wt , dist = \"norm\" , plot = pylab)\n",
    "plt.title(\"Weights(in '000 lbs)\")\n",
    "plt.subplot(236)\n",
    "scist.probplot(mtcars.qsec , dist = \"norm\" , plot = pylab)\n",
    "plt.title(\"Acceleration of the engine\")\n"
   ]
  },
  {
   "cell_type": "code",
   "execution_count": null,
   "id": "72a571b6",
   "metadata": {},
   "outputs": [],
   "source": []
  },
  {
   "cell_type": "code",
   "execution_count": null,
   "id": "936f8a0e",
   "metadata": {},
   "outputs": [],
   "source": []
  },
  {
   "cell_type": "markdown",
   "id": "3e54feea",
   "metadata": {},
   "source": [
    "### ii) Statistically"
   ]
  },
  {
   "cell_type": "markdown",
   "id": "82f9a064",
   "metadata": {},
   "source": [
    "#### Shapiro-Wilk Test :"
   ]
  },
  {
   "cell_type": "code",
   "execution_count": 267,
   "id": "a4bbeee1",
   "metadata": {},
   "outputs": [
    {
     "name": "stdout",
     "output_type": "stream",
     "text": [
      "0.12288373708724976\n",
      "Probably gaussian\n"
     ]
    }
   ],
   "source": [
    "from scipy.stats import shapiro\n",
    "stat,p = shapiro(mtcars.mpg)\n",
    "print(p)\n",
    "if p>0.05:\n",
    "    print(\"Probably gaussian\")\n",
    "else:\n",
    "    print(\"Probably not gaussian\")"
   ]
  },
  {
   "cell_type": "code",
   "execution_count": 268,
   "id": "22537e52",
   "metadata": {},
   "outputs": [
    {
     "name": "stdout",
     "output_type": "stream",
     "text": [
      "0.02080662176012993\n",
      "Probably not gaussian\n"
     ]
    }
   ],
   "source": [
    "from scipy.stats import shapiro\n",
    "stat,p = shapiro(mtcars.disp)\n",
    "print(p)\n",
    "if p>0.05:\n",
    "    print(\"Probably gaussian\")\n",
    "else:\n",
    "    print(\"Probably not gaussian\")"
   ]
  },
  {
   "cell_type": "code",
   "execution_count": 269,
   "id": "3ffbec78",
   "metadata": {},
   "outputs": [
    {
     "name": "stdout",
     "output_type": "stream",
     "text": [
      "0.04880731180310249\n",
      "Probably not gaussian\n"
     ]
    }
   ],
   "source": [
    "from scipy.stats import shapiro\n",
    "stat,p = shapiro(mtcars.hp)\n",
    "print(p)\n",
    "if p>0.05:\n",
    "    print(\"Probably gaussian\")\n",
    "else:\n",
    "    print(\"Probably not gaussian\")"
   ]
  },
  {
   "cell_type": "code",
   "execution_count": 270,
   "id": "3506464b",
   "metadata": {},
   "outputs": [
    {
     "name": "stdout",
     "output_type": "stream",
     "text": [
      "0.11006041616201401\n",
      "Probably gaussian\n"
     ]
    }
   ],
   "source": [
    "from scipy.stats import shapiro\n",
    "stat,p = shapiro(mtcars.drat)\n",
    "print(p)\n",
    "if p>0.05:\n",
    "    print(\"Probably gaussian\")\n",
    "else:\n",
    "    print(\"Probably not gaussian\")"
   ]
  },
  {
   "cell_type": "code",
   "execution_count": 271,
   "id": "82af3b80",
   "metadata": {},
   "outputs": [
    {
     "name": "stdout",
     "output_type": "stream",
     "text": [
      "0.09265592694282532\n",
      "Probably gaussian\n"
     ]
    }
   ],
   "source": [
    "from scipy.stats import shapiro\n",
    "stat,p = shapiro(mtcars.wt)\n",
    "print(p)\n",
    "if p>0.05:\n",
    "    print(\"Probably gaussian\")\n",
    "else:\n",
    "    print(\"Probably not gaussian\")"
   ]
  },
  {
   "cell_type": "code",
   "execution_count": 272,
   "id": "ec6d4c59",
   "metadata": {},
   "outputs": [
    {
     "name": "stdout",
     "output_type": "stream",
     "text": [
      "0.5935246348381042\n",
      "Probably gaussian\n"
     ]
    }
   ],
   "source": [
    "from scipy.stats import shapiro\n",
    "stat,p = shapiro(mtcars.qsec)\n",
    "print(p)\n",
    "if p>0.05:\n",
    "    print(\"Probably gaussian\")\n",
    "else:\n",
    "    print(\"Probably not gaussian\")"
   ]
  },
  {
   "cell_type": "markdown",
   "id": "d4879b04",
   "metadata": {},
   "source": [
    "#### D’Agostino’s K-squared Test :"
   ]
  },
  {
   "cell_type": "code",
   "execution_count": 273,
   "id": "a93c8c39",
   "metadata": {},
   "outputs": [
    {
     "name": "stdout",
     "output_type": "stream",
     "text": [
      "0.25741452900583284\n",
      "Probably gaussian\n"
     ]
    }
   ],
   "source": [
    "from scipy.stats import normaltest\n",
    "stat,p = normaltest(mtcars.mpg)\n",
    "print(p)\n",
    "if p>0.05:\n",
    "    print(\"Probably gaussian\")\n",
    "else:\n",
    "    print(\"Probably not gaussian\")"
   ]
  },
  {
   "cell_type": "code",
   "execution_count": 274,
   "id": "14f392cb",
   "metadata": {},
   "outputs": [
    {
     "name": "stdout",
     "output_type": "stream",
     "text": [
      "0.08206887967374173\n",
      "Probably gaussian\n"
     ]
    }
   ],
   "source": [
    "from scipy.stats import normaltest\n",
    "stat,p = normaltest(mtcars.disp)\n",
    "print(p)\n",
    "if p>0.05:\n",
    "    print(\"Probably gaussian\")\n",
    "else:\n",
    "    print(\"Probably not gaussian\")"
   ]
  },
  {
   "cell_type": "code",
   "execution_count": 275,
   "id": "fe170205",
   "metadata": {},
   "outputs": [
    {
     "name": "stdout",
     "output_type": "stream",
     "text": [
      "0.1372218110152346\n",
      "Probably gaussian\n"
     ]
    }
   ],
   "source": [
    "from scipy.stats import normaltest\n",
    "stat,p = normaltest(mtcars.hp)\n",
    "print(p)\n",
    "if p>0.05:\n",
    "    print(\"Probably gaussian\")\n",
    "else:\n",
    "    print(\"Probably not gaussian\")"
   ]
  },
  {
   "cell_type": "code",
   "execution_count": 276,
   "id": "04574007",
   "metadata": {},
   "outputs": [
    {
     "name": "stdout",
     "output_type": "stream",
     "text": [
      "0.679487042384316\n",
      "Probably gaussian\n"
     ]
    }
   ],
   "source": [
    "from scipy.stats import normaltest\n",
    "stat,p = normaltest(mtcars.drat)\n",
    "print(p)\n",
    "if p>0.05:\n",
    "    print(\"Probably gaussian\")\n",
    "else:\n",
    "    print(\"Probably not gaussian\")"
   ]
  },
  {
   "cell_type": "code",
   "execution_count": 277,
   "id": "6dc17d0d",
   "metadata": {},
   "outputs": [
    {
     "name": "stdout",
     "output_type": "stream",
     "text": [
      "0.39056737942784187\n",
      "Probably gaussian\n"
     ]
    }
   ],
   "source": [
    "from scipy.stats import normaltest\n",
    "stat,p = normaltest(mtcars.wt)\n",
    "print(p)\n",
    "if p>0.05:\n",
    "    print(\"Probably gaussian\")\n",
    "else:\n",
    "    print(\"Probably not gaussian\")"
   ]
  },
  {
   "cell_type": "code",
   "execution_count": 278,
   "id": "6e72674e",
   "metadata": {},
   "outputs": [
    {
     "name": "stdout",
     "output_type": "stream",
     "text": [
      "0.30452818488979616\n",
      "Probably gaussian\n"
     ]
    }
   ],
   "source": [
    "from scipy.stats import normaltest\n",
    "stat,p = normaltest(mtcars.qsec)\n",
    "print(p)\n",
    "if p>0.05:\n",
    "    print(\"Probably gaussian\")\n",
    "else:\n",
    "    print(\"Probably not gaussian\")"
   ]
  },
  {
   "cell_type": "markdown",
   "id": "fec0ea49",
   "metadata": {},
   "source": [
    "# 10. Non-Parametric Testing"
   ]
  },
  {
   "cell_type": "markdown",
   "id": "b9e4b813",
   "metadata": {},
   "source": [
    "## Test - I\n",
    "## Wilcoxon Sign Rank test for Average Horse Power\n",
    "### H0 : Um = 143 vs H1 : Um < 143"
   ]
  },
  {
   "cell_type": "code",
   "execution_count": 290,
   "id": "ad5fb500",
   "metadata": {},
   "outputs": [
    {
     "data": {
      "text/plain": [
       "(16.0, 1.7508394133034182e-06)"
      ]
     },
     "execution_count": 290,
     "metadata": {},
     "output_type": "execute_result"
    }
   ],
   "source": [
    "hp_val = mtcars.hp-249\n",
    "W_st , W_pval = scist.wilcoxon(hp_val, y=None, alternative='less')\n",
    "W_st , W_pval"
   ]
  },
  {
   "cell_type": "code",
   "execution_count": 286,
   "id": "dff5aa28",
   "metadata": {
    "scrolled": true
   },
   "outputs": [
    {
     "name": "stdout",
     "output_type": "stream",
     "text": [
      "Rejected\n"
     ]
    }
   ],
   "source": [
    "if (W_pval<0.05):\n",
    "    print(\"Rejected\")\n",
    "else:\n",
    "    print(\"Accepted\")"
   ]
  },
  {
   "cell_type": "markdown",
   "id": "c39edd51",
   "metadata": {},
   "source": [
    "Conclusion : The Average Horse Power of the engines is less than 143 ."
   ]
  },
  {
   "cell_type": "markdown",
   "id": "8b307030",
   "metadata": {},
   "source": [
    "## Test - II\n",
    "## Mann-Whitney U test for Average Weights(in '000 lbs) of Sample 1 and Sample 2\n",
    "### H0 : u1 = u2 vs H1 : u1 > u2"
   ]
  },
  {
   "cell_type": "code",
   "execution_count": 289,
   "id": "1c8b2203",
   "metadata": {},
   "outputs": [
    {
     "data": {
      "text/plain": [
       "(179.5, 0.027239009504730755)"
      ]
     },
     "execution_count": 289,
     "metadata": {},
     "output_type": "execute_result"
    }
   ],
   "source": [
    "U_st , U_pval = scist.mannwhitneyu(samp1,samp2,alternative='greater')\n",
    "U_st , U_pval"
   ]
  },
  {
   "cell_type": "code",
   "execution_count": 291,
   "id": "0452f770",
   "metadata": {},
   "outputs": [
    {
     "name": "stdout",
     "output_type": "stream",
     "text": [
      "Rejected\n"
     ]
    }
   ],
   "source": [
    "if (U_pval<0.05):\n",
    "    print(\"Rejected\")\n",
    "else:\n",
    "    print(\"Accepted\")"
   ]
  },
  {
   "cell_type": "markdown",
   "id": "a9678206",
   "metadata": {},
   "source": [
    "Conclusion : The Average Weights of cars(in '000 lbs) of Sample 1 are greater than that of Sample 2 ."
   ]
  },
  {
   "cell_type": "markdown",
   "id": "841b03f8",
   "metadata": {},
   "source": [
    "## Test - III\n",
    "## Wilcoxon Paired Sign test for Average Acceleration(in QSec) Before and After Servicing\n",
    "### H0 : Ub = Ua vs H1 : Ub < Ua"
   ]
  },
  {
   "cell_type": "code",
   "execution_count": 298,
   "id": "971a4a80",
   "metadata": {},
   "outputs": [
    {
     "data": {
      "text/plain": [
       "(0.0, 3.9764420713463633e-07)"
      ]
     },
     "execution_count": 298,
     "metadata": {},
     "output_type": "execute_result"
    }
   ],
   "source": [
    "Wp_st , Wp_pval = scist.wilcoxon(Acce_B,Acce_A,alternative='less')\n",
    "Wp_st , Wp_pval"
   ]
  },
  {
   "cell_type": "code",
   "execution_count": 302,
   "id": "1d0822bc",
   "metadata": {},
   "outputs": [
    {
     "name": "stdout",
     "output_type": "stream",
     "text": [
      "Rejected\n"
     ]
    }
   ],
   "source": [
    "if (Wp_pval<0.05):\n",
    "    print(\"Rejected\")\n",
    "else:\n",
    "    print(\"Accepted\")"
   ]
  },
  {
   "cell_type": "markdown",
   "id": "73c0184f",
   "metadata": {},
   "source": [
    "Conclusion : The Acceleration of the cars has been improved After Servicing."
   ]
  },
  {
   "cell_type": "markdown",
   "id": "2563304f",
   "metadata": {},
   "source": [
    "## Test - IV\n",
    "## Ansari Bradly test for variance between Sample 1 and Sample 2 of Weights(in '000 lbs)\n",
    "### H0 : (σ^2)1 = (σ^2)2 vs H1 : (σ^2)1 ≠ (σ^2)2"
   ]
  },
  {
   "cell_type": "code",
   "execution_count": 301,
   "id": "77c57f89",
   "metadata": {},
   "outputs": [
    {
     "data": {
      "text/plain": [
       "(158.5, 0.08882578773668551)"
      ]
     },
     "execution_count": 301,
     "metadata": {},
     "output_type": "execute_result"
    }
   ],
   "source": [
    "AB_st , AB_pval = scist.ansari(samp1,samp2)\n",
    "AB_st , AB_pval"
   ]
  },
  {
   "cell_type": "code",
   "execution_count": 303,
   "id": "27de1100",
   "metadata": {},
   "outputs": [
    {
     "name": "stdout",
     "output_type": "stream",
     "text": [
      "Accepted\n"
     ]
    }
   ],
   "source": [
    "if (AB_pval<0.05):\n",
    "    print(\"Rejected\")\n",
    "else:\n",
    "    print(\"Accepted\")"
   ]
  },
  {
   "cell_type": "markdown",
   "id": "fdfdef40",
   "metadata": {},
   "source": [
    "Conclusion : Weights(in '000 lbs) in Sample 1 and Sample 2 has equal variance."
   ]
  },
  {
   "cell_type": "markdown",
   "id": "2a43ffe2",
   "metadata": {},
   "source": [
    "## 11.Test for Independence\n",
    "### H0 : There is a relationship between 2 categorical variables\n",
    "### vs\n",
    "### H1 : There is no relationship between 2 categorical variables"
   ]
  },
  {
   "cell_type": "code",
   "execution_count": 305,
   "id": "270cec4d",
   "metadata": {},
   "outputs": [
    {
     "data": {
      "text/html": [
       "<div>\n",
       "<style scoped>\n",
       "    .dataframe tbody tr th:only-of-type {\n",
       "        vertical-align: middle;\n",
       "    }\n",
       "\n",
       "    .dataframe tbody tr th {\n",
       "        vertical-align: top;\n",
       "    }\n",
       "\n",
       "    .dataframe thead th {\n",
       "        text-align: right;\n",
       "    }\n",
       "</style>\n",
       "<table border=\"1\" class=\"dataframe\">\n",
       "  <thead>\n",
       "    <tr style=\"text-align: right;\">\n",
       "      <th>am</th>\n",
       "      <th>0</th>\n",
       "      <th>1</th>\n",
       "    </tr>\n",
       "    <tr>\n",
       "      <th>vs</th>\n",
       "      <th></th>\n",
       "      <th></th>\n",
       "    </tr>\n",
       "  </thead>\n",
       "  <tbody>\n",
       "    <tr>\n",
       "      <th>0</th>\n",
       "      <td>12</td>\n",
       "      <td>6</td>\n",
       "    </tr>\n",
       "    <tr>\n",
       "      <th>1</th>\n",
       "      <td>7</td>\n",
       "      <td>7</td>\n",
       "    </tr>\n",
       "  </tbody>\n",
       "</table>\n",
       "</div>"
      ],
      "text/plain": [
       "am   0  1\n",
       "vs       \n",
       "0   12  6\n",
       "1    7  7"
      ]
     },
     "execution_count": 305,
     "metadata": {},
     "output_type": "execute_result"
    }
   ],
   "source": [
    "new_set = pd.crosstab(mtcars['vs'],mtcars['am'])\n",
    "new_set"
   ]
  },
  {
   "cell_type": "code",
   "execution_count": 308,
   "id": "7bc5aed3",
   "metadata": {},
   "outputs": [
    {
     "name": "stdout",
     "output_type": "stream",
     "text": [
      "observed values : \n",
      " [[12  6]\n",
      " [ 7  7]]\n"
     ]
    }
   ],
   "source": [
    "obs_values= new_set.values\n",
    "print(\"observed values : \\n\",obs_values)"
   ]
  },
  {
   "cell_type": "code",
   "execution_count": 309,
   "id": "f0a5bec7",
   "metadata": {},
   "outputs": [
    {
     "data": {
      "text/plain": [
       "(0.34753550543024225,\n",
       " 0.5555115470131495,\n",
       " 1,\n",
       " array([[10.6875,  7.3125],\n",
       "        [ 8.3125,  5.6875]]))"
      ]
     },
     "execution_count": 309,
     "metadata": {},
     "output_type": "execute_result"
    }
   ],
   "source": [
    "scist.chi2_contingency(new_set)"
   ]
  },
  {
   "cell_type": "code",
   "execution_count": 313,
   "id": "bc941c34",
   "metadata": {},
   "outputs": [],
   "source": [
    "exp_values = scist.chi2_contingency(new_set)[3]\n",
    "dof = scist.chi2_contingency(new_set)[2]\n",
    "alpha=0.05"
   ]
  },
  {
   "cell_type": "code",
   "execution_count": 315,
   "id": "59fbd83f",
   "metadata": {},
   "outputs": [
    {
     "name": "stdout",
     "output_type": "stream",
     "text": [
      "chi-square statistic: 0.9068825910931174\n",
      "critical_value: 3.841458820694124\n",
      "p-value: 0.3409429142743807\n",
      "Significance level:  0.05\n",
      "Degree of Freedom:  1\n"
     ]
    }
   ],
   "source": [
    "chi_square=sum([(o-e)**2/e for o,e in zip(obs_values,exp_values)])\n",
    "chi_square_statistic=chi_square[0]+chi_square[1]\n",
    "print(\"chi-square statistic:\",chi_square_statistic)\n",
    "critical_value=scist.chi2.ppf(q=1-alpha,df=dof)\n",
    "print('critical_value:',critical_value)\n",
    "p_value=1-scist.chi2.cdf(x=chi_square_statistic,df=dof)\n",
    "print('p-value:',p_value)\n",
    "print('Significance level: ',alpha)\n",
    "print('Degree of Freedom: ',dof)"
   ]
  },
  {
   "cell_type": "markdown",
   "id": "b3db19a2",
   "metadata": {},
   "source": [
    "### Test at 5% level of significance"
   ]
  },
  {
   "cell_type": "markdown",
   "id": "5bcec7b5",
   "metadata": {},
   "source": [
    "#### Using Test Statistic"
   ]
  },
  {
   "cell_type": "code",
   "execution_count": 330,
   "id": "674e8e08",
   "metadata": {},
   "outputs": [
    {
     "name": "stdout",
     "output_type": "stream",
     "text": [
      "Rejected\n"
     ]
    }
   ],
   "source": [
    "if chi_square_statistic>=critical_value:\n",
    "    print(\"Accepted\")\n",
    "else:\n",
    "    print(\"Rejected\")"
   ]
  },
  {
   "cell_type": "markdown",
   "id": "c796e5f6",
   "metadata": {},
   "source": [
    "#### Using p-value"
   ]
  },
  {
   "cell_type": "code",
   "execution_count": 331,
   "id": "4a2e8f1a",
   "metadata": {
    "scrolled": true
   },
   "outputs": [
    {
     "name": "stdout",
     "output_type": "stream",
     "text": [
      "Rejected\n"
     ]
    }
   ],
   "source": [
    "if p_value<=alpha:\n",
    "    print(\"Accepted\")\n",
    "else:\n",
    "    print(\"Rejected\")"
   ]
  },
  {
   "cell_type": "markdown",
   "id": "a426e0b3",
   "metadata": {},
   "source": [
    "Conclusion : There is no relationship between 2 categorical variables"
   ]
  },
  {
   "cell_type": "markdown",
   "id": "89b910ef",
   "metadata": {},
   "source": [
    "## 12. Test for Goodness of fit\n",
    "### H0 : Each outcome has equal probability of occuring\n",
    "### vs\n",
    "### H1 : Each outcome doesn't have equal probability of occuring"
   ]
  },
  {
   "cell_type": "code",
   "execution_count": 322,
   "id": "47fd0e32",
   "metadata": {},
   "outputs": [
    {
     "data": {
      "text/plain": [
       "(3, 32)"
      ]
     },
     "execution_count": 322,
     "metadata": {},
     "output_type": "execute_result"
    }
   ],
   "source": [
    "gear=mtcars[\"gear\"]\n",
    "len(gear.value_counts()), gear.value_counts().sum()"
   ]
  },
  {
   "cell_type": "code",
   "execution_count": 327,
   "id": "5991e9eb",
   "metadata": {},
   "outputs": [
    {
     "name": "stdout",
     "output_type": "stream",
     "text": [
      "   obs freq   exp freq\n",
      "3        15  10.666667\n",
      "4        12  10.666667\n",
      "5         5  10.666667\n"
     ]
    },
    {
     "data": {
      "text/plain": [
       "(4.9375, 0.0846906561847805)"
      ]
     },
     "execution_count": 327,
     "metadata": {},
     "output_type": "execute_result"
    }
   ],
   "source": [
    "E = gear.value_counts().sum()/len(gear.value_counts())\n",
    "\n",
    "gear_ = {\"obs freq\" : gear.value_counts() , \"exp freq\" : E }\n",
    "\n",
    "gear_df = pd.DataFrame(gear_)\n",
    "print(gear_df)\n",
    "\n",
    "obs = gear_df[\"obs freq\"]\n",
    "exp = gear_df[\"exp freq\"]\n",
    "\n",
    "chi_stat , chi_pvalue = scist.chisquare(obs, exp)\n",
    "chi_stat , chi_pvalue"
   ]
  },
  {
   "cell_type": "code",
   "execution_count": 329,
   "id": "75b8f619",
   "metadata": {},
   "outputs": [
    {
     "name": "stdout",
     "output_type": "stream",
     "text": [
      "Accepted\n"
     ]
    }
   ],
   "source": [
    "if chi_pvalue<=0.05:\n",
    "    print(\"Rejected\")\n",
    "else:\n",
    "    print(\"Accepted\")"
   ]
  },
  {
   "cell_type": "markdown",
   "id": "6a148a9b",
   "metadata": {},
   "source": [
    "Conclusion :  Each outcome has equal probability of occuring"
   ]
  },
  {
   "cell_type": "markdown",
   "id": "420a0701",
   "metadata": {},
   "source": [
    "## Submitted by,\n",
    "### Soumitro Mukherjee\n",
    "#### Reg. No. : 213001818010030  ,  Roll No. : 30018021030\n",
    "### M.Sc. in Applied Statistics and Analytics"
   ]
  }
 ],
 "metadata": {
  "kernelspec": {
   "display_name": "Python 3",
   "language": "python",
   "name": "python3"
  },
  "language_info": {
   "codemirror_mode": {
    "name": "ipython",
    "version": 3
   },
   "file_extension": ".py",
   "mimetype": "text/x-python",
   "name": "python",
   "nbconvert_exporter": "python",
   "pygments_lexer": "ipython3",
   "version": "3.8.8"
  }
 },
 "nbformat": 4,
 "nbformat_minor": 5
}
